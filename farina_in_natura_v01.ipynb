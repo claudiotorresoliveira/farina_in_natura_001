{
 "cells": [
  {
   "cell_type": "markdown",
   "metadata": {},
   "source": [
    "# Farina in Natura - estratégia"
   ]
  },
  {
   "cell_type": "code",
   "execution_count": 2,
   "metadata": {},
   "outputs": [],
   "source": [
    "import pandas as pd\n",
    "import numpy as np\n",
    "import matplotlib.pyplot as plt\n",
    "import seaborn as sns; sns.set()\n",
    "import datetime\n",
    "\n"
   ]
  },
  {
   "cell_type": "code",
   "execution_count": 3,
   "metadata": {},
   "outputs": [],
   "source": [
    "from IPython.display import display\n",
    "pd.options.display.max_columns = None\n",
    "pd.options.display.max_rows = None"
   ]
  },
  {
   "cell_type": "code",
   "execution_count": 45,
   "metadata": {},
   "outputs": [],
   "source": [
    "# para resolver o problema: \"(unicode error) 'utf-8' codec can't decode \"\n",
    "# https://www.youtube.com/watch?v=ZSC7X4N8RKo,\n",
    "#Erro: \n",
    "# UnicodeDecodeError: 'utf-8' codec can't decode byte 0xe9 in position 900: invalid continuation byte\n",
    "# enem = pd.read_csv(\"MICRODADOS_ENEM_2020.csv\", encoding=\"utf-8\", sep = ';')\n",
    "# enem = pd.read_csv(\"MICRODADOS_ENEM_2020.csv\", encoding=\"ISO-8859-1\", sep = ';')\n",
    "\n",
    "transactions = pd.read_csv(r'C:\\Users\\ctobr\\OneDrive\\DATA_Science\\1_farina_in_natura\\farina_in_natura00\\CSV\\farina.CSV', \n",
    "encoding=\"ISO-8859-1\", sep = ';')"
   ]
  },
  {
   "cell_type": "code",
   "execution_count": 46,
   "metadata": {},
   "outputs": [
    {
     "data": {
      "text/html": [
       "<div>\n",
       "<style scoped>\n",
       "    .dataframe tbody tr th:only-of-type {\n",
       "        vertical-align: middle;\n",
       "    }\n",
       "\n",
       "    .dataframe tbody tr th {\n",
       "        vertical-align: top;\n",
       "    }\n",
       "\n",
       "    .dataframe thead th {\n",
       "        text-align: right;\n",
       "    }\n",
       "</style>\n",
       "<table border=\"1\" class=\"dataframe\">\n",
       "  <thead>\n",
       "    <tr style=\"text-align: right;\">\n",
       "      <th></th>\n",
       "      <th>venda</th>\n",
       "      <th>data_hora</th>\n",
       "      <th>cliente</th>\n",
       "      <th>mesa</th>\n",
       "      <th>item</th>\n",
       "      <th>produto</th>\n",
       "      <th>quantidade</th>\n",
       "      <th>valor_unit</th>\n",
       "      <th>desconto</th>\n",
       "      <th>total_item</th>\n",
       "    </tr>\n",
       "  </thead>\n",
       "  <tbody>\n",
       "    <tr>\n",
       "      <th>0</th>\n",
       "      <td>460.0</td>\n",
       "      <td>01/02/2022 08:13</td>\n",
       "      <td>CONSUMIDOR</td>\n",
       "      <td>M 1</td>\n",
       "      <td>119.0</td>\n",
       "      <td>SUCO DE LARANJA 400ML</td>\n",
       "      <td>1.0</td>\n",
       "      <td>14,5</td>\n",
       "      <td>0.0</td>\n",
       "      <td>14,5</td>\n",
       "    </tr>\n",
       "    <tr>\n",
       "      <th>1</th>\n",
       "      <td>460.0</td>\n",
       "      <td>01/02/2022 08:13</td>\n",
       "      <td>CONSUMIDOR</td>\n",
       "      <td>M 1</td>\n",
       "      <td>121.0</td>\n",
       "      <td>PAO SOURDOUGH OVOS</td>\n",
       "      <td>1.0</td>\n",
       "      <td>15,5</td>\n",
       "      <td>0.0</td>\n",
       "      <td>15,5</td>\n",
       "    </tr>\n",
       "    <tr>\n",
       "      <th>2</th>\n",
       "      <td>461.0</td>\n",
       "      <td>01/02/2022 08:14</td>\n",
       "      <td>CONSUMIDOR</td>\n",
       "      <td>M 2</td>\n",
       "      <td>119.0</td>\n",
       "      <td>SUCO DE LARANJA 400ML</td>\n",
       "      <td>1.0</td>\n",
       "      <td>14,5</td>\n",
       "      <td>0.0</td>\n",
       "      <td>14,5</td>\n",
       "    </tr>\n",
       "    <tr>\n",
       "      <th>3</th>\n",
       "      <td>461.0</td>\n",
       "      <td>01/02/2022 08:14</td>\n",
       "      <td>CONSUMIDOR</td>\n",
       "      <td>M 2</td>\n",
       "      <td>121.0</td>\n",
       "      <td>PAO SOURDOUGH OVOS</td>\n",
       "      <td>1.0</td>\n",
       "      <td>15,5</td>\n",
       "      <td>0.0</td>\n",
       "      <td>15,5</td>\n",
       "    </tr>\n",
       "    <tr>\n",
       "      <th>4</th>\n",
       "      <td>465.0</td>\n",
       "      <td>01/02/2022 09:01</td>\n",
       "      <td>CONSUMIDOR</td>\n",
       "      <td>M 1</td>\n",
       "      <td>46.0</td>\n",
       "      <td>QUICHE BACON 90G</td>\n",
       "      <td>2.0</td>\n",
       "      <td>19,5</td>\n",
       "      <td>0.0</td>\n",
       "      <td>39</td>\n",
       "    </tr>\n",
       "  </tbody>\n",
       "</table>\n",
       "</div>"
      ],
      "text/plain": [
       "   venda         data_hora     cliente mesa   item                produto  \\\n",
       "0  460.0  01/02/2022 08:13  CONSUMIDOR  M 1  119.0  SUCO DE LARANJA 400ML   \n",
       "1  460.0  01/02/2022 08:13  CONSUMIDOR  M 1  121.0     PAO SOURDOUGH OVOS   \n",
       "2  461.0  01/02/2022 08:14  CONSUMIDOR  M 2  119.0  SUCO DE LARANJA 400ML   \n",
       "3  461.0  01/02/2022 08:14  CONSUMIDOR  M 2  121.0     PAO SOURDOUGH OVOS   \n",
       "4  465.0  01/02/2022 09:01  CONSUMIDOR  M 1   46.0       QUICHE BACON 90G   \n",
       "\n",
       "   quantidade valor_unit  desconto total_item  \n",
       "0         1.0       14,5       0.0       14,5  \n",
       "1         1.0       15,5       0.0       15,5  \n",
       "2         1.0       14,5       0.0       14,5  \n",
       "3         1.0       15,5       0.0       15,5  \n",
       "4         2.0       19,5       0.0         39  "
      ]
     },
     "execution_count": 46,
     "metadata": {},
     "output_type": "execute_result"
    }
   ],
   "source": [
    "transactions.head()"
   ]
  },
  {
   "cell_type": "code",
   "execution_count": 47,
   "metadata": {},
   "outputs": [
    {
     "name": "stdout",
     "output_type": "stream",
     "text": [
      "<class 'pandas.core.frame.DataFrame'>\n",
      "RangeIndex: 25998 entries, 0 to 25997\n",
      "Data columns (total 10 columns):\n",
      " #   Column      Non-Null Count  Dtype  \n",
      "---  ------      --------------  -----  \n",
      " 0   venda       25992 non-null  float64\n",
      " 1   data_hora   25992 non-null  object \n",
      " 2   cliente     25992 non-null  object \n",
      " 3   mesa        22779 non-null  object \n",
      " 4   item        25922 non-null  float64\n",
      " 5   produto     25992 non-null  object \n",
      " 6   quantidade  25992 non-null  float64\n",
      " 7   valor_unit  25992 non-null  object \n",
      " 8   desconto    25992 non-null  float64\n",
      " 9   total_item  25992 non-null  object \n",
      "dtypes: float64(4), object(6)\n",
      "memory usage: 2.0+ MB\n"
     ]
    }
   ],
   "source": [
    "transactions.info()"
   ]
  },
  {
   "cell_type": "markdown",
   "metadata": {},
   "source": [
    "# Limpeza e manipulação dos dados"
   ]
  },
  {
   "cell_type": "code",
   "execution_count": null,
   "metadata": {},
   "outputs": [],
   "source": [
    "### CHECK OUT IF THE NUMBER OF TOTAL ENTRIES IS EQUAL TO THE NUMBER OF ENTRIES OF THE VARIABLES  \n",
    "\n",
    "transactions.isnull().sum()"
   ]
  },
  {
   "cell_type": "code",
   "execution_count": 49,
   "metadata": {},
   "outputs": [],
   "source": [
    "## DROPPING THE ROWS THAT ALL COLUMN VALUES ARE NULL\n",
    "#  https://www.youtube.com/watch?v=uDr67HBIPz8&t=818s\n",
    "\n",
    "transactions = transactions.dropna(how='all')"
   ]
  },
  {
   "cell_type": "code",
   "execution_count": null,
   "metadata": {},
   "outputs": [],
   "source": [
    "# Delete the column \"item\"\n",
    "\n",
    "del transactions[\"item\"]"
   ]
  },
  {
   "cell_type": "code",
   "execution_count": 86,
   "metadata": {},
   "outputs": [
    {
     "name": "stdout",
     "output_type": "stream",
     "text": [
      "<class 'pandas.core.frame.DataFrame'>\n",
      "Int64Index: 25992 entries, 0 to 25997\n",
      "Data columns (total 9 columns):\n",
      " #   Column      Non-Null Count  Dtype         \n",
      "---  ------      --------------  -----         \n",
      " 0   venda       25992 non-null  int64         \n",
      " 1   data_hora   25992 non-null  datetime64[ns]\n",
      " 2   cliente     25992 non-null  object        \n",
      " 3   mesa        25992 non-null  object        \n",
      " 4   produto     25992 non-null  object        \n",
      " 5   quantidade  25992 non-null  int64         \n",
      " 6   valor_unit  25992 non-null  float64       \n",
      " 7   desconto    25992 non-null  float64       \n",
      " 8   total_item  25992 non-null  float64       \n",
      "dtypes: datetime64[ns](1), float64(3), int64(2), object(3)\n",
      "memory usage: 2.0+ MB\n"
     ]
    },
    {
     "data": {
      "text/html": [
       "<div>\n",
       "<style scoped>\n",
       "    .dataframe tbody tr th:only-of-type {\n",
       "        vertical-align: middle;\n",
       "    }\n",
       "\n",
       "    .dataframe tbody tr th {\n",
       "        vertical-align: top;\n",
       "    }\n",
       "\n",
       "    .dataframe thead th {\n",
       "        text-align: right;\n",
       "    }\n",
       "</style>\n",
       "<table border=\"1\" class=\"dataframe\">\n",
       "  <thead>\n",
       "    <tr style=\"text-align: right;\">\n",
       "      <th></th>\n",
       "      <th>venda</th>\n",
       "      <th>data_hora</th>\n",
       "      <th>cliente</th>\n",
       "      <th>mesa</th>\n",
       "      <th>produto</th>\n",
       "      <th>quantidade</th>\n",
       "      <th>valor_unit</th>\n",
       "      <th>desconto</th>\n",
       "      <th>total_item</th>\n",
       "    </tr>\n",
       "  </thead>\n",
       "  <tbody>\n",
       "    <tr>\n",
       "      <th>0</th>\n",
       "      <td>460</td>\n",
       "      <td>2022-02-01 08:13:00</td>\n",
       "      <td>CONSUMIDOR</td>\n",
       "      <td>M 1</td>\n",
       "      <td>SUCO DE LARANJA 400ML</td>\n",
       "      <td>1</td>\n",
       "      <td>14.5</td>\n",
       "      <td>0.0</td>\n",
       "      <td>14.5</td>\n",
       "    </tr>\n",
       "    <tr>\n",
       "      <th>1</th>\n",
       "      <td>460</td>\n",
       "      <td>2022-02-01 08:13:00</td>\n",
       "      <td>CONSUMIDOR</td>\n",
       "      <td>M 1</td>\n",
       "      <td>PAO SOURDOUGH OVOS</td>\n",
       "      <td>1</td>\n",
       "      <td>15.5</td>\n",
       "      <td>0.0</td>\n",
       "      <td>15.5</td>\n",
       "    </tr>\n",
       "    <tr>\n",
       "      <th>2</th>\n",
       "      <td>461</td>\n",
       "      <td>2022-02-01 08:14:00</td>\n",
       "      <td>CONSUMIDOR</td>\n",
       "      <td>M 2</td>\n",
       "      <td>SUCO DE LARANJA 400ML</td>\n",
       "      <td>1</td>\n",
       "      <td>14.5</td>\n",
       "      <td>0.0</td>\n",
       "      <td>14.5</td>\n",
       "    </tr>\n",
       "    <tr>\n",
       "      <th>3</th>\n",
       "      <td>461</td>\n",
       "      <td>2022-02-01 08:14:00</td>\n",
       "      <td>CONSUMIDOR</td>\n",
       "      <td>M 2</td>\n",
       "      <td>PAO SOURDOUGH OVOS</td>\n",
       "      <td>1</td>\n",
       "      <td>15.5</td>\n",
       "      <td>0.0</td>\n",
       "      <td>15.5</td>\n",
       "    </tr>\n",
       "    <tr>\n",
       "      <th>4</th>\n",
       "      <td>465</td>\n",
       "      <td>2022-02-01 09:01:00</td>\n",
       "      <td>CONSUMIDOR</td>\n",
       "      <td>M 1</td>\n",
       "      <td>QUICHE BACON 90G</td>\n",
       "      <td>2</td>\n",
       "      <td>19.5</td>\n",
       "      <td>0.0</td>\n",
       "      <td>39.0</td>\n",
       "    </tr>\n",
       "  </tbody>\n",
       "</table>\n",
       "</div>"
      ],
      "text/plain": [
       "   venda           data_hora     cliente mesa                produto  \\\n",
       "0    460 2022-02-01 08:13:00  CONSUMIDOR  M 1  SUCO DE LARANJA 400ML   \n",
       "1    460 2022-02-01 08:13:00  CONSUMIDOR  M 1     PAO SOURDOUGH OVOS   \n",
       "2    461 2022-02-01 08:14:00  CONSUMIDOR  M 2  SUCO DE LARANJA 400ML   \n",
       "3    461 2022-02-01 08:14:00  CONSUMIDOR  M 2     PAO SOURDOUGH OVOS   \n",
       "4    465 2022-02-01 09:01:00  CONSUMIDOR  M 1       QUICHE BACON 90G   \n",
       "\n",
       "   quantidade  valor_unit  desconto  total_item  \n",
       "0           1        14.5       0.0        14.5  \n",
       "1           1        15.5       0.0        15.5  \n",
       "2           1        14.5       0.0        14.5  \n",
       "3           1        15.5       0.0        15.5  \n",
       "4           2        19.5       0.0        39.0  "
      ]
     },
     "execution_count": 86,
     "metadata": {},
     "output_type": "execute_result"
    }
   ],
   "source": [
    "transactions.info()\n",
    "transactions.head()"
   ]
  },
  {
   "cell_type": "code",
   "execution_count": 53,
   "metadata": {},
   "outputs": [],
   "source": [
    "## Using isna() to select all rows with NaN in the column ('mesa') and the value \"CONSUMIDOR\" on the column \"cliente\" \n",
    "## and replace the \"mesa\" value with \"M0\"\n",
    "## https://datatofish.com/rows-with-nan-pandas-dataframe/\n",
    "## https://www.geeksforgeeks.org/how-to-replace-values-in-column-based-on-condition-in-pandas/\n",
    "\n",
    "transactions.loc[(transactions[\"cliente\"] == 'CONSUMIDOR') &  (transactions['mesa'].isna()), 'mesa']= 'M0'\n"
   ]
  },
  {
   "cell_type": "code",
   "execution_count": null,
   "metadata": {},
   "outputs": [],
   "source": [
    "# Checking if the changes were correct.\n",
    "\n",
    "transactions.loc[transactions[\"mesa\"] == 'M0']"
   ]
  },
  {
   "cell_type": "code",
   "execution_count": 56,
   "metadata": {},
   "outputs": [],
   "source": [
    "# Assigning a value \"ND\" to the empty records in column \"mesa\"\n",
    "# https://www.w3schools.com/python/pandas/pandas_cleaning_empty_cells.asp\n",
    "\n",
    "transactions['mesa'].fillna(\"ND\",inplace = True )"
   ]
  },
  {
   "cell_type": "code",
   "execution_count": null,
   "metadata": {},
   "outputs": [],
   "source": [
    "# Find Unique Values in the Column \"produto\"\n",
    "# https://www.statology.org/pandas-unique-values-in-column/\n",
    "transactions.produto.value_counts()"
   ]
  },
  {
   "cell_type": "code",
   "execution_count": 71,
   "metadata": {},
   "outputs": [
    {
     "data": {
      "text/plain": [
       "212"
      ]
     },
     "execution_count": 71,
     "metadata": {},
     "output_type": "execute_result"
    }
   ],
   "source": [
    "## Get Unique Count of using Series.unique()\n",
    "## https://sparkbyexamples.com/pandas/pandas-count-unique-values-in-column/\n",
    "transactions.produto.unique().size"
   ]
  },
  {
   "cell_type": "code",
   "execution_count": 79,
   "metadata": {},
   "outputs": [],
   "source": [
    "# Convert the \"venda\" variable from float64 type to integer type\n",
    "# https://stackoverflow.com/questions/43956335/convert-float64-column-to-int64-in-pandas\n",
    "\n",
    "transactions['venda'] = np.int64(transactions['venda'])"
   ]
  },
  {
   "cell_type": "code",
   "execution_count": 76,
   "metadata": {},
   "outputs": [],
   "source": [
    "# Convert \"data\" to datetime object\n",
    "transactions['data_hora'] = pd.to_datetime(transactions['data_hora'], format='%d/%m/%Y %H:%M')\n",
    "\n",
    "#How to Solve Python ValueError: unconverted data remains\n",
    "#read://https_researchdatapod.com/?url=https%3A%2F%2Fresearchdatapod.com%2Fhow-to-solve-python-valueerror-unconverted-data-remains%2F"
   ]
  },
  {
   "cell_type": "code",
   "execution_count": 85,
   "metadata": {},
   "outputs": [],
   "source": [
    "# Convert the \"quantidade\" variable from float64 type to integer type\n",
    "# https://stackoverflow.com/questions/43956335/convert-float64-column-to-int64-in-pandas\n",
    "\n",
    "transactions['quantidade'] = np.int64(transactions['quantidade'])"
   ]
  },
  {
   "cell_type": "code",
   "execution_count": 81,
   "metadata": {},
   "outputs": [],
   "source": [
    "# change the decimal delimiter of the the variable \"valor_unit\" from \",\" to \".\"\n",
    "# https://cursos.alura.com.br/forum/topico-transformar-pontos-por-virgulas-dentro-de-um-dataframe-121090\n",
    "transactions['valor_unit'] = transactions['valor_unit'].str.replace(\",\",\".\")\n",
    "\n",
    "# Convert the \"valor_uni\" variable from object type to float64 type\n",
    "# https://www.statology.org/pandas-convert-object-to-float/\n",
    "\n",
    "transactions['valor_unit'] = transactions['valor_unit'].astype(float)"
   ]
  },
  {
   "cell_type": "code",
   "execution_count": 83,
   "metadata": {},
   "outputs": [],
   "source": [
    "# change the decimal delimiter of the the variable \"total_item\" from \",\" to \".\"\n",
    "# https://cursos.alura.com.br/forum/topico-transformar-pontos-por-virgulas-dentro-de-um-dataframe-121090\n",
    "transactions['total_item'] = transactions['total_item'].str.replace(\",\",\".\")\n",
    "\n",
    "# Convert the \"valor_uni\" variable from object type to float64 type\n",
    "# https://www.statology.org/pandas-convert-object-to-float/\n",
    "\n",
    "transactions['total_item'] = transactions['total_item'].astype(float)"
   ]
  }
 ],
 "metadata": {
  "kernelspec": {
   "display_name": "Python 3.9.13 ('base')",
   "language": "python",
   "name": "python3"
  },
  "language_info": {
   "codemirror_mode": {
    "name": "ipython",
    "version": 3
   },
   "file_extension": ".py",
   "mimetype": "text/x-python",
   "name": "python",
   "nbconvert_exporter": "python",
   "pygments_lexer": "ipython3",
   "version": "3.9.13"
  },
  "orig_nbformat": 4,
  "vscode": {
   "interpreter": {
    "hash": "82af8167b6acb4c6c2f985d5f7a01df44b9a32e8f9ee8a7a7a8eef529de48990"
   }
  }
 },
 "nbformat": 4,
 "nbformat_minor": 2
}

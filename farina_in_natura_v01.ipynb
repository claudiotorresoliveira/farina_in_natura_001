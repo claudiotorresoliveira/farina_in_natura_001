{
 "cells": [
  {
   "attachments": {},
   "cell_type": "markdown",
   "metadata": {},
   "source": [
    "# Farina in Natura - estratégia\n",
    "\n",
    "![](Logo_farina_in_natura_edited.jpg)"
   ]
  },
  {
   "attachments": {},
   "cell_type": "markdown",
   "metadata": {},
   "source": [
    "## Importando os dados e observações iniciais"
   ]
  },
  {
   "cell_type": "code",
   "execution_count": 1,
   "metadata": {},
   "outputs": [
    {
     "data": {
      "text/html": [
       "        <script type=\"text/javascript\">\n",
       "        window.PlotlyConfig = {MathJaxConfig: 'local'};\n",
       "        if (window.MathJax && window.MathJax.Hub && window.MathJax.Hub.Config) {window.MathJax.Hub.Config({SVG: {font: \"STIX-Web\"}});}\n",
       "        if (typeof require !== 'undefined') {\n",
       "        require.undef(\"plotly\");\n",
       "        requirejs.config({\n",
       "            paths: {\n",
       "                'plotly': ['https://cdn.plot.ly/plotly-2.16.1.min']\n",
       "            }\n",
       "        });\n",
       "        require(['plotly'], function(Plotly) {\n",
       "            window._Plotly = Plotly;\n",
       "        });\n",
       "        }\n",
       "        </script>\n",
       "        "
      ]
     },
     "metadata": {},
     "output_type": "display_data"
    },
    {
     "data": {
      "text/html": [
       "        <script type=\"text/javascript\">\n",
       "        window.PlotlyConfig = {MathJaxConfig: 'local'};\n",
       "        if (window.MathJax && window.MathJax.Hub && window.MathJax.Hub.Config) {window.MathJax.Hub.Config({SVG: {font: \"STIX-Web\"}});}\n",
       "        if (typeof require !== 'undefined') {\n",
       "        require.undef(\"plotly\");\n",
       "        requirejs.config({\n",
       "            paths: {\n",
       "                'plotly': ['https://cdn.plot.ly/plotly-2.16.1.min']\n",
       "            }\n",
       "        });\n",
       "        require(['plotly'], function(Plotly) {\n",
       "            window._Plotly = Plotly;\n",
       "        });\n",
       "        }\n",
       "        </script>\n",
       "        "
      ]
     },
     "metadata": {},
     "output_type": "display_data"
    }
   ],
   "source": [
    "import pandas as pd\n",
    "import numpy as np\n",
    "import matplotlib.pyplot as plt\n",
    "import seaborn as sns; sns.set()\n",
    "import datetime\n",
    "import nbformat\n",
    "import chart_studio\n",
    "import plotly.express as px\n",
    "import cufflinks as cf\n",
    "\n",
    "from plotly.offline import download_plotlyjs, init_notebook_mode, plot, iplot\n",
    "init_notebook_mode (connected = True )\n",
    "cf.go_offline()\n",
    "# chart_studio.tools.set_credentials_file(username='claudio.oliveira', api_key='fXrLqCmkdJQyTheCzYMS')\n",
    "from IPython.display import display\n"
   ]
  },
  {
   "cell_type": "code",
   "execution_count": 2,
   "metadata": {},
   "outputs": [],
   "source": [
    "from fpdf import FPDF"
   ]
  },
  {
   "cell_type": "code",
   "execution_count": 3,
   "metadata": {},
   "outputs": [],
   "source": [
    "from IPython.display import display\n",
    "pd.options.display.max_columns = None\n",
    "pd.options.display.max_rows = None"
   ]
  },
  {
   "cell_type": "code",
   "execution_count": 4,
   "metadata": {},
   "outputs": [],
   "source": [
    "# para resolver o problema: \"(unicode error) 'utf-8' codec can't decode \"\n",
    "# https://www.youtube.com/watch?v=ZSC7X4N8RKo,\n",
    "#Erro: \n",
    "# UnicodeDecodeError: 'utf-8' codec can't decode byte 0xe9 in position 900: invalid continuation byte\n",
    "# enem = pd.read_csv(\"MICRODADOS_ENEM_2020.csv\", encoding=\"utf-8\", sep = ';')\n",
    "# enem = pd.read_csv(\"MICRODADOS_ENEM_2020.csv\", encoding=\"ISO-8859-1\", sep = ';')\n",
    "\n",
    "transactions = pd.read_csv(r'C:\\Users\\ctobr\\OneDrive\\DATA_Science\\1_farina_in_natura\\farina_in_natura00\\CSV\\farina.CSV', \n",
    "encoding=\"ISO-8859-1\", sep = ';')"
   ]
  },
  {
   "cell_type": "code",
   "execution_count": 5,
   "metadata": {},
   "outputs": [
    {
     "data": {
      "text/html": [
       "<div>\n",
       "<style scoped>\n",
       "    .dataframe tbody tr th:only-of-type {\n",
       "        vertical-align: middle;\n",
       "    }\n",
       "\n",
       "    .dataframe tbody tr th {\n",
       "        vertical-align: top;\n",
       "    }\n",
       "\n",
       "    .dataframe thead th {\n",
       "        text-align: right;\n",
       "    }\n",
       "</style>\n",
       "<table border=\"1\" class=\"dataframe\">\n",
       "  <thead>\n",
       "    <tr style=\"text-align: right;\">\n",
       "      <th></th>\n",
       "      <th>venda</th>\n",
       "      <th>data_hora</th>\n",
       "      <th>cliente</th>\n",
       "      <th>mesa</th>\n",
       "      <th>item</th>\n",
       "      <th>produto</th>\n",
       "      <th>quantidade</th>\n",
       "      <th>valor_unit</th>\n",
       "      <th>desconto</th>\n",
       "      <th>total_item</th>\n",
       "    </tr>\n",
       "  </thead>\n",
       "  <tbody>\n",
       "    <tr>\n",
       "      <th>0</th>\n",
       "      <td>460.0</td>\n",
       "      <td>01/02/2022 08:13</td>\n",
       "      <td>CONSUMIDOR</td>\n",
       "      <td>M 1</td>\n",
       "      <td>119.0</td>\n",
       "      <td>SUCO DE LARANJA 400ML</td>\n",
       "      <td>1.0</td>\n",
       "      <td>14,5</td>\n",
       "      <td>0.0</td>\n",
       "      <td>14,5</td>\n",
       "    </tr>\n",
       "    <tr>\n",
       "      <th>1</th>\n",
       "      <td>460.0</td>\n",
       "      <td>01/02/2022 08:13</td>\n",
       "      <td>CONSUMIDOR</td>\n",
       "      <td>M 1</td>\n",
       "      <td>121.0</td>\n",
       "      <td>PAO SOURDOUGH OVOS</td>\n",
       "      <td>1.0</td>\n",
       "      <td>15,5</td>\n",
       "      <td>0.0</td>\n",
       "      <td>15,5</td>\n",
       "    </tr>\n",
       "    <tr>\n",
       "      <th>2</th>\n",
       "      <td>461.0</td>\n",
       "      <td>01/02/2022 08:14</td>\n",
       "      <td>CONSUMIDOR</td>\n",
       "      <td>M 2</td>\n",
       "      <td>119.0</td>\n",
       "      <td>SUCO DE LARANJA 400ML</td>\n",
       "      <td>1.0</td>\n",
       "      <td>14,5</td>\n",
       "      <td>0.0</td>\n",
       "      <td>14,5</td>\n",
       "    </tr>\n",
       "    <tr>\n",
       "      <th>3</th>\n",
       "      <td>461.0</td>\n",
       "      <td>01/02/2022 08:14</td>\n",
       "      <td>CONSUMIDOR</td>\n",
       "      <td>M 2</td>\n",
       "      <td>121.0</td>\n",
       "      <td>PAO SOURDOUGH OVOS</td>\n",
       "      <td>1.0</td>\n",
       "      <td>15,5</td>\n",
       "      <td>0.0</td>\n",
       "      <td>15,5</td>\n",
       "    </tr>\n",
       "    <tr>\n",
       "      <th>4</th>\n",
       "      <td>465.0</td>\n",
       "      <td>01/02/2022 09:01</td>\n",
       "      <td>CONSUMIDOR</td>\n",
       "      <td>M 1</td>\n",
       "      <td>46.0</td>\n",
       "      <td>QUICHE BACON 90G</td>\n",
       "      <td>2.0</td>\n",
       "      <td>19,5</td>\n",
       "      <td>0.0</td>\n",
       "      <td>39</td>\n",
       "    </tr>\n",
       "  </tbody>\n",
       "</table>\n",
       "</div>"
      ],
      "text/plain": [
       "   venda         data_hora     cliente mesa   item                produto  \\\n",
       "0  460.0  01/02/2022 08:13  CONSUMIDOR  M 1  119.0  SUCO DE LARANJA 400ML   \n",
       "1  460.0  01/02/2022 08:13  CONSUMIDOR  M 1  121.0     PAO SOURDOUGH OVOS   \n",
       "2  461.0  01/02/2022 08:14  CONSUMIDOR  M 2  119.0  SUCO DE LARANJA 400ML   \n",
       "3  461.0  01/02/2022 08:14  CONSUMIDOR  M 2  121.0     PAO SOURDOUGH OVOS   \n",
       "4  465.0  01/02/2022 09:01  CONSUMIDOR  M 1   46.0       QUICHE BACON 90G   \n",
       "\n",
       "   quantidade valor_unit  desconto total_item  \n",
       "0         1.0       14,5       0.0       14,5  \n",
       "1         1.0       15,5       0.0       15,5  \n",
       "2         1.0       14,5       0.0       14,5  \n",
       "3         1.0       15,5       0.0       15,5  \n",
       "4         2.0       19,5       0.0         39  "
      ]
     },
     "execution_count": 5,
     "metadata": {},
     "output_type": "execute_result"
    }
   ],
   "source": [
    "transactions.head()"
   ]
  },
  {
   "cell_type": "code",
   "execution_count": 6,
   "metadata": {},
   "outputs": [
    {
     "name": "stdout",
     "output_type": "stream",
     "text": [
      "<class 'pandas.core.frame.DataFrame'>\n",
      "RangeIndex: 25998 entries, 0 to 25997\n",
      "Data columns (total 10 columns):\n",
      " #   Column      Non-Null Count  Dtype  \n",
      "---  ------      --------------  -----  \n",
      " 0   venda       25992 non-null  float64\n",
      " 1   data_hora   25992 non-null  object \n",
      " 2   cliente     25992 non-null  object \n",
      " 3   mesa        22779 non-null  object \n",
      " 4   item        25922 non-null  float64\n",
      " 5   produto     25992 non-null  object \n",
      " 6   quantidade  25992 non-null  float64\n",
      " 7   valor_unit  25992 non-null  object \n",
      " 8   desconto    25992 non-null  float64\n",
      " 9   total_item  25992 non-null  object \n",
      "dtypes: float64(4), object(6)\n",
      "memory usage: 2.0+ MB\n"
     ]
    }
   ],
   "source": [
    "transactions.info()"
   ]
  },
  {
   "cell_type": "markdown",
   "metadata": {},
   "source": [
    "# Limpeza e manipulação dos dados"
   ]
  },
  {
   "cell_type": "code",
   "execution_count": 7,
   "metadata": {},
   "outputs": [
    {
     "data": {
      "text/plain": [
       "venda            6\n",
       "data_hora        6\n",
       "cliente          6\n",
       "mesa          3219\n",
       "item            76\n",
       "produto          6\n",
       "quantidade       6\n",
       "valor_unit       6\n",
       "desconto         6\n",
       "total_item       6\n",
       "dtype: int64"
      ]
     },
     "execution_count": 7,
     "metadata": {},
     "output_type": "execute_result"
    }
   ],
   "source": [
    "### CHECK OUT IF THE NUMBER OF TOTAL ENTRIES IS EQUAL TO THE NUMBER OF ENTRIES OF THE VARIABLES  \n",
    "\n",
    "transactions.isnull().sum()"
   ]
  },
  {
   "cell_type": "code",
   "execution_count": 8,
   "metadata": {},
   "outputs": [],
   "source": [
    "## DROPPING THE ROWS THAT ALL COLUMN VALUES ARE NULL\n",
    "#  https://www.youtube.com/watch?v=uDr67HBIPz8&t=818s\n",
    "\n",
    "transactions = transactions.dropna(how='all')"
   ]
  },
  {
   "cell_type": "code",
   "execution_count": 9,
   "metadata": {},
   "outputs": [],
   "source": [
    "# Delete the column \"item\"\n",
    "\n",
    "del transactions[\"item\"]"
   ]
  },
  {
   "cell_type": "code",
   "execution_count": 10,
   "metadata": {},
   "outputs": [
    {
     "name": "stdout",
     "output_type": "stream",
     "text": [
      "<class 'pandas.core.frame.DataFrame'>\n",
      "Int64Index: 25992 entries, 0 to 25997\n",
      "Data columns (total 9 columns):\n",
      " #   Column      Non-Null Count  Dtype  \n",
      "---  ------      --------------  -----  \n",
      " 0   venda       25992 non-null  float64\n",
      " 1   data_hora   25992 non-null  object \n",
      " 2   cliente     25992 non-null  object \n",
      " 3   mesa        22779 non-null  object \n",
      " 4   produto     25992 non-null  object \n",
      " 5   quantidade  25992 non-null  float64\n",
      " 6   valor_unit  25992 non-null  object \n",
      " 7   desconto    25992 non-null  float64\n",
      " 8   total_item  25992 non-null  object \n",
      "dtypes: float64(3), object(6)\n",
      "memory usage: 2.0+ MB\n"
     ]
    },
    {
     "data": {
      "text/html": [
       "<div>\n",
       "<style scoped>\n",
       "    .dataframe tbody tr th:only-of-type {\n",
       "        vertical-align: middle;\n",
       "    }\n",
       "\n",
       "    .dataframe tbody tr th {\n",
       "        vertical-align: top;\n",
       "    }\n",
       "\n",
       "    .dataframe thead th {\n",
       "        text-align: right;\n",
       "    }\n",
       "</style>\n",
       "<table border=\"1\" class=\"dataframe\">\n",
       "  <thead>\n",
       "    <tr style=\"text-align: right;\">\n",
       "      <th></th>\n",
       "      <th>venda</th>\n",
       "      <th>data_hora</th>\n",
       "      <th>cliente</th>\n",
       "      <th>mesa</th>\n",
       "      <th>produto</th>\n",
       "      <th>quantidade</th>\n",
       "      <th>valor_unit</th>\n",
       "      <th>desconto</th>\n",
       "      <th>total_item</th>\n",
       "    </tr>\n",
       "  </thead>\n",
       "  <tbody>\n",
       "    <tr>\n",
       "      <th>0</th>\n",
       "      <td>460.0</td>\n",
       "      <td>01/02/2022 08:13</td>\n",
       "      <td>CONSUMIDOR</td>\n",
       "      <td>M 1</td>\n",
       "      <td>SUCO DE LARANJA 400ML</td>\n",
       "      <td>1.0</td>\n",
       "      <td>14,5</td>\n",
       "      <td>0.0</td>\n",
       "      <td>14,5</td>\n",
       "    </tr>\n",
       "    <tr>\n",
       "      <th>1</th>\n",
       "      <td>460.0</td>\n",
       "      <td>01/02/2022 08:13</td>\n",
       "      <td>CONSUMIDOR</td>\n",
       "      <td>M 1</td>\n",
       "      <td>PAO SOURDOUGH OVOS</td>\n",
       "      <td>1.0</td>\n",
       "      <td>15,5</td>\n",
       "      <td>0.0</td>\n",
       "      <td>15,5</td>\n",
       "    </tr>\n",
       "    <tr>\n",
       "      <th>2</th>\n",
       "      <td>461.0</td>\n",
       "      <td>01/02/2022 08:14</td>\n",
       "      <td>CONSUMIDOR</td>\n",
       "      <td>M 2</td>\n",
       "      <td>SUCO DE LARANJA 400ML</td>\n",
       "      <td>1.0</td>\n",
       "      <td>14,5</td>\n",
       "      <td>0.0</td>\n",
       "      <td>14,5</td>\n",
       "    </tr>\n",
       "    <tr>\n",
       "      <th>3</th>\n",
       "      <td>461.0</td>\n",
       "      <td>01/02/2022 08:14</td>\n",
       "      <td>CONSUMIDOR</td>\n",
       "      <td>M 2</td>\n",
       "      <td>PAO SOURDOUGH OVOS</td>\n",
       "      <td>1.0</td>\n",
       "      <td>15,5</td>\n",
       "      <td>0.0</td>\n",
       "      <td>15,5</td>\n",
       "    </tr>\n",
       "    <tr>\n",
       "      <th>4</th>\n",
       "      <td>465.0</td>\n",
       "      <td>01/02/2022 09:01</td>\n",
       "      <td>CONSUMIDOR</td>\n",
       "      <td>M 1</td>\n",
       "      <td>QUICHE BACON 90G</td>\n",
       "      <td>2.0</td>\n",
       "      <td>19,5</td>\n",
       "      <td>0.0</td>\n",
       "      <td>39</td>\n",
       "    </tr>\n",
       "  </tbody>\n",
       "</table>\n",
       "</div>"
      ],
      "text/plain": [
       "   venda         data_hora     cliente mesa                produto  \\\n",
       "0  460.0  01/02/2022 08:13  CONSUMIDOR  M 1  SUCO DE LARANJA 400ML   \n",
       "1  460.0  01/02/2022 08:13  CONSUMIDOR  M 1     PAO SOURDOUGH OVOS   \n",
       "2  461.0  01/02/2022 08:14  CONSUMIDOR  M 2  SUCO DE LARANJA 400ML   \n",
       "3  461.0  01/02/2022 08:14  CONSUMIDOR  M 2     PAO SOURDOUGH OVOS   \n",
       "4  465.0  01/02/2022 09:01  CONSUMIDOR  M 1       QUICHE BACON 90G   \n",
       "\n",
       "   quantidade valor_unit  desconto total_item  \n",
       "0         1.0       14,5       0.0       14,5  \n",
       "1         1.0       15,5       0.0       15,5  \n",
       "2         1.0       14,5       0.0       14,5  \n",
       "3         1.0       15,5       0.0       15,5  \n",
       "4         2.0       19,5       0.0         39  "
      ]
     },
     "execution_count": 10,
     "metadata": {},
     "output_type": "execute_result"
    }
   ],
   "source": [
    "transactions.info()\n",
    "transactions.head()"
   ]
  },
  {
   "cell_type": "code",
   "execution_count": 11,
   "metadata": {},
   "outputs": [],
   "source": [
    "## Using isna() to select all rows with NaN in the column ('mesa') and the value \"CONSUMIDOR\" on the column \"cliente\" \n",
    "## and replace the \"mesa\" value with \"M0\"\n",
    "## https://datatofish.com/rows-with-nan-pandas-dataframe/\n",
    "## https://www.geeksforgeeks.org/how-to-replace-values-in-column-based-on-condition-in-pandas/\n",
    "\n",
    "transactions.loc[(transactions[\"cliente\"] == 'CONSUMIDOR') &  (transactions['mesa'].isna()), 'mesa']= 'M0'\n"
   ]
  },
  {
   "cell_type": "code",
   "execution_count": 12,
   "metadata": {},
   "outputs": [
    {
     "data": {
      "text/html": [
       "<div>\n",
       "<style scoped>\n",
       "    .dataframe tbody tr th:only-of-type {\n",
       "        vertical-align: middle;\n",
       "    }\n",
       "\n",
       "    .dataframe tbody tr th {\n",
       "        vertical-align: top;\n",
       "    }\n",
       "\n",
       "    .dataframe thead th {\n",
       "        text-align: right;\n",
       "    }\n",
       "</style>\n",
       "<table border=\"1\" class=\"dataframe\">\n",
       "  <thead>\n",
       "    <tr style=\"text-align: right;\">\n",
       "      <th></th>\n",
       "      <th>venda</th>\n",
       "      <th>data_hora</th>\n",
       "      <th>cliente</th>\n",
       "      <th>mesa</th>\n",
       "      <th>produto</th>\n",
       "      <th>quantidade</th>\n",
       "      <th>valor_unit</th>\n",
       "      <th>desconto</th>\n",
       "      <th>total_item</th>\n",
       "    </tr>\n",
       "  </thead>\n",
       "  <tbody>\n",
       "    <tr>\n",
       "      <th>121</th>\n",
       "      <td>520.0</td>\n",
       "      <td>02/02/2022 16:57</td>\n",
       "      <td>CONSUMIDOR</td>\n",
       "      <td>M0</td>\n",
       "      <td>BOMBOLONI NUTELLA 80G</td>\n",
       "      <td>2.0</td>\n",
       "      <td>12</td>\n",
       "      <td>0.0</td>\n",
       "      <td>24</td>\n",
       "    </tr>\n",
       "    <tr>\n",
       "      <th>122</th>\n",
       "      <td>520.0</td>\n",
       "      <td>02/02/2022 16:57</td>\n",
       "      <td>CONSUMIDOR</td>\n",
       "      <td>M0</td>\n",
       "      <td>TARTELETE DE MORANGO 120G</td>\n",
       "      <td>1.0</td>\n",
       "      <td>18</td>\n",
       "      <td>0.0</td>\n",
       "      <td>18</td>\n",
       "    </tr>\n",
       "    <tr>\n",
       "      <th>123</th>\n",
       "      <td>520.0</td>\n",
       "      <td>02/02/2022 16:57</td>\n",
       "      <td>CONSUMIDOR</td>\n",
       "      <td>M0</td>\n",
       "      <td>CROISSANT MUSSATRELA DE</td>\n",
       "      <td>1.0</td>\n",
       "      <td>25,5</td>\n",
       "      <td>0.0</td>\n",
       "      <td>25,5</td>\n",
       "    </tr>\n",
       "    <tr>\n",
       "      <th>894</th>\n",
       "      <td>856.0</td>\n",
       "      <td>11/02/2022 19:19</td>\n",
       "      <td>CONSUMIDOR</td>\n",
       "      <td>M0</td>\n",
       "      <td>CROISSANT BRIE PARMA MEL DE</td>\n",
       "      <td>2.0</td>\n",
       "      <td>25,5</td>\n",
       "      <td>0.0</td>\n",
       "      <td>51</td>\n",
       "    </tr>\n",
       "    <tr>\n",
       "      <th>895</th>\n",
       "      <td>856.0</td>\n",
       "      <td>11/02/2022 19:19</td>\n",
       "      <td>CONSUMIDOR</td>\n",
       "      <td>M0</td>\n",
       "      <td>VH SANTA HORTENSIA SAUVIG</td>\n",
       "      <td>1.0</td>\n",
       "      <td>59</td>\n",
       "      <td>0.0</td>\n",
       "      <td>59</td>\n",
       "    </tr>\n",
       "  </tbody>\n",
       "</table>\n",
       "</div>"
      ],
      "text/plain": [
       "     venda         data_hora     cliente mesa                      produto  \\\n",
       "121  520.0  02/02/2022 16:57  CONSUMIDOR   M0        BOMBOLONI NUTELLA 80G   \n",
       "122  520.0  02/02/2022 16:57  CONSUMIDOR   M0    TARTELETE DE MORANGO 120G   \n",
       "123  520.0  02/02/2022 16:57  CONSUMIDOR   M0      CROISSANT MUSSATRELA DE   \n",
       "894  856.0  11/02/2022 19:19  CONSUMIDOR   M0  CROISSANT BRIE PARMA MEL DE   \n",
       "895  856.0  11/02/2022 19:19  CONSUMIDOR   M0    VH SANTA HORTENSIA SAUVIG   \n",
       "\n",
       "     quantidade valor_unit  desconto total_item  \n",
       "121         2.0         12       0.0         24  \n",
       "122         1.0         18       0.0         18  \n",
       "123         1.0       25,5       0.0       25,5  \n",
       "894         2.0       25,5       0.0         51  \n",
       "895         1.0         59       0.0         59  "
      ]
     },
     "execution_count": 12,
     "metadata": {},
     "output_type": "execute_result"
    }
   ],
   "source": [
    "# Checking if the changes were correct.\n",
    "\n",
    "transactions.loc[transactions[\"mesa\"] == 'M0']"
   ]
  },
  {
   "cell_type": "code",
   "execution_count": 13,
   "metadata": {},
   "outputs": [],
   "source": [
    "# Assigning a value \"ND\" to the empty records in column \"mesa\"\n",
    "# https://www.w3schools.com/python/pandas/pandas_cleaning_empty_cells.asp\n",
    "\n",
    "transactions['mesa'].fillna(\"ND\",inplace = True )"
   ]
  },
  {
   "cell_type": "code",
   "execution_count": 14,
   "metadata": {},
   "outputs": [],
   "source": [
    "# Convert the \"venda\" variable from float64 type to integer type\n",
    "# https://stackoverflow.com/questions/43956335/convert-float64-column-to-int64-in-pandas\n",
    "\n",
    "transactions['venda'] = np.int64(transactions['venda'])"
   ]
  },
  {
   "cell_type": "code",
   "execution_count": 15,
   "metadata": {},
   "outputs": [],
   "source": [
    "# Convert the \"quantidade\" variable from float64 type to integer type\n",
    "# https://stackoverflow.com/questions/43956335/convert-float64-column-to-int64-in-pandas\n",
    "\n",
    "transactions['quantidade'] = np.int64(transactions['quantidade'])"
   ]
  },
  {
   "cell_type": "code",
   "execution_count": 16,
   "metadata": {},
   "outputs": [],
   "source": [
    "# change the decimal delimiter of the the variable \"valor_unit\" from \",\" to \".\"\n",
    "# https://cursos.alura.com.br/forum/topico-transformar-pontos-por-virgulas-dentro-de-um-dataframe-121090\n",
    "transactions['valor_unit'] = transactions['valor_unit'].str.replace(\",\",\".\")\n",
    "\n",
    "# Convert the \"valor_uni\" variable from object type to float64 type\n",
    "# https://www.statology.org/pandas-convert-object-to-float/\n",
    "\n",
    "transactions['valor_unit'] = transactions['valor_unit'].astype(float)"
   ]
  },
  {
   "cell_type": "code",
   "execution_count": 17,
   "metadata": {},
   "outputs": [],
   "source": [
    "# change the decimal delimiter of the the variable \"total_item\" from \",\" to \".\"\n",
    "# https://cursos.alura.com.br/forum/topico-transformar-pontos-por-virgulas-dentro-de-um-dataframe-121090\n",
    "transactions['total_item'] = transactions['total_item'].str.replace(\",\",\".\")\n",
    "\n",
    "# Convert the \"total_item\" variable from object type to float64 type\n",
    "# https://www.statology.org/pandas-convert-object-to-float/\n",
    "\n",
    "transactions['total_item'] = transactions['total_item'].astype(float)"
   ]
  },
  {
   "cell_type": "code",
   "execution_count": 18,
   "metadata": {},
   "outputs": [],
   "source": [
    "# Convert \"data_hora\" to datetime object\n",
    "transactions['data_hora'] = pd.to_datetime(transactions['data_hora'], format='%d/%m/%Y %H:%M')\n",
    "\n",
    "#How to Solve Python ValueError: unconverted data remains\n",
    "#read://https_researchdatapod.com/?url=https%3A%2F%2Fresearchdatapod.com%2Fhow-to-solve-python-valueerror-unconverted-data-remains%2F"
   ]
  },
  {
   "cell_type": "code",
   "execution_count": 19,
   "metadata": {},
   "outputs": [],
   "source": [
    "# Creating a horario column that is a copy of data_hora;\n",
    "\n",
    "# https://www.dataquest.io/blog/python-datetime-tutorial/\n",
    "\n",
    "\n",
    "transactions['horario'] = (transactions['data_hora'])\n",
    "\n",
    "#  add hora and minuto column; using class attributes .hour and .minute\n",
    "\n",
    "transactions['hora'] = transactions.horario.dt.hour\n",
    "transactions['minuto'] = transactions.horario.dt.minute\n",
    "\n",
    "# drop horario column\n",
    "transactions = transactions.drop(['horario'], axis=1)\n"
   ]
  },
  {
   "attachments": {},
   "cell_type": "markdown",
   "metadata": {},
   "source": [
    "### Reamaning the column \"data_hora\" to \"data\""
   ]
  },
  {
   "cell_type": "code",
   "execution_count": 20,
   "metadata": {},
   "outputs": [],
   "source": [
    "# https://www.statology.org/pandas-rename-columns/\n",
    "# renaming the column\n",
    "\n",
    "transactions.rename(columns = {'data_hora':'data'}, inplace = True)\n"
   ]
  },
  {
   "attachments": {},
   "cell_type": "markdown",
   "metadata": {},
   "source": [
    "### Extracting only the Date from 'data' column"
   ]
  },
  {
   "cell_type": "code",
   "execution_count": 63,
   "metadata": {},
   "outputs": [],
   "source": [
    "transactions['data']= pd.to_datetime(transactions['data']).dt.strftime('%Y-%m-%d')"
   ]
  },
  {
   "cell_type": "code",
   "execution_count": 21,
   "metadata": {},
   "outputs": [],
   "source": [
    "\n",
    "## https://datagy.io/pandas-extract-date-from-datetime/\n",
    "# transactions['data'] = transactions['data'].dt.normalize()"
   ]
  },
  {
   "cell_type": "code",
   "execution_count": 22,
   "metadata": {},
   "outputs": [],
   "source": [
    "# Definindo a função time_of_day\n",
    "def time_of_day(hora):\n",
    "    \"\"\"\n",
    "    Determina se a  compra foi feita pela manhã, tarde ou noite.\n",
    "    \"\"\"\n",
    "    \n",
    "    if hora < 12:\n",
    "        \n",
    "        return 'manhã'\n",
    "    \n",
    "    elif hora < 17:\n",
    "        \n",
    "        return 'tarde'\n",
    "    \n",
    "    else:\n",
    "        \n",
    "        return 'noite'"
   ]
  },
  {
   "cell_type": "code",
   "execution_count": 23,
   "metadata": {},
   "outputs": [],
   "source": [
    "# Apply time of day function to 'hora' column\n",
    "\n",
    "transactions['time_of_day'] = transactions.hora.apply(time_of_day)\n"
   ]
  },
  {
   "cell_type": "code",
   "execution_count": 24,
   "metadata": {},
   "outputs": [
    {
     "data": {
      "text/plain": [
       "'pt_BR.utf8'"
      ]
     },
     "execution_count": 24,
     "metadata": {},
     "output_type": "execute_result"
    }
   ],
   "source": [
    "# https://pt.stackoverflow.com/questions/508484/mostrar-dias-da-semana#:~:text=Como%20weekday()%20retorna%20um,fim%20de%20semana%20ou%20n%C3%A3o.\n",
    "\n",
    "import locale\n",
    "# setar locale para português para que os dias da semana retornem em portugês no código abaixo.\n",
    "locale.setlocale(locale.LC_ALL, 'pt_BR.utf8')"
   ]
  },
  {
   "cell_type": "code",
   "execution_count": 25,
   "metadata": {},
   "outputs": [],
   "source": [
    "# Add a day of week variable and a second classifier of weekday or weekend\n",
    "\n",
    "from datetime import date\n",
    "import calendar\n",
    "\n",
    "transactions['day_of_week'] = [calendar.day_name[i.weekday()] for i in transactions['data']]\n",
    "\n",
    "transactions['day_type'] = ['FDS' if (i == 'Sunday') | (i == 'Saturday') else 'DDS' for i in \n",
    "                                                                            transactions['day_of_week']]\n"
   ]
  },
  {
   "cell_type": "code",
   "execution_count": 26,
   "metadata": {},
   "outputs": [],
   "source": [
    "transactions.rename(columns = {'day_of_week':'dia_da_semana'}, inplace = True)"
   ]
  },
  {
   "cell_type": "code",
   "execution_count": 27,
   "metadata": {},
   "outputs": [],
   "source": [
    "transactions.rename(columns = {'time_of_day':'hora_do_dia'}, inplace = True)"
   ]
  },
  {
   "cell_type": "code",
   "execution_count": 28,
   "metadata": {},
   "outputs": [],
   "source": [
    "transactions.rename(columns = {'day_type':'tipo_de_dia'}, inplace = True)"
   ]
  },
  {
   "cell_type": "code",
   "execution_count": 29,
   "metadata": {},
   "outputs": [],
   "source": [
    "# Add an item count variable equal to one for future groupby operations\n",
    "\n",
    "transactions['item_count'] = 1\n"
   ]
  },
  {
   "cell_type": "code",
   "execution_count": 30,
   "metadata": {},
   "outputs": [
    {
     "data": {
      "text/html": [
       "<div>\n",
       "<style scoped>\n",
       "    .dataframe tbody tr th:only-of-type {\n",
       "        vertical-align: middle;\n",
       "    }\n",
       "\n",
       "    .dataframe tbody tr th {\n",
       "        vertical-align: top;\n",
       "    }\n",
       "\n",
       "    .dataframe thead th {\n",
       "        text-align: right;\n",
       "    }\n",
       "</style>\n",
       "<table border=\"1\" class=\"dataframe\">\n",
       "  <thead>\n",
       "    <tr style=\"text-align: right;\">\n",
       "      <th></th>\n",
       "      <th>venda</th>\n",
       "      <th>data</th>\n",
       "      <th>cliente</th>\n",
       "      <th>mesa</th>\n",
       "      <th>produto</th>\n",
       "      <th>quantidade</th>\n",
       "      <th>valor_unit</th>\n",
       "      <th>desconto</th>\n",
       "      <th>total_item</th>\n",
       "      <th>hora</th>\n",
       "      <th>minuto</th>\n",
       "      <th>hora_do_dia</th>\n",
       "      <th>dia_da_semana</th>\n",
       "      <th>tipo_de_dia</th>\n",
       "      <th>item_count</th>\n",
       "    </tr>\n",
       "  </thead>\n",
       "  <tbody>\n",
       "    <tr>\n",
       "      <th>0</th>\n",
       "      <td>460</td>\n",
       "      <td>2022-02-01</td>\n",
       "      <td>CONSUMIDOR</td>\n",
       "      <td>M 1</td>\n",
       "      <td>SUCO DE LARANJA 400ML</td>\n",
       "      <td>1</td>\n",
       "      <td>14.5</td>\n",
       "      <td>0.0</td>\n",
       "      <td>14.5</td>\n",
       "      <td>8</td>\n",
       "      <td>13</td>\n",
       "      <td>manhã</td>\n",
       "      <td>terça-feira</td>\n",
       "      <td>DDS</td>\n",
       "      <td>1</td>\n",
       "    </tr>\n",
       "    <tr>\n",
       "      <th>1</th>\n",
       "      <td>460</td>\n",
       "      <td>2022-02-01</td>\n",
       "      <td>CONSUMIDOR</td>\n",
       "      <td>M 1</td>\n",
       "      <td>PAO SOURDOUGH OVOS</td>\n",
       "      <td>1</td>\n",
       "      <td>15.5</td>\n",
       "      <td>0.0</td>\n",
       "      <td>15.5</td>\n",
       "      <td>8</td>\n",
       "      <td>13</td>\n",
       "      <td>manhã</td>\n",
       "      <td>terça-feira</td>\n",
       "      <td>DDS</td>\n",
       "      <td>1</td>\n",
       "    </tr>\n",
       "    <tr>\n",
       "      <th>2</th>\n",
       "      <td>461</td>\n",
       "      <td>2022-02-01</td>\n",
       "      <td>CONSUMIDOR</td>\n",
       "      <td>M 2</td>\n",
       "      <td>SUCO DE LARANJA 400ML</td>\n",
       "      <td>1</td>\n",
       "      <td>14.5</td>\n",
       "      <td>0.0</td>\n",
       "      <td>14.5</td>\n",
       "      <td>8</td>\n",
       "      <td>14</td>\n",
       "      <td>manhã</td>\n",
       "      <td>terça-feira</td>\n",
       "      <td>DDS</td>\n",
       "      <td>1</td>\n",
       "    </tr>\n",
       "    <tr>\n",
       "      <th>3</th>\n",
       "      <td>461</td>\n",
       "      <td>2022-02-01</td>\n",
       "      <td>CONSUMIDOR</td>\n",
       "      <td>M 2</td>\n",
       "      <td>PAO SOURDOUGH OVOS</td>\n",
       "      <td>1</td>\n",
       "      <td>15.5</td>\n",
       "      <td>0.0</td>\n",
       "      <td>15.5</td>\n",
       "      <td>8</td>\n",
       "      <td>14</td>\n",
       "      <td>manhã</td>\n",
       "      <td>terça-feira</td>\n",
       "      <td>DDS</td>\n",
       "      <td>1</td>\n",
       "    </tr>\n",
       "    <tr>\n",
       "      <th>4</th>\n",
       "      <td>465</td>\n",
       "      <td>2022-02-01</td>\n",
       "      <td>CONSUMIDOR</td>\n",
       "      <td>M 1</td>\n",
       "      <td>QUICHE BACON 90G</td>\n",
       "      <td>2</td>\n",
       "      <td>19.5</td>\n",
       "      <td>0.0</td>\n",
       "      <td>39.0</td>\n",
       "      <td>9</td>\n",
       "      <td>1</td>\n",
       "      <td>manhã</td>\n",
       "      <td>terça-feira</td>\n",
       "      <td>DDS</td>\n",
       "      <td>1</td>\n",
       "    </tr>\n",
       "  </tbody>\n",
       "</table>\n",
       "</div>"
      ],
      "text/plain": [
       "   venda       data     cliente mesa                produto  quantidade  \\\n",
       "0    460 2022-02-01  CONSUMIDOR  M 1  SUCO DE LARANJA 400ML           1   \n",
       "1    460 2022-02-01  CONSUMIDOR  M 1     PAO SOURDOUGH OVOS           1   \n",
       "2    461 2022-02-01  CONSUMIDOR  M 2  SUCO DE LARANJA 400ML           1   \n",
       "3    461 2022-02-01  CONSUMIDOR  M 2     PAO SOURDOUGH OVOS           1   \n",
       "4    465 2022-02-01  CONSUMIDOR  M 1       QUICHE BACON 90G           2   \n",
       "\n",
       "   valor_unit  desconto  total_item  hora  minuto hora_do_dia dia_da_semana  \\\n",
       "0        14.5       0.0        14.5     8      13       manhã   terça-feira   \n",
       "1        15.5       0.0        15.5     8      13       manhã   terça-feira   \n",
       "2        14.5       0.0        14.5     8      14       manhã   terça-feira   \n",
       "3        15.5       0.0        15.5     8      14       manhã   terça-feira   \n",
       "4        19.5       0.0        39.0     9       1       manhã   terça-feira   \n",
       "\n",
       "  tipo_de_dia  item_count  \n",
       "0         DDS           1  \n",
       "1         DDS           1  \n",
       "2         DDS           1  \n",
       "3         DDS           1  \n",
       "4         DDS           1  "
      ]
     },
     "execution_count": 30,
     "metadata": {},
     "output_type": "execute_result"
    }
   ],
   "source": [
    "transactions.head()"
   ]
  },
  {
   "cell_type": "code",
   "execution_count": 31,
   "metadata": {},
   "outputs": [
    {
     "name": "stdout",
     "output_type": "stream",
     "text": [
      "<class 'pandas.core.frame.DataFrame'>\n",
      "Int64Index: 25992 entries, 0 to 25997\n",
      "Data columns (total 15 columns):\n",
      " #   Column         Non-Null Count  Dtype         \n",
      "---  ------         --------------  -----         \n",
      " 0   venda          25992 non-null  int64         \n",
      " 1   data           25992 non-null  datetime64[ns]\n",
      " 2   cliente        25992 non-null  object        \n",
      " 3   mesa           25992 non-null  object        \n",
      " 4   produto        25992 non-null  object        \n",
      " 5   quantidade     25992 non-null  int64         \n",
      " 6   valor_unit     25992 non-null  float64       \n",
      " 7   desconto       25992 non-null  float64       \n",
      " 8   total_item     25992 non-null  float64       \n",
      " 9   hora           25992 non-null  int64         \n",
      " 10  minuto         25992 non-null  int64         \n",
      " 11  hora_do_dia    25992 non-null  object        \n",
      " 12  dia_da_semana  25992 non-null  object        \n",
      " 13  tipo_de_dia    25992 non-null  object        \n",
      " 14  item_count     25992 non-null  int64         \n",
      "dtypes: datetime64[ns](1), float64(3), int64(5), object(6)\n",
      "memory usage: 3.2+ MB\n"
     ]
    }
   ],
   "source": [
    "transactions.info()"
   ]
  },
  {
   "attachments": {},
   "cell_type": "markdown",
   "metadata": {},
   "source": [
    "# Verificando alguma divergência dos dados"
   ]
  },
  {
   "cell_type": "code",
   "execution_count": 32,
   "metadata": {},
   "outputs": [],
   "source": [
    "# Verificando se o valor \"total_item\" é igual a: \"quantidade\" * \"valor_unit\"\n",
    "\n",
    "transactions[\"total_item_verif\"] = transactions['quantidade']* transactions['valor_unit']"
   ]
  },
  {
   "cell_type": "code",
   "execution_count": 33,
   "metadata": {},
   "outputs": [],
   "source": [
    "# Continuando o item anterior\n",
    "# https://www.dataquest.io/blog/tutorial-add-column-pandas-dataframe-based-on-if-else-condition/\n",
    "\n",
    "transactions['confirm'] = np.where(transactions['total_item'] > transactions['total_item_verif'], True, False)\n"
   ]
  },
  {
   "cell_type": "code",
   "execution_count": 34,
   "metadata": {},
   "outputs": [
    {
     "name": "stdout",
     "output_type": "stream",
     "text": [
      "venda                                                        13730391\n",
      "cliente             CONSUMIDORCONSUMIDORCONSUMIDORCONSUMIDORIFOODC...\n",
      "mesa                M 5M 13M 11M 5NDM 19NDM 13M 13M 17NDM 23M 23M ...\n",
      "produto             CROISSANTCROISSANTCROISSANTCROISSANTCROISSANT ...\n",
      "quantidade                                                       2139\n",
      "valor_unit                                                    21083.7\n",
      "desconto                                                          0.0\n",
      "total_item                                                    53878.3\n",
      "hora                                                            29332\n",
      "minuto                                                          59296\n",
      "hora_do_dia         manhãmanhãtardemanhãmanhãmanhãmanhãnoitenoiten...\n",
      "dia_da_semana       sexta-feirasexta-feirasexta-feirasábadosábados...\n",
      "tipo_de_dia         DDSDDSDDSDDSDDSDDSDDSDDSDDSDDSDDSDDSDDSDDSDDSD...\n",
      "item_count                                                       2032\n",
      "total_item_verif                                              22219.1\n",
      "confirm                                                          2032\n",
      "dtype: object\n"
     ]
    },
    {
     "name": "stderr",
     "output_type": "stream",
     "text": [
      "C:\\Users\\ctobr\\AppData\\Local\\Temp\\ipykernel_29632\\2200306820.py:2: FutureWarning:\n",
      "\n",
      "The default value of numeric_only in DataFrame.sum is deprecated. In a future version, it will default to False. In addition, specifying 'numeric_only=None' is deprecated. Select only valid columns or specify the value of numeric_only to silence this warning.\n",
      "\n"
     ]
    }
   ],
   "source": [
    "# continuando o item anterior\n",
    "resumo = transactions.loc[transactions[\"confirm\"] == True].sum()\n",
    "print (resumo)"
   ]
  },
  {
   "cell_type": "code",
   "execution_count": 35,
   "metadata": {},
   "outputs": [],
   "source": [
    "# Gerando um relatório em pdf dos dados divergentes\n",
    "# How do I select specific rows and columns from a DataFrame?\n",
    "# https://pandas.pydata.org/docs/getting_started/intro_tutorials/03_subset_data.html#how-do-i-select-specific-rows-and-columns-from-a-dataframe\n",
    "# https://www.geeksforgeeks.org/select-rows-columns-by-name-or-index-in-pandas-dataframe-using-loc-iloc/\n",
    "\n",
    "ts2 = transactions.loc[transactions[\"confirm\"] == True, [\"venda\", \"produto\", \"quantidade\", \"valor_unit\", \"total_item\", \"total_item_verif\"]]"
   ]
  },
  {
   "cell_type": "code",
   "execution_count": 36,
   "metadata": {},
   "outputs": [],
   "source": [
    "# Exporting to a pdf file the transactions that has a inconsistent data.\n",
    "from matplotlib.backends.backend_pdf import PdfPages\n"
   ]
  },
  {
   "cell_type": "code",
   "execution_count": 37,
   "metadata": {},
   "outputs": [],
   "source": [
    "# https://levelup.gitconnected.com/how-to-write-a-pandas-dataframe-as-a-pdf-5cdf7d525488\n",
    "\n",
    "def _draw_as_table(df, pagesize):\n",
    "    alternating_colors = [['white'] * len(df.columns), ['lightgray'] * len(df.columns)] * len(df)\n",
    "    alternating_colors = alternating_colors[:len(df)]\n",
    "    fig, ax = plt.subplots(figsize=pagesize)\n",
    "    ax.axis(\"tight\")\n",
    "    ax.axis('off')\n",
    "    the_table = ax.table(cellText=df.values,\n",
    "                        rowLabels=df.index,\n",
    "                        colLabels=df.columns,\n",
    "                        rowColours=['lightblue']*len(df),\n",
    "                        colColours=['lightblue']*len(df.columns),\n",
    "                        cellColours=alternating_colors,\n",
    "                        loc='center')\n",
    "    return fig\n"
   ]
  },
  {
   "cell_type": "code",
   "execution_count": 38,
   "metadata": {},
   "outputs": [],
   "source": [
    "# https://www.alixaprodev.com/2022/05/convert-pandas-dataframe-to-pdf-in-python.html\n",
    "#fig, ax =plt.subplots(figsize=(14,6))\n",
    "#ax.axis('equal')\n",
    "#ax.axis('off')\n",
    "#the_table = ax.table(cellText=ts2.values,colLabels=ts2.columns,loc='center')\n",
    "\n",
    "\n"
   ]
  },
  {
   "cell_type": "code",
   "execution_count": 39,
   "metadata": {},
   "outputs": [],
   "source": [
    "def dataframe_to_pdf(df, filename, numpages=(1, 1), pagesize=(11, 8.5)):\n",
    "  with PdfPages(filename) as pdf:\n",
    "    nh, nv = numpages\n",
    "    rows_per_page = len(df) // nh\n",
    "    cols_per_page = len(df.columns) // nv\n",
    "    for i in range(0, nh):\n",
    "        for j in range(0, nv):\n",
    "            page = df.iloc[(i*rows_per_page):min((i+1)*rows_per_page, len(df)),\n",
    "                           (j*cols_per_page):min((j+1)*cols_per_page, len(df.columns))]\n",
    "            fig = _draw_as_table(page, pagesize)\n",
    "            if nh > 1 or nv > 1:\n",
    "                # Add a part/page number at bottom-center of page\n",
    "                fig.text(0.5, 0.5/pagesize[0],\n",
    "                         \"Part-{}x{}: Page-{}\".format(i+1, j+1, i*nv + j + 1),\n",
    "                         ha='center', fontsize=8)\n",
    "            pdf.savefig(fig, bbox_inches='tight')\n",
    "            \n",
    "            plt.close()"
   ]
  },
  {
   "cell_type": "code",
   "execution_count": 40,
   "metadata": {},
   "outputs": [],
   "source": [
    "### Trying to Align the page number\n",
    "# https://www.geeksforgeeks.org/matplotlib-figure-figure-text-in-python/\n",
    "def dataframe_to_pdf(df, filename, numpages=(1, 1), pagesize=(11, 8.5)):\n",
    "  with PdfPages(filename) as pdf:\n",
    "    nh, nv = numpages\n",
    "    rows_per_page = len(df) // nh\n",
    "    cols_per_page = len(df.columns) // nv\n",
    "    for i in range(0, nh):\n",
    "        for j in range(0, nv):\n",
    "            page = df.iloc[(i*rows_per_page):min((i+1)*rows_per_page, len(df)),\n",
    "                           (j*cols_per_page):min((j+1)*cols_per_page, len(df.columns))]\n",
    "            fig = _draw_as_table(page, pagesize)\n",
    "            #if nh > 1 or nv > 1:\n",
    "                # Add a part/page number at bottom-center of page\n",
    "                #fig.text(0.5, 0.5/pagesize[0],\n",
    "                       # \"Part-{}x{}: Page-{}\".format(i+1, j+1, i*nv + j + 1),\n",
    "                       # verticalalignment ='bottom', \n",
    "                       # horizontalalignment ='right',\n",
    "                       #transform = ax.transAxes,\n",
    "                        #color ='green',\n",
    "                        #fontsize = 5\n",
    "                         #)\n",
    "            pdf.savefig(fig, bbox_inches='tight')\n",
    "            \n",
    "            plt.close()"
   ]
  },
  {
   "attachments": {},
   "cell_type": "markdown",
   "metadata": {},
   "source": [
    "### Creating a pdf file from the divergent data"
   ]
  },
  {
   "cell_type": "code",
   "execution_count": 41,
   "metadata": {},
   "outputs": [],
   "source": [
    "# dataframe_to_pdf(ts2, \"diverge_01.pdf\", numpages=(12, 1), pagesize=(11.7, 8.3))"
   ]
  },
  {
   "cell_type": "code",
   "execution_count": 42,
   "metadata": {},
   "outputs": [],
   "source": [
    "## Create a HTML file of the resumé \"ts2\" dataframe.\n",
    "\n",
    "f = open('exp.html','w')\n",
    "a = ts2.to_html()\n",
    "f.write(a)\n",
    "f.close()"
   ]
  },
  {
   "cell_type": "code",
   "execution_count": 43,
   "metadata": {},
   "outputs": [],
   "source": [
    "# drop the 'confirm\" and \"total_item_verif\" column\n",
    "transactions = transactions.drop(['confirm'], axis=1)\n",
    "transactions = transactions.drop(['total_item_verif'], axis=1)\n"
   ]
  },
  {
   "cell_type": "code",
   "execution_count": 44,
   "metadata": {},
   "outputs": [
    {
     "data": {
      "text/html": [
       "<div>\n",
       "<style scoped>\n",
       "    .dataframe tbody tr th:only-of-type {\n",
       "        vertical-align: middle;\n",
       "    }\n",
       "\n",
       "    .dataframe tbody tr th {\n",
       "        vertical-align: top;\n",
       "    }\n",
       "\n",
       "    .dataframe thead th {\n",
       "        text-align: right;\n",
       "    }\n",
       "</style>\n",
       "<table border=\"1\" class=\"dataframe\">\n",
       "  <thead>\n",
       "    <tr style=\"text-align: right;\">\n",
       "      <th></th>\n",
       "      <th>venda</th>\n",
       "      <th>data</th>\n",
       "      <th>cliente</th>\n",
       "      <th>mesa</th>\n",
       "      <th>produto</th>\n",
       "      <th>quantidade</th>\n",
       "      <th>valor_unit</th>\n",
       "      <th>desconto</th>\n",
       "      <th>total_item</th>\n",
       "      <th>hora</th>\n",
       "      <th>minuto</th>\n",
       "      <th>hora_do_dia</th>\n",
       "      <th>dia_da_semana</th>\n",
       "      <th>tipo_de_dia</th>\n",
       "      <th>item_count</th>\n",
       "    </tr>\n",
       "  </thead>\n",
       "  <tbody>\n",
       "    <tr>\n",
       "      <th>0</th>\n",
       "      <td>460</td>\n",
       "      <td>2022-02-01</td>\n",
       "      <td>CONSUMIDOR</td>\n",
       "      <td>M 1</td>\n",
       "      <td>SUCO DE LARANJA 400ML</td>\n",
       "      <td>1</td>\n",
       "      <td>14.5</td>\n",
       "      <td>0.0</td>\n",
       "      <td>14.5</td>\n",
       "      <td>8</td>\n",
       "      <td>13</td>\n",
       "      <td>manhã</td>\n",
       "      <td>terça-feira</td>\n",
       "      <td>DDS</td>\n",
       "      <td>1</td>\n",
       "    </tr>\n",
       "    <tr>\n",
       "      <th>1</th>\n",
       "      <td>460</td>\n",
       "      <td>2022-02-01</td>\n",
       "      <td>CONSUMIDOR</td>\n",
       "      <td>M 1</td>\n",
       "      <td>PAO SOURDOUGH OVOS</td>\n",
       "      <td>1</td>\n",
       "      <td>15.5</td>\n",
       "      <td>0.0</td>\n",
       "      <td>15.5</td>\n",
       "      <td>8</td>\n",
       "      <td>13</td>\n",
       "      <td>manhã</td>\n",
       "      <td>terça-feira</td>\n",
       "      <td>DDS</td>\n",
       "      <td>1</td>\n",
       "    </tr>\n",
       "    <tr>\n",
       "      <th>2</th>\n",
       "      <td>461</td>\n",
       "      <td>2022-02-01</td>\n",
       "      <td>CONSUMIDOR</td>\n",
       "      <td>M 2</td>\n",
       "      <td>SUCO DE LARANJA 400ML</td>\n",
       "      <td>1</td>\n",
       "      <td>14.5</td>\n",
       "      <td>0.0</td>\n",
       "      <td>14.5</td>\n",
       "      <td>8</td>\n",
       "      <td>14</td>\n",
       "      <td>manhã</td>\n",
       "      <td>terça-feira</td>\n",
       "      <td>DDS</td>\n",
       "      <td>1</td>\n",
       "    </tr>\n",
       "    <tr>\n",
       "      <th>3</th>\n",
       "      <td>461</td>\n",
       "      <td>2022-02-01</td>\n",
       "      <td>CONSUMIDOR</td>\n",
       "      <td>M 2</td>\n",
       "      <td>PAO SOURDOUGH OVOS</td>\n",
       "      <td>1</td>\n",
       "      <td>15.5</td>\n",
       "      <td>0.0</td>\n",
       "      <td>15.5</td>\n",
       "      <td>8</td>\n",
       "      <td>14</td>\n",
       "      <td>manhã</td>\n",
       "      <td>terça-feira</td>\n",
       "      <td>DDS</td>\n",
       "      <td>1</td>\n",
       "    </tr>\n",
       "    <tr>\n",
       "      <th>4</th>\n",
       "      <td>465</td>\n",
       "      <td>2022-02-01</td>\n",
       "      <td>CONSUMIDOR</td>\n",
       "      <td>M 1</td>\n",
       "      <td>QUICHE BACON 90G</td>\n",
       "      <td>2</td>\n",
       "      <td>19.5</td>\n",
       "      <td>0.0</td>\n",
       "      <td>39.0</td>\n",
       "      <td>9</td>\n",
       "      <td>1</td>\n",
       "      <td>manhã</td>\n",
       "      <td>terça-feira</td>\n",
       "      <td>DDS</td>\n",
       "      <td>1</td>\n",
       "    </tr>\n",
       "  </tbody>\n",
       "</table>\n",
       "</div>"
      ],
      "text/plain": [
       "   venda       data     cliente mesa                produto  quantidade  \\\n",
       "0    460 2022-02-01  CONSUMIDOR  M 1  SUCO DE LARANJA 400ML           1   \n",
       "1    460 2022-02-01  CONSUMIDOR  M 1     PAO SOURDOUGH OVOS           1   \n",
       "2    461 2022-02-01  CONSUMIDOR  M 2  SUCO DE LARANJA 400ML           1   \n",
       "3    461 2022-02-01  CONSUMIDOR  M 2     PAO SOURDOUGH OVOS           1   \n",
       "4    465 2022-02-01  CONSUMIDOR  M 1       QUICHE BACON 90G           2   \n",
       "\n",
       "   valor_unit  desconto  total_item  hora  minuto hora_do_dia dia_da_semana  \\\n",
       "0        14.5       0.0        14.5     8      13       manhã   terça-feira   \n",
       "1        15.5       0.0        15.5     8      13       manhã   terça-feira   \n",
       "2        14.5       0.0        14.5     8      14       manhã   terça-feira   \n",
       "3        15.5       0.0        15.5     8      14       manhã   terça-feira   \n",
       "4        19.5       0.0        39.0     9       1       manhã   terça-feira   \n",
       "\n",
       "  tipo_de_dia  item_count  \n",
       "0         DDS           1  \n",
       "1         DDS           1  \n",
       "2         DDS           1  \n",
       "3         DDS           1  \n",
       "4         DDS           1  "
      ]
     },
     "execution_count": 44,
     "metadata": {},
     "output_type": "execute_result"
    }
   ],
   "source": [
    "transactions.head()"
   ]
  },
  {
   "cell_type": "code",
   "execution_count": 45,
   "metadata": {},
   "outputs": [
    {
     "name": "stdout",
     "output_type": "stream",
     "text": [
      "<class 'pandas.core.frame.DataFrame'>\n",
      "Int64Index: 25992 entries, 0 to 25997\n",
      "Data columns (total 15 columns):\n",
      " #   Column         Non-Null Count  Dtype         \n",
      "---  ------         --------------  -----         \n",
      " 0   venda          25992 non-null  int64         \n",
      " 1   data           25992 non-null  datetime64[ns]\n",
      " 2   cliente        25992 non-null  object        \n",
      " 3   mesa           25992 non-null  object        \n",
      " 4   produto        25992 non-null  object        \n",
      " 5   quantidade     25992 non-null  int64         \n",
      " 6   valor_unit     25992 non-null  float64       \n",
      " 7   desconto       25992 non-null  float64       \n",
      " 8   total_item     25992 non-null  float64       \n",
      " 9   hora           25992 non-null  int64         \n",
      " 10  minuto         25992 non-null  int64         \n",
      " 11  hora_do_dia    25992 non-null  object        \n",
      " 12  dia_da_semana  25992 non-null  object        \n",
      " 13  tipo_de_dia    25992 non-null  object        \n",
      " 14  item_count     25992 non-null  int64         \n",
      "dtypes: datetime64[ns](1), float64(3), int64(5), object(6)\n",
      "memory usage: 3.2+ MB\n"
     ]
    }
   ],
   "source": [
    "transactions.info()\n"
   ]
  },
  {
   "attachments": {},
   "cell_type": "markdown",
   "metadata": {},
   "source": [
    "> # **Exploração dos Dados**"
   ]
  },
  {
   "cell_type": "code",
   "execution_count": 46,
   "metadata": {},
   "outputs": [
    {
     "data": {
      "text/plain": [
       "CROISSANT                         2393\n",
       "PASTEL DE NATA 60G                1339\n",
       "CROISSANT  AMENDOAS 100G           742\n",
       "FOLHADO MACA 80G                   719\n",
       "SANDUICHE DE PEPERONI BRIE         596\n",
       "COOKIES 80G                        559\n",
       "CROISSANT IFOOD                    534\n",
       "SOURDOUGH AZEITONA E ALECRIM       517\n",
       "FOLHADO FRANGO 160G                500\n",
       "BOMBOLONI DOCE DE LEITE 80G        487\n",
       "FOCACCIA FORMAGGIO 246G            460\n",
       "AGUA MINERAL S/GAS 500ML           446\n",
       "TORRADA FARINA 165G                435\n",
       "CAFE EQUILIBRADO CAPSULA P         431\n",
       "SOURDOUGH 369G                     431\n",
       "LARANJA 400 ML                     430\n",
       "MINI CROISSANT 25G KIT C 5         427\n",
       "CROISSANT BRIE PARMA MEL DE        423\n",
       "PIZZA AL TAGLIO GORGONZOLA E       421\n",
       "MINI PAIN AU CHOCOLAT 35G          419\n",
       "BOMBOLONI NUTELLA 80G              409\n",
       "CROISSANT  TRADICIONAL 80 G        396\n",
       "QUICHE DE FRANGO ALHO PORO         360\n",
       "AGUA MINERAL SEM GAS 500 ML        341\n",
       "COCA COLA LATA 350 ML              337\n",
       "SUCO DE LARANJA 400ML              320\n",
       "BOWL DE IOGURTE FRUTAS AVEIA       320\n",
       "SOURDOUGH SEMI INTEGRAL 370G       312\n",
       "CROISSANT MUSSATRELA DE            309\n",
       "MACA GENGIBRE ESPINAFRE LIMAO      304\n",
       "SELECAO DE PAES GELEIA             293\n",
       "FOLHADO MISTO COM TAMARA           283\n",
       "PAO SOURDOUGH OVOS                 275\n",
       "SOURDOUGH GERGELIM 370G            258\n",
       "COUVE LIMAO ABACAXI HORTELA        256\n",
       "PIZZA AL TAGLIO PEPPERONI 210G     253\n",
       "CAFE CATUAI VERMELHO G 200ML       253\n",
       "CAFE EQUILIBRADO CAPSULA G         250\n",
       "TARTELETE DE MORANGO 120G          241\n",
       "QUICHE DE TOMATE SECO SALADA       237\n",
       "COCA COLA ZERO LATA 350 ML         234\n",
       "CAFE INTENSO CAPSULA P 50ML        233\n",
       "SANDUICHE DE VEGETAIS HOMMUS       231\n",
       "AGUA MINERAL C/GAS 500ML           218\n",
       "MINI CROISSANT PAIN DE CHOC        209\n",
       "CROISSANT OVOS BACON MEL           186\n",
       "CAFE INTENSO CAPSULA G 150ML       181\n",
       "MINI CROISSANT 25G                 174\n",
       "COUVE ABACAXI AGUA DE COCO         163\n",
       "QUICHE DE BACON SALADA VERDE       159\n",
       "TOSTADA SICILIANA 195G             154\n",
       "CAFE CATUAI VERMELHO C/LEITE G     154\n",
       "SANDUICHE MISTO MOSTARDA NO        154\n",
       "AGUA MINERAL COM GAS 500 ML        152\n",
       "CAFE COLMEIA G 200ML               152\n",
       "CROISSANT DA LARA                  143\n",
       "PALMIER FOLHADO FRANCES            141\n",
       "CIABATTA 123G                      137\n",
       "CAFE ORGANICO CAPSULA P 50ML       136\n",
       "HEINEKEN 330ML                     129\n",
       "VH CAMINO DE CHILE CABERNET        123\n",
       "CROISANT DE CROISSANT QUEIJO       117\n",
       "ADICIONAL DE MUSSARELA             115\n",
       "ABACAXI CURCUMA GENGIBRE           109\n",
       "PASTEL DE NATA 60G IFOOD           108\n",
       "SOURDOUGH 369G IFOOD               106\n",
       "PAO DE QUEIJO                      105\n",
       "CENOURA GENGIBRE LIMAO 400ML       104\n",
       "CENOURA MACA 400ML                  93\n",
       "CAFE ORGANICO CAPSULA G 150ML       92\n",
       "CAFE COLMEIA C/ LEITE G 200ML       89\n",
       "CAFE CATUAI VERMELHO P 70ML         83\n",
       "SACHE MANTEIGA 10G                  82\n",
       "PASTEL DE NATA NUTELLA              81\n",
       "ADICIONAL DE PRESUNTO               78\n",
       "ADICIONAL DE OVO                    76\n",
       "PAO ITALIANO                        72\n",
       "OVOS COM BACON E BRIE               66\n",
       "OVOS COM BACON E TOMATE             66\n",
       "COOKIES 80G IFOOD                   65\n",
       "QUICHE BACON 90G                    62\n",
       "FANTA LARANJA LATA 350 ML           58\n",
       "QUICHE FRANGO E ALHO PORO           58\n",
       "CROISSANT OVOS                      56\n",
       "KUAT GUARANA LATA 350 ML            54\n",
       "SPRITE LATA 350 ML                  49\n",
       "BOMBOLONI NUTELLA 80G IFOOD         48\n",
       "REFRIGERANTE H2O LIMONETO           45\n",
       "FOLHADO MACA 80G IFOOD              45\n",
       "CAFE COLMEIA P 70ML                 44\n",
       "ITALIANO 369G                       44\n",
       "PAO SOURDOUGH OVOS IFOOD            43\n",
       "ABACAXI PEPINO PIMENTA 400ML        42\n",
       "MINI CROISSANT 25G IFOOD            41\n",
       "PEPINO MANJERICAO HORTELA           36\n",
       "FANTA UVA LATA 350 ML               34\n",
       "BAGUETE 320G                        33\n",
       "FOLHADO FRANGO 160G IFOOD           33\n",
       "ADICIONAL DE BACON                  32\n",
       "PIZZA AL TAGLIO PEPPERONI C         31\n",
       "ABACAXI HORTELA 400 ML              30\n",
       "CAFE CATUAI VERMELHO C/LEITE P      28\n",
       "PEPITO UVA PASSA AO RUM             28\n",
       "ADICIONAL DE QUEIJO BRIE            27\n",
       "QUICHE TOMATE SECO E                25\n",
       "ADICIONAL DE LEITE                  24\n",
       "SACHE GELEIA SABORES 15G            24\n",
       "MINI GELEIA DE PIMENTA              24\n",
       "LARANJA 400ML IFOOD                 23\n",
       "TORRADA FARINA - IFOOD 165G         23\n",
       "REFRIGERANTE H2O LIMAO 500ML        22\n",
       "ADICIONAL DE PARMA                  22\n",
       "MINI GELEIA DE MANGA E              20\n",
       "CESTA 25X35 MADEIRA                 20\n",
       "MAGIC FOREST 250G GELADO            19\n",
       "VH CAMINO DE CHILE PINOT NOIR       19\n",
       "MINI GELEIA DE DAMASCO              18\n",
       "QUICHE DE FRANGO COM ALHO           18\n",
       "OVOS COM BACON E BRIE IFOOD         18\n",
       "ADICIONAL DE MUSSARELA DE           18\n",
       "VH VISTA CALMA MALBEC 750 ML        17\n",
       "CAFE COLMEIA C/ LEITE P 70ML        17\n",
       "COCA COLA LATA 350 ML IFOOD         17\n",
       "PALMIER FOLHADO FRANCES -           15\n",
       "MINI GELEIA DE CAJA                 14\n",
       "GREEN PINK 250G GELADO              14\n",
       "Vital Mango 250G                    14\n",
       "MINI GELEIA TROPICAL                13\n",
       "Magic Forest 250G                   13\n",
       "Green Pink 250G                     13\n",
       "TOSTADA SICILIANA IFOOD             12\n",
       "GELEIA DE CAJÁ                      12\n",
       "GELEIA DE DAMASCO                   12\n",
       "BAGUETE 320G - IFOOD                12\n",
       "MINI GELEIA DE MARACUJÁ E           12\n",
       "VH CAMINO DE CHILE CARMENERE        12\n",
       "VH LUCIENTE ROSADO 750ML            12\n",
       "MINI GELEIA DE UVA E CACHAÇA        12\n",
       "GELEIA DE GOIABA CASCAO             11\n",
       "ADICIONAL PEITO DE PERU             11\n",
       "QUICHE GONGORZOLA GOIABA            11\n",
       "MINI GELEIA DE UVA                  11\n",
       "VH MILANI PINOT GRIGIO VENETO       11\n",
       "MINI GELEIA DE ABACAXI COM          10\n",
       "MINI GELEIA DE PIMENTA E            10\n",
       "GELEIA TROPICAL                     10\n",
       "VITAL MANGO 250G GELADO             10\n",
       "VH BRADO BRANCO 750ML               10\n",
       "ANTEPASTO MEDITERRANEO              10\n",
       "VH OSADIA CHARDONNAY 750 ML         10\n",
       "BERINJELA & NOZES                   10\n",
       "GREGO - ACEPIPE DE AZEITONAS         9\n",
       "VH CAMINO DE CHILE SAUVIGN           9\n",
       "GELEIA DE TAMARAS & LIMAO            9\n",
       "GELEIA DE ABACAXI COM PIMENTA        9\n",
       "CHOCODATE                            9\n",
       "IGUARIA SICILIANA                    9\n",
       "MINI GELEIA DE PIMENTA PICANTE       8\n",
       "GELEIA DE PIMENTA PICANTE            8\n",
       "VH SANTA HORTENSIA SAUVIG            8\n",
       "ACEPIPE DE TOMATE SECO               8\n",
       "CHUTNEY DE FRUTAS SECAS              8\n",
       "QUICHE BACON 90G IFOOD               8\n",
       "GELEIA DE PIMENTA DEFUMADA           8\n",
       "CROISSANT  BLACK                     8\n",
       "VH OSADIA CABERNET SAUVIGNON         8\n",
       "VH CASAL MIRANDA VERDE               7\n",
       "VH MILANI NERO D AVOLA 750 ML        7\n",
       "CROISSANT DA LARA IFOOD              7\n",
       "GELEIA DE UVA E CACHAÇA              7\n",
       "GELEIA DE PIMENTA E PIMENTÃO         7\n",
       "ABACAXI 400 ML                       6\n",
       "GELEIA DE UVA                        6\n",
       "VH TOSO DON APARO RED BLEND          6\n",
       "GELEIA DE MANGA E MARACUJA           6\n",
       "VH LUCIENTE TEMPRANILLO 750ML        5\n",
       "VH LARONCHI VINI SANGIOVEVE          5\n",
       "ADICIONAL DE PARMESSAO               5\n",
       "ADICIONAL DE GORGONZOLA              5\n",
       "CAFE CATUAI VERMELHO PCT 250G        5\n",
       "VH ENCOSTA DO GUADIANA TINTO         5\n",
       "CROISSANT OVOS IFOOD                 4\n",
       "SANDUICHE DE CROISSANT QUEIJO        4\n",
       "CESTA MADEIRA PEQUENA                4\n",
       "BRIOCHE NANTERRE 262G                4\n",
       "GELEIA DE CEBOLA ROXA COM            4\n",
       "VH VERDE DOC CHANTEL 750 ML          4\n",
       "GELEIA DE UMBU CAJA                  4\n",
       "CAFE COLMEIA PCT 250G                4\n",
       "VH TORRE ORIA CRIANZA 750 ML         4\n",
       "VH ESP CORDELIER VARIETAL            3\n",
       "CASQUINHA DA TARTELETE               3\n",
       "VH VISTA CALMA TORRONTES 750         3\n",
       "MINI GELEIA DE CAJA E CACHACA        3\n",
       "GELEIA DE ABACAXI E GENGIBRE         3\n",
       "MINI GELEIA DE MANGABA               3\n",
       "GELEIA DE CEBOLA AGRIDOCE            2\n",
       "MINI MARACUJÁ E CACHAÇA              2\n",
       "GELEIA DE MARACUJÁ E CACHAÇA         2\n",
       "CENOURA MACA 400ML IFOOD             2\n",
       "PEPITO UVA PASSA AO RUM -            2\n",
       "ROMEU E JULIETA QUEIJO E DOCE        1\n",
       "SOURDOUGH QUILO                      1\n",
       "PASTILHA DE MENTA UNITARIO           1\n",
       "PAO DE QUEIJO IFOOD                  1\n",
       "TWIST                                1\n",
       "VH ESP CORDELIER VARIETALE           1\n",
       "GELEIA DE MANGABA                    1\n",
       "KUAT GUARANA LATA 350 ML IFOOD       1\n",
       "SPRITE LATA 350 ML IFOOD             1\n",
       "VH OSADIA MERLOT 750 ML              1\n",
       "MINI GELEIA DE ABACAXI E             1\n",
       "Name: produto, dtype: int64"
      ]
     },
     "execution_count": 46,
     "metadata": {},
     "output_type": "execute_result"
    }
   ],
   "source": [
    "# Find Unique Values of each item sold in the Column \"produto\"\n",
    "# https://www.statology.org/pandas-unique-values-in-column/\n",
    "transactions.produto.value_counts()"
   ]
  },
  {
   "cell_type": "code",
   "execution_count": 47,
   "metadata": {},
   "outputs": [
    {
     "data": {
      "text/plain": [
       "CROISSANT                         0.092067\n",
       "PASTEL DE NATA 60G                0.051516\n",
       "CROISSANT  AMENDOAS 100G          0.028547\n",
       "FOLHADO MACA 80G                  0.027662\n",
       "SANDUICHE DE PEPERONI BRIE        0.022930\n",
       "COOKIES 80G                       0.021507\n",
       "CROISSANT IFOOD                   0.020545\n",
       "SOURDOUGH AZEITONA E ALECRIM      0.019891\n",
       "FOLHADO FRANGO 160G               0.019237\n",
       "BOMBOLONI DOCE DE LEITE 80G       0.018737\n",
       "FOCACCIA FORMAGGIO 246G           0.017698\n",
       "AGUA MINERAL S/GAS 500ML          0.017159\n",
       "TORRADA FARINA 165G               0.016736\n",
       "CAFE EQUILIBRADO CAPSULA P        0.016582\n",
       "SOURDOUGH 369G                    0.016582\n",
       "LARANJA 400 ML                    0.016544\n",
       "MINI CROISSANT 25G KIT C 5        0.016428\n",
       "CROISSANT BRIE PARMA MEL DE       0.016274\n",
       "PIZZA AL TAGLIO GORGONZOLA E      0.016197\n",
       "MINI PAIN AU CHOCOLAT 35G         0.016120\n",
       "BOMBOLONI NUTELLA 80G             0.015736\n",
       "CROISSANT  TRADICIONAL 80 G       0.015235\n",
       "QUICHE DE FRANGO ALHO PORO        0.013850\n",
       "AGUA MINERAL SEM GAS 500 ML       0.013119\n",
       "COCA COLA LATA 350 ML             0.012966\n",
       "SUCO DE LARANJA 400ML             0.012311\n",
       "BOWL DE IOGURTE FRUTAS AVEIA      0.012311\n",
       "SOURDOUGH SEMI INTEGRAL 370G      0.012004\n",
       "CROISSANT MUSSATRELA DE           0.011888\n",
       "MACA GENGIBRE ESPINAFRE LIMAO     0.011696\n",
       "SELECAO DE PAES GELEIA            0.011273\n",
       "FOLHADO MISTO COM TAMARA          0.010888\n",
       "PAO SOURDOUGH OVOS                0.010580\n",
       "SOURDOUGH GERGELIM 370G           0.009926\n",
       "COUVE LIMAO ABACAXI HORTELA       0.009849\n",
       "PIZZA AL TAGLIO PEPPERONI 210G    0.009734\n",
       "CAFE CATUAI VERMELHO G 200ML      0.009734\n",
       "CAFE EQUILIBRADO CAPSULA G        0.009618\n",
       "TARTELETE DE MORANGO 120G         0.009272\n",
       "QUICHE DE TOMATE SECO SALADA      0.009118\n",
       "COCA COLA ZERO LATA 350 ML        0.009003\n",
       "CAFE INTENSO CAPSULA P 50ML       0.008964\n",
       "SANDUICHE DE VEGETAIS HOMMUS      0.008887\n",
       "AGUA MINERAL C/GAS 500ML          0.008387\n",
       "MINI CROISSANT PAIN DE CHOC       0.008041\n",
       "CROISSANT OVOS BACON MEL          0.007156\n",
       "CAFE INTENSO CAPSULA G 150ML      0.006964\n",
       "MINI CROISSANT 25G                0.006694\n",
       "COUVE ABACAXI AGUA DE COCO        0.006271\n",
       "QUICHE DE BACON SALADA VERDE      0.006117\n",
       "TOSTADA SICILIANA 195G            0.005925\n",
       "CAFE CATUAI VERMELHO C/LEITE G    0.005925\n",
       "SANDUICHE MISTO MOSTARDA NO       0.005925\n",
       "AGUA MINERAL COM GAS 500 ML       0.005848\n",
       "CAFE COLMEIA G 200ML              0.005848\n",
       "CROISSANT DA LARA                 0.005502\n",
       "PALMIER FOLHADO FRANCES           0.005425\n",
       "CIABATTA 123G                     0.005271\n",
       "CAFE ORGANICO CAPSULA P 50ML      0.005232\n",
       "HEINEKEN 330ML                    0.004963\n",
       "VH CAMINO DE CHILE CABERNET       0.004732\n",
       "CROISANT DE CROISSANT QUEIJO      0.004501\n",
       "ADICIONAL DE MUSSARELA            0.004424\n",
       "ABACAXI CURCUMA GENGIBRE          0.004194\n",
       "PASTEL DE NATA 60G IFOOD          0.004155\n",
       "SOURDOUGH 369G IFOOD              0.004078\n",
       "PAO DE QUEIJO                     0.004040\n",
       "CENOURA GENGIBRE LIMAO 400ML      0.004001\n",
       "CENOURA MACA 400ML                0.003578\n",
       "CAFE ORGANICO CAPSULA G 150ML     0.003540\n",
       "CAFE COLMEIA C/ LEITE G 200ML     0.003424\n",
       "CAFE CATUAI VERMELHO P 70ML       0.003193\n",
       "SACHE MANTEIGA 10G                0.003155\n",
       "PASTEL DE NATA NUTELLA            0.003116\n",
       "ADICIONAL DE PRESUNTO             0.003001\n",
       "ADICIONAL DE OVO                  0.002924\n",
       "PAO ITALIANO                      0.002770\n",
       "OVOS COM BACON E BRIE             0.002539\n",
       "OVOS COM BACON E TOMATE           0.002539\n",
       "COOKIES 80G IFOOD                 0.002501\n",
       "QUICHE BACON 90G                  0.002385\n",
       "FANTA LARANJA LATA 350 ML         0.002231\n",
       "QUICHE FRANGO E ALHO PORO         0.002231\n",
       "CROISSANT OVOS                    0.002155\n",
       "KUAT GUARANA LATA 350 ML          0.002078\n",
       "SPRITE LATA 350 ML                0.001885\n",
       "BOMBOLONI NUTELLA 80G IFOOD       0.001847\n",
       "REFRIGERANTE H2O LIMONETO         0.001731\n",
       "FOLHADO MACA 80G IFOOD            0.001731\n",
       "CAFE COLMEIA P 70ML               0.001693\n",
       "ITALIANO 369G                     0.001693\n",
       "PAO SOURDOUGH OVOS IFOOD          0.001654\n",
       "ABACAXI PEPINO PIMENTA 400ML      0.001616\n",
       "MINI CROISSANT 25G IFOOD          0.001577\n",
       "PEPINO MANJERICAO HORTELA         0.001385\n",
       "FANTA UVA LATA 350 ML             0.001308\n",
       "BAGUETE 320G                      0.001270\n",
       "FOLHADO FRANGO 160G IFOOD         0.001270\n",
       "ADICIONAL DE BACON                0.001231\n",
       "PIZZA AL TAGLIO PEPPERONI C       0.001193\n",
       "ABACAXI HORTELA 400 ML            0.001154\n",
       "CAFE CATUAI VERMELHO C/LEITE P    0.001077\n",
       "PEPITO UVA PASSA AO RUM           0.001077\n",
       "ADICIONAL DE QUEIJO BRIE          0.001039\n",
       "QUICHE TOMATE SECO E              0.000962\n",
       "ADICIONAL DE LEITE                0.000923\n",
       "SACHE GELEIA SABORES 15G          0.000923\n",
       "MINI GELEIA DE PIMENTA            0.000923\n",
       "LARANJA 400ML IFOOD               0.000885\n",
       "TORRADA FARINA - IFOOD 165G       0.000885\n",
       "REFRIGERANTE H2O LIMAO 500ML      0.000846\n",
       "ADICIONAL DE PARMA                0.000846\n",
       "MINI GELEIA DE MANGA E            0.000769\n",
       "CESTA 25X35 MADEIRA               0.000769\n",
       "MAGIC FOREST 250G GELADO          0.000731\n",
       "VH CAMINO DE CHILE PINOT NOIR     0.000731\n",
       "MINI GELEIA DE DAMASCO            0.000693\n",
       "QUICHE DE FRANGO COM ALHO         0.000693\n",
       "OVOS COM BACON E BRIE IFOOD       0.000693\n",
       "ADICIONAL DE MUSSARELA DE         0.000693\n",
       "VH VISTA CALMA MALBEC 750 ML      0.000654\n",
       "CAFE COLMEIA C/ LEITE P 70ML      0.000654\n",
       "COCA COLA LATA 350 ML IFOOD       0.000654\n",
       "PALMIER FOLHADO FRANCES -         0.000577\n",
       "MINI GELEIA DE CAJA               0.000539\n",
       "GREEN PINK 250G GELADO            0.000539\n",
       "Vital Mango 250G                  0.000539\n",
       "MINI GELEIA TROPICAL              0.000500\n",
       "Magic Forest 250G                 0.000500\n",
       "Green Pink 250G                   0.000500\n",
       "TOSTADA SICILIANA IFOOD           0.000462\n",
       "GELEIA DE CAJÁ                    0.000462\n",
       "GELEIA DE DAMASCO                 0.000462\n",
       "BAGUETE 320G - IFOOD              0.000462\n",
       "MINI GELEIA DE MARACUJÁ E         0.000462\n",
       "VH CAMINO DE CHILE CARMENERE      0.000462\n",
       "VH LUCIENTE ROSADO 750ML          0.000462\n",
       "MINI GELEIA DE UVA E CACHAÇA      0.000462\n",
       "GELEIA DE GOIABA CASCAO           0.000423\n",
       "ADICIONAL PEITO DE PERU           0.000423\n",
       "QUICHE GONGORZOLA GOIABA          0.000423\n",
       "MINI GELEIA DE UVA                0.000423\n",
       "VH MILANI PINOT GRIGIO VENETO     0.000423\n",
       "MINI GELEIA DE ABACAXI COM        0.000385\n",
       "MINI GELEIA DE PIMENTA E          0.000385\n",
       "GELEIA TROPICAL                   0.000385\n",
       "VITAL MANGO 250G GELADO           0.000385\n",
       "VH BRADO BRANCO 750ML             0.000385\n",
       "ANTEPASTO MEDITERRANEO            0.000385\n",
       "VH OSADIA CHARDONNAY 750 ML       0.000385\n",
       "BERINJELA & NOZES                 0.000385\n",
       "GREGO - ACEPIPE DE AZEITONAS      0.000346\n",
       "VH CAMINO DE CHILE SAUVIGN        0.000346\n",
       "GELEIA DE TAMARAS & LIMAO         0.000346\n",
       "GELEIA DE ABACAXI COM PIMENTA     0.000346\n",
       "CHOCODATE                         0.000346\n",
       "IGUARIA SICILIANA                 0.000346\n",
       "MINI GELEIA DE PIMENTA PICANTE    0.000308\n",
       "GELEIA DE PIMENTA PICANTE         0.000308\n",
       "VH SANTA HORTENSIA SAUVIG         0.000308\n",
       "ACEPIPE DE TOMATE SECO            0.000308\n",
       "CHUTNEY DE FRUTAS SECAS           0.000308\n",
       "QUICHE BACON 90G IFOOD            0.000308\n",
       "GELEIA DE PIMENTA DEFUMADA        0.000308\n",
       "CROISSANT  BLACK                  0.000308\n",
       "VH OSADIA CABERNET SAUVIGNON      0.000308\n",
       "VH CASAL MIRANDA VERDE            0.000269\n",
       "VH MILANI NERO D AVOLA 750 ML     0.000269\n",
       "CROISSANT DA LARA IFOOD           0.000269\n",
       "GELEIA DE UVA E CACHAÇA           0.000269\n",
       "GELEIA DE PIMENTA E PIMENTÃO      0.000269\n",
       "ABACAXI 400 ML                    0.000231\n",
       "GELEIA DE UVA                     0.000231\n",
       "VH TOSO DON APARO RED BLEND       0.000231\n",
       "GELEIA DE MANGA E MARACUJA        0.000231\n",
       "VH LUCIENTE TEMPRANILLO 750ML     0.000192\n",
       "VH LARONCHI VINI SANGIOVEVE       0.000192\n",
       "ADICIONAL DE PARMESSAO            0.000192\n",
       "ADICIONAL DE GORGONZOLA           0.000192\n",
       "CAFE CATUAI VERMELHO PCT 250G     0.000192\n",
       "VH ENCOSTA DO GUADIANA TINTO      0.000192\n",
       "CROISSANT OVOS IFOOD              0.000154\n",
       "SANDUICHE DE CROISSANT QUEIJO     0.000154\n",
       "CESTA MADEIRA PEQUENA             0.000154\n",
       "BRIOCHE NANTERRE 262G             0.000154\n",
       "GELEIA DE CEBOLA ROXA COM         0.000154\n",
       "VH VERDE DOC CHANTEL 750 ML       0.000154\n",
       "GELEIA DE UMBU CAJA               0.000154\n",
       "CAFE COLMEIA PCT 250G             0.000154\n",
       "VH TORRE ORIA CRIANZA 750 ML      0.000154\n",
       "VH ESP CORDELIER VARIETAL         0.000115\n",
       "CASQUINHA DA TARTELETE            0.000115\n",
       "VH VISTA CALMA TORRONTES 750      0.000115\n",
       "MINI GELEIA DE CAJA E CACHACA     0.000115\n",
       "GELEIA DE ABACAXI E GENGIBRE      0.000115\n",
       "MINI GELEIA DE MANGABA            0.000115\n",
       "GELEIA DE CEBOLA AGRIDOCE         0.000077\n",
       "MINI MARACUJÁ E CACHAÇA           0.000077\n",
       "GELEIA DE MARACUJÁ E CACHAÇA      0.000077\n",
       "CENOURA MACA 400ML IFOOD          0.000077\n",
       "PEPITO UVA PASSA AO RUM -         0.000077\n",
       "ROMEU E JULIETA QUEIJO E DOCE     0.000038\n",
       "SOURDOUGH QUILO                   0.000038\n",
       "PASTILHA DE MENTA UNITARIO        0.000038\n",
       "PAO DE QUEIJO IFOOD               0.000038\n",
       "TWIST                             0.000038\n",
       "VH ESP CORDELIER VARIETALE        0.000038\n",
       "GELEIA DE MANGABA                 0.000038\n",
       "KUAT GUARANA LATA 350 ML IFOOD    0.000038\n",
       "SPRITE LATA 350 ML IFOOD          0.000038\n",
       "VH OSADIA MERLOT 750 ML           0.000038\n",
       "MINI GELEIA DE ABACAXI E          0.000038\n",
       "Name: produto, dtype: float64"
      ]
     },
     "execution_count": 47,
     "metadata": {},
     "output_type": "execute_result"
    }
   ],
   "source": [
    "# find the percentage each item is selling\n",
    "transactions.produto.value_counts(True)"
   ]
  },
  {
   "cell_type": "code",
   "execution_count": 48,
   "metadata": {},
   "outputs": [
    {
     "name": "stdout",
     "output_type": "stream",
     "text": [
      "O número de diferentes itens vendido pela loja é: 212\n"
     ]
    }
   ],
   "source": [
    "## Get unique names in the \"produto\" column using Series.unique() \n",
    "## https://sparkbyexamples.com/pandas/pandas-count-unique-values-in-column/\n",
    "num_itens_vend = transactions.produto.unique().size\n",
    "\n",
    "print('O número de diferentes itens vendido pela loja é:', num_itens_vend)"
   ]
  },
  {
   "cell_type": "code",
   "execution_count": 49,
   "metadata": {},
   "outputs": [
    {
     "name": "stdout",
     "output_type": "stream",
     "text": [
      "A média de itens por venda é: 2.79 itens\n"
     ]
    }
   ],
   "source": [
    "# Look at the average number of items purchased...\n",
    "\n",
    "avg_items = transactions.groupby(by='venda')['produto'].count().mean()\n",
    "\n",
    "print('A média de itens por venda é: %.2f itens' %avg_items)"
   ]
  },
  {
   "cell_type": "code",
   "execution_count": 50,
   "metadata": {},
   "outputs": [
    {
     "name": "stdout",
     "output_type": "stream",
     "text": [
      "O número médio de itens vendidos por hora do dia é: \n",
      "hora_do_dia\n",
      "manhã    3.046419\n",
      "noite    2.663510\n",
      "tarde    2.783376\n",
      "Name: item_count, dtype: float64\n"
     ]
    }
   ],
   "source": [
    "# ...and how that varies by time of day\n",
    "\n",
    "single_transaction = pd.DataFrame(transactions.groupby(by='venda')['item_count'].sum())\n",
    "\n",
    "single_transaction = single_transaction.merge(transactions[['hora','minuto','hora_do_dia','data', 'venda']]\\\n",
    "                                              .drop_duplicates('venda'), left_on=single_transaction.index, \n",
    "                                              right_on='venda', how='left', copy=False)\n",
    "\n",
    "print('O número médio de itens vendidos por hora do dia é: \\n{0}'.format(\n",
    "    single_transaction.groupby(by='hora_do_dia')['item_count'].mean()))"
   ]
  },
  {
   "cell_type": "code",
   "execution_count": 51,
   "metadata": {},
   "outputs": [],
   "source": [
    "# Find the frequency of each item purchased and by time of day\n",
    "\n",
    "item_frequencies_all = transactions.produto.value_counts()\n",
    "item_frequencies_morning = transactions[transactions.hora_do_dia == 'manhã'].produto.value_counts()\n",
    "item_frequencies_afternoon = transactions[transactions.hora_do_dia == 'tarde'].produto.value_counts()\n",
    "item_frequencies_evening = transactions[transactions.hora_do_dia == 'noite'].produto.value_counts()"
   ]
  },
  {
   "cell_type": "code",
   "execution_count": 62,
   "metadata": {},
   "outputs": [
    {
     "data": {
      "text/plain": [
       "'frequencies-bar.html'"
      ]
     },
     "execution_count": 62,
     "metadata": {},
     "output_type": "execute_result"
    }
   ],
   "source": [
    "# Plot the frequency of purchase for each item\n",
    "\n",
    "# https://community.plotly.com/t/errors-accessing-plotly-api/33271\n",
    "# ok, so I found a solution to my problem - when I let my program run through, the error message produced is:\n",
    "#chart_studio.exceptions.PlotlyRequestError: Authentication credentials were not provided.\n",
    "#I Googled this error and there were suggestions to run plotly in offline mode by replacing:\n",
    "#import chart_studio.plotly as py\n",
    "#with\n",
    "\n",
    "import plotly.offline as py\n",
    "#then use py.plot instead of py.iplot\n",
    "\n",
    "# Solving the problem of the 'plotly' online library with chart_studio\n",
    "# https://plotly.com/python/getting-started-with-chart-studio/\n",
    "import plotly.graph_objs as go\n",
    "#import chart_studio.plotly as py\n",
    "# import plotly.express as px\n",
    "\n",
    "button_layer_1_height = 1.12\n",
    "button_layer_2_height = 1.065\n",
    "\n",
    "item_threshold_all = 100\n",
    "item_threshold_other = 50\n",
    "\n",
    "trace_all = go.Bar(\n",
    "            x=item_frequencies_all[item_frequencies_all > item_threshold_all].index,\n",
    "            y=item_frequencies_all[item_frequencies_all > item_threshold_all].values,\n",
    "            visible=True,\n",
    "            name='Todo dia'\n",
    "    )\n",
    "\n",
    "trace_morning = go.Bar(\n",
    "            x=item_frequencies_morning[item_frequencies_morning > item_threshold_other].index,\n",
    "            y=item_frequencies_morning[item_frequencies_morning > item_threshold_other].values,\n",
    "            visible=False,\n",
    "            name='Manhã'\n",
    "    )\n",
    "\n",
    "trace_afternoon = go.Bar(\n",
    "            x=item_frequencies_afternoon[item_frequencies_afternoon > item_threshold_other].index,\n",
    "            y=item_frequencies_afternoon[item_frequencies_afternoon > item_threshold_other].values,\n",
    "            visible=False,\n",
    "            name='Tarde'\n",
    "    )\n",
    "\n",
    "trace_evening = go.Bar(\n",
    "            x=item_frequencies_evening[item_frequencies_evening > 10].index,\n",
    "            y=item_frequencies_evening[item_frequencies_evening > 10].values,\n",
    "            visible=False,\n",
    "            name='Noite'\n",
    "    )\n",
    "\n",
    "data = [trace_all, trace_morning, trace_afternoon, trace_evening]\n",
    "\n",
    "updatemenus = list([\n",
    "    \n",
    "    dict(\n",
    "         buttons=list([   \n",
    "            dict(label = 'Todo dia',\n",
    "                 method = 'update',\n",
    "                 args = [{'visible': [True, False, False, False]},\n",
    "                         {'title': 'Todo Dia'}]),\n",
    "             \n",
    "            dict(label = 'Manhã',\n",
    "                 method = 'update',\n",
    "                 args = [{'visible': [False, True, False, False]},\n",
    "                         {'title': 'Manhã'}]),\n",
    "             \n",
    "            dict(label = 'Tarde',\n",
    "                 method = 'update',\n",
    "                 args = [{'visible': [False, False, True, False]},\n",
    "                         {'title': 'Tarde'}]),\n",
    "             \n",
    "            dict(label = 'Noite',\n",
    "                 method = 'update',\n",
    "                 args = [{'visible': [False, False, False, True]},\n",
    "                         {'title': 'Noite'}])\n",
    "        ]),\n",
    "        type='buttons',\n",
    "        direction = 'right',\n",
    "        pad = {'r': 10, 't': 10},\n",
    "        showactive = True,\n",
    "        x = 0.3,\n",
    "        xanchor = 'left',\n",
    "        y = button_layer_1_height,\n",
    "        yanchor = 'top' )\n",
    "])\n",
    "                \n",
    "layout = dict(title='Vendas Farina por hora do dia', showlegend=False,\n",
    "              updatemenus=updatemenus)\n",
    "\n",
    "\n",
    "\n",
    "\n",
    "fig = dict(data=data, layout=layout)\n",
    "py.plot(fig, filename='frequencies-bar.html')"
   ]
  },
  {
   "attachments": {},
   "cell_type": "markdown",
   "metadata": {},
   "source": [
    "# Creating an animated frequencie line "
   ]
  },
  {
   "cell_type": "code",
   "execution_count": 53,
   "metadata": {},
   "outputs": [],
   "source": [
    "# Sales trend by date\n",
    "# https://www.youtube.com/watch?v=Xjm7fOw6gjY\n",
    "# use reset index for transforming the data in a variable not a index\n",
    "\n",
    "grouped_by_date = pd.DataFrame(transactions.groupby(by='data')['item_count'].sum().reset_index())"
   ]
  },
  {
   "cell_type": "code",
   "execution_count": null,
   "metadata": {
    "vscode": {
     "languageId": "html"
    }
   },
   "outputs": [],
   "source": [
    "grouped_by_mes =(transactions.groupby(transactions.data.dt.month))['item_count'].sum().reset_index()\n",
    "grouped_by_mes"
   ]
  },
  {
   "cell_type": "code",
   "execution_count": null,
   "metadata": {
    "vscode": {
     "languageId": "html"
    }
   },
   "outputs": [],
   "source": [
    "px.scatter(grouped_by_mes, x = 'data', y = 'item_count', animation_frame= 'data', range_x=[2,10],\n",
    " range_y= [1000, 5000], log_y=False, size = 'item_count', labels= {'item_count' : 'Quantidade de itens vendidos','data': 'Mês'})"
   ]
  },
  {
   "cell_type": "code",
   "execution_count": 57,
   "metadata": {},
   "outputs": [
    {
     "data": {
      "application/vnd.plotly.v1+json": {
       "config": {
        "linkText": "Export to plotly.com",
        "plotlyServerURL": "https://plotly.com",
        "showLink": false
       },
       "data": [
        {
         "colorscale": [
          [
           0,
           "#00083e"
          ],
          [
           0.5,
           "#ededee"
          ],
          [
           1,
           "#ffffff"
          ]
         ],
         "hoverinfo": "none",
         "opacity": 0.75,
         "showscale": false,
         "type": "heatmap",
         "z": [
          [
           0,
           0
          ],
          [
           0.5,
           0.5
          ],
          [
           1,
           1
          ],
          [
           0.5,
           0.5
          ],
          [
           1,
           1
          ],
          [
           0.5,
           0.5
          ],
          [
           1,
           1
          ],
          [
           0.5,
           0.5
          ],
          [
           1,
           1
          ],
          [
           0.5,
           0.5
          ],
          [
           1,
           1
          ],
          [
           0.5,
           0.5
          ],
          [
           1,
           1
          ],
          [
           0.5,
           0.5
          ],
          [
           1,
           1
          ],
          [
           0.5,
           0.5
          ],
          [
           1,
           1
          ],
          [
           0.5,
           0.5
          ],
          [
           1,
           1
          ],
          [
           0.5,
           0.5
          ],
          [
           1,
           1
          ],
          [
           0.5,
           0.5
          ],
          [
           1,
           1
          ],
          [
           0.5,
           0.5
          ],
          [
           1,
           1
          ],
          [
           0.5,
           0.5
          ],
          [
           1,
           1
          ],
          [
           0.5,
           0.5
          ],
          [
           1,
           1
          ],
          [
           0.5,
           0.5
          ],
          [
           1,
           1
          ],
          [
           0.5,
           0.5
          ],
          [
           1,
           1
          ],
          [
           0.5,
           0.5
          ],
          [
           1,
           1
          ],
          [
           0.5,
           0.5
          ],
          [
           1,
           1
          ],
          [
           0.5,
           0.5
          ],
          [
           1,
           1
          ],
          [
           0.5,
           0.5
          ],
          [
           1,
           1
          ],
          [
           0.5,
           0.5
          ],
          [
           1,
           1
          ],
          [
           0.5,
           0.5
          ],
          [
           1,
           1
          ],
          [
           0.5,
           0.5
          ],
          [
           1,
           1
          ],
          [
           0.5,
           0.5
          ],
          [
           1,
           1
          ],
          [
           0.5,
           0.5
          ],
          [
           1,
           1
          ],
          [
           0.5,
           0.5
          ],
          [
           1,
           1
          ],
          [
           0.5,
           0.5
          ],
          [
           1,
           1
          ],
          [
           0.5,
           0.5
          ],
          [
           1,
           1
          ],
          [
           0.5,
           0.5
          ],
          [
           1,
           1
          ],
          [
           0.5,
           0.5
          ],
          [
           1,
           1
          ],
          [
           0.5,
           0.5
          ],
          [
           1,
           1
          ],
          [
           0.5,
           0.5
          ],
          [
           1,
           1
          ],
          [
           0.5,
           0.5
          ],
          [
           1,
           1
          ],
          [
           0.5,
           0.5
          ],
          [
           1,
           1
          ],
          [
           0.5,
           0.5
          ],
          [
           1,
           1
          ],
          [
           0.5,
           0.5
          ],
          [
           1,
           1
          ],
          [
           0.5,
           0.5
          ],
          [
           1,
           1
          ],
          [
           0.5,
           0.5
          ],
          [
           1,
           1
          ],
          [
           0.5,
           0.5
          ],
          [
           1,
           1
          ],
          [
           0.5,
           0.5
          ],
          [
           1,
           1
          ],
          [
           0.5,
           0.5
          ],
          [
           1,
           1
          ],
          [
           0.5,
           0.5
          ],
          [
           1,
           1
          ],
          [
           0.5,
           0.5
          ],
          [
           1,
           1
          ],
          [
           0.5,
           0.5
          ],
          [
           1,
           1
          ],
          [
           0.5,
           0.5
          ],
          [
           1,
           1
          ],
          [
           0.5,
           0.5
          ],
          [
           1,
           1
          ],
          [
           0.5,
           0.5
          ],
          [
           1,
           1
          ],
          [
           0.5,
           0.5
          ],
          [
           1,
           1
          ],
          [
           0.5,
           0.5
          ],
          [
           1,
           1
          ],
          [
           0.5,
           0.5
          ],
          [
           1,
           1
          ],
          [
           0.5,
           0.5
          ],
          [
           1,
           1
          ],
          [
           0.5,
           0.5
          ],
          [
           1,
           1
          ],
          [
           0.5,
           0.5
          ],
          [
           1,
           1
          ],
          [
           0.5,
           0.5
          ],
          [
           1,
           1
          ],
          [
           0.5,
           0.5
          ],
          [
           1,
           1
          ],
          [
           0.5,
           0.5
          ],
          [
           1,
           1
          ],
          [
           0.5,
           0.5
          ],
          [
           1,
           1
          ],
          [
           0.5,
           0.5
          ],
          [
           1,
           1
          ],
          [
           0.5,
           0.5
          ],
          [
           1,
           1
          ],
          [
           0.5,
           0.5
          ],
          [
           1,
           1
          ],
          [
           0.5,
           0.5
          ],
          [
           1,
           1
          ],
          [
           0.5,
           0.5
          ],
          [
           1,
           1
          ],
          [
           0.5,
           0.5
          ],
          [
           1,
           1
          ],
          [
           0.5,
           0.5
          ],
          [
           1,
           1
          ],
          [
           0.5,
           0.5
          ],
          [
           1,
           1
          ],
          [
           0.5,
           0.5
          ],
          [
           1,
           1
          ],
          [
           0.5,
           0.5
          ],
          [
           1,
           1
          ],
          [
           0.5,
           0.5
          ],
          [
           1,
           1
          ],
          [
           0.5,
           0.5
          ],
          [
           1,
           1
          ],
          [
           0.5,
           0.5
          ],
          [
           1,
           1
          ],
          [
           0.5,
           0.5
          ],
          [
           1,
           1
          ],
          [
           0.5,
           0.5
          ],
          [
           1,
           1
          ],
          [
           0.5,
           0.5
          ],
          [
           1,
           1
          ],
          [
           0.5,
           0.5
          ],
          [
           1,
           1
          ],
          [
           0.5,
           0.5
          ],
          [
           1,
           1
          ],
          [
           0.5,
           0.5
          ],
          [
           1,
           1
          ],
          [
           0.5,
           0.5
          ],
          [
           1,
           1
          ],
          [
           0.5,
           0.5
          ],
          [
           1,
           1
          ],
          [
           0.5,
           0.5
          ],
          [
           1,
           1
          ],
          [
           0.5,
           0.5
          ],
          [
           1,
           1
          ],
          [
           0.5,
           0.5
          ],
          [
           1,
           1
          ],
          [
           0.5,
           0.5
          ],
          [
           1,
           1
          ],
          [
           0.5,
           0.5
          ],
          [
           1,
           1
          ],
          [
           0.5,
           0.5
          ],
          [
           1,
           1
          ],
          [
           0.5,
           0.5
          ],
          [
           1,
           1
          ],
          [
           0.5,
           0.5
          ],
          [
           1,
           1
          ],
          [
           0.5,
           0.5
          ],
          [
           1,
           1
          ],
          [
           0.5,
           0.5
          ],
          [
           1,
           1
          ],
          [
           0.5,
           0.5
          ],
          [
           1,
           1
          ],
          [
           0.5,
           0.5
          ],
          [
           1,
           1
          ],
          [
           0.5,
           0.5
          ],
          [
           1,
           1
          ],
          [
           0.5,
           0.5
          ],
          [
           1,
           1
          ],
          [
           0.5,
           0.5
          ],
          [
           1,
           1
          ],
          [
           0.5,
           0.5
          ],
          [
           1,
           1
          ],
          [
           0.5,
           0.5
          ],
          [
           1,
           1
          ],
          [
           0.5,
           0.5
          ],
          [
           1,
           1
          ],
          [
           0.5,
           0.5
          ],
          [
           1,
           1
          ],
          [
           0.5,
           0.5
          ],
          [
           1,
           1
          ],
          [
           0.5,
           0.5
          ],
          [
           1,
           1
          ],
          [
           0.5,
           0.5
          ],
          [
           1,
           1
          ],
          [
           0.5,
           0.5
          ],
          [
           1,
           1
          ],
          [
           0.5,
           0.5
          ],
          [
           1,
           1
          ],
          [
           0.5,
           0.5
          ],
          [
           1,
           1
          ],
          [
           0.5,
           0.5
          ],
          [
           1,
           1
          ],
          [
           0.5,
           0.5
          ],
          [
           1,
           1
          ],
          [
           0.5,
           0.5
          ],
          [
           1,
           1
          ],
          [
           0.5,
           0.5
          ],
          [
           1,
           1
          ],
          [
           0.5,
           0.5
          ],
          [
           1,
           1
          ],
          [
           0.5,
           0.5
          ],
          [
           1,
           1
          ],
          [
           0.5,
           0.5
          ],
          [
           1,
           1
          ],
          [
           0.5,
           0.5
          ],
          [
           1,
           1
          ],
          [
           0.5,
           0.5
          ],
          [
           1,
           1
          ],
          [
           0.5,
           0.5
          ],
          [
           1,
           1
          ],
          [
           0.5,
           0.5
          ],
          [
           1,
           1
          ],
          [
           0.5,
           0.5
          ],
          [
           1,
           1
          ],
          [
           0.5,
           0.5
          ],
          [
           1,
           1
          ],
          [
           0.5,
           0.5
          ],
          [
           1,
           1
          ],
          [
           0.5,
           0.5
          ],
          [
           1,
           1
          ],
          [
           0.5,
           0.5
          ],
          [
           1,
           1
          ],
          [
           0.5,
           0.5
          ],
          [
           1,
           1
          ],
          [
           0.5,
           0.5
          ],
          [
           1,
           1
          ],
          [
           0.5,
           0.5
          ],
          [
           1,
           1
          ],
          [
           0.5,
           0.5
          ],
          [
           1,
           1
          ],
          [
           0.5,
           0.5
          ],
          [
           1,
           1
          ],
          [
           0.5,
           0.5
          ],
          [
           1,
           1
          ],
          [
           0.5,
           0.5
          ],
          [
           1,
           1
          ],
          [
           0.5,
           0.5
          ]
         ]
        }
       ],
       "layout": {
        "annotations": [
         {
          "align": "left",
          "font": {
           "color": "#ffffff"
          },
          "showarrow": false,
          "text": "<b>data</b>",
          "x": -0.45,
          "xanchor": "left",
          "xref": "x",
          "y": 0,
          "yref": "y"
         },
         {
          "align": "left",
          "font": {
           "color": "#ffffff"
          },
          "showarrow": false,
          "text": "<b>item_count</b>",
          "x": 0.55,
          "xanchor": "left",
          "xref": "x",
          "y": 0,
          "yref": "y"
         },
         {
          "align": "left",
          "font": {
           "color": "#000000"
          },
          "showarrow": false,
          "text": "2022-02-01 00:00:00",
          "x": -0.45,
          "xanchor": "left",
          "xref": "x",
          "y": 1,
          "yref": "y"
         },
         {
          "align": "left",
          "font": {
           "color": "#000000"
          },
          "showarrow": false,
          "text": "74",
          "x": 0.55,
          "xanchor": "left",
          "xref": "x",
          "y": 1,
          "yref": "y"
         },
         {
          "align": "left",
          "font": {
           "color": "#000000"
          },
          "showarrow": false,
          "text": "2022-02-02 00:00:00",
          "x": -0.45,
          "xanchor": "left",
          "xref": "x",
          "y": 2,
          "yref": "y"
         },
         {
          "align": "left",
          "font": {
           "color": "#000000"
          },
          "showarrow": false,
          "text": "88",
          "x": 0.55,
          "xanchor": "left",
          "xref": "x",
          "y": 2,
          "yref": "y"
         },
         {
          "align": "left",
          "font": {
           "color": "#000000"
          },
          "showarrow": false,
          "text": "2022-02-03 00:00:00",
          "x": -0.45,
          "xanchor": "left",
          "xref": "x",
          "y": 3,
          "yref": "y"
         },
         {
          "align": "left",
          "font": {
           "color": "#000000"
          },
          "showarrow": false,
          "text": "81",
          "x": 0.55,
          "xanchor": "left",
          "xref": "x",
          "y": 3,
          "yref": "y"
         },
         {
          "align": "left",
          "font": {
           "color": "#000000"
          },
          "showarrow": false,
          "text": "2022-02-04 00:00:00",
          "x": -0.45,
          "xanchor": "left",
          "xref": "x",
          "y": 4,
          "yref": "y"
         },
         {
          "align": "left",
          "font": {
           "color": "#000000"
          },
          "showarrow": false,
          "text": "110",
          "x": 0.55,
          "xanchor": "left",
          "xref": "x",
          "y": 4,
          "yref": "y"
         },
         {
          "align": "left",
          "font": {
           "color": "#000000"
          },
          "showarrow": false,
          "text": "2022-02-05 00:00:00",
          "x": -0.45,
          "xanchor": "left",
          "xref": "x",
          "y": 5,
          "yref": "y"
         },
         {
          "align": "left",
          "font": {
           "color": "#000000"
          },
          "showarrow": false,
          "text": "112",
          "x": 0.55,
          "xanchor": "left",
          "xref": "x",
          "y": 5,
          "yref": "y"
         },
         {
          "align": "left",
          "font": {
           "color": "#000000"
          },
          "showarrow": false,
          "text": "2022-02-06 00:00:00",
          "x": -0.45,
          "xanchor": "left",
          "xref": "x",
          "y": 6,
          "yref": "y"
         },
         {
          "align": "left",
          "font": {
           "color": "#000000"
          },
          "showarrow": false,
          "text": "121",
          "x": 0.55,
          "xanchor": "left",
          "xref": "x",
          "y": 6,
          "yref": "y"
         },
         {
          "align": "left",
          "font": {
           "color": "#000000"
          },
          "showarrow": false,
          "text": "2022-02-07 00:00:00",
          "x": -0.45,
          "xanchor": "left",
          "xref": "x",
          "y": 7,
          "yref": "y"
         },
         {
          "align": "left",
          "font": {
           "color": "#000000"
          },
          "showarrow": false,
          "text": "61",
          "x": 0.55,
          "xanchor": "left",
          "xref": "x",
          "y": 7,
          "yref": "y"
         },
         {
          "align": "left",
          "font": {
           "color": "#000000"
          },
          "showarrow": false,
          "text": "2022-02-09 00:00:00",
          "x": -0.45,
          "xanchor": "left",
          "xref": "x",
          "y": 8,
          "yref": "y"
         },
         {
          "align": "left",
          "font": {
           "color": "#000000"
          },
          "showarrow": false,
          "text": "101",
          "x": 0.55,
          "xanchor": "left",
          "xref": "x",
          "y": 8,
          "yref": "y"
         },
         {
          "align": "left",
          "font": {
           "color": "#000000"
          },
          "showarrow": false,
          "text": "2022-02-10 00:00:00",
          "x": -0.45,
          "xanchor": "left",
          "xref": "x",
          "y": 9,
          "yref": "y"
         },
         {
          "align": "left",
          "font": {
           "color": "#000000"
          },
          "showarrow": false,
          "text": "88",
          "x": 0.55,
          "xanchor": "left",
          "xref": "x",
          "y": 9,
          "yref": "y"
         },
         {
          "align": "left",
          "font": {
           "color": "#000000"
          },
          "showarrow": false,
          "text": "2022-02-11 00:00:00",
          "x": -0.45,
          "xanchor": "left",
          "xref": "x",
          "y": 10,
          "yref": "y"
         },
         {
          "align": "left",
          "font": {
           "color": "#000000"
          },
          "showarrow": false,
          "text": "87",
          "x": 0.55,
          "xanchor": "left",
          "xref": "x",
          "y": 10,
          "yref": "y"
         },
         {
          "align": "left",
          "font": {
           "color": "#000000"
          },
          "showarrow": false,
          "text": "2022-02-12 00:00:00",
          "x": -0.45,
          "xanchor": "left",
          "xref": "x",
          "y": 11,
          "yref": "y"
         },
         {
          "align": "left",
          "font": {
           "color": "#000000"
          },
          "showarrow": false,
          "text": "108",
          "x": 0.55,
          "xanchor": "left",
          "xref": "x",
          "y": 11,
          "yref": "y"
         },
         {
          "align": "left",
          "font": {
           "color": "#000000"
          },
          "showarrow": false,
          "text": "2022-02-13 00:00:00",
          "x": -0.45,
          "xanchor": "left",
          "xref": "x",
          "y": 12,
          "yref": "y"
         },
         {
          "align": "left",
          "font": {
           "color": "#000000"
          },
          "showarrow": false,
          "text": "186",
          "x": 0.55,
          "xanchor": "left",
          "xref": "x",
          "y": 12,
          "yref": "y"
         },
         {
          "align": "left",
          "font": {
           "color": "#000000"
          },
          "showarrow": false,
          "text": "2022-02-14 00:00:00",
          "x": -0.45,
          "xanchor": "left",
          "xref": "x",
          "y": 13,
          "yref": "y"
         },
         {
          "align": "left",
          "font": {
           "color": "#000000"
          },
          "showarrow": false,
          "text": "77",
          "x": 0.55,
          "xanchor": "left",
          "xref": "x",
          "y": 13,
          "yref": "y"
         },
         {
          "align": "left",
          "font": {
           "color": "#000000"
          },
          "showarrow": false,
          "text": "2022-02-16 00:00:00",
          "x": -0.45,
          "xanchor": "left",
          "xref": "x",
          "y": 14,
          "yref": "y"
         },
         {
          "align": "left",
          "font": {
           "color": "#000000"
          },
          "showarrow": false,
          "text": "93",
          "x": 0.55,
          "xanchor": "left",
          "xref": "x",
          "y": 14,
          "yref": "y"
         },
         {
          "align": "left",
          "font": {
           "color": "#000000"
          },
          "showarrow": false,
          "text": "2022-02-17 00:00:00",
          "x": -0.45,
          "xanchor": "left",
          "xref": "x",
          "y": 15,
          "yref": "y"
         },
         {
          "align": "left",
          "font": {
           "color": "#000000"
          },
          "showarrow": false,
          "text": "68",
          "x": 0.55,
          "xanchor": "left",
          "xref": "x",
          "y": 15,
          "yref": "y"
         },
         {
          "align": "left",
          "font": {
           "color": "#000000"
          },
          "showarrow": false,
          "text": "2022-02-18 00:00:00",
          "x": -0.45,
          "xanchor": "left",
          "xref": "x",
          "y": 16,
          "yref": "y"
         },
         {
          "align": "left",
          "font": {
           "color": "#000000"
          },
          "showarrow": false,
          "text": "106",
          "x": 0.55,
          "xanchor": "left",
          "xref": "x",
          "y": 16,
          "yref": "y"
         },
         {
          "align": "left",
          "font": {
           "color": "#000000"
          },
          "showarrow": false,
          "text": "2022-02-19 00:00:00",
          "x": -0.45,
          "xanchor": "left",
          "xref": "x",
          "y": 17,
          "yref": "y"
         },
         {
          "align": "left",
          "font": {
           "color": "#000000"
          },
          "showarrow": false,
          "text": "107",
          "x": 0.55,
          "xanchor": "left",
          "xref": "x",
          "y": 17,
          "yref": "y"
         },
         {
          "align": "left",
          "font": {
           "color": "#000000"
          },
          "showarrow": false,
          "text": "2022-02-20 00:00:00",
          "x": -0.45,
          "xanchor": "left",
          "xref": "x",
          "y": 18,
          "yref": "y"
         },
         {
          "align": "left",
          "font": {
           "color": "#000000"
          },
          "showarrow": false,
          "text": "156",
          "x": 0.55,
          "xanchor": "left",
          "xref": "x",
          "y": 18,
          "yref": "y"
         },
         {
          "align": "left",
          "font": {
           "color": "#000000"
          },
          "showarrow": false,
          "text": "2022-02-21 00:00:00",
          "x": -0.45,
          "xanchor": "left",
          "xref": "x",
          "y": 19,
          "yref": "y"
         },
         {
          "align": "left",
          "font": {
           "color": "#000000"
          },
          "showarrow": false,
          "text": "75",
          "x": 0.55,
          "xanchor": "left",
          "xref": "x",
          "y": 19,
          "yref": "y"
         },
         {
          "align": "left",
          "font": {
           "color": "#000000"
          },
          "showarrow": false,
          "text": "2022-02-23 00:00:00",
          "x": -0.45,
          "xanchor": "left",
          "xref": "x",
          "y": 20,
          "yref": "y"
         },
         {
          "align": "left",
          "font": {
           "color": "#000000"
          },
          "showarrow": false,
          "text": "81",
          "x": 0.55,
          "xanchor": "left",
          "xref": "x",
          "y": 20,
          "yref": "y"
         },
         {
          "align": "left",
          "font": {
           "color": "#000000"
          },
          "showarrow": false,
          "text": "2022-02-24 00:00:00",
          "x": -0.45,
          "xanchor": "left",
          "xref": "x",
          "y": 21,
          "yref": "y"
         },
         {
          "align": "left",
          "font": {
           "color": "#000000"
          },
          "showarrow": false,
          "text": "60",
          "x": 0.55,
          "xanchor": "left",
          "xref": "x",
          "y": 21,
          "yref": "y"
         },
         {
          "align": "left",
          "font": {
           "color": "#000000"
          },
          "showarrow": false,
          "text": "2022-02-25 00:00:00",
          "x": -0.45,
          "xanchor": "left",
          "xref": "x",
          "y": 22,
          "yref": "y"
         },
         {
          "align": "left",
          "font": {
           "color": "#000000"
          },
          "showarrow": false,
          "text": "106",
          "x": 0.55,
          "xanchor": "left",
          "xref": "x",
          "y": 22,
          "yref": "y"
         },
         {
          "align": "left",
          "font": {
           "color": "#000000"
          },
          "showarrow": false,
          "text": "2022-02-26 00:00:00",
          "x": -0.45,
          "xanchor": "left",
          "xref": "x",
          "y": 23,
          "yref": "y"
         },
         {
          "align": "left",
          "font": {
           "color": "#000000"
          },
          "showarrow": false,
          "text": "96",
          "x": 0.55,
          "xanchor": "left",
          "xref": "x",
          "y": 23,
          "yref": "y"
         },
         {
          "align": "left",
          "font": {
           "color": "#000000"
          },
          "showarrow": false,
          "text": "2022-02-27 00:00:00",
          "x": -0.45,
          "xanchor": "left",
          "xref": "x",
          "y": 24,
          "yref": "y"
         },
         {
          "align": "left",
          "font": {
           "color": "#000000"
          },
          "showarrow": false,
          "text": "86",
          "x": 0.55,
          "xanchor": "left",
          "xref": "x",
          "y": 24,
          "yref": "y"
         },
         {
          "align": "left",
          "font": {
           "color": "#000000"
          },
          "showarrow": false,
          "text": "2022-02-28 00:00:00",
          "x": -0.45,
          "xanchor": "left",
          "xref": "x",
          "y": 25,
          "yref": "y"
         },
         {
          "align": "left",
          "font": {
           "color": "#000000"
          },
          "showarrow": false,
          "text": "91",
          "x": 0.55,
          "xanchor": "left",
          "xref": "x",
          "y": 25,
          "yref": "y"
         },
         {
          "align": "left",
          "font": {
           "color": "#000000"
          },
          "showarrow": false,
          "text": "2022-03-01 00:00:00",
          "x": -0.45,
          "xanchor": "left",
          "xref": "x",
          "y": 26,
          "yref": "y"
         },
         {
          "align": "left",
          "font": {
           "color": "#000000"
          },
          "showarrow": false,
          "text": "87",
          "x": 0.55,
          "xanchor": "left",
          "xref": "x",
          "y": 26,
          "yref": "y"
         },
         {
          "align": "left",
          "font": {
           "color": "#000000"
          },
          "showarrow": false,
          "text": "2022-03-02 00:00:00",
          "x": -0.45,
          "xanchor": "left",
          "xref": "x",
          "y": 27,
          "yref": "y"
         },
         {
          "align": "left",
          "font": {
           "color": "#000000"
          },
          "showarrow": false,
          "text": "92",
          "x": 0.55,
          "xanchor": "left",
          "xref": "x",
          "y": 27,
          "yref": "y"
         },
         {
          "align": "left",
          "font": {
           "color": "#000000"
          },
          "showarrow": false,
          "text": "2022-03-03 00:00:00",
          "x": -0.45,
          "xanchor": "left",
          "xref": "x",
          "y": 28,
          "yref": "y"
         },
         {
          "align": "left",
          "font": {
           "color": "#000000"
          },
          "showarrow": false,
          "text": "73",
          "x": 0.55,
          "xanchor": "left",
          "xref": "x",
          "y": 28,
          "yref": "y"
         },
         {
          "align": "left",
          "font": {
           "color": "#000000"
          },
          "showarrow": false,
          "text": "2022-03-04 00:00:00",
          "x": -0.45,
          "xanchor": "left",
          "xref": "x",
          "y": 29,
          "yref": "y"
         },
         {
          "align": "left",
          "font": {
           "color": "#000000"
          },
          "showarrow": false,
          "text": "60",
          "x": 0.55,
          "xanchor": "left",
          "xref": "x",
          "y": 29,
          "yref": "y"
         },
         {
          "align": "left",
          "font": {
           "color": "#000000"
          },
          "showarrow": false,
          "text": "2022-03-05 00:00:00",
          "x": -0.45,
          "xanchor": "left",
          "xref": "x",
          "y": 30,
          "yref": "y"
         },
         {
          "align": "left",
          "font": {
           "color": "#000000"
          },
          "showarrow": false,
          "text": "176",
          "x": 0.55,
          "xanchor": "left",
          "xref": "x",
          "y": 30,
          "yref": "y"
         },
         {
          "align": "left",
          "font": {
           "color": "#000000"
          },
          "showarrow": false,
          "text": "2022-03-06 00:00:00",
          "x": -0.45,
          "xanchor": "left",
          "xref": "x",
          "y": 31,
          "yref": "y"
         },
         {
          "align": "left",
          "font": {
           "color": "#000000"
          },
          "showarrow": false,
          "text": "126",
          "x": 0.55,
          "xanchor": "left",
          "xref": "x",
          "y": 31,
          "yref": "y"
         },
         {
          "align": "left",
          "font": {
           "color": "#000000"
          },
          "showarrow": false,
          "text": "2022-03-07 00:00:00",
          "x": -0.45,
          "xanchor": "left",
          "xref": "x",
          "y": 32,
          "yref": "y"
         },
         {
          "align": "left",
          "font": {
           "color": "#000000"
          },
          "showarrow": false,
          "text": "38",
          "x": 0.55,
          "xanchor": "left",
          "xref": "x",
          "y": 32,
          "yref": "y"
         },
         {
          "align": "left",
          "font": {
           "color": "#000000"
          },
          "showarrow": false,
          "text": "2022-03-08 00:00:00",
          "x": -0.45,
          "xanchor": "left",
          "xref": "x",
          "y": 33,
          "yref": "y"
         },
         {
          "align": "left",
          "font": {
           "color": "#000000"
          },
          "showarrow": false,
          "text": "77",
          "x": 0.55,
          "xanchor": "left",
          "xref": "x",
          "y": 33,
          "yref": "y"
         },
         {
          "align": "left",
          "font": {
           "color": "#000000"
          },
          "showarrow": false,
          "text": "2022-03-09 00:00:00",
          "x": -0.45,
          "xanchor": "left",
          "xref": "x",
          "y": 34,
          "yref": "y"
         },
         {
          "align": "left",
          "font": {
           "color": "#000000"
          },
          "showarrow": false,
          "text": "51",
          "x": 0.55,
          "xanchor": "left",
          "xref": "x",
          "y": 34,
          "yref": "y"
         },
         {
          "align": "left",
          "font": {
           "color": "#000000"
          },
          "showarrow": false,
          "text": "2022-03-10 00:00:00",
          "x": -0.45,
          "xanchor": "left",
          "xref": "x",
          "y": 35,
          "yref": "y"
         },
         {
          "align": "left",
          "font": {
           "color": "#000000"
          },
          "showarrow": false,
          "text": "73",
          "x": 0.55,
          "xanchor": "left",
          "xref": "x",
          "y": 35,
          "yref": "y"
         },
         {
          "align": "left",
          "font": {
           "color": "#000000"
          },
          "showarrow": false,
          "text": "2022-03-11 00:00:00",
          "x": -0.45,
          "xanchor": "left",
          "xref": "x",
          "y": 36,
          "yref": "y"
         },
         {
          "align": "left",
          "font": {
           "color": "#000000"
          },
          "showarrow": false,
          "text": "37",
          "x": 0.55,
          "xanchor": "left",
          "xref": "x",
          "y": 36,
          "yref": "y"
         },
         {
          "align": "left",
          "font": {
           "color": "#000000"
          },
          "showarrow": false,
          "text": "2022-03-12 00:00:00",
          "x": -0.45,
          "xanchor": "left",
          "xref": "x",
          "y": 37,
          "yref": "y"
         },
         {
          "align": "left",
          "font": {
           "color": "#000000"
          },
          "showarrow": false,
          "text": "135",
          "x": 0.55,
          "xanchor": "left",
          "xref": "x",
          "y": 37,
          "yref": "y"
         },
         {
          "align": "left",
          "font": {
           "color": "#000000"
          },
          "showarrow": false,
          "text": "2022-03-13 00:00:00",
          "x": -0.45,
          "xanchor": "left",
          "xref": "x",
          "y": 38,
          "yref": "y"
         },
         {
          "align": "left",
          "font": {
           "color": "#000000"
          },
          "showarrow": false,
          "text": "145",
          "x": 0.55,
          "xanchor": "left",
          "xref": "x",
          "y": 38,
          "yref": "y"
         },
         {
          "align": "left",
          "font": {
           "color": "#000000"
          },
          "showarrow": false,
          "text": "2022-03-14 00:00:00",
          "x": -0.45,
          "xanchor": "left",
          "xref": "x",
          "y": 39,
          "yref": "y"
         },
         {
          "align": "left",
          "font": {
           "color": "#000000"
          },
          "showarrow": false,
          "text": "39",
          "x": 0.55,
          "xanchor": "left",
          "xref": "x",
          "y": 39,
          "yref": "y"
         },
         {
          "align": "left",
          "font": {
           "color": "#000000"
          },
          "showarrow": false,
          "text": "2022-03-15 00:00:00",
          "x": -0.45,
          "xanchor": "left",
          "xref": "x",
          "y": 40,
          "yref": "y"
         },
         {
          "align": "left",
          "font": {
           "color": "#000000"
          },
          "showarrow": false,
          "text": "67",
          "x": 0.55,
          "xanchor": "left",
          "xref": "x",
          "y": 40,
          "yref": "y"
         },
         {
          "align": "left",
          "font": {
           "color": "#000000"
          },
          "showarrow": false,
          "text": "2022-03-16 00:00:00",
          "x": -0.45,
          "xanchor": "left",
          "xref": "x",
          "y": 41,
          "yref": "y"
         },
         {
          "align": "left",
          "font": {
           "color": "#000000"
          },
          "showarrow": false,
          "text": "95",
          "x": 0.55,
          "xanchor": "left",
          "xref": "x",
          "y": 41,
          "yref": "y"
         },
         {
          "align": "left",
          "font": {
           "color": "#000000"
          },
          "showarrow": false,
          "text": "2022-03-17 00:00:00",
          "x": -0.45,
          "xanchor": "left",
          "xref": "x",
          "y": 42,
          "yref": "y"
         },
         {
          "align": "left",
          "font": {
           "color": "#000000"
          },
          "showarrow": false,
          "text": "114",
          "x": 0.55,
          "xanchor": "left",
          "xref": "x",
          "y": 42,
          "yref": "y"
         },
         {
          "align": "left",
          "font": {
           "color": "#000000"
          },
          "showarrow": false,
          "text": "2022-03-18 00:00:00",
          "x": -0.45,
          "xanchor": "left",
          "xref": "x",
          "y": 43,
          "yref": "y"
         },
         {
          "align": "left",
          "font": {
           "color": "#000000"
          },
          "showarrow": false,
          "text": "48",
          "x": 0.55,
          "xanchor": "left",
          "xref": "x",
          "y": 43,
          "yref": "y"
         },
         {
          "align": "left",
          "font": {
           "color": "#000000"
          },
          "showarrow": false,
          "text": "2022-03-19 00:00:00",
          "x": -0.45,
          "xanchor": "left",
          "xref": "x",
          "y": 44,
          "yref": "y"
         },
         {
          "align": "left",
          "font": {
           "color": "#000000"
          },
          "showarrow": false,
          "text": "164",
          "x": 0.55,
          "xanchor": "left",
          "xref": "x",
          "y": 44,
          "yref": "y"
         },
         {
          "align": "left",
          "font": {
           "color": "#000000"
          },
          "showarrow": false,
          "text": "2022-03-20 00:00:00",
          "x": -0.45,
          "xanchor": "left",
          "xref": "x",
          "y": 45,
          "yref": "y"
         },
         {
          "align": "left",
          "font": {
           "color": "#000000"
          },
          "showarrow": false,
          "text": "140",
          "x": 0.55,
          "xanchor": "left",
          "xref": "x",
          "y": 45,
          "yref": "y"
         },
         {
          "align": "left",
          "font": {
           "color": "#000000"
          },
          "showarrow": false,
          "text": "2022-03-21 00:00:00",
          "x": -0.45,
          "xanchor": "left",
          "xref": "x",
          "y": 46,
          "yref": "y"
         },
         {
          "align": "left",
          "font": {
           "color": "#000000"
          },
          "showarrow": false,
          "text": "72",
          "x": 0.55,
          "xanchor": "left",
          "xref": "x",
          "y": 46,
          "yref": "y"
         },
         {
          "align": "left",
          "font": {
           "color": "#000000"
          },
          "showarrow": false,
          "text": "2022-03-22 00:00:00",
          "x": -0.45,
          "xanchor": "left",
          "xref": "x",
          "y": 47,
          "yref": "y"
         },
         {
          "align": "left",
          "font": {
           "color": "#000000"
          },
          "showarrow": false,
          "text": "83",
          "x": 0.55,
          "xanchor": "left",
          "xref": "x",
          "y": 47,
          "yref": "y"
         },
         {
          "align": "left",
          "font": {
           "color": "#000000"
          },
          "showarrow": false,
          "text": "2022-03-23 00:00:00",
          "x": -0.45,
          "xanchor": "left",
          "xref": "x",
          "y": 48,
          "yref": "y"
         },
         {
          "align": "left",
          "font": {
           "color": "#000000"
          },
          "showarrow": false,
          "text": "70",
          "x": 0.55,
          "xanchor": "left",
          "xref": "x",
          "y": 48,
          "yref": "y"
         },
         {
          "align": "left",
          "font": {
           "color": "#000000"
          },
          "showarrow": false,
          "text": "2022-03-24 00:00:00",
          "x": -0.45,
          "xanchor": "left",
          "xref": "x",
          "y": 49,
          "yref": "y"
         },
         {
          "align": "left",
          "font": {
           "color": "#000000"
          },
          "showarrow": false,
          "text": "67",
          "x": 0.55,
          "xanchor": "left",
          "xref": "x",
          "y": 49,
          "yref": "y"
         },
         {
          "align": "left",
          "font": {
           "color": "#000000"
          },
          "showarrow": false,
          "text": "2022-03-25 00:00:00",
          "x": -0.45,
          "xanchor": "left",
          "xref": "x",
          "y": 50,
          "yref": "y"
         },
         {
          "align": "left",
          "font": {
           "color": "#000000"
          },
          "showarrow": false,
          "text": "48",
          "x": 0.55,
          "xanchor": "left",
          "xref": "x",
          "y": 50,
          "yref": "y"
         },
         {
          "align": "left",
          "font": {
           "color": "#000000"
          },
          "showarrow": false,
          "text": "2022-03-26 00:00:00",
          "x": -0.45,
          "xanchor": "left",
          "xref": "x",
          "y": 51,
          "yref": "y"
         },
         {
          "align": "left",
          "font": {
           "color": "#000000"
          },
          "showarrow": false,
          "text": "102",
          "x": 0.55,
          "xanchor": "left",
          "xref": "x",
          "y": 51,
          "yref": "y"
         },
         {
          "align": "left",
          "font": {
           "color": "#000000"
          },
          "showarrow": false,
          "text": "2022-03-27 00:00:00",
          "x": -0.45,
          "xanchor": "left",
          "xref": "x",
          "y": 52,
          "yref": "y"
         },
         {
          "align": "left",
          "font": {
           "color": "#000000"
          },
          "showarrow": false,
          "text": "121",
          "x": 0.55,
          "xanchor": "left",
          "xref": "x",
          "y": 52,
          "yref": "y"
         },
         {
          "align": "left",
          "font": {
           "color": "#000000"
          },
          "showarrow": false,
          "text": "2022-03-28 00:00:00",
          "x": -0.45,
          "xanchor": "left",
          "xref": "x",
          "y": 53,
          "yref": "y"
         },
         {
          "align": "left",
          "font": {
           "color": "#000000"
          },
          "showarrow": false,
          "text": "61",
          "x": 0.55,
          "xanchor": "left",
          "xref": "x",
          "y": 53,
          "yref": "y"
         },
         {
          "align": "left",
          "font": {
           "color": "#000000"
          },
          "showarrow": false,
          "text": "2022-03-29 00:00:00",
          "x": -0.45,
          "xanchor": "left",
          "xref": "x",
          "y": 54,
          "yref": "y"
         },
         {
          "align": "left",
          "font": {
           "color": "#000000"
          },
          "showarrow": false,
          "text": "43",
          "x": 0.55,
          "xanchor": "left",
          "xref": "x",
          "y": 54,
          "yref": "y"
         },
         {
          "align": "left",
          "font": {
           "color": "#000000"
          },
          "showarrow": false,
          "text": "2022-03-30 00:00:00",
          "x": -0.45,
          "xanchor": "left",
          "xref": "x",
          "y": 55,
          "yref": "y"
         },
         {
          "align": "left",
          "font": {
           "color": "#000000"
          },
          "showarrow": false,
          "text": "65",
          "x": 0.55,
          "xanchor": "left",
          "xref": "x",
          "y": 55,
          "yref": "y"
         },
         {
          "align": "left",
          "font": {
           "color": "#000000"
          },
          "showarrow": false,
          "text": "2022-03-31 00:00:00",
          "x": -0.45,
          "xanchor": "left",
          "xref": "x",
          "y": 56,
          "yref": "y"
         },
         {
          "align": "left",
          "font": {
           "color": "#000000"
          },
          "showarrow": false,
          "text": "111",
          "x": 0.55,
          "xanchor": "left",
          "xref": "x",
          "y": 56,
          "yref": "y"
         },
         {
          "align": "left",
          "font": {
           "color": "#000000"
          },
          "showarrow": false,
          "text": "2022-04-01 00:00:00",
          "x": -0.45,
          "xanchor": "left",
          "xref": "x",
          "y": 57,
          "yref": "y"
         },
         {
          "align": "left",
          "font": {
           "color": "#000000"
          },
          "showarrow": false,
          "text": "65",
          "x": 0.55,
          "xanchor": "left",
          "xref": "x",
          "y": 57,
          "yref": "y"
         },
         {
          "align": "left",
          "font": {
           "color": "#000000"
          },
          "showarrow": false,
          "text": "2022-04-02 00:00:00",
          "x": -0.45,
          "xanchor": "left",
          "xref": "x",
          "y": 58,
          "yref": "y"
         },
         {
          "align": "left",
          "font": {
           "color": "#000000"
          },
          "showarrow": false,
          "text": "65",
          "x": 0.55,
          "xanchor": "left",
          "xref": "x",
          "y": 58,
          "yref": "y"
         },
         {
          "align": "left",
          "font": {
           "color": "#000000"
          },
          "showarrow": false,
          "text": "2022-04-03 00:00:00",
          "x": -0.45,
          "xanchor": "left",
          "xref": "x",
          "y": 59,
          "yref": "y"
         },
         {
          "align": "left",
          "font": {
           "color": "#000000"
          },
          "showarrow": false,
          "text": "93",
          "x": 0.55,
          "xanchor": "left",
          "xref": "x",
          "y": 59,
          "yref": "y"
         },
         {
          "align": "left",
          "font": {
           "color": "#000000"
          },
          "showarrow": false,
          "text": "2022-04-04 00:00:00",
          "x": -0.45,
          "xanchor": "left",
          "xref": "x",
          "y": 60,
          "yref": "y"
         },
         {
          "align": "left",
          "font": {
           "color": "#000000"
          },
          "showarrow": false,
          "text": "51",
          "x": 0.55,
          "xanchor": "left",
          "xref": "x",
          "y": 60,
          "yref": "y"
         },
         {
          "align": "left",
          "font": {
           "color": "#000000"
          },
          "showarrow": false,
          "text": "2022-04-05 00:00:00",
          "x": -0.45,
          "xanchor": "left",
          "xref": "x",
          "y": 61,
          "yref": "y"
         },
         {
          "align": "left",
          "font": {
           "color": "#000000"
          },
          "showarrow": false,
          "text": "56",
          "x": 0.55,
          "xanchor": "left",
          "xref": "x",
          "y": 61,
          "yref": "y"
         },
         {
          "align": "left",
          "font": {
           "color": "#000000"
          },
          "showarrow": false,
          "text": "2022-04-06 00:00:00",
          "x": -0.45,
          "xanchor": "left",
          "xref": "x",
          "y": 62,
          "yref": "y"
         },
         {
          "align": "left",
          "font": {
           "color": "#000000"
          },
          "showarrow": false,
          "text": "49",
          "x": 0.55,
          "xanchor": "left",
          "xref": "x",
          "y": 62,
          "yref": "y"
         },
         {
          "align": "left",
          "font": {
           "color": "#000000"
          },
          "showarrow": false,
          "text": "2022-04-07 00:00:00",
          "x": -0.45,
          "xanchor": "left",
          "xref": "x",
          "y": 63,
          "yref": "y"
         },
         {
          "align": "left",
          "font": {
           "color": "#000000"
          },
          "showarrow": false,
          "text": "79",
          "x": 0.55,
          "xanchor": "left",
          "xref": "x",
          "y": 63,
          "yref": "y"
         },
         {
          "align": "left",
          "font": {
           "color": "#000000"
          },
          "showarrow": false,
          "text": "2022-04-08 00:00:00",
          "x": -0.45,
          "xanchor": "left",
          "xref": "x",
          "y": 64,
          "yref": "y"
         },
         {
          "align": "left",
          "font": {
           "color": "#000000"
          },
          "showarrow": false,
          "text": "89",
          "x": 0.55,
          "xanchor": "left",
          "xref": "x",
          "y": 64,
          "yref": "y"
         },
         {
          "align": "left",
          "font": {
           "color": "#000000"
          },
          "showarrow": false,
          "text": "2022-04-09 00:00:00",
          "x": -0.45,
          "xanchor": "left",
          "xref": "x",
          "y": 65,
          "yref": "y"
         },
         {
          "align": "left",
          "font": {
           "color": "#000000"
          },
          "showarrow": false,
          "text": "78",
          "x": 0.55,
          "xanchor": "left",
          "xref": "x",
          "y": 65,
          "yref": "y"
         },
         {
          "align": "left",
          "font": {
           "color": "#000000"
          },
          "showarrow": false,
          "text": "2022-04-10 00:00:00",
          "x": -0.45,
          "xanchor": "left",
          "xref": "x",
          "y": 66,
          "yref": "y"
         },
         {
          "align": "left",
          "font": {
           "color": "#000000"
          },
          "showarrow": false,
          "text": "77",
          "x": 0.55,
          "xanchor": "left",
          "xref": "x",
          "y": 66,
          "yref": "y"
         },
         {
          "align": "left",
          "font": {
           "color": "#000000"
          },
          "showarrow": false,
          "text": "2022-04-11 00:00:00",
          "x": -0.45,
          "xanchor": "left",
          "xref": "x",
          "y": 67,
          "yref": "y"
         },
         {
          "align": "left",
          "font": {
           "color": "#000000"
          },
          "showarrow": false,
          "text": "40",
          "x": 0.55,
          "xanchor": "left",
          "xref": "x",
          "y": 67,
          "yref": "y"
         },
         {
          "align": "left",
          "font": {
           "color": "#000000"
          },
          "showarrow": false,
          "text": "2022-04-12 00:00:00",
          "x": -0.45,
          "xanchor": "left",
          "xref": "x",
          "y": 68,
          "yref": "y"
         },
         {
          "align": "left",
          "font": {
           "color": "#000000"
          },
          "showarrow": false,
          "text": "35",
          "x": 0.55,
          "xanchor": "left",
          "xref": "x",
          "y": 68,
          "yref": "y"
         },
         {
          "align": "left",
          "font": {
           "color": "#000000"
          },
          "showarrow": false,
          "text": "2022-04-13 00:00:00",
          "x": -0.45,
          "xanchor": "left",
          "xref": "x",
          "y": 69,
          "yref": "y"
         },
         {
          "align": "left",
          "font": {
           "color": "#000000"
          },
          "showarrow": false,
          "text": "102",
          "x": 0.55,
          "xanchor": "left",
          "xref": "x",
          "y": 69,
          "yref": "y"
         },
         {
          "align": "left",
          "font": {
           "color": "#000000"
          },
          "showarrow": false,
          "text": "2022-04-14 00:00:00",
          "x": -0.45,
          "xanchor": "left",
          "xref": "x",
          "y": 70,
          "yref": "y"
         },
         {
          "align": "left",
          "font": {
           "color": "#000000"
          },
          "showarrow": false,
          "text": "104",
          "x": 0.55,
          "xanchor": "left",
          "xref": "x",
          "y": 70,
          "yref": "y"
         },
         {
          "align": "left",
          "font": {
           "color": "#000000"
          },
          "showarrow": false,
          "text": "2022-04-15 00:00:00",
          "x": -0.45,
          "xanchor": "left",
          "xref": "x",
          "y": 71,
          "yref": "y"
         },
         {
          "align": "left",
          "font": {
           "color": "#000000"
          },
          "showarrow": false,
          "text": "19",
          "x": 0.55,
          "xanchor": "left",
          "xref": "x",
          "y": 71,
          "yref": "y"
         },
         {
          "align": "left",
          "font": {
           "color": "#000000"
          },
          "showarrow": false,
          "text": "2022-04-16 00:00:00",
          "x": -0.45,
          "xanchor": "left",
          "xref": "x",
          "y": 72,
          "yref": "y"
         },
         {
          "align": "left",
          "font": {
           "color": "#000000"
          },
          "showarrow": false,
          "text": "81",
          "x": 0.55,
          "xanchor": "left",
          "xref": "x",
          "y": 72,
          "yref": "y"
         },
         {
          "align": "left",
          "font": {
           "color": "#000000"
          },
          "showarrow": false,
          "text": "2022-04-17 00:00:00",
          "x": -0.45,
          "xanchor": "left",
          "xref": "x",
          "y": 73,
          "yref": "y"
         },
         {
          "align": "left",
          "font": {
           "color": "#000000"
          },
          "showarrow": false,
          "text": "97",
          "x": 0.55,
          "xanchor": "left",
          "xref": "x",
          "y": 73,
          "yref": "y"
         },
         {
          "align": "left",
          "font": {
           "color": "#000000"
          },
          "showarrow": false,
          "text": "2022-04-18 00:00:00",
          "x": -0.45,
          "xanchor": "left",
          "xref": "x",
          "y": 74,
          "yref": "y"
         },
         {
          "align": "left",
          "font": {
           "color": "#000000"
          },
          "showarrow": false,
          "text": "38",
          "x": 0.55,
          "xanchor": "left",
          "xref": "x",
          "y": 74,
          "yref": "y"
         },
         {
          "align": "left",
          "font": {
           "color": "#000000"
          },
          "showarrow": false,
          "text": "2022-04-19 00:00:00",
          "x": -0.45,
          "xanchor": "left",
          "xref": "x",
          "y": 75,
          "yref": "y"
         },
         {
          "align": "left",
          "font": {
           "color": "#000000"
          },
          "showarrow": false,
          "text": "40",
          "x": 0.55,
          "xanchor": "left",
          "xref": "x",
          "y": 75,
          "yref": "y"
         },
         {
          "align": "left",
          "font": {
           "color": "#000000"
          },
          "showarrow": false,
          "text": "2022-04-20 00:00:00",
          "x": -0.45,
          "xanchor": "left",
          "xref": "x",
          "y": 76,
          "yref": "y"
         },
         {
          "align": "left",
          "font": {
           "color": "#000000"
          },
          "showarrow": false,
          "text": "52",
          "x": 0.55,
          "xanchor": "left",
          "xref": "x",
          "y": 76,
          "yref": "y"
         },
         {
          "align": "left",
          "font": {
           "color": "#000000"
          },
          "showarrow": false,
          "text": "2022-04-21 00:00:00",
          "x": -0.45,
          "xanchor": "left",
          "xref": "x",
          "y": 77,
          "yref": "y"
         },
         {
          "align": "left",
          "font": {
           "color": "#000000"
          },
          "showarrow": false,
          "text": "114",
          "x": 0.55,
          "xanchor": "left",
          "xref": "x",
          "y": 77,
          "yref": "y"
         },
         {
          "align": "left",
          "font": {
           "color": "#000000"
          },
          "showarrow": false,
          "text": "2022-04-22 00:00:00",
          "x": -0.45,
          "xanchor": "left",
          "xref": "x",
          "y": 78,
          "yref": "y"
         },
         {
          "align": "left",
          "font": {
           "color": "#000000"
          },
          "showarrow": false,
          "text": "74",
          "x": 0.55,
          "xanchor": "left",
          "xref": "x",
          "y": 78,
          "yref": "y"
         },
         {
          "align": "left",
          "font": {
           "color": "#000000"
          },
          "showarrow": false,
          "text": "2022-04-23 00:00:00",
          "x": -0.45,
          "xanchor": "left",
          "xref": "x",
          "y": 79,
          "yref": "y"
         },
         {
          "align": "left",
          "font": {
           "color": "#000000"
          },
          "showarrow": false,
          "text": "126",
          "x": 0.55,
          "xanchor": "left",
          "xref": "x",
          "y": 79,
          "yref": "y"
         },
         {
          "align": "left",
          "font": {
           "color": "#000000"
          },
          "showarrow": false,
          "text": "2022-04-24 00:00:00",
          "x": -0.45,
          "xanchor": "left",
          "xref": "x",
          "y": 80,
          "yref": "y"
         },
         {
          "align": "left",
          "font": {
           "color": "#000000"
          },
          "showarrow": false,
          "text": "88",
          "x": 0.55,
          "xanchor": "left",
          "xref": "x",
          "y": 80,
          "yref": "y"
         },
         {
          "align": "left",
          "font": {
           "color": "#000000"
          },
          "showarrow": false,
          "text": "2022-04-25 00:00:00",
          "x": -0.45,
          "xanchor": "left",
          "xref": "x",
          "y": 81,
          "yref": "y"
         },
         {
          "align": "left",
          "font": {
           "color": "#000000"
          },
          "showarrow": false,
          "text": "64",
          "x": 0.55,
          "xanchor": "left",
          "xref": "x",
          "y": 81,
          "yref": "y"
         },
         {
          "align": "left",
          "font": {
           "color": "#000000"
          },
          "showarrow": false,
          "text": "2022-04-26 00:00:00",
          "x": -0.45,
          "xanchor": "left",
          "xref": "x",
          "y": 82,
          "yref": "y"
         },
         {
          "align": "left",
          "font": {
           "color": "#000000"
          },
          "showarrow": false,
          "text": "54",
          "x": 0.55,
          "xanchor": "left",
          "xref": "x",
          "y": 82,
          "yref": "y"
         },
         {
          "align": "left",
          "font": {
           "color": "#000000"
          },
          "showarrow": false,
          "text": "2022-04-27 00:00:00",
          "x": -0.45,
          "xanchor": "left",
          "xref": "x",
          "y": 83,
          "yref": "y"
         },
         {
          "align": "left",
          "font": {
           "color": "#000000"
          },
          "showarrow": false,
          "text": "57",
          "x": 0.55,
          "xanchor": "left",
          "xref": "x",
          "y": 83,
          "yref": "y"
         },
         {
          "align": "left",
          "font": {
           "color": "#000000"
          },
          "showarrow": false,
          "text": "2022-04-28 00:00:00",
          "x": -0.45,
          "xanchor": "left",
          "xref": "x",
          "y": 84,
          "yref": "y"
         },
         {
          "align": "left",
          "font": {
           "color": "#000000"
          },
          "showarrow": false,
          "text": "41",
          "x": 0.55,
          "xanchor": "left",
          "xref": "x",
          "y": 84,
          "yref": "y"
         },
         {
          "align": "left",
          "font": {
           "color": "#000000"
          },
          "showarrow": false,
          "text": "2022-04-29 00:00:00",
          "x": -0.45,
          "xanchor": "left",
          "xref": "x",
          "y": 85,
          "yref": "y"
         },
         {
          "align": "left",
          "font": {
           "color": "#000000"
          },
          "showarrow": false,
          "text": "42",
          "x": 0.55,
          "xanchor": "left",
          "xref": "x",
          "y": 85,
          "yref": "y"
         },
         {
          "align": "left",
          "font": {
           "color": "#000000"
          },
          "showarrow": false,
          "text": "2022-04-30 00:00:00",
          "x": -0.45,
          "xanchor": "left",
          "xref": "x",
          "y": 86,
          "yref": "y"
         },
         {
          "align": "left",
          "font": {
           "color": "#000000"
          },
          "showarrow": false,
          "text": "84",
          "x": 0.55,
          "xanchor": "left",
          "xref": "x",
          "y": 86,
          "yref": "y"
         },
         {
          "align": "left",
          "font": {
           "color": "#000000"
          },
          "showarrow": false,
          "text": "2022-05-01 00:00:00",
          "x": -0.45,
          "xanchor": "left",
          "xref": "x",
          "y": 87,
          "yref": "y"
         },
         {
          "align": "left",
          "font": {
           "color": "#000000"
          },
          "showarrow": false,
          "text": "110",
          "x": 0.55,
          "xanchor": "left",
          "xref": "x",
          "y": 87,
          "yref": "y"
         },
         {
          "align": "left",
          "font": {
           "color": "#000000"
          },
          "showarrow": false,
          "text": "2022-05-02 00:00:00",
          "x": -0.45,
          "xanchor": "left",
          "xref": "x",
          "y": 88,
          "yref": "y"
         },
         {
          "align": "left",
          "font": {
           "color": "#000000"
          },
          "showarrow": false,
          "text": "59",
          "x": 0.55,
          "xanchor": "left",
          "xref": "x",
          "y": 88,
          "yref": "y"
         },
         {
          "align": "left",
          "font": {
           "color": "#000000"
          },
          "showarrow": false,
          "text": "2022-05-03 00:00:00",
          "x": -0.45,
          "xanchor": "left",
          "xref": "x",
          "y": 89,
          "yref": "y"
         },
         {
          "align": "left",
          "font": {
           "color": "#000000"
          },
          "showarrow": false,
          "text": "39",
          "x": 0.55,
          "xanchor": "left",
          "xref": "x",
          "y": 89,
          "yref": "y"
         },
         {
          "align": "left",
          "font": {
           "color": "#000000"
          },
          "showarrow": false,
          "text": "2022-05-04 00:00:00",
          "x": -0.45,
          "xanchor": "left",
          "xref": "x",
          "y": 90,
          "yref": "y"
         },
         {
          "align": "left",
          "font": {
           "color": "#000000"
          },
          "showarrow": false,
          "text": "62",
          "x": 0.55,
          "xanchor": "left",
          "xref": "x",
          "y": 90,
          "yref": "y"
         },
         {
          "align": "left",
          "font": {
           "color": "#000000"
          },
          "showarrow": false,
          "text": "2022-05-05 00:00:00",
          "x": -0.45,
          "xanchor": "left",
          "xref": "x",
          "y": 91,
          "yref": "y"
         },
         {
          "align": "left",
          "font": {
           "color": "#000000"
          },
          "showarrow": false,
          "text": "65",
          "x": 0.55,
          "xanchor": "left",
          "xref": "x",
          "y": 91,
          "yref": "y"
         },
         {
          "align": "left",
          "font": {
           "color": "#000000"
          },
          "showarrow": false,
          "text": "2022-05-06 00:00:00",
          "x": -0.45,
          "xanchor": "left",
          "xref": "x",
          "y": 92,
          "yref": "y"
         },
         {
          "align": "left",
          "font": {
           "color": "#000000"
          },
          "showarrow": false,
          "text": "79",
          "x": 0.55,
          "xanchor": "left",
          "xref": "x",
          "y": 92,
          "yref": "y"
         },
         {
          "align": "left",
          "font": {
           "color": "#000000"
          },
          "showarrow": false,
          "text": "2022-05-07 00:00:00",
          "x": -0.45,
          "xanchor": "left",
          "xref": "x",
          "y": 93,
          "yref": "y"
         },
         {
          "align": "left",
          "font": {
           "color": "#000000"
          },
          "showarrow": false,
          "text": "105",
          "x": 0.55,
          "xanchor": "left",
          "xref": "x",
          "y": 93,
          "yref": "y"
         },
         {
          "align": "left",
          "font": {
           "color": "#000000"
          },
          "showarrow": false,
          "text": "2022-05-08 00:00:00",
          "x": -0.45,
          "xanchor": "left",
          "xref": "x",
          "y": 94,
          "yref": "y"
         },
         {
          "align": "left",
          "font": {
           "color": "#000000"
          },
          "showarrow": false,
          "text": "123",
          "x": 0.55,
          "xanchor": "left",
          "xref": "x",
          "y": 94,
          "yref": "y"
         },
         {
          "align": "left",
          "font": {
           "color": "#000000"
          },
          "showarrow": false,
          "text": "2022-05-09 00:00:00",
          "x": -0.45,
          "xanchor": "left",
          "xref": "x",
          "y": 95,
          "yref": "y"
         },
         {
          "align": "left",
          "font": {
           "color": "#000000"
          },
          "showarrow": false,
          "text": "73",
          "x": 0.55,
          "xanchor": "left",
          "xref": "x",
          "y": 95,
          "yref": "y"
         },
         {
          "align": "left",
          "font": {
           "color": "#000000"
          },
          "showarrow": false,
          "text": "2022-05-10 00:00:00",
          "x": -0.45,
          "xanchor": "left",
          "xref": "x",
          "y": 96,
          "yref": "y"
         },
         {
          "align": "left",
          "font": {
           "color": "#000000"
          },
          "showarrow": false,
          "text": "91",
          "x": 0.55,
          "xanchor": "left",
          "xref": "x",
          "y": 96,
          "yref": "y"
         },
         {
          "align": "left",
          "font": {
           "color": "#000000"
          },
          "showarrow": false,
          "text": "2022-05-11 00:00:00",
          "x": -0.45,
          "xanchor": "left",
          "xref": "x",
          "y": 97,
          "yref": "y"
         },
         {
          "align": "left",
          "font": {
           "color": "#000000"
          },
          "showarrow": false,
          "text": "96",
          "x": 0.55,
          "xanchor": "left",
          "xref": "x",
          "y": 97,
          "yref": "y"
         },
         {
          "align": "left",
          "font": {
           "color": "#000000"
          },
          "showarrow": false,
          "text": "2022-05-12 00:00:00",
          "x": -0.45,
          "xanchor": "left",
          "xref": "x",
          "y": 98,
          "yref": "y"
         },
         {
          "align": "left",
          "font": {
           "color": "#000000"
          },
          "showarrow": false,
          "text": "116",
          "x": 0.55,
          "xanchor": "left",
          "xref": "x",
          "y": 98,
          "yref": "y"
         },
         {
          "align": "left",
          "font": {
           "color": "#000000"
          },
          "showarrow": false,
          "text": "2022-05-13 00:00:00",
          "x": -0.45,
          "xanchor": "left",
          "xref": "x",
          "y": 99,
          "yref": "y"
         },
         {
          "align": "left",
          "font": {
           "color": "#000000"
          },
          "showarrow": false,
          "text": "169",
          "x": 0.55,
          "xanchor": "left",
          "xref": "x",
          "y": 99,
          "yref": "y"
         },
         {
          "align": "left",
          "font": {
           "color": "#000000"
          },
          "showarrow": false,
          "text": "2022-05-14 00:00:00",
          "x": -0.45,
          "xanchor": "left",
          "xref": "x",
          "y": 100,
          "yref": "y"
         },
         {
          "align": "left",
          "font": {
           "color": "#000000"
          },
          "showarrow": false,
          "text": "227",
          "x": 0.55,
          "xanchor": "left",
          "xref": "x",
          "y": 100,
          "yref": "y"
         },
         {
          "align": "left",
          "font": {
           "color": "#000000"
          },
          "showarrow": false,
          "text": "2022-05-15 00:00:00",
          "x": -0.45,
          "xanchor": "left",
          "xref": "x",
          "y": 101,
          "yref": "y"
         },
         {
          "align": "left",
          "font": {
           "color": "#000000"
          },
          "showarrow": false,
          "text": "215",
          "x": 0.55,
          "xanchor": "left",
          "xref": "x",
          "y": 101,
          "yref": "y"
         },
         {
          "align": "left",
          "font": {
           "color": "#000000"
          },
          "showarrow": false,
          "text": "2022-05-16 00:00:00",
          "x": -0.45,
          "xanchor": "left",
          "xref": "x",
          "y": 102,
          "yref": "y"
         },
         {
          "align": "left",
          "font": {
           "color": "#000000"
          },
          "showarrow": false,
          "text": "119",
          "x": 0.55,
          "xanchor": "left",
          "xref": "x",
          "y": 102,
          "yref": "y"
         },
         {
          "align": "left",
          "font": {
           "color": "#000000"
          },
          "showarrow": false,
          "text": "2022-05-17 00:00:00",
          "x": -0.45,
          "xanchor": "left",
          "xref": "x",
          "y": 103,
          "yref": "y"
         },
         {
          "align": "left",
          "font": {
           "color": "#000000"
          },
          "showarrow": false,
          "text": "106",
          "x": 0.55,
          "xanchor": "left",
          "xref": "x",
          "y": 103,
          "yref": "y"
         },
         {
          "align": "left",
          "font": {
           "color": "#000000"
          },
          "showarrow": false,
          "text": "2022-05-18 00:00:00",
          "x": -0.45,
          "xanchor": "left",
          "xref": "x",
          "y": 104,
          "yref": "y"
         },
         {
          "align": "left",
          "font": {
           "color": "#000000"
          },
          "showarrow": false,
          "text": "241",
          "x": 0.55,
          "xanchor": "left",
          "xref": "x",
          "y": 104,
          "yref": "y"
         },
         {
          "align": "left",
          "font": {
           "color": "#000000"
          },
          "showarrow": false,
          "text": "2022-05-19 00:00:00",
          "x": -0.45,
          "xanchor": "left",
          "xref": "x",
          "y": 105,
          "yref": "y"
         },
         {
          "align": "left",
          "font": {
           "color": "#000000"
          },
          "showarrow": false,
          "text": "108",
          "x": 0.55,
          "xanchor": "left",
          "xref": "x",
          "y": 105,
          "yref": "y"
         },
         {
          "align": "left",
          "font": {
           "color": "#000000"
          },
          "showarrow": false,
          "text": "2022-05-20 00:00:00",
          "x": -0.45,
          "xanchor": "left",
          "xref": "x",
          "y": 106,
          "yref": "y"
         },
         {
          "align": "left",
          "font": {
           "color": "#000000"
          },
          "showarrow": false,
          "text": "141",
          "x": 0.55,
          "xanchor": "left",
          "xref": "x",
          "y": 106,
          "yref": "y"
         },
         {
          "align": "left",
          "font": {
           "color": "#000000"
          },
          "showarrow": false,
          "text": "2022-05-21 00:00:00",
          "x": -0.45,
          "xanchor": "left",
          "xref": "x",
          "y": 107,
          "yref": "y"
         },
         {
          "align": "left",
          "font": {
           "color": "#000000"
          },
          "showarrow": false,
          "text": "226",
          "x": 0.55,
          "xanchor": "left",
          "xref": "x",
          "y": 107,
          "yref": "y"
         },
         {
          "align": "left",
          "font": {
           "color": "#000000"
          },
          "showarrow": false,
          "text": "2022-05-22 00:00:00",
          "x": -0.45,
          "xanchor": "left",
          "xref": "x",
          "y": 108,
          "yref": "y"
         },
         {
          "align": "left",
          "font": {
           "color": "#000000"
          },
          "showarrow": false,
          "text": "175",
          "x": 0.55,
          "xanchor": "left",
          "xref": "x",
          "y": 108,
          "yref": "y"
         },
         {
          "align": "left",
          "font": {
           "color": "#000000"
          },
          "showarrow": false,
          "text": "2022-05-23 00:00:00",
          "x": -0.45,
          "xanchor": "left",
          "xref": "x",
          "y": 109,
          "yref": "y"
         },
         {
          "align": "left",
          "font": {
           "color": "#000000"
          },
          "showarrow": false,
          "text": "97",
          "x": 0.55,
          "xanchor": "left",
          "xref": "x",
          "y": 109,
          "yref": "y"
         },
         {
          "align": "left",
          "font": {
           "color": "#000000"
          },
          "showarrow": false,
          "text": "2022-05-24 00:00:00",
          "x": -0.45,
          "xanchor": "left",
          "xref": "x",
          "y": 110,
          "yref": "y"
         },
         {
          "align": "left",
          "font": {
           "color": "#000000"
          },
          "showarrow": false,
          "text": "136",
          "x": 0.55,
          "xanchor": "left",
          "xref": "x",
          "y": 110,
          "yref": "y"
         },
         {
          "align": "left",
          "font": {
           "color": "#000000"
          },
          "showarrow": false,
          "text": "2022-05-25 00:00:00",
          "x": -0.45,
          "xanchor": "left",
          "xref": "x",
          "y": 111,
          "yref": "y"
         },
         {
          "align": "left",
          "font": {
           "color": "#000000"
          },
          "showarrow": false,
          "text": "61",
          "x": 0.55,
          "xanchor": "left",
          "xref": "x",
          "y": 111,
          "yref": "y"
         },
         {
          "align": "left",
          "font": {
           "color": "#000000"
          },
          "showarrow": false,
          "text": "2022-05-26 00:00:00",
          "x": -0.45,
          "xanchor": "left",
          "xref": "x",
          "y": 112,
          "yref": "y"
         },
         {
          "align": "left",
          "font": {
           "color": "#000000"
          },
          "showarrow": false,
          "text": "136",
          "x": 0.55,
          "xanchor": "left",
          "xref": "x",
          "y": 112,
          "yref": "y"
         },
         {
          "align": "left",
          "font": {
           "color": "#000000"
          },
          "showarrow": false,
          "text": "2022-05-27 00:00:00",
          "x": -0.45,
          "xanchor": "left",
          "xref": "x",
          "y": 113,
          "yref": "y"
         },
         {
          "align": "left",
          "font": {
           "color": "#000000"
          },
          "showarrow": false,
          "text": "141",
          "x": 0.55,
          "xanchor": "left",
          "xref": "x",
          "y": 113,
          "yref": "y"
         },
         {
          "align": "left",
          "font": {
           "color": "#000000"
          },
          "showarrow": false,
          "text": "2022-05-28 00:00:00",
          "x": -0.45,
          "xanchor": "left",
          "xref": "x",
          "y": 114,
          "yref": "y"
         },
         {
          "align": "left",
          "font": {
           "color": "#000000"
          },
          "showarrow": false,
          "text": "169",
          "x": 0.55,
          "xanchor": "left",
          "xref": "x",
          "y": 114,
          "yref": "y"
         },
         {
          "align": "left",
          "font": {
           "color": "#000000"
          },
          "showarrow": false,
          "text": "2022-05-29 00:00:00",
          "x": -0.45,
          "xanchor": "left",
          "xref": "x",
          "y": 115,
          "yref": "y"
         },
         {
          "align": "left",
          "font": {
           "color": "#000000"
          },
          "showarrow": false,
          "text": "154",
          "x": 0.55,
          "xanchor": "left",
          "xref": "x",
          "y": 115,
          "yref": "y"
         },
         {
          "align": "left",
          "font": {
           "color": "#000000"
          },
          "showarrow": false,
          "text": "2022-05-30 00:00:00",
          "x": -0.45,
          "xanchor": "left",
          "xref": "x",
          "y": 116,
          "yref": "y"
         },
         {
          "align": "left",
          "font": {
           "color": "#000000"
          },
          "showarrow": false,
          "text": "61",
          "x": 0.55,
          "xanchor": "left",
          "xref": "x",
          "y": 116,
          "yref": "y"
         },
         {
          "align": "left",
          "font": {
           "color": "#000000"
          },
          "showarrow": false,
          "text": "2022-05-31 00:00:00",
          "x": -0.45,
          "xanchor": "left",
          "xref": "x",
          "y": 117,
          "yref": "y"
         },
         {
          "align": "left",
          "font": {
           "color": "#000000"
          },
          "showarrow": false,
          "text": "52",
          "x": 0.55,
          "xanchor": "left",
          "xref": "x",
          "y": 117,
          "yref": "y"
         },
         {
          "align": "left",
          "font": {
           "color": "#000000"
          },
          "showarrow": false,
          "text": "2022-06-01 00:00:00",
          "x": -0.45,
          "xanchor": "left",
          "xref": "x",
          "y": 118,
          "yref": "y"
         },
         {
          "align": "left",
          "font": {
           "color": "#000000"
          },
          "showarrow": false,
          "text": "40",
          "x": 0.55,
          "xanchor": "left",
          "xref": "x",
          "y": 118,
          "yref": "y"
         },
         {
          "align": "left",
          "font": {
           "color": "#000000"
          },
          "showarrow": false,
          "text": "2022-06-02 00:00:00",
          "x": -0.45,
          "xanchor": "left",
          "xref": "x",
          "y": 119,
          "yref": "y"
         },
         {
          "align": "left",
          "font": {
           "color": "#000000"
          },
          "showarrow": false,
          "text": "30",
          "x": 0.55,
          "xanchor": "left",
          "xref": "x",
          "y": 119,
          "yref": "y"
         },
         {
          "align": "left",
          "font": {
           "color": "#000000"
          },
          "showarrow": false,
          "text": "2022-06-03 00:00:00",
          "x": -0.45,
          "xanchor": "left",
          "xref": "x",
          "y": 120,
          "yref": "y"
         },
         {
          "align": "left",
          "font": {
           "color": "#000000"
          },
          "showarrow": false,
          "text": "51",
          "x": 0.55,
          "xanchor": "left",
          "xref": "x",
          "y": 120,
          "yref": "y"
         },
         {
          "align": "left",
          "font": {
           "color": "#000000"
          },
          "showarrow": false,
          "text": "2022-06-04 00:00:00",
          "x": -0.45,
          "xanchor": "left",
          "xref": "x",
          "y": 121,
          "yref": "y"
         },
         {
          "align": "left",
          "font": {
           "color": "#000000"
          },
          "showarrow": false,
          "text": "84",
          "x": 0.55,
          "xanchor": "left",
          "xref": "x",
          "y": 121,
          "yref": "y"
         },
         {
          "align": "left",
          "font": {
           "color": "#000000"
          },
          "showarrow": false,
          "text": "2022-06-05 00:00:00",
          "x": -0.45,
          "xanchor": "left",
          "xref": "x",
          "y": 122,
          "yref": "y"
         },
         {
          "align": "left",
          "font": {
           "color": "#000000"
          },
          "showarrow": false,
          "text": "150",
          "x": 0.55,
          "xanchor": "left",
          "xref": "x",
          "y": 122,
          "yref": "y"
         },
         {
          "align": "left",
          "font": {
           "color": "#000000"
          },
          "showarrow": false,
          "text": "2022-06-06 00:00:00",
          "x": -0.45,
          "xanchor": "left",
          "xref": "x",
          "y": 123,
          "yref": "y"
         },
         {
          "align": "left",
          "font": {
           "color": "#000000"
          },
          "showarrow": false,
          "text": "64",
          "x": 0.55,
          "xanchor": "left",
          "xref": "x",
          "y": 123,
          "yref": "y"
         },
         {
          "align": "left",
          "font": {
           "color": "#000000"
          },
          "showarrow": false,
          "text": "2022-06-07 00:00:00",
          "x": -0.45,
          "xanchor": "left",
          "xref": "x",
          "y": 124,
          "yref": "y"
         },
         {
          "align": "left",
          "font": {
           "color": "#000000"
          },
          "showarrow": false,
          "text": "45",
          "x": 0.55,
          "xanchor": "left",
          "xref": "x",
          "y": 124,
          "yref": "y"
         },
         {
          "align": "left",
          "font": {
           "color": "#000000"
          },
          "showarrow": false,
          "text": "2022-06-08 00:00:00",
          "x": -0.45,
          "xanchor": "left",
          "xref": "x",
          "y": 125,
          "yref": "y"
         },
         {
          "align": "left",
          "font": {
           "color": "#000000"
          },
          "showarrow": false,
          "text": "35",
          "x": 0.55,
          "xanchor": "left",
          "xref": "x",
          "y": 125,
          "yref": "y"
         },
         {
          "align": "left",
          "font": {
           "color": "#000000"
          },
          "showarrow": false,
          "text": "2022-06-09 00:00:00",
          "x": -0.45,
          "xanchor": "left",
          "xref": "x",
          "y": 126,
          "yref": "y"
         },
         {
          "align": "left",
          "font": {
           "color": "#000000"
          },
          "showarrow": false,
          "text": "58",
          "x": 0.55,
          "xanchor": "left",
          "xref": "x",
          "y": 126,
          "yref": "y"
         },
         {
          "align": "left",
          "font": {
           "color": "#000000"
          },
          "showarrow": false,
          "text": "2022-06-10 00:00:00",
          "x": -0.45,
          "xanchor": "left",
          "xref": "x",
          "y": 127,
          "yref": "y"
         },
         {
          "align": "left",
          "font": {
           "color": "#000000"
          },
          "showarrow": false,
          "text": "50",
          "x": 0.55,
          "xanchor": "left",
          "xref": "x",
          "y": 127,
          "yref": "y"
         },
         {
          "align": "left",
          "font": {
           "color": "#000000"
          },
          "showarrow": false,
          "text": "2022-06-11 00:00:00",
          "x": -0.45,
          "xanchor": "left",
          "xref": "x",
          "y": 128,
          "yref": "y"
         },
         {
          "align": "left",
          "font": {
           "color": "#000000"
          },
          "showarrow": false,
          "text": "81",
          "x": 0.55,
          "xanchor": "left",
          "xref": "x",
          "y": 128,
          "yref": "y"
         },
         {
          "align": "left",
          "font": {
           "color": "#000000"
          },
          "showarrow": false,
          "text": "2022-06-12 00:00:00",
          "x": -0.45,
          "xanchor": "left",
          "xref": "x",
          "y": 129,
          "yref": "y"
         },
         {
          "align": "left",
          "font": {
           "color": "#000000"
          },
          "showarrow": false,
          "text": "123",
          "x": 0.55,
          "xanchor": "left",
          "xref": "x",
          "y": 129,
          "yref": "y"
         },
         {
          "align": "left",
          "font": {
           "color": "#000000"
          },
          "showarrow": false,
          "text": "2022-06-13 00:00:00",
          "x": -0.45,
          "xanchor": "left",
          "xref": "x",
          "y": 130,
          "yref": "y"
         },
         {
          "align": "left",
          "font": {
           "color": "#000000"
          },
          "showarrow": false,
          "text": "48",
          "x": 0.55,
          "xanchor": "left",
          "xref": "x",
          "y": 130,
          "yref": "y"
         },
         {
          "align": "left",
          "font": {
           "color": "#000000"
          },
          "showarrow": false,
          "text": "2022-06-14 00:00:00",
          "x": -0.45,
          "xanchor": "left",
          "xref": "x",
          "y": 131,
          "yref": "y"
         },
         {
          "align": "left",
          "font": {
           "color": "#000000"
          },
          "showarrow": false,
          "text": "61",
          "x": 0.55,
          "xanchor": "left",
          "xref": "x",
          "y": 131,
          "yref": "y"
         },
         {
          "align": "left",
          "font": {
           "color": "#000000"
          },
          "showarrow": false,
          "text": "2022-06-15 00:00:00",
          "x": -0.45,
          "xanchor": "left",
          "xref": "x",
          "y": 132,
          "yref": "y"
         },
         {
          "align": "left",
          "font": {
           "color": "#000000"
          },
          "showarrow": false,
          "text": "67",
          "x": 0.55,
          "xanchor": "left",
          "xref": "x",
          "y": 132,
          "yref": "y"
         },
         {
          "align": "left",
          "font": {
           "color": "#000000"
          },
          "showarrow": false,
          "text": "2022-06-16 00:00:00",
          "x": -0.45,
          "xanchor": "left",
          "xref": "x",
          "y": 133,
          "yref": "y"
         },
         {
          "align": "left",
          "font": {
           "color": "#000000"
          },
          "showarrow": false,
          "text": "71",
          "x": 0.55,
          "xanchor": "left",
          "xref": "x",
          "y": 133,
          "yref": "y"
         },
         {
          "align": "left",
          "font": {
           "color": "#000000"
          },
          "showarrow": false,
          "text": "2022-06-17 00:00:00",
          "x": -0.45,
          "xanchor": "left",
          "xref": "x",
          "y": 134,
          "yref": "y"
         },
         {
          "align": "left",
          "font": {
           "color": "#000000"
          },
          "showarrow": false,
          "text": "38",
          "x": 0.55,
          "xanchor": "left",
          "xref": "x",
          "y": 134,
          "yref": "y"
         },
         {
          "align": "left",
          "font": {
           "color": "#000000"
          },
          "showarrow": false,
          "text": "2022-06-18 00:00:00",
          "x": -0.45,
          "xanchor": "left",
          "xref": "x",
          "y": 135,
          "yref": "y"
         },
         {
          "align": "left",
          "font": {
           "color": "#000000"
          },
          "showarrow": false,
          "text": "71",
          "x": 0.55,
          "xanchor": "left",
          "xref": "x",
          "y": 135,
          "yref": "y"
         },
         {
          "align": "left",
          "font": {
           "color": "#000000"
          },
          "showarrow": false,
          "text": "2022-06-19 00:00:00",
          "x": -0.45,
          "xanchor": "left",
          "xref": "x",
          "y": 136,
          "yref": "y"
         },
         {
          "align": "left",
          "font": {
           "color": "#000000"
          },
          "showarrow": false,
          "text": "114",
          "x": 0.55,
          "xanchor": "left",
          "xref": "x",
          "y": 136,
          "yref": "y"
         },
         {
          "align": "left",
          "font": {
           "color": "#000000"
          },
          "showarrow": false,
          "text": "2022-06-20 00:00:00",
          "x": -0.45,
          "xanchor": "left",
          "xref": "x",
          "y": 137,
          "yref": "y"
         },
         {
          "align": "left",
          "font": {
           "color": "#000000"
          },
          "showarrow": false,
          "text": "32",
          "x": 0.55,
          "xanchor": "left",
          "xref": "x",
          "y": 137,
          "yref": "y"
         },
         {
          "align": "left",
          "font": {
           "color": "#000000"
          },
          "showarrow": false,
          "text": "2022-06-21 00:00:00",
          "x": -0.45,
          "xanchor": "left",
          "xref": "x",
          "y": 138,
          "yref": "y"
         },
         {
          "align": "left",
          "font": {
           "color": "#000000"
          },
          "showarrow": false,
          "text": "56",
          "x": 0.55,
          "xanchor": "left",
          "xref": "x",
          "y": 138,
          "yref": "y"
         },
         {
          "align": "left",
          "font": {
           "color": "#000000"
          },
          "showarrow": false,
          "text": "2022-06-22 00:00:00",
          "x": -0.45,
          "xanchor": "left",
          "xref": "x",
          "y": 139,
          "yref": "y"
         },
         {
          "align": "left",
          "font": {
           "color": "#000000"
          },
          "showarrow": false,
          "text": "32",
          "x": 0.55,
          "xanchor": "left",
          "xref": "x",
          "y": 139,
          "yref": "y"
         },
         {
          "align": "left",
          "font": {
           "color": "#000000"
          },
          "showarrow": false,
          "text": "2022-06-23 00:00:00",
          "x": -0.45,
          "xanchor": "left",
          "xref": "x",
          "y": 140,
          "yref": "y"
         },
         {
          "align": "left",
          "font": {
           "color": "#000000"
          },
          "showarrow": false,
          "text": "2303",
          "x": 0.55,
          "xanchor": "left",
          "xref": "x",
          "y": 140,
          "yref": "y"
         },
         {
          "align": "left",
          "font": {
           "color": "#000000"
          },
          "showarrow": false,
          "text": "2022-06-24 00:00:00",
          "x": -0.45,
          "xanchor": "left",
          "xref": "x",
          "y": 141,
          "yref": "y"
         },
         {
          "align": "left",
          "font": {
           "color": "#000000"
          },
          "showarrow": false,
          "text": "58",
          "x": 0.55,
          "xanchor": "left",
          "xref": "x",
          "y": 141,
          "yref": "y"
         },
         {
          "align": "left",
          "font": {
           "color": "#000000"
          },
          "showarrow": false,
          "text": "2022-06-25 00:00:00",
          "x": -0.45,
          "xanchor": "left",
          "xref": "x",
          "y": 142,
          "yref": "y"
         },
         {
          "align": "left",
          "font": {
           "color": "#000000"
          },
          "showarrow": false,
          "text": "121",
          "x": 0.55,
          "xanchor": "left",
          "xref": "x",
          "y": 142,
          "yref": "y"
         },
         {
          "align": "left",
          "font": {
           "color": "#000000"
          },
          "showarrow": false,
          "text": "2022-06-26 00:00:00",
          "x": -0.45,
          "xanchor": "left",
          "xref": "x",
          "y": 143,
          "yref": "y"
         },
         {
          "align": "left",
          "font": {
           "color": "#000000"
          },
          "showarrow": false,
          "text": "95",
          "x": 0.55,
          "xanchor": "left",
          "xref": "x",
          "y": 143,
          "yref": "y"
         },
         {
          "align": "left",
          "font": {
           "color": "#000000"
          },
          "showarrow": false,
          "text": "2022-06-27 00:00:00",
          "x": -0.45,
          "xanchor": "left",
          "xref": "x",
          "y": 144,
          "yref": "y"
         },
         {
          "align": "left",
          "font": {
           "color": "#000000"
          },
          "showarrow": false,
          "text": "42",
          "x": 0.55,
          "xanchor": "left",
          "xref": "x",
          "y": 144,
          "yref": "y"
         },
         {
          "align": "left",
          "font": {
           "color": "#000000"
          },
          "showarrow": false,
          "text": "2022-06-28 00:00:00",
          "x": -0.45,
          "xanchor": "left",
          "xref": "x",
          "y": 145,
          "yref": "y"
         },
         {
          "align": "left",
          "font": {
           "color": "#000000"
          },
          "showarrow": false,
          "text": "81",
          "x": 0.55,
          "xanchor": "left",
          "xref": "x",
          "y": 145,
          "yref": "y"
         },
         {
          "align": "left",
          "font": {
           "color": "#000000"
          },
          "showarrow": false,
          "text": "2022-06-29 00:00:00",
          "x": -0.45,
          "xanchor": "left",
          "xref": "x",
          "y": 146,
          "yref": "y"
         },
         {
          "align": "left",
          "font": {
           "color": "#000000"
          },
          "showarrow": false,
          "text": "63",
          "x": 0.55,
          "xanchor": "left",
          "xref": "x",
          "y": 146,
          "yref": "y"
         },
         {
          "align": "left",
          "font": {
           "color": "#000000"
          },
          "showarrow": false,
          "text": "2022-06-30 00:00:00",
          "x": -0.45,
          "xanchor": "left",
          "xref": "x",
          "y": 147,
          "yref": "y"
         },
         {
          "align": "left",
          "font": {
           "color": "#000000"
          },
          "showarrow": false,
          "text": "46",
          "x": 0.55,
          "xanchor": "left",
          "xref": "x",
          "y": 147,
          "yref": "y"
         },
         {
          "align": "left",
          "font": {
           "color": "#000000"
          },
          "showarrow": false,
          "text": "2022-07-01 00:00:00",
          "x": -0.45,
          "xanchor": "left",
          "xref": "x",
          "y": 148,
          "yref": "y"
         },
         {
          "align": "left",
          "font": {
           "color": "#000000"
          },
          "showarrow": false,
          "text": "8",
          "x": 0.55,
          "xanchor": "left",
          "xref": "x",
          "y": 148,
          "yref": "y"
         },
         {
          "align": "left",
          "font": {
           "color": "#000000"
          },
          "showarrow": false,
          "text": "2022-07-03 00:00:00",
          "x": -0.45,
          "xanchor": "left",
          "xref": "x",
          "y": 149,
          "yref": "y"
         },
         {
          "align": "left",
          "font": {
           "color": "#000000"
          },
          "showarrow": false,
          "text": "97",
          "x": 0.55,
          "xanchor": "left",
          "xref": "x",
          "y": 149,
          "yref": "y"
         },
         {
          "align": "left",
          "font": {
           "color": "#000000"
          },
          "showarrow": false,
          "text": "2022-07-04 00:00:00",
          "x": -0.45,
          "xanchor": "left",
          "xref": "x",
          "y": 150,
          "yref": "y"
         },
         {
          "align": "left",
          "font": {
           "color": "#000000"
          },
          "showarrow": false,
          "text": "61",
          "x": 0.55,
          "xanchor": "left",
          "xref": "x",
          "y": 150,
          "yref": "y"
         },
         {
          "align": "left",
          "font": {
           "color": "#000000"
          },
          "showarrow": false,
          "text": "2022-07-05 00:00:00",
          "x": -0.45,
          "xanchor": "left",
          "xref": "x",
          "y": 151,
          "yref": "y"
         },
         {
          "align": "left",
          "font": {
           "color": "#000000"
          },
          "showarrow": false,
          "text": "102",
          "x": 0.55,
          "xanchor": "left",
          "xref": "x",
          "y": 151,
          "yref": "y"
         },
         {
          "align": "left",
          "font": {
           "color": "#000000"
          },
          "showarrow": false,
          "text": "2022-07-06 00:00:00",
          "x": -0.45,
          "xanchor": "left",
          "xref": "x",
          "y": 152,
          "yref": "y"
         },
         {
          "align": "left",
          "font": {
           "color": "#000000"
          },
          "showarrow": false,
          "text": "112",
          "x": 0.55,
          "xanchor": "left",
          "xref": "x",
          "y": 152,
          "yref": "y"
         },
         {
          "align": "left",
          "font": {
           "color": "#000000"
          },
          "showarrow": false,
          "text": "2022-07-07 00:00:00",
          "x": -0.45,
          "xanchor": "left",
          "xref": "x",
          "y": 153,
          "yref": "y"
         },
         {
          "align": "left",
          "font": {
           "color": "#000000"
          },
          "showarrow": false,
          "text": "62",
          "x": 0.55,
          "xanchor": "left",
          "xref": "x",
          "y": 153,
          "yref": "y"
         },
         {
          "align": "left",
          "font": {
           "color": "#000000"
          },
          "showarrow": false,
          "text": "2022-07-08 00:00:00",
          "x": -0.45,
          "xanchor": "left",
          "xref": "x",
          "y": 154,
          "yref": "y"
         },
         {
          "align": "left",
          "font": {
           "color": "#000000"
          },
          "showarrow": false,
          "text": "118",
          "x": 0.55,
          "xanchor": "left",
          "xref": "x",
          "y": 154,
          "yref": "y"
         },
         {
          "align": "left",
          "font": {
           "color": "#000000"
          },
          "showarrow": false,
          "text": "2022-07-09 00:00:00",
          "x": -0.45,
          "xanchor": "left",
          "xref": "x",
          "y": 155,
          "yref": "y"
         },
         {
          "align": "left",
          "font": {
           "color": "#000000"
          },
          "showarrow": false,
          "text": "133",
          "x": 0.55,
          "xanchor": "left",
          "xref": "x",
          "y": 155,
          "yref": "y"
         },
         {
          "align": "left",
          "font": {
           "color": "#000000"
          },
          "showarrow": false,
          "text": "2022-07-10 00:00:00",
          "x": -0.45,
          "xanchor": "left",
          "xref": "x",
          "y": 156,
          "yref": "y"
         },
         {
          "align": "left",
          "font": {
           "color": "#000000"
          },
          "showarrow": false,
          "text": "109",
          "x": 0.55,
          "xanchor": "left",
          "xref": "x",
          "y": 156,
          "yref": "y"
         },
         {
          "align": "left",
          "font": {
           "color": "#000000"
          },
          "showarrow": false,
          "text": "2022-07-11 00:00:00",
          "x": -0.45,
          "xanchor": "left",
          "xref": "x",
          "y": 157,
          "yref": "y"
         },
         {
          "align": "left",
          "font": {
           "color": "#000000"
          },
          "showarrow": false,
          "text": "65",
          "x": 0.55,
          "xanchor": "left",
          "xref": "x",
          "y": 157,
          "yref": "y"
         },
         {
          "align": "left",
          "font": {
           "color": "#000000"
          },
          "showarrow": false,
          "text": "2022-07-12 00:00:00",
          "x": -0.45,
          "xanchor": "left",
          "xref": "x",
          "y": 158,
          "yref": "y"
         },
         {
          "align": "left",
          "font": {
           "color": "#000000"
          },
          "showarrow": false,
          "text": "10",
          "x": 0.55,
          "xanchor": "left",
          "xref": "x",
          "y": 158,
          "yref": "y"
         },
         {
          "align": "left",
          "font": {
           "color": "#000000"
          },
          "showarrow": false,
          "text": "2022-07-26 00:00:00",
          "x": -0.45,
          "xanchor": "left",
          "xref": "x",
          "y": 159,
          "yref": "y"
         },
         {
          "align": "left",
          "font": {
           "color": "#000000"
          },
          "showarrow": false,
          "text": "2",
          "x": 0.55,
          "xanchor": "left",
          "xref": "x",
          "y": 159,
          "yref": "y"
         },
         {
          "align": "left",
          "font": {
           "color": "#000000"
          },
          "showarrow": false,
          "text": "2022-07-29 00:00:00",
          "x": -0.45,
          "xanchor": "left",
          "xref": "x",
          "y": 160,
          "yref": "y"
         },
         {
          "align": "left",
          "font": {
           "color": "#000000"
          },
          "showarrow": false,
          "text": "1",
          "x": 0.55,
          "xanchor": "left",
          "xref": "x",
          "y": 160,
          "yref": "y"
         },
         {
          "align": "left",
          "font": {
           "color": "#000000"
          },
          "showarrow": false,
          "text": "2022-07-30 00:00:00",
          "x": -0.45,
          "xanchor": "left",
          "xref": "x",
          "y": 161,
          "yref": "y"
         },
         {
          "align": "left",
          "font": {
           "color": "#000000"
          },
          "showarrow": false,
          "text": "490",
          "x": 0.55,
          "xanchor": "left",
          "xref": "x",
          "y": 161,
          "yref": "y"
         },
         {
          "align": "left",
          "font": {
           "color": "#000000"
          },
          "showarrow": false,
          "text": "2022-07-31 00:00:00",
          "x": -0.45,
          "xanchor": "left",
          "xref": "x",
          "y": 162,
          "yref": "y"
         },
         {
          "align": "left",
          "font": {
           "color": "#000000"
          },
          "showarrow": false,
          "text": "157",
          "x": 0.55,
          "xanchor": "left",
          "xref": "x",
          "y": 162,
          "yref": "y"
         },
         {
          "align": "left",
          "font": {
           "color": "#000000"
          },
          "showarrow": false,
          "text": "2022-08-01 00:00:00",
          "x": -0.45,
          "xanchor": "left",
          "xref": "x",
          "y": 163,
          "yref": "y"
         },
         {
          "align": "left",
          "font": {
           "color": "#000000"
          },
          "showarrow": false,
          "text": "113",
          "x": 0.55,
          "xanchor": "left",
          "xref": "x",
          "y": 163,
          "yref": "y"
         },
         {
          "align": "left",
          "font": {
           "color": "#000000"
          },
          "showarrow": false,
          "text": "2022-08-02 00:00:00",
          "x": -0.45,
          "xanchor": "left",
          "xref": "x",
          "y": 164,
          "yref": "y"
         },
         {
          "align": "left",
          "font": {
           "color": "#000000"
          },
          "showarrow": false,
          "text": "82",
          "x": 0.55,
          "xanchor": "left",
          "xref": "x",
          "y": 164,
          "yref": "y"
         },
         {
          "align": "left",
          "font": {
           "color": "#000000"
          },
          "showarrow": false,
          "text": "2022-08-03 00:00:00",
          "x": -0.45,
          "xanchor": "left",
          "xref": "x",
          "y": 165,
          "yref": "y"
         },
         {
          "align": "left",
          "font": {
           "color": "#000000"
          },
          "showarrow": false,
          "text": "83",
          "x": 0.55,
          "xanchor": "left",
          "xref": "x",
          "y": 165,
          "yref": "y"
         },
         {
          "align": "left",
          "font": {
           "color": "#000000"
          },
          "showarrow": false,
          "text": "2022-08-04 00:00:00",
          "x": -0.45,
          "xanchor": "left",
          "xref": "x",
          "y": 166,
          "yref": "y"
         },
         {
          "align": "left",
          "font": {
           "color": "#000000"
          },
          "showarrow": false,
          "text": "75",
          "x": 0.55,
          "xanchor": "left",
          "xref": "x",
          "y": 166,
          "yref": "y"
         },
         {
          "align": "left",
          "font": {
           "color": "#000000"
          },
          "showarrow": false,
          "text": "2022-08-05 00:00:00",
          "x": -0.45,
          "xanchor": "left",
          "xref": "x",
          "y": 167,
          "yref": "y"
         },
         {
          "align": "left",
          "font": {
           "color": "#000000"
          },
          "showarrow": false,
          "text": "129",
          "x": 0.55,
          "xanchor": "left",
          "xref": "x",
          "y": 167,
          "yref": "y"
         },
         {
          "align": "left",
          "font": {
           "color": "#000000"
          },
          "showarrow": false,
          "text": "2022-08-06 00:00:00",
          "x": -0.45,
          "xanchor": "left",
          "xref": "x",
          "y": 168,
          "yref": "y"
         },
         {
          "align": "left",
          "font": {
           "color": "#000000"
          },
          "showarrow": false,
          "text": "138",
          "x": 0.55,
          "xanchor": "left",
          "xref": "x",
          "y": 168,
          "yref": "y"
         },
         {
          "align": "left",
          "font": {
           "color": "#000000"
          },
          "showarrow": false,
          "text": "2022-08-07 00:00:00",
          "x": -0.45,
          "xanchor": "left",
          "xref": "x",
          "y": 169,
          "yref": "y"
         },
         {
          "align": "left",
          "font": {
           "color": "#000000"
          },
          "showarrow": false,
          "text": "110",
          "x": 0.55,
          "xanchor": "left",
          "xref": "x",
          "y": 169,
          "yref": "y"
         },
         {
          "align": "left",
          "font": {
           "color": "#000000"
          },
          "showarrow": false,
          "text": "2022-08-08 00:00:00",
          "x": -0.45,
          "xanchor": "left",
          "xref": "x",
          "y": 170,
          "yref": "y"
         },
         {
          "align": "left",
          "font": {
           "color": "#000000"
          },
          "showarrow": false,
          "text": "91",
          "x": 0.55,
          "xanchor": "left",
          "xref": "x",
          "y": 170,
          "yref": "y"
         },
         {
          "align": "left",
          "font": {
           "color": "#000000"
          },
          "showarrow": false,
          "text": "2022-08-09 00:00:00",
          "x": -0.45,
          "xanchor": "left",
          "xref": "x",
          "y": 171,
          "yref": "y"
         },
         {
          "align": "left",
          "font": {
           "color": "#000000"
          },
          "showarrow": false,
          "text": "68",
          "x": 0.55,
          "xanchor": "left",
          "xref": "x",
          "y": 171,
          "yref": "y"
         },
         {
          "align": "left",
          "font": {
           "color": "#000000"
          },
          "showarrow": false,
          "text": "2022-08-10 00:00:00",
          "x": -0.45,
          "xanchor": "left",
          "xref": "x",
          "y": 172,
          "yref": "y"
         },
         {
          "align": "left",
          "font": {
           "color": "#000000"
          },
          "showarrow": false,
          "text": "69",
          "x": 0.55,
          "xanchor": "left",
          "xref": "x",
          "y": 172,
          "yref": "y"
         },
         {
          "align": "left",
          "font": {
           "color": "#000000"
          },
          "showarrow": false,
          "text": "2022-08-11 00:00:00",
          "x": -0.45,
          "xanchor": "left",
          "xref": "x",
          "y": 173,
          "yref": "y"
         },
         {
          "align": "left",
          "font": {
           "color": "#000000"
          },
          "showarrow": false,
          "text": "74",
          "x": 0.55,
          "xanchor": "left",
          "xref": "x",
          "y": 173,
          "yref": "y"
         },
         {
          "align": "left",
          "font": {
           "color": "#000000"
          },
          "showarrow": false,
          "text": "2022-08-12 00:00:00",
          "x": -0.45,
          "xanchor": "left",
          "xref": "x",
          "y": 174,
          "yref": "y"
         },
         {
          "align": "left",
          "font": {
           "color": "#000000"
          },
          "showarrow": false,
          "text": "134",
          "x": 0.55,
          "xanchor": "left",
          "xref": "x",
          "y": 174,
          "yref": "y"
         },
         {
          "align": "left",
          "font": {
           "color": "#000000"
          },
          "showarrow": false,
          "text": "2022-08-13 00:00:00",
          "x": -0.45,
          "xanchor": "left",
          "xref": "x",
          "y": 175,
          "yref": "y"
         },
         {
          "align": "left",
          "font": {
           "color": "#000000"
          },
          "showarrow": false,
          "text": "151",
          "x": 0.55,
          "xanchor": "left",
          "xref": "x",
          "y": 175,
          "yref": "y"
         },
         {
          "align": "left",
          "font": {
           "color": "#000000"
          },
          "showarrow": false,
          "text": "2022-08-14 00:00:00",
          "x": -0.45,
          "xanchor": "left",
          "xref": "x",
          "y": 176,
          "yref": "y"
         },
         {
          "align": "left",
          "font": {
           "color": "#000000"
          },
          "showarrow": false,
          "text": "172",
          "x": 0.55,
          "xanchor": "left",
          "xref": "x",
          "y": 176,
          "yref": "y"
         },
         {
          "align": "left",
          "font": {
           "color": "#000000"
          },
          "showarrow": false,
          "text": "2022-08-15 00:00:00",
          "x": -0.45,
          "xanchor": "left",
          "xref": "x",
          "y": 177,
          "yref": "y"
         },
         {
          "align": "left",
          "font": {
           "color": "#000000"
          },
          "showarrow": false,
          "text": "69",
          "x": 0.55,
          "xanchor": "left",
          "xref": "x",
          "y": 177,
          "yref": "y"
         },
         {
          "align": "left",
          "font": {
           "color": "#000000"
          },
          "showarrow": false,
          "text": "2022-08-16 00:00:00",
          "x": -0.45,
          "xanchor": "left",
          "xref": "x",
          "y": 178,
          "yref": "y"
         },
         {
          "align": "left",
          "font": {
           "color": "#000000"
          },
          "showarrow": false,
          "text": "90",
          "x": 0.55,
          "xanchor": "left",
          "xref": "x",
          "y": 178,
          "yref": "y"
         },
         {
          "align": "left",
          "font": {
           "color": "#000000"
          },
          "showarrow": false,
          "text": "2022-08-17 00:00:00",
          "x": -0.45,
          "xanchor": "left",
          "xref": "x",
          "y": 179,
          "yref": "y"
         },
         {
          "align": "left",
          "font": {
           "color": "#000000"
          },
          "showarrow": false,
          "text": "66",
          "x": 0.55,
          "xanchor": "left",
          "xref": "x",
          "y": 179,
          "yref": "y"
         },
         {
          "align": "left",
          "font": {
           "color": "#000000"
          },
          "showarrow": false,
          "text": "2022-08-18 00:00:00",
          "x": -0.45,
          "xanchor": "left",
          "xref": "x",
          "y": 180,
          "yref": "y"
         },
         {
          "align": "left",
          "font": {
           "color": "#000000"
          },
          "showarrow": false,
          "text": "65",
          "x": 0.55,
          "xanchor": "left",
          "xref": "x",
          "y": 180,
          "yref": "y"
         },
         {
          "align": "left",
          "font": {
           "color": "#000000"
          },
          "showarrow": false,
          "text": "2022-08-19 00:00:00",
          "x": -0.45,
          "xanchor": "left",
          "xref": "x",
          "y": 181,
          "yref": "y"
         },
         {
          "align": "left",
          "font": {
           "color": "#000000"
          },
          "showarrow": false,
          "text": "111",
          "x": 0.55,
          "xanchor": "left",
          "xref": "x",
          "y": 181,
          "yref": "y"
         },
         {
          "align": "left",
          "font": {
           "color": "#000000"
          },
          "showarrow": false,
          "text": "2022-08-20 00:00:00",
          "x": -0.45,
          "xanchor": "left",
          "xref": "x",
          "y": 182,
          "yref": "y"
         },
         {
          "align": "left",
          "font": {
           "color": "#000000"
          },
          "showarrow": false,
          "text": "153",
          "x": 0.55,
          "xanchor": "left",
          "xref": "x",
          "y": 182,
          "yref": "y"
         },
         {
          "align": "left",
          "font": {
           "color": "#000000"
          },
          "showarrow": false,
          "text": "2022-08-21 00:00:00",
          "x": -0.45,
          "xanchor": "left",
          "xref": "x",
          "y": 183,
          "yref": "y"
         },
         {
          "align": "left",
          "font": {
           "color": "#000000"
          },
          "showarrow": false,
          "text": "183",
          "x": 0.55,
          "xanchor": "left",
          "xref": "x",
          "y": 183,
          "yref": "y"
         },
         {
          "align": "left",
          "font": {
           "color": "#000000"
          },
          "showarrow": false,
          "text": "2022-08-22 00:00:00",
          "x": -0.45,
          "xanchor": "left",
          "xref": "x",
          "y": 184,
          "yref": "y"
         },
         {
          "align": "left",
          "font": {
           "color": "#000000"
          },
          "showarrow": false,
          "text": "69",
          "x": 0.55,
          "xanchor": "left",
          "xref": "x",
          "y": 184,
          "yref": "y"
         },
         {
          "align": "left",
          "font": {
           "color": "#000000"
          },
          "showarrow": false,
          "text": "2022-08-23 00:00:00",
          "x": -0.45,
          "xanchor": "left",
          "xref": "x",
          "y": 185,
          "yref": "y"
         },
         {
          "align": "left",
          "font": {
           "color": "#000000"
          },
          "showarrow": false,
          "text": "57",
          "x": 0.55,
          "xanchor": "left",
          "xref": "x",
          "y": 185,
          "yref": "y"
         },
         {
          "align": "left",
          "font": {
           "color": "#000000"
          },
          "showarrow": false,
          "text": "2022-08-24 00:00:00",
          "x": -0.45,
          "xanchor": "left",
          "xref": "x",
          "y": 186,
          "yref": "y"
         },
         {
          "align": "left",
          "font": {
           "color": "#000000"
          },
          "showarrow": false,
          "text": "53",
          "x": 0.55,
          "xanchor": "left",
          "xref": "x",
          "y": 186,
          "yref": "y"
         },
         {
          "align": "left",
          "font": {
           "color": "#000000"
          },
          "showarrow": false,
          "text": "2022-08-25 00:00:00",
          "x": -0.45,
          "xanchor": "left",
          "xref": "x",
          "y": 187,
          "yref": "y"
         },
         {
          "align": "left",
          "font": {
           "color": "#000000"
          },
          "showarrow": false,
          "text": "101",
          "x": 0.55,
          "xanchor": "left",
          "xref": "x",
          "y": 187,
          "yref": "y"
         },
         {
          "align": "left",
          "font": {
           "color": "#000000"
          },
          "showarrow": false,
          "text": "2022-08-26 00:00:00",
          "x": -0.45,
          "xanchor": "left",
          "xref": "x",
          "y": 188,
          "yref": "y"
         },
         {
          "align": "left",
          "font": {
           "color": "#000000"
          },
          "showarrow": false,
          "text": "85",
          "x": 0.55,
          "xanchor": "left",
          "xref": "x",
          "y": 188,
          "yref": "y"
         },
         {
          "align": "left",
          "font": {
           "color": "#000000"
          },
          "showarrow": false,
          "text": "2022-08-27 00:00:00",
          "x": -0.45,
          "xanchor": "left",
          "xref": "x",
          "y": 189,
          "yref": "y"
         },
         {
          "align": "left",
          "font": {
           "color": "#000000"
          },
          "showarrow": false,
          "text": "149",
          "x": 0.55,
          "xanchor": "left",
          "xref": "x",
          "y": 189,
          "yref": "y"
         },
         {
          "align": "left",
          "font": {
           "color": "#000000"
          },
          "showarrow": false,
          "text": "2022-08-28 00:00:00",
          "x": -0.45,
          "xanchor": "left",
          "xref": "x",
          "y": 190,
          "yref": "y"
         },
         {
          "align": "left",
          "font": {
           "color": "#000000"
          },
          "showarrow": false,
          "text": "226",
          "x": 0.55,
          "xanchor": "left",
          "xref": "x",
          "y": 190,
          "yref": "y"
         },
         {
          "align": "left",
          "font": {
           "color": "#000000"
          },
          "showarrow": false,
          "text": "2022-08-29 00:00:00",
          "x": -0.45,
          "xanchor": "left",
          "xref": "x",
          "y": 191,
          "yref": "y"
         },
         {
          "align": "left",
          "font": {
           "color": "#000000"
          },
          "showarrow": false,
          "text": "53",
          "x": 0.55,
          "xanchor": "left",
          "xref": "x",
          "y": 191,
          "yref": "y"
         },
         {
          "align": "left",
          "font": {
           "color": "#000000"
          },
          "showarrow": false,
          "text": "2022-08-30 00:00:00",
          "x": -0.45,
          "xanchor": "left",
          "xref": "x",
          "y": 192,
          "yref": "y"
         },
         {
          "align": "left",
          "font": {
           "color": "#000000"
          },
          "showarrow": false,
          "text": "89",
          "x": 0.55,
          "xanchor": "left",
          "xref": "x",
          "y": 192,
          "yref": "y"
         },
         {
          "align": "left",
          "font": {
           "color": "#000000"
          },
          "showarrow": false,
          "text": "2022-08-31 00:00:00",
          "x": -0.45,
          "xanchor": "left",
          "xref": "x",
          "y": 193,
          "yref": "y"
         },
         {
          "align": "left",
          "font": {
           "color": "#000000"
          },
          "showarrow": false,
          "text": "98",
          "x": 0.55,
          "xanchor": "left",
          "xref": "x",
          "y": 193,
          "yref": "y"
         },
         {
          "align": "left",
          "font": {
           "color": "#000000"
          },
          "showarrow": false,
          "text": "2022-09-01 00:00:00",
          "x": -0.45,
          "xanchor": "left",
          "xref": "x",
          "y": 194,
          "yref": "y"
         },
         {
          "align": "left",
          "font": {
           "color": "#000000"
          },
          "showarrow": false,
          "text": "87",
          "x": 0.55,
          "xanchor": "left",
          "xref": "x",
          "y": 194,
          "yref": "y"
         },
         {
          "align": "left",
          "font": {
           "color": "#000000"
          },
          "showarrow": false,
          "text": "2022-09-02 00:00:00",
          "x": -0.45,
          "xanchor": "left",
          "xref": "x",
          "y": 195,
          "yref": "y"
         },
         {
          "align": "left",
          "font": {
           "color": "#000000"
          },
          "showarrow": false,
          "text": "93",
          "x": 0.55,
          "xanchor": "left",
          "xref": "x",
          "y": 195,
          "yref": "y"
         },
         {
          "align": "left",
          "font": {
           "color": "#000000"
          },
          "showarrow": false,
          "text": "2022-09-03 00:00:00",
          "x": -0.45,
          "xanchor": "left",
          "xref": "x",
          "y": 196,
          "yref": "y"
         },
         {
          "align": "left",
          "font": {
           "color": "#000000"
          },
          "showarrow": false,
          "text": "164",
          "x": 0.55,
          "xanchor": "left",
          "xref": "x",
          "y": 196,
          "yref": "y"
         },
         {
          "align": "left",
          "font": {
           "color": "#000000"
          },
          "showarrow": false,
          "text": "2022-09-04 00:00:00",
          "x": -0.45,
          "xanchor": "left",
          "xref": "x",
          "y": 197,
          "yref": "y"
         },
         {
          "align": "left",
          "font": {
           "color": "#000000"
          },
          "showarrow": false,
          "text": "160",
          "x": 0.55,
          "xanchor": "left",
          "xref": "x",
          "y": 197,
          "yref": "y"
         },
         {
          "align": "left",
          "font": {
           "color": "#000000"
          },
          "showarrow": false,
          "text": "2022-09-05 00:00:00",
          "x": -0.45,
          "xanchor": "left",
          "xref": "x",
          "y": 198,
          "yref": "y"
         },
         {
          "align": "left",
          "font": {
           "color": "#000000"
          },
          "showarrow": false,
          "text": "79",
          "x": 0.55,
          "xanchor": "left",
          "xref": "x",
          "y": 198,
          "yref": "y"
         },
         {
          "align": "left",
          "font": {
           "color": "#000000"
          },
          "showarrow": false,
          "text": "2022-09-06 00:00:00",
          "x": -0.45,
          "xanchor": "left",
          "xref": "x",
          "y": 199,
          "yref": "y"
         },
         {
          "align": "left",
          "font": {
           "color": "#000000"
          },
          "showarrow": false,
          "text": "111",
          "x": 0.55,
          "xanchor": "left",
          "xref": "x",
          "y": 199,
          "yref": "y"
         },
         {
          "align": "left",
          "font": {
           "color": "#000000"
          },
          "showarrow": false,
          "text": "2022-09-07 00:00:00",
          "x": -0.45,
          "xanchor": "left",
          "xref": "x",
          "y": 200,
          "yref": "y"
         },
         {
          "align": "left",
          "font": {
           "color": "#000000"
          },
          "showarrow": false,
          "text": "151",
          "x": 0.55,
          "xanchor": "left",
          "xref": "x",
          "y": 200,
          "yref": "y"
         },
         {
          "align": "left",
          "font": {
           "color": "#000000"
          },
          "showarrow": false,
          "text": "2022-09-08 00:00:00",
          "x": -0.45,
          "xanchor": "left",
          "xref": "x",
          "y": 201,
          "yref": "y"
         },
         {
          "align": "left",
          "font": {
           "color": "#000000"
          },
          "showarrow": false,
          "text": "58",
          "x": 0.55,
          "xanchor": "left",
          "xref": "x",
          "y": 201,
          "yref": "y"
         },
         {
          "align": "left",
          "font": {
           "color": "#000000"
          },
          "showarrow": false,
          "text": "2022-09-09 00:00:00",
          "x": -0.45,
          "xanchor": "left",
          "xref": "x",
          "y": 202,
          "yref": "y"
         },
         {
          "align": "left",
          "font": {
           "color": "#000000"
          },
          "showarrow": false,
          "text": "87",
          "x": 0.55,
          "xanchor": "left",
          "xref": "x",
          "y": 202,
          "yref": "y"
         },
         {
          "align": "left",
          "font": {
           "color": "#000000"
          },
          "showarrow": false,
          "text": "2022-09-10 00:00:00",
          "x": -0.45,
          "xanchor": "left",
          "xref": "x",
          "y": 203,
          "yref": "y"
         },
         {
          "align": "left",
          "font": {
           "color": "#000000"
          },
          "showarrow": false,
          "text": "190",
          "x": 0.55,
          "xanchor": "left",
          "xref": "x",
          "y": 203,
          "yref": "y"
         },
         {
          "align": "left",
          "font": {
           "color": "#000000"
          },
          "showarrow": false,
          "text": "2022-09-11 00:00:00",
          "x": -0.45,
          "xanchor": "left",
          "xref": "x",
          "y": 204,
          "yref": "y"
         },
         {
          "align": "left",
          "font": {
           "color": "#000000"
          },
          "showarrow": false,
          "text": "117",
          "x": 0.55,
          "xanchor": "left",
          "xref": "x",
          "y": 204,
          "yref": "y"
         },
         {
          "align": "left",
          "font": {
           "color": "#000000"
          },
          "showarrow": false,
          "text": "2022-09-12 00:00:00",
          "x": -0.45,
          "xanchor": "left",
          "xref": "x",
          "y": 205,
          "yref": "y"
         },
         {
          "align": "left",
          "font": {
           "color": "#000000"
          },
          "showarrow": false,
          "text": "112",
          "x": 0.55,
          "xanchor": "left",
          "xref": "x",
          "y": 205,
          "yref": "y"
         },
         {
          "align": "left",
          "font": {
           "color": "#000000"
          },
          "showarrow": false,
          "text": "2022-09-13 00:00:00",
          "x": -0.45,
          "xanchor": "left",
          "xref": "x",
          "y": 206,
          "yref": "y"
         },
         {
          "align": "left",
          "font": {
           "color": "#000000"
          },
          "showarrow": false,
          "text": "73",
          "x": 0.55,
          "xanchor": "left",
          "xref": "x",
          "y": 206,
          "yref": "y"
         },
         {
          "align": "left",
          "font": {
           "color": "#000000"
          },
          "showarrow": false,
          "text": "2022-09-14 00:00:00",
          "x": -0.45,
          "xanchor": "left",
          "xref": "x",
          "y": 207,
          "yref": "y"
         },
         {
          "align": "left",
          "font": {
           "color": "#000000"
          },
          "showarrow": false,
          "text": "76",
          "x": 0.55,
          "xanchor": "left",
          "xref": "x",
          "y": 207,
          "yref": "y"
         },
         {
          "align": "left",
          "font": {
           "color": "#000000"
          },
          "showarrow": false,
          "text": "2022-09-15 00:00:00",
          "x": -0.45,
          "xanchor": "left",
          "xref": "x",
          "y": 208,
          "yref": "y"
         },
         {
          "align": "left",
          "font": {
           "color": "#000000"
          },
          "showarrow": false,
          "text": "68",
          "x": 0.55,
          "xanchor": "left",
          "xref": "x",
          "y": 208,
          "yref": "y"
         },
         {
          "align": "left",
          "font": {
           "color": "#000000"
          },
          "showarrow": false,
          "text": "2022-09-16 00:00:00",
          "x": -0.45,
          "xanchor": "left",
          "xref": "x",
          "y": 209,
          "yref": "y"
         },
         {
          "align": "left",
          "font": {
           "color": "#000000"
          },
          "showarrow": false,
          "text": "53",
          "x": 0.55,
          "xanchor": "left",
          "xref": "x",
          "y": 209,
          "yref": "y"
         },
         {
          "align": "left",
          "font": {
           "color": "#000000"
          },
          "showarrow": false,
          "text": "2022-09-17 00:00:00",
          "x": -0.45,
          "xanchor": "left",
          "xref": "x",
          "y": 210,
          "yref": "y"
         },
         {
          "align": "left",
          "font": {
           "color": "#000000"
          },
          "showarrow": false,
          "text": "197",
          "x": 0.55,
          "xanchor": "left",
          "xref": "x",
          "y": 210,
          "yref": "y"
         },
         {
          "align": "left",
          "font": {
           "color": "#000000"
          },
          "showarrow": false,
          "text": "2022-09-18 00:00:00",
          "x": -0.45,
          "xanchor": "left",
          "xref": "x",
          "y": 211,
          "yref": "y"
         },
         {
          "align": "left",
          "font": {
           "color": "#000000"
          },
          "showarrow": false,
          "text": "130",
          "x": 0.55,
          "xanchor": "left",
          "xref": "x",
          "y": 211,
          "yref": "y"
         },
         {
          "align": "left",
          "font": {
           "color": "#000000"
          },
          "showarrow": false,
          "text": "2022-09-20 00:00:00",
          "x": -0.45,
          "xanchor": "left",
          "xref": "x",
          "y": 212,
          "yref": "y"
         },
         {
          "align": "left",
          "font": {
           "color": "#000000"
          },
          "showarrow": false,
          "text": "65",
          "x": 0.55,
          "xanchor": "left",
          "xref": "x",
          "y": 212,
          "yref": "y"
         },
         {
          "align": "left",
          "font": {
           "color": "#000000"
          },
          "showarrow": false,
          "text": "2022-09-21 00:00:00",
          "x": -0.45,
          "xanchor": "left",
          "xref": "x",
          "y": 213,
          "yref": "y"
         },
         {
          "align": "left",
          "font": {
           "color": "#000000"
          },
          "showarrow": false,
          "text": "64",
          "x": 0.55,
          "xanchor": "left",
          "xref": "x",
          "y": 213,
          "yref": "y"
         },
         {
          "align": "left",
          "font": {
           "color": "#000000"
          },
          "showarrow": false,
          "text": "2022-09-22 00:00:00",
          "x": -0.45,
          "xanchor": "left",
          "xref": "x",
          "y": 214,
          "yref": "y"
         },
         {
          "align": "left",
          "font": {
           "color": "#000000"
          },
          "showarrow": false,
          "text": "88",
          "x": 0.55,
          "xanchor": "left",
          "xref": "x",
          "y": 214,
          "yref": "y"
         },
         {
          "align": "left",
          "font": {
           "color": "#000000"
          },
          "showarrow": false,
          "text": "2022-09-23 00:00:00",
          "x": -0.45,
          "xanchor": "left",
          "xref": "x",
          "y": 215,
          "yref": "y"
         },
         {
          "align": "left",
          "font": {
           "color": "#000000"
          },
          "showarrow": false,
          "text": "103",
          "x": 0.55,
          "xanchor": "left",
          "xref": "x",
          "y": 215,
          "yref": "y"
         },
         {
          "align": "left",
          "font": {
           "color": "#000000"
          },
          "showarrow": false,
          "text": "2022-09-24 00:00:00",
          "x": -0.45,
          "xanchor": "left",
          "xref": "x",
          "y": 216,
          "yref": "y"
         },
         {
          "align": "left",
          "font": {
           "color": "#000000"
          },
          "showarrow": false,
          "text": "151",
          "x": 0.55,
          "xanchor": "left",
          "xref": "x",
          "y": 216,
          "yref": "y"
         },
         {
          "align": "left",
          "font": {
           "color": "#000000"
          },
          "showarrow": false,
          "text": "2022-09-25 00:00:00",
          "x": -0.45,
          "xanchor": "left",
          "xref": "x",
          "y": 217,
          "yref": "y"
         },
         {
          "align": "left",
          "font": {
           "color": "#000000"
          },
          "showarrow": false,
          "text": "126",
          "x": 0.55,
          "xanchor": "left",
          "xref": "x",
          "y": 217,
          "yref": "y"
         },
         {
          "align": "left",
          "font": {
           "color": "#000000"
          },
          "showarrow": false,
          "text": "2022-09-26 00:00:00",
          "x": -0.45,
          "xanchor": "left",
          "xref": "x",
          "y": 218,
          "yref": "y"
         },
         {
          "align": "left",
          "font": {
           "color": "#000000"
          },
          "showarrow": false,
          "text": "99",
          "x": 0.55,
          "xanchor": "left",
          "xref": "x",
          "y": 218,
          "yref": "y"
         },
         {
          "align": "left",
          "font": {
           "color": "#000000"
          },
          "showarrow": false,
          "text": "2022-09-27 00:00:00",
          "x": -0.45,
          "xanchor": "left",
          "xref": "x",
          "y": 219,
          "yref": "y"
         },
         {
          "align": "left",
          "font": {
           "color": "#000000"
          },
          "showarrow": false,
          "text": "76",
          "x": 0.55,
          "xanchor": "left",
          "xref": "x",
          "y": 219,
          "yref": "y"
         },
         {
          "align": "left",
          "font": {
           "color": "#000000"
          },
          "showarrow": false,
          "text": "2022-09-28 00:00:00",
          "x": -0.45,
          "xanchor": "left",
          "xref": "x",
          "y": 220,
          "yref": "y"
         },
         {
          "align": "left",
          "font": {
           "color": "#000000"
          },
          "showarrow": false,
          "text": "56",
          "x": 0.55,
          "xanchor": "left",
          "xref": "x",
          "y": 220,
          "yref": "y"
         },
         {
          "align": "left",
          "font": {
           "color": "#000000"
          },
          "showarrow": false,
          "text": "2022-09-29 00:00:00",
          "x": -0.45,
          "xanchor": "left",
          "xref": "x",
          "y": 221,
          "yref": "y"
         },
         {
          "align": "left",
          "font": {
           "color": "#000000"
          },
          "showarrow": false,
          "text": "84",
          "x": 0.55,
          "xanchor": "left",
          "xref": "x",
          "y": 221,
          "yref": "y"
         },
         {
          "align": "left",
          "font": {
           "color": "#000000"
          },
          "showarrow": false,
          "text": "2022-09-30 00:00:00",
          "x": -0.45,
          "xanchor": "left",
          "xref": "x",
          "y": 222,
          "yref": "y"
         },
         {
          "align": "left",
          "font": {
           "color": "#000000"
          },
          "showarrow": false,
          "text": "101",
          "x": 0.55,
          "xanchor": "left",
          "xref": "x",
          "y": 222,
          "yref": "y"
         },
         {
          "align": "left",
          "font": {
           "color": "#000000"
          },
          "showarrow": false,
          "text": "2022-10-01 00:00:00",
          "x": -0.45,
          "xanchor": "left",
          "xref": "x",
          "y": 223,
          "yref": "y"
         },
         {
          "align": "left",
          "font": {
           "color": "#000000"
          },
          "showarrow": false,
          "text": "133",
          "x": 0.55,
          "xanchor": "left",
          "xref": "x",
          "y": 223,
          "yref": "y"
         },
         {
          "align": "left",
          "font": {
           "color": "#000000"
          },
          "showarrow": false,
          "text": "2022-10-02 00:00:00",
          "x": -0.45,
          "xanchor": "left",
          "xref": "x",
          "y": 224,
          "yref": "y"
         },
         {
          "align": "left",
          "font": {
           "color": "#000000"
          },
          "showarrow": false,
          "text": "117",
          "x": 0.55,
          "xanchor": "left",
          "xref": "x",
          "y": 224,
          "yref": "y"
         },
         {
          "align": "left",
          "font": {
           "color": "#000000"
          },
          "showarrow": false,
          "text": "2022-10-03 00:00:00",
          "x": -0.45,
          "xanchor": "left",
          "xref": "x",
          "y": 225,
          "yref": "y"
         },
         {
          "align": "left",
          "font": {
           "color": "#000000"
          },
          "showarrow": false,
          "text": "64",
          "x": 0.55,
          "xanchor": "left",
          "xref": "x",
          "y": 225,
          "yref": "y"
         },
         {
          "align": "left",
          "font": {
           "color": "#000000"
          },
          "showarrow": false,
          "text": "2022-10-04 00:00:00",
          "x": -0.45,
          "xanchor": "left",
          "xref": "x",
          "y": 226,
          "yref": "y"
         },
         {
          "align": "left",
          "font": {
           "color": "#000000"
          },
          "showarrow": false,
          "text": "92",
          "x": 0.55,
          "xanchor": "left",
          "xref": "x",
          "y": 226,
          "yref": "y"
         },
         {
          "align": "left",
          "font": {
           "color": "#000000"
          },
          "showarrow": false,
          "text": "2022-10-05 00:00:00",
          "x": -0.45,
          "xanchor": "left",
          "xref": "x",
          "y": 227,
          "yref": "y"
         },
         {
          "align": "left",
          "font": {
           "color": "#000000"
          },
          "showarrow": false,
          "text": "61",
          "x": 0.55,
          "xanchor": "left",
          "xref": "x",
          "y": 227,
          "yref": "y"
         },
         {
          "align": "left",
          "font": {
           "color": "#000000"
          },
          "showarrow": false,
          "text": "2022-10-06 00:00:00",
          "x": -0.45,
          "xanchor": "left",
          "xref": "x",
          "y": 228,
          "yref": "y"
         },
         {
          "align": "left",
          "font": {
           "color": "#000000"
          },
          "showarrow": false,
          "text": "56",
          "x": 0.55,
          "xanchor": "left",
          "xref": "x",
          "y": 228,
          "yref": "y"
         },
         {
          "align": "left",
          "font": {
           "color": "#000000"
          },
          "showarrow": false,
          "text": "2022-10-07 00:00:00",
          "x": -0.45,
          "xanchor": "left",
          "xref": "x",
          "y": 229,
          "yref": "y"
         },
         {
          "align": "left",
          "font": {
           "color": "#000000"
          },
          "showarrow": false,
          "text": "53",
          "x": 0.55,
          "xanchor": "left",
          "xref": "x",
          "y": 229,
          "yref": "y"
         },
         {
          "align": "left",
          "font": {
           "color": "#000000"
          },
          "showarrow": false,
          "text": "2022-10-08 00:00:00",
          "x": -0.45,
          "xanchor": "left",
          "xref": "x",
          "y": 230,
          "yref": "y"
         },
         {
          "align": "left",
          "font": {
           "color": "#000000"
          },
          "showarrow": false,
          "text": "161",
          "x": 0.55,
          "xanchor": "left",
          "xref": "x",
          "y": 230,
          "yref": "y"
         },
         {
          "align": "left",
          "font": {
           "color": "#000000"
          },
          "showarrow": false,
          "text": "2022-10-09 00:00:00",
          "x": -0.45,
          "xanchor": "left",
          "xref": "x",
          "y": 231,
          "yref": "y"
         },
         {
          "align": "left",
          "font": {
           "color": "#000000"
          },
          "showarrow": false,
          "text": "146",
          "x": 0.55,
          "xanchor": "left",
          "xref": "x",
          "y": 231,
          "yref": "y"
         },
         {
          "align": "left",
          "font": {
           "color": "#000000"
          },
          "showarrow": false,
          "text": "2022-10-10 00:00:00",
          "x": -0.45,
          "xanchor": "left",
          "xref": "x",
          "y": 232,
          "yref": "y"
         },
         {
          "align": "left",
          "font": {
           "color": "#000000"
          },
          "showarrow": false,
          "text": "68",
          "x": 0.55,
          "xanchor": "left",
          "xref": "x",
          "y": 232,
          "yref": "y"
         },
         {
          "align": "left",
          "font": {
           "color": "#000000"
          },
          "showarrow": false,
          "text": "2022-10-11 00:00:00",
          "x": -0.45,
          "xanchor": "left",
          "xref": "x",
          "y": 233,
          "yref": "y"
         },
         {
          "align": "left",
          "font": {
           "color": "#000000"
          },
          "showarrow": false,
          "text": "148",
          "x": 0.55,
          "xanchor": "left",
          "xref": "x",
          "y": 233,
          "yref": "y"
         },
         {
          "align": "left",
          "font": {
           "color": "#000000"
          },
          "showarrow": false,
          "text": "2022-10-12 00:00:00",
          "x": -0.45,
          "xanchor": "left",
          "xref": "x",
          "y": 234,
          "yref": "y"
         },
         {
          "align": "left",
          "font": {
           "color": "#000000"
          },
          "showarrow": false,
          "text": "130",
          "x": 0.55,
          "xanchor": "left",
          "xref": "x",
          "y": 234,
          "yref": "y"
         },
         {
          "align": "left",
          "font": {
           "color": "#000000"
          },
          "showarrow": false,
          "text": "2022-10-13 00:00:00",
          "x": -0.45,
          "xanchor": "left",
          "xref": "x",
          "y": 235,
          "yref": "y"
         },
         {
          "align": "left",
          "font": {
           "color": "#000000"
          },
          "showarrow": false,
          "text": "62",
          "x": 0.55,
          "xanchor": "left",
          "xref": "x",
          "y": 235,
          "yref": "y"
         },
         {
          "align": "left",
          "font": {
           "color": "#000000"
          },
          "showarrow": false,
          "text": "2022-10-14 00:00:00",
          "x": -0.45,
          "xanchor": "left",
          "xref": "x",
          "y": 236,
          "yref": "y"
         },
         {
          "align": "left",
          "font": {
           "color": "#000000"
          },
          "showarrow": false,
          "text": "84",
          "x": 0.55,
          "xanchor": "left",
          "xref": "x",
          "y": 236,
          "yref": "y"
         },
         {
          "align": "left",
          "font": {
           "color": "#000000"
          },
          "showarrow": false,
          "text": "2022-10-15 00:00:00",
          "x": -0.45,
          "xanchor": "left",
          "xref": "x",
          "y": 237,
          "yref": "y"
         },
         {
          "align": "left",
          "font": {
           "color": "#000000"
          },
          "showarrow": false,
          "text": "128",
          "x": 0.55,
          "xanchor": "left",
          "xref": "x",
          "y": 237,
          "yref": "y"
         },
         {
          "align": "left",
          "font": {
           "color": "#000000"
          },
          "showarrow": false,
          "text": "2022-10-16 00:00:00",
          "x": -0.45,
          "xanchor": "left",
          "xref": "x",
          "y": 238,
          "yref": "y"
         },
         {
          "align": "left",
          "font": {
           "color": "#000000"
          },
          "showarrow": false,
          "text": "172",
          "x": 0.55,
          "xanchor": "left",
          "xref": "x",
          "y": 238,
          "yref": "y"
         },
         {
          "align": "left",
          "font": {
           "color": "#000000"
          },
          "showarrow": false,
          "text": "2022-10-17 00:00:00",
          "x": -0.45,
          "xanchor": "left",
          "xref": "x",
          "y": 239,
          "yref": "y"
         },
         {
          "align": "left",
          "font": {
           "color": "#000000"
          },
          "showarrow": false,
          "text": "80",
          "x": 0.55,
          "xanchor": "left",
          "xref": "x",
          "y": 239,
          "yref": "y"
         },
         {
          "align": "left",
          "font": {
           "color": "#000000"
          },
          "showarrow": false,
          "text": "2022-10-18 00:00:00",
          "x": -0.45,
          "xanchor": "left",
          "xref": "x",
          "y": 240,
          "yref": "y"
         },
         {
          "align": "left",
          "font": {
           "color": "#000000"
          },
          "showarrow": false,
          "text": "86",
          "x": 0.55,
          "xanchor": "left",
          "xref": "x",
          "y": 240,
          "yref": "y"
         },
         {
          "align": "left",
          "font": {
           "color": "#000000"
          },
          "showarrow": false,
          "text": "2022-10-19 00:00:00",
          "x": -0.45,
          "xanchor": "left",
          "xref": "x",
          "y": 241,
          "yref": "y"
         },
         {
          "align": "left",
          "font": {
           "color": "#000000"
          },
          "showarrow": false,
          "text": "78",
          "x": 0.55,
          "xanchor": "left",
          "xref": "x",
          "y": 241,
          "yref": "y"
         },
         {
          "align": "left",
          "font": {
           "color": "#000000"
          },
          "showarrow": false,
          "text": "2022-10-20 00:00:00",
          "x": -0.45,
          "xanchor": "left",
          "xref": "x",
          "y": 242,
          "yref": "y"
         },
         {
          "align": "left",
          "font": {
           "color": "#000000"
          },
          "showarrow": false,
          "text": "76",
          "x": 0.55,
          "xanchor": "left",
          "xref": "x",
          "y": 242,
          "yref": "y"
         },
         {
          "align": "left",
          "font": {
           "color": "#000000"
          },
          "showarrow": false,
          "text": "2022-10-21 00:00:00",
          "x": -0.45,
          "xanchor": "left",
          "xref": "x",
          "y": 243,
          "yref": "y"
         },
         {
          "align": "left",
          "font": {
           "color": "#000000"
          },
          "showarrow": false,
          "text": "75",
          "x": 0.55,
          "xanchor": "left",
          "xref": "x",
          "y": 243,
          "yref": "y"
         },
         {
          "align": "left",
          "font": {
           "color": "#000000"
          },
          "showarrow": false,
          "text": "2022-10-22 00:00:00",
          "x": -0.45,
          "xanchor": "left",
          "xref": "x",
          "y": 244,
          "yref": "y"
         },
         {
          "align": "left",
          "font": {
           "color": "#000000"
          },
          "showarrow": false,
          "text": "116",
          "x": 0.55,
          "xanchor": "left",
          "xref": "x",
          "y": 244,
          "yref": "y"
         },
         {
          "align": "left",
          "font": {
           "color": "#000000"
          },
          "showarrow": false,
          "text": "2022-10-23 00:00:00",
          "x": -0.45,
          "xanchor": "left",
          "xref": "x",
          "y": 245,
          "yref": "y"
         },
         {
          "align": "left",
          "font": {
           "color": "#000000"
          },
          "showarrow": false,
          "text": "224",
          "x": 0.55,
          "xanchor": "left",
          "xref": "x",
          "y": 245,
          "yref": "y"
         },
         {
          "align": "left",
          "font": {
           "color": "#000000"
          },
          "showarrow": false,
          "text": "2022-10-24 00:00:00",
          "x": -0.45,
          "xanchor": "left",
          "xref": "x",
          "y": 246,
          "yref": "y"
         },
         {
          "align": "left",
          "font": {
           "color": "#000000"
          },
          "showarrow": false,
          "text": "97",
          "x": 0.55,
          "xanchor": "left",
          "xref": "x",
          "y": 246,
          "yref": "y"
         },
         {
          "align": "left",
          "font": {
           "color": "#000000"
          },
          "showarrow": false,
          "text": "2022-10-25 00:00:00",
          "x": -0.45,
          "xanchor": "left",
          "xref": "x",
          "y": 247,
          "yref": "y"
         },
         {
          "align": "left",
          "font": {
           "color": "#000000"
          },
          "showarrow": false,
          "text": "89",
          "x": 0.55,
          "xanchor": "left",
          "xref": "x",
          "y": 247,
          "yref": "y"
         },
         {
          "align": "left",
          "font": {
           "color": "#000000"
          },
          "showarrow": false,
          "text": "2022-10-26 00:00:00",
          "x": -0.45,
          "xanchor": "left",
          "xref": "x",
          "y": 248,
          "yref": "y"
         },
         {
          "align": "left",
          "font": {
           "color": "#000000"
          },
          "showarrow": false,
          "text": "66",
          "x": 0.55,
          "xanchor": "left",
          "xref": "x",
          "y": 248,
          "yref": "y"
         },
         {
          "align": "left",
          "font": {
           "color": "#000000"
          },
          "showarrow": false,
          "text": "2022-10-27 00:00:00",
          "x": -0.45,
          "xanchor": "left",
          "xref": "x",
          "y": 249,
          "yref": "y"
         },
         {
          "align": "left",
          "font": {
           "color": "#000000"
          },
          "showarrow": false,
          "text": "55",
          "x": 0.55,
          "xanchor": "left",
          "xref": "x",
          "y": 249,
          "yref": "y"
         },
         {
          "align": "left",
          "font": {
           "color": "#000000"
          },
          "showarrow": false,
          "text": "2022-10-28 00:00:00",
          "x": -0.45,
          "xanchor": "left",
          "xref": "x",
          "y": 250,
          "yref": "y"
         },
         {
          "align": "left",
          "font": {
           "color": "#000000"
          },
          "showarrow": false,
          "text": "135",
          "x": 0.55,
          "xanchor": "left",
          "xref": "x",
          "y": 250,
          "yref": "y"
         },
         {
          "align": "left",
          "font": {
           "color": "#000000"
          },
          "showarrow": false,
          "text": "2022-10-29 00:00:00",
          "x": -0.45,
          "xanchor": "left",
          "xref": "x",
          "y": 251,
          "yref": "y"
         },
         {
          "align": "left",
          "font": {
           "color": "#000000"
          },
          "showarrow": false,
          "text": "112",
          "x": 0.55,
          "xanchor": "left",
          "xref": "x",
          "y": 251,
          "yref": "y"
         },
         {
          "align": "left",
          "font": {
           "color": "#000000"
          },
          "showarrow": false,
          "text": "2022-10-30 00:00:00",
          "x": -0.45,
          "xanchor": "left",
          "xref": "x",
          "y": 252,
          "yref": "y"
         },
         {
          "align": "left",
          "font": {
           "color": "#000000"
          },
          "showarrow": false,
          "text": "94",
          "x": 0.55,
          "xanchor": "left",
          "xref": "x",
          "y": 252,
          "yref": "y"
         },
         {
          "align": "left",
          "font": {
           "color": "#000000"
          },
          "showarrow": false,
          "text": "2022-10-31 00:00:00",
          "x": -0.45,
          "xanchor": "left",
          "xref": "x",
          "y": 253,
          "yref": "y"
         },
         {
          "align": "left",
          "font": {
           "color": "#000000"
          },
          "showarrow": false,
          "text": "67",
          "x": 0.55,
          "xanchor": "left",
          "xref": "x",
          "y": 253,
          "yref": "y"
         }
        ],
        "height": 7670,
        "margin": {
         "b": 0,
         "l": 0,
         "r": 0,
         "t": 0
        },
        "template": {
         "data": {
          "bar": [
           {
            "error_x": {
             "color": "#2a3f5f"
            },
            "error_y": {
             "color": "#2a3f5f"
            },
            "marker": {
             "line": {
              "color": "#E5ECF6",
              "width": 0.5
             },
             "pattern": {
              "fillmode": "overlay",
              "size": 10,
              "solidity": 0.2
             }
            },
            "type": "bar"
           }
          ],
          "barpolar": [
           {
            "marker": {
             "line": {
              "color": "#E5ECF6",
              "width": 0.5
             },
             "pattern": {
              "fillmode": "overlay",
              "size": 10,
              "solidity": 0.2
             }
            },
            "type": "barpolar"
           }
          ],
          "carpet": [
           {
            "aaxis": {
             "endlinecolor": "#2a3f5f",
             "gridcolor": "white",
             "linecolor": "white",
             "minorgridcolor": "white",
             "startlinecolor": "#2a3f5f"
            },
            "baxis": {
             "endlinecolor": "#2a3f5f",
             "gridcolor": "white",
             "linecolor": "white",
             "minorgridcolor": "white",
             "startlinecolor": "#2a3f5f"
            },
            "type": "carpet"
           }
          ],
          "choropleth": [
           {
            "colorbar": {
             "outlinewidth": 0,
             "ticks": ""
            },
            "type": "choropleth"
           }
          ],
          "contour": [
           {
            "colorbar": {
             "outlinewidth": 0,
             "ticks": ""
            },
            "colorscale": [
             [
              0,
              "#0d0887"
             ],
             [
              0.1111111111111111,
              "#46039f"
             ],
             [
              0.2222222222222222,
              "#7201a8"
             ],
             [
              0.3333333333333333,
              "#9c179e"
             ],
             [
              0.4444444444444444,
              "#bd3786"
             ],
             [
              0.5555555555555556,
              "#d8576b"
             ],
             [
              0.6666666666666666,
              "#ed7953"
             ],
             [
              0.7777777777777778,
              "#fb9f3a"
             ],
             [
              0.8888888888888888,
              "#fdca26"
             ],
             [
              1,
              "#f0f921"
             ]
            ],
            "type": "contour"
           }
          ],
          "contourcarpet": [
           {
            "colorbar": {
             "outlinewidth": 0,
             "ticks": ""
            },
            "type": "contourcarpet"
           }
          ],
          "heatmap": [
           {
            "colorbar": {
             "outlinewidth": 0,
             "ticks": ""
            },
            "colorscale": [
             [
              0,
              "#0d0887"
             ],
             [
              0.1111111111111111,
              "#46039f"
             ],
             [
              0.2222222222222222,
              "#7201a8"
             ],
             [
              0.3333333333333333,
              "#9c179e"
             ],
             [
              0.4444444444444444,
              "#bd3786"
             ],
             [
              0.5555555555555556,
              "#d8576b"
             ],
             [
              0.6666666666666666,
              "#ed7953"
             ],
             [
              0.7777777777777778,
              "#fb9f3a"
             ],
             [
              0.8888888888888888,
              "#fdca26"
             ],
             [
              1,
              "#f0f921"
             ]
            ],
            "type": "heatmap"
           }
          ],
          "heatmapgl": [
           {
            "colorbar": {
             "outlinewidth": 0,
             "ticks": ""
            },
            "colorscale": [
             [
              0,
              "#0d0887"
             ],
             [
              0.1111111111111111,
              "#46039f"
             ],
             [
              0.2222222222222222,
              "#7201a8"
             ],
             [
              0.3333333333333333,
              "#9c179e"
             ],
             [
              0.4444444444444444,
              "#bd3786"
             ],
             [
              0.5555555555555556,
              "#d8576b"
             ],
             [
              0.6666666666666666,
              "#ed7953"
             ],
             [
              0.7777777777777778,
              "#fb9f3a"
             ],
             [
              0.8888888888888888,
              "#fdca26"
             ],
             [
              1,
              "#f0f921"
             ]
            ],
            "type": "heatmapgl"
           }
          ],
          "histogram": [
           {
            "marker": {
             "pattern": {
              "fillmode": "overlay",
              "size": 10,
              "solidity": 0.2
             }
            },
            "type": "histogram"
           }
          ],
          "histogram2d": [
           {
            "colorbar": {
             "outlinewidth": 0,
             "ticks": ""
            },
            "colorscale": [
             [
              0,
              "#0d0887"
             ],
             [
              0.1111111111111111,
              "#46039f"
             ],
             [
              0.2222222222222222,
              "#7201a8"
             ],
             [
              0.3333333333333333,
              "#9c179e"
             ],
             [
              0.4444444444444444,
              "#bd3786"
             ],
             [
              0.5555555555555556,
              "#d8576b"
             ],
             [
              0.6666666666666666,
              "#ed7953"
             ],
             [
              0.7777777777777778,
              "#fb9f3a"
             ],
             [
              0.8888888888888888,
              "#fdca26"
             ],
             [
              1,
              "#f0f921"
             ]
            ],
            "type": "histogram2d"
           }
          ],
          "histogram2dcontour": [
           {
            "colorbar": {
             "outlinewidth": 0,
             "ticks": ""
            },
            "colorscale": [
             [
              0,
              "#0d0887"
             ],
             [
              0.1111111111111111,
              "#46039f"
             ],
             [
              0.2222222222222222,
              "#7201a8"
             ],
             [
              0.3333333333333333,
              "#9c179e"
             ],
             [
              0.4444444444444444,
              "#bd3786"
             ],
             [
              0.5555555555555556,
              "#d8576b"
             ],
             [
              0.6666666666666666,
              "#ed7953"
             ],
             [
              0.7777777777777778,
              "#fb9f3a"
             ],
             [
              0.8888888888888888,
              "#fdca26"
             ],
             [
              1,
              "#f0f921"
             ]
            ],
            "type": "histogram2dcontour"
           }
          ],
          "mesh3d": [
           {
            "colorbar": {
             "outlinewidth": 0,
             "ticks": ""
            },
            "type": "mesh3d"
           }
          ],
          "parcoords": [
           {
            "line": {
             "colorbar": {
              "outlinewidth": 0,
              "ticks": ""
             }
            },
            "type": "parcoords"
           }
          ],
          "pie": [
           {
            "automargin": true,
            "type": "pie"
           }
          ],
          "scatter": [
           {
            "fillpattern": {
             "fillmode": "overlay",
             "size": 10,
             "solidity": 0.2
            },
            "type": "scatter"
           }
          ],
          "scatter3d": [
           {
            "line": {
             "colorbar": {
              "outlinewidth": 0,
              "ticks": ""
             }
            },
            "marker": {
             "colorbar": {
              "outlinewidth": 0,
              "ticks": ""
             }
            },
            "type": "scatter3d"
           }
          ],
          "scattercarpet": [
           {
            "marker": {
             "colorbar": {
              "outlinewidth": 0,
              "ticks": ""
             }
            },
            "type": "scattercarpet"
           }
          ],
          "scattergeo": [
           {
            "marker": {
             "colorbar": {
              "outlinewidth": 0,
              "ticks": ""
             }
            },
            "type": "scattergeo"
           }
          ],
          "scattergl": [
           {
            "marker": {
             "colorbar": {
              "outlinewidth": 0,
              "ticks": ""
             }
            },
            "type": "scattergl"
           }
          ],
          "scattermapbox": [
           {
            "marker": {
             "colorbar": {
              "outlinewidth": 0,
              "ticks": ""
             }
            },
            "type": "scattermapbox"
           }
          ],
          "scatterpolar": [
           {
            "marker": {
             "colorbar": {
              "outlinewidth": 0,
              "ticks": ""
             }
            },
            "type": "scatterpolar"
           }
          ],
          "scatterpolargl": [
           {
            "marker": {
             "colorbar": {
              "outlinewidth": 0,
              "ticks": ""
             }
            },
            "type": "scatterpolargl"
           }
          ],
          "scatterternary": [
           {
            "marker": {
             "colorbar": {
              "outlinewidth": 0,
              "ticks": ""
             }
            },
            "type": "scatterternary"
           }
          ],
          "surface": [
           {
            "colorbar": {
             "outlinewidth": 0,
             "ticks": ""
            },
            "colorscale": [
             [
              0,
              "#0d0887"
             ],
             [
              0.1111111111111111,
              "#46039f"
             ],
             [
              0.2222222222222222,
              "#7201a8"
             ],
             [
              0.3333333333333333,
              "#9c179e"
             ],
             [
              0.4444444444444444,
              "#bd3786"
             ],
             [
              0.5555555555555556,
              "#d8576b"
             ],
             [
              0.6666666666666666,
              "#ed7953"
             ],
             [
              0.7777777777777778,
              "#fb9f3a"
             ],
             [
              0.8888888888888888,
              "#fdca26"
             ],
             [
              1,
              "#f0f921"
             ]
            ],
            "type": "surface"
           }
          ],
          "table": [
           {
            "cells": {
             "fill": {
              "color": "#EBF0F8"
             },
             "line": {
              "color": "white"
             }
            },
            "header": {
             "fill": {
              "color": "#C8D4E3"
             },
             "line": {
              "color": "white"
             }
            },
            "type": "table"
           }
          ]
         },
         "layout": {
          "annotationdefaults": {
           "arrowcolor": "#2a3f5f",
           "arrowhead": 0,
           "arrowwidth": 1
          },
          "autotypenumbers": "strict",
          "coloraxis": {
           "colorbar": {
            "outlinewidth": 0,
            "ticks": ""
           }
          },
          "colorscale": {
           "diverging": [
            [
             0,
             "#8e0152"
            ],
            [
             0.1,
             "#c51b7d"
            ],
            [
             0.2,
             "#de77ae"
            ],
            [
             0.3,
             "#f1b6da"
            ],
            [
             0.4,
             "#fde0ef"
            ],
            [
             0.5,
             "#f7f7f7"
            ],
            [
             0.6,
             "#e6f5d0"
            ],
            [
             0.7,
             "#b8e186"
            ],
            [
             0.8,
             "#7fbc41"
            ],
            [
             0.9,
             "#4d9221"
            ],
            [
             1,
             "#276419"
            ]
           ],
           "sequential": [
            [
             0,
             "#0d0887"
            ],
            [
             0.1111111111111111,
             "#46039f"
            ],
            [
             0.2222222222222222,
             "#7201a8"
            ],
            [
             0.3333333333333333,
             "#9c179e"
            ],
            [
             0.4444444444444444,
             "#bd3786"
            ],
            [
             0.5555555555555556,
             "#d8576b"
            ],
            [
             0.6666666666666666,
             "#ed7953"
            ],
            [
             0.7777777777777778,
             "#fb9f3a"
            ],
            [
             0.8888888888888888,
             "#fdca26"
            ],
            [
             1,
             "#f0f921"
            ]
           ],
           "sequentialminus": [
            [
             0,
             "#0d0887"
            ],
            [
             0.1111111111111111,
             "#46039f"
            ],
            [
             0.2222222222222222,
             "#7201a8"
            ],
            [
             0.3333333333333333,
             "#9c179e"
            ],
            [
             0.4444444444444444,
             "#bd3786"
            ],
            [
             0.5555555555555556,
             "#d8576b"
            ],
            [
             0.6666666666666666,
             "#ed7953"
            ],
            [
             0.7777777777777778,
             "#fb9f3a"
            ],
            [
             0.8888888888888888,
             "#fdca26"
            ],
            [
             1,
             "#f0f921"
            ]
           ]
          },
          "colorway": [
           "#636efa",
           "#EF553B",
           "#00cc96",
           "#ab63fa",
           "#FFA15A",
           "#19d3f3",
           "#FF6692",
           "#B6E880",
           "#FF97FF",
           "#FECB52"
          ],
          "font": {
           "color": "#2a3f5f"
          },
          "geo": {
           "bgcolor": "white",
           "lakecolor": "white",
           "landcolor": "#E5ECF6",
           "showlakes": true,
           "showland": true,
           "subunitcolor": "white"
          },
          "hoverlabel": {
           "align": "left"
          },
          "hovermode": "closest",
          "mapbox": {
           "style": "light"
          },
          "paper_bgcolor": "white",
          "plot_bgcolor": "#E5ECF6",
          "polar": {
           "angularaxis": {
            "gridcolor": "white",
            "linecolor": "white",
            "ticks": ""
           },
           "bgcolor": "#E5ECF6",
           "radialaxis": {
            "gridcolor": "white",
            "linecolor": "white",
            "ticks": ""
           }
          },
          "scene": {
           "xaxis": {
            "backgroundcolor": "#E5ECF6",
            "gridcolor": "white",
            "gridwidth": 2,
            "linecolor": "white",
            "showbackground": true,
            "ticks": "",
            "zerolinecolor": "white"
           },
           "yaxis": {
            "backgroundcolor": "#E5ECF6",
            "gridcolor": "white",
            "gridwidth": 2,
            "linecolor": "white",
            "showbackground": true,
            "ticks": "",
            "zerolinecolor": "white"
           },
           "zaxis": {
            "backgroundcolor": "#E5ECF6",
            "gridcolor": "white",
            "gridwidth": 2,
            "linecolor": "white",
            "showbackground": true,
            "ticks": "",
            "zerolinecolor": "white"
           }
          },
          "shapedefaults": {
           "line": {
            "color": "#2a3f5f"
           }
          },
          "ternary": {
           "aaxis": {
            "gridcolor": "white",
            "linecolor": "white",
            "ticks": ""
           },
           "baxis": {
            "gridcolor": "white",
            "linecolor": "white",
            "ticks": ""
           },
           "bgcolor": "#E5ECF6",
           "caxis": {
            "gridcolor": "white",
            "linecolor": "white",
            "ticks": ""
           }
          },
          "title": {
           "x": 0.05
          },
          "xaxis": {
           "automargin": true,
           "gridcolor": "white",
           "linecolor": "white",
           "ticks": "",
           "title": {
            "standoff": 15
           },
           "zerolinecolor": "white",
           "zerolinewidth": 2
          },
          "yaxis": {
           "automargin": true,
           "gridcolor": "white",
           "linecolor": "white",
           "ticks": "",
           "title": {
            "standoff": 15
           },
           "zerolinecolor": "white",
           "zerolinewidth": 2
          }
         }
        },
        "xaxis": {
         "dtick": 1,
         "gridwidth": 2,
         "showticklabels": false,
         "tick0": -0.5,
         "ticks": "",
         "zeroline": false
        },
        "yaxis": {
         "autorange": "reversed",
         "dtick": 1,
         "gridwidth": 2,
         "showticklabels": false,
         "tick0": 0.5,
         "ticks": "",
         "zeroline": false
        }
       }
      },
      "text/html": [
       "<div>                            <div id=\"636ea2c4-f6d4-4b38-a458-1e9f08ae6a52\" class=\"plotly-graph-div\" style=\"height:7670px; width:100%;\"></div>            <script type=\"text/javascript\">                require([\"plotly\"], function(Plotly) {                    window.PLOTLYENV=window.PLOTLYENV || {};                                    if (document.getElementById(\"636ea2c4-f6d4-4b38-a458-1e9f08ae6a52\")) {                    Plotly.newPlot(                        \"636ea2c4-f6d4-4b38-a458-1e9f08ae6a52\",                        [{\"colorscale\":[[0,\"#00083e\"],[0.5,\"#ededee\"],[1,\"#ffffff\"]],\"hoverinfo\":\"none\",\"opacity\":0.75,\"showscale\":false,\"z\":[[0,0],[0.5,0.5],[1,1],[0.5,0.5],[1,1],[0.5,0.5],[1,1],[0.5,0.5],[1,1],[0.5,0.5],[1,1],[0.5,0.5],[1,1],[0.5,0.5],[1,1],[0.5,0.5],[1,1],[0.5,0.5],[1,1],[0.5,0.5],[1,1],[0.5,0.5],[1,1],[0.5,0.5],[1,1],[0.5,0.5],[1,1],[0.5,0.5],[1,1],[0.5,0.5],[1,1],[0.5,0.5],[1,1],[0.5,0.5],[1,1],[0.5,0.5],[1,1],[0.5,0.5],[1,1],[0.5,0.5],[1,1],[0.5,0.5],[1,1],[0.5,0.5],[1,1],[0.5,0.5],[1,1],[0.5,0.5],[1,1],[0.5,0.5],[1,1],[0.5,0.5],[1,1],[0.5,0.5],[1,1],[0.5,0.5],[1,1],[0.5,0.5],[1,1],[0.5,0.5],[1,1],[0.5,0.5],[1,1],[0.5,0.5],[1,1],[0.5,0.5],[1,1],[0.5,0.5],[1,1],[0.5,0.5],[1,1],[0.5,0.5],[1,1],[0.5,0.5],[1,1],[0.5,0.5],[1,1],[0.5,0.5],[1,1],[0.5,0.5],[1,1],[0.5,0.5],[1,1],[0.5,0.5],[1,1],[0.5,0.5],[1,1],[0.5,0.5],[1,1],[0.5,0.5],[1,1],[0.5,0.5],[1,1],[0.5,0.5],[1,1],[0.5,0.5],[1,1],[0.5,0.5],[1,1],[0.5,0.5],[1,1],[0.5,0.5],[1,1],[0.5,0.5],[1,1],[0.5,0.5],[1,1],[0.5,0.5],[1,1],[0.5,0.5],[1,1],[0.5,0.5],[1,1],[0.5,0.5],[1,1],[0.5,0.5],[1,1],[0.5,0.5],[1,1],[0.5,0.5],[1,1],[0.5,0.5],[1,1],[0.5,0.5],[1,1],[0.5,0.5],[1,1],[0.5,0.5],[1,1],[0.5,0.5],[1,1],[0.5,0.5],[1,1],[0.5,0.5],[1,1],[0.5,0.5],[1,1],[0.5,0.5],[1,1],[0.5,0.5],[1,1],[0.5,0.5],[1,1],[0.5,0.5],[1,1],[0.5,0.5],[1,1],[0.5,0.5],[1,1],[0.5,0.5],[1,1],[0.5,0.5],[1,1],[0.5,0.5],[1,1],[0.5,0.5],[1,1],[0.5,0.5],[1,1],[0.5,0.5],[1,1],[0.5,0.5],[1,1],[0.5,0.5],[1,1],[0.5,0.5],[1,1],[0.5,0.5],[1,1],[0.5,0.5],[1,1],[0.5,0.5],[1,1],[0.5,0.5],[1,1],[0.5,0.5],[1,1],[0.5,0.5],[1,1],[0.5,0.5],[1,1],[0.5,0.5],[1,1],[0.5,0.5],[1,1],[0.5,0.5],[1,1],[0.5,0.5],[1,1],[0.5,0.5],[1,1],[0.5,0.5],[1,1],[0.5,0.5],[1,1],[0.5,0.5],[1,1],[0.5,0.5],[1,1],[0.5,0.5],[1,1],[0.5,0.5],[1,1],[0.5,0.5],[1,1],[0.5,0.5],[1,1],[0.5,0.5],[1,1],[0.5,0.5],[1,1],[0.5,0.5],[1,1],[0.5,0.5],[1,1],[0.5,0.5],[1,1],[0.5,0.5],[1,1],[0.5,0.5],[1,1],[0.5,0.5],[1,1],[0.5,0.5],[1,1],[0.5,0.5],[1,1],[0.5,0.5],[1,1],[0.5,0.5],[1,1],[0.5,0.5],[1,1],[0.5,0.5],[1,1],[0.5,0.5],[1,1],[0.5,0.5],[1,1],[0.5,0.5],[1,1],[0.5,0.5],[1,1],[0.5,0.5],[1,1],[0.5,0.5],[1,1],[0.5,0.5],[1,1],[0.5,0.5],[1,1],[0.5,0.5],[1,1],[0.5,0.5]],\"type\":\"heatmap\"}],                        {\"annotations\":[{\"align\":\"left\",\"font\":{\"color\":\"#ffffff\"},\"showarrow\":false,\"text\":\"<b>data</b>\",\"x\":-0.45,\"xanchor\":\"left\",\"xref\":\"x\",\"y\":0,\"yref\":\"y\"},{\"align\":\"left\",\"font\":{\"color\":\"#ffffff\"},\"showarrow\":false,\"text\":\"<b>item_count</b>\",\"x\":0.55,\"xanchor\":\"left\",\"xref\":\"x\",\"y\":0,\"yref\":\"y\"},{\"align\":\"left\",\"font\":{\"color\":\"#000000\"},\"showarrow\":false,\"text\":\"2022-02-01 00:00:00\",\"x\":-0.45,\"xanchor\":\"left\",\"xref\":\"x\",\"y\":1,\"yref\":\"y\"},{\"align\":\"left\",\"font\":{\"color\":\"#000000\"},\"showarrow\":false,\"text\":\"74\",\"x\":0.55,\"xanchor\":\"left\",\"xref\":\"x\",\"y\":1,\"yref\":\"y\"},{\"align\":\"left\",\"font\":{\"color\":\"#000000\"},\"showarrow\":false,\"text\":\"2022-02-02 00:00:00\",\"x\":-0.45,\"xanchor\":\"left\",\"xref\":\"x\",\"y\":2,\"yref\":\"y\"},{\"align\":\"left\",\"font\":{\"color\":\"#000000\"},\"showarrow\":false,\"text\":\"88\",\"x\":0.55,\"xanchor\":\"left\",\"xref\":\"x\",\"y\":2,\"yref\":\"y\"},{\"align\":\"left\",\"font\":{\"color\":\"#000000\"},\"showarrow\":false,\"text\":\"2022-02-03 00:00:00\",\"x\":-0.45,\"xanchor\":\"left\",\"xref\":\"x\",\"y\":3,\"yref\":\"y\"},{\"align\":\"left\",\"font\":{\"color\":\"#000000\"},\"showarrow\":false,\"text\":\"81\",\"x\":0.55,\"xanchor\":\"left\",\"xref\":\"x\",\"y\":3,\"yref\":\"y\"},{\"align\":\"left\",\"font\":{\"color\":\"#000000\"},\"showarrow\":false,\"text\":\"2022-02-04 00:00:00\",\"x\":-0.45,\"xanchor\":\"left\",\"xref\":\"x\",\"y\":4,\"yref\":\"y\"},{\"align\":\"left\",\"font\":{\"color\":\"#000000\"},\"showarrow\":false,\"text\":\"110\",\"x\":0.55,\"xanchor\":\"left\",\"xref\":\"x\",\"y\":4,\"yref\":\"y\"},{\"align\":\"left\",\"font\":{\"color\":\"#000000\"},\"showarrow\":false,\"text\":\"2022-02-05 00:00:00\",\"x\":-0.45,\"xanchor\":\"left\",\"xref\":\"x\",\"y\":5,\"yref\":\"y\"},{\"align\":\"left\",\"font\":{\"color\":\"#000000\"},\"showarrow\":false,\"text\":\"112\",\"x\":0.55,\"xanchor\":\"left\",\"xref\":\"x\",\"y\":5,\"yref\":\"y\"},{\"align\":\"left\",\"font\":{\"color\":\"#000000\"},\"showarrow\":false,\"text\":\"2022-02-06 00:00:00\",\"x\":-0.45,\"xanchor\":\"left\",\"xref\":\"x\",\"y\":6,\"yref\":\"y\"},{\"align\":\"left\",\"font\":{\"color\":\"#000000\"},\"showarrow\":false,\"text\":\"121\",\"x\":0.55,\"xanchor\":\"left\",\"xref\":\"x\",\"y\":6,\"yref\":\"y\"},{\"align\":\"left\",\"font\":{\"color\":\"#000000\"},\"showarrow\":false,\"text\":\"2022-02-07 00:00:00\",\"x\":-0.45,\"xanchor\":\"left\",\"xref\":\"x\",\"y\":7,\"yref\":\"y\"},{\"align\":\"left\",\"font\":{\"color\":\"#000000\"},\"showarrow\":false,\"text\":\"61\",\"x\":0.55,\"xanchor\":\"left\",\"xref\":\"x\",\"y\":7,\"yref\":\"y\"},{\"align\":\"left\",\"font\":{\"color\":\"#000000\"},\"showarrow\":false,\"text\":\"2022-02-09 00:00:00\",\"x\":-0.45,\"xanchor\":\"left\",\"xref\":\"x\",\"y\":8,\"yref\":\"y\"},{\"align\":\"left\",\"font\":{\"color\":\"#000000\"},\"showarrow\":false,\"text\":\"101\",\"x\":0.55,\"xanchor\":\"left\",\"xref\":\"x\",\"y\":8,\"yref\":\"y\"},{\"align\":\"left\",\"font\":{\"color\":\"#000000\"},\"showarrow\":false,\"text\":\"2022-02-10 00:00:00\",\"x\":-0.45,\"xanchor\":\"left\",\"xref\":\"x\",\"y\":9,\"yref\":\"y\"},{\"align\":\"left\",\"font\":{\"color\":\"#000000\"},\"showarrow\":false,\"text\":\"88\",\"x\":0.55,\"xanchor\":\"left\",\"xref\":\"x\",\"y\":9,\"yref\":\"y\"},{\"align\":\"left\",\"font\":{\"color\":\"#000000\"},\"showarrow\":false,\"text\":\"2022-02-11 00:00:00\",\"x\":-0.45,\"xanchor\":\"left\",\"xref\":\"x\",\"y\":10,\"yref\":\"y\"},{\"align\":\"left\",\"font\":{\"color\":\"#000000\"},\"showarrow\":false,\"text\":\"87\",\"x\":0.55,\"xanchor\":\"left\",\"xref\":\"x\",\"y\":10,\"yref\":\"y\"},{\"align\":\"left\",\"font\":{\"color\":\"#000000\"},\"showarrow\":false,\"text\":\"2022-02-12 00:00:00\",\"x\":-0.45,\"xanchor\":\"left\",\"xref\":\"x\",\"y\":11,\"yref\":\"y\"},{\"align\":\"left\",\"font\":{\"color\":\"#000000\"},\"showarrow\":false,\"text\":\"108\",\"x\":0.55,\"xanchor\":\"left\",\"xref\":\"x\",\"y\":11,\"yref\":\"y\"},{\"align\":\"left\",\"font\":{\"color\":\"#000000\"},\"showarrow\":false,\"text\":\"2022-02-13 00:00:00\",\"x\":-0.45,\"xanchor\":\"left\",\"xref\":\"x\",\"y\":12,\"yref\":\"y\"},{\"align\":\"left\",\"font\":{\"color\":\"#000000\"},\"showarrow\":false,\"text\":\"186\",\"x\":0.55,\"xanchor\":\"left\",\"xref\":\"x\",\"y\":12,\"yref\":\"y\"},{\"align\":\"left\",\"font\":{\"color\":\"#000000\"},\"showarrow\":false,\"text\":\"2022-02-14 00:00:00\",\"x\":-0.45,\"xanchor\":\"left\",\"xref\":\"x\",\"y\":13,\"yref\":\"y\"},{\"align\":\"left\",\"font\":{\"color\":\"#000000\"},\"showarrow\":false,\"text\":\"77\",\"x\":0.55,\"xanchor\":\"left\",\"xref\":\"x\",\"y\":13,\"yref\":\"y\"},{\"align\":\"left\",\"font\":{\"color\":\"#000000\"},\"showarrow\":false,\"text\":\"2022-02-16 00:00:00\",\"x\":-0.45,\"xanchor\":\"left\",\"xref\":\"x\",\"y\":14,\"yref\":\"y\"},{\"align\":\"left\",\"font\":{\"color\":\"#000000\"},\"showarrow\":false,\"text\":\"93\",\"x\":0.55,\"xanchor\":\"left\",\"xref\":\"x\",\"y\":14,\"yref\":\"y\"},{\"align\":\"left\",\"font\":{\"color\":\"#000000\"},\"showarrow\":false,\"text\":\"2022-02-17 00:00:00\",\"x\":-0.45,\"xanchor\":\"left\",\"xref\":\"x\",\"y\":15,\"yref\":\"y\"},{\"align\":\"left\",\"font\":{\"color\":\"#000000\"},\"showarrow\":false,\"text\":\"68\",\"x\":0.55,\"xanchor\":\"left\",\"xref\":\"x\",\"y\":15,\"yref\":\"y\"},{\"align\":\"left\",\"font\":{\"color\":\"#000000\"},\"showarrow\":false,\"text\":\"2022-02-18 00:00:00\",\"x\":-0.45,\"xanchor\":\"left\",\"xref\":\"x\",\"y\":16,\"yref\":\"y\"},{\"align\":\"left\",\"font\":{\"color\":\"#000000\"},\"showarrow\":false,\"text\":\"106\",\"x\":0.55,\"xanchor\":\"left\",\"xref\":\"x\",\"y\":16,\"yref\":\"y\"},{\"align\":\"left\",\"font\":{\"color\":\"#000000\"},\"showarrow\":false,\"text\":\"2022-02-19 00:00:00\",\"x\":-0.45,\"xanchor\":\"left\",\"xref\":\"x\",\"y\":17,\"yref\":\"y\"},{\"align\":\"left\",\"font\":{\"color\":\"#000000\"},\"showarrow\":false,\"text\":\"107\",\"x\":0.55,\"xanchor\":\"left\",\"xref\":\"x\",\"y\":17,\"yref\":\"y\"},{\"align\":\"left\",\"font\":{\"color\":\"#000000\"},\"showarrow\":false,\"text\":\"2022-02-20 00:00:00\",\"x\":-0.45,\"xanchor\":\"left\",\"xref\":\"x\",\"y\":18,\"yref\":\"y\"},{\"align\":\"left\",\"font\":{\"color\":\"#000000\"},\"showarrow\":false,\"text\":\"156\",\"x\":0.55,\"xanchor\":\"left\",\"xref\":\"x\",\"y\":18,\"yref\":\"y\"},{\"align\":\"left\",\"font\":{\"color\":\"#000000\"},\"showarrow\":false,\"text\":\"2022-02-21 00:00:00\",\"x\":-0.45,\"xanchor\":\"left\",\"xref\":\"x\",\"y\":19,\"yref\":\"y\"},{\"align\":\"left\",\"font\":{\"color\":\"#000000\"},\"showarrow\":false,\"text\":\"75\",\"x\":0.55,\"xanchor\":\"left\",\"xref\":\"x\",\"y\":19,\"yref\":\"y\"},{\"align\":\"left\",\"font\":{\"color\":\"#000000\"},\"showarrow\":false,\"text\":\"2022-02-23 00:00:00\",\"x\":-0.45,\"xanchor\":\"left\",\"xref\":\"x\",\"y\":20,\"yref\":\"y\"},{\"align\":\"left\",\"font\":{\"color\":\"#000000\"},\"showarrow\":false,\"text\":\"81\",\"x\":0.55,\"xanchor\":\"left\",\"xref\":\"x\",\"y\":20,\"yref\":\"y\"},{\"align\":\"left\",\"font\":{\"color\":\"#000000\"},\"showarrow\":false,\"text\":\"2022-02-24 00:00:00\",\"x\":-0.45,\"xanchor\":\"left\",\"xref\":\"x\",\"y\":21,\"yref\":\"y\"},{\"align\":\"left\",\"font\":{\"color\":\"#000000\"},\"showarrow\":false,\"text\":\"60\",\"x\":0.55,\"xanchor\":\"left\",\"xref\":\"x\",\"y\":21,\"yref\":\"y\"},{\"align\":\"left\",\"font\":{\"color\":\"#000000\"},\"showarrow\":false,\"text\":\"2022-02-25 00:00:00\",\"x\":-0.45,\"xanchor\":\"left\",\"xref\":\"x\",\"y\":22,\"yref\":\"y\"},{\"align\":\"left\",\"font\":{\"color\":\"#000000\"},\"showarrow\":false,\"text\":\"106\",\"x\":0.55,\"xanchor\":\"left\",\"xref\":\"x\",\"y\":22,\"yref\":\"y\"},{\"align\":\"left\",\"font\":{\"color\":\"#000000\"},\"showarrow\":false,\"text\":\"2022-02-26 00:00:00\",\"x\":-0.45,\"xanchor\":\"left\",\"xref\":\"x\",\"y\":23,\"yref\":\"y\"},{\"align\":\"left\",\"font\":{\"color\":\"#000000\"},\"showarrow\":false,\"text\":\"96\",\"x\":0.55,\"xanchor\":\"left\",\"xref\":\"x\",\"y\":23,\"yref\":\"y\"},{\"align\":\"left\",\"font\":{\"color\":\"#000000\"},\"showarrow\":false,\"text\":\"2022-02-27 00:00:00\",\"x\":-0.45,\"xanchor\":\"left\",\"xref\":\"x\",\"y\":24,\"yref\":\"y\"},{\"align\":\"left\",\"font\":{\"color\":\"#000000\"},\"showarrow\":false,\"text\":\"86\",\"x\":0.55,\"xanchor\":\"left\",\"xref\":\"x\",\"y\":24,\"yref\":\"y\"},{\"align\":\"left\",\"font\":{\"color\":\"#000000\"},\"showarrow\":false,\"text\":\"2022-02-28 00:00:00\",\"x\":-0.45,\"xanchor\":\"left\",\"xref\":\"x\",\"y\":25,\"yref\":\"y\"},{\"align\":\"left\",\"font\":{\"color\":\"#000000\"},\"showarrow\":false,\"text\":\"91\",\"x\":0.55,\"xanchor\":\"left\",\"xref\":\"x\",\"y\":25,\"yref\":\"y\"},{\"align\":\"left\",\"font\":{\"color\":\"#000000\"},\"showarrow\":false,\"text\":\"2022-03-01 00:00:00\",\"x\":-0.45,\"xanchor\":\"left\",\"xref\":\"x\",\"y\":26,\"yref\":\"y\"},{\"align\":\"left\",\"font\":{\"color\":\"#000000\"},\"showarrow\":false,\"text\":\"87\",\"x\":0.55,\"xanchor\":\"left\",\"xref\":\"x\",\"y\":26,\"yref\":\"y\"},{\"align\":\"left\",\"font\":{\"color\":\"#000000\"},\"showarrow\":false,\"text\":\"2022-03-02 00:00:00\",\"x\":-0.45,\"xanchor\":\"left\",\"xref\":\"x\",\"y\":27,\"yref\":\"y\"},{\"align\":\"left\",\"font\":{\"color\":\"#000000\"},\"showarrow\":false,\"text\":\"92\",\"x\":0.55,\"xanchor\":\"left\",\"xref\":\"x\",\"y\":27,\"yref\":\"y\"},{\"align\":\"left\",\"font\":{\"color\":\"#000000\"},\"showarrow\":false,\"text\":\"2022-03-03 00:00:00\",\"x\":-0.45,\"xanchor\":\"left\",\"xref\":\"x\",\"y\":28,\"yref\":\"y\"},{\"align\":\"left\",\"font\":{\"color\":\"#000000\"},\"showarrow\":false,\"text\":\"73\",\"x\":0.55,\"xanchor\":\"left\",\"xref\":\"x\",\"y\":28,\"yref\":\"y\"},{\"align\":\"left\",\"font\":{\"color\":\"#000000\"},\"showarrow\":false,\"text\":\"2022-03-04 00:00:00\",\"x\":-0.45,\"xanchor\":\"left\",\"xref\":\"x\",\"y\":29,\"yref\":\"y\"},{\"align\":\"left\",\"font\":{\"color\":\"#000000\"},\"showarrow\":false,\"text\":\"60\",\"x\":0.55,\"xanchor\":\"left\",\"xref\":\"x\",\"y\":29,\"yref\":\"y\"},{\"align\":\"left\",\"font\":{\"color\":\"#000000\"},\"showarrow\":false,\"text\":\"2022-03-05 00:00:00\",\"x\":-0.45,\"xanchor\":\"left\",\"xref\":\"x\",\"y\":30,\"yref\":\"y\"},{\"align\":\"left\",\"font\":{\"color\":\"#000000\"},\"showarrow\":false,\"text\":\"176\",\"x\":0.55,\"xanchor\":\"left\",\"xref\":\"x\",\"y\":30,\"yref\":\"y\"},{\"align\":\"left\",\"font\":{\"color\":\"#000000\"},\"showarrow\":false,\"text\":\"2022-03-06 00:00:00\",\"x\":-0.45,\"xanchor\":\"left\",\"xref\":\"x\",\"y\":31,\"yref\":\"y\"},{\"align\":\"left\",\"font\":{\"color\":\"#000000\"},\"showarrow\":false,\"text\":\"126\",\"x\":0.55,\"xanchor\":\"left\",\"xref\":\"x\",\"y\":31,\"yref\":\"y\"},{\"align\":\"left\",\"font\":{\"color\":\"#000000\"},\"showarrow\":false,\"text\":\"2022-03-07 00:00:00\",\"x\":-0.45,\"xanchor\":\"left\",\"xref\":\"x\",\"y\":32,\"yref\":\"y\"},{\"align\":\"left\",\"font\":{\"color\":\"#000000\"},\"showarrow\":false,\"text\":\"38\",\"x\":0.55,\"xanchor\":\"left\",\"xref\":\"x\",\"y\":32,\"yref\":\"y\"},{\"align\":\"left\",\"font\":{\"color\":\"#000000\"},\"showarrow\":false,\"text\":\"2022-03-08 00:00:00\",\"x\":-0.45,\"xanchor\":\"left\",\"xref\":\"x\",\"y\":33,\"yref\":\"y\"},{\"align\":\"left\",\"font\":{\"color\":\"#000000\"},\"showarrow\":false,\"text\":\"77\",\"x\":0.55,\"xanchor\":\"left\",\"xref\":\"x\",\"y\":33,\"yref\":\"y\"},{\"align\":\"left\",\"font\":{\"color\":\"#000000\"},\"showarrow\":false,\"text\":\"2022-03-09 00:00:00\",\"x\":-0.45,\"xanchor\":\"left\",\"xref\":\"x\",\"y\":34,\"yref\":\"y\"},{\"align\":\"left\",\"font\":{\"color\":\"#000000\"},\"showarrow\":false,\"text\":\"51\",\"x\":0.55,\"xanchor\":\"left\",\"xref\":\"x\",\"y\":34,\"yref\":\"y\"},{\"align\":\"left\",\"font\":{\"color\":\"#000000\"},\"showarrow\":false,\"text\":\"2022-03-10 00:00:00\",\"x\":-0.45,\"xanchor\":\"left\",\"xref\":\"x\",\"y\":35,\"yref\":\"y\"},{\"align\":\"left\",\"font\":{\"color\":\"#000000\"},\"showarrow\":false,\"text\":\"73\",\"x\":0.55,\"xanchor\":\"left\",\"xref\":\"x\",\"y\":35,\"yref\":\"y\"},{\"align\":\"left\",\"font\":{\"color\":\"#000000\"},\"showarrow\":false,\"text\":\"2022-03-11 00:00:00\",\"x\":-0.45,\"xanchor\":\"left\",\"xref\":\"x\",\"y\":36,\"yref\":\"y\"},{\"align\":\"left\",\"font\":{\"color\":\"#000000\"},\"showarrow\":false,\"text\":\"37\",\"x\":0.55,\"xanchor\":\"left\",\"xref\":\"x\",\"y\":36,\"yref\":\"y\"},{\"align\":\"left\",\"font\":{\"color\":\"#000000\"},\"showarrow\":false,\"text\":\"2022-03-12 00:00:00\",\"x\":-0.45,\"xanchor\":\"left\",\"xref\":\"x\",\"y\":37,\"yref\":\"y\"},{\"align\":\"left\",\"font\":{\"color\":\"#000000\"},\"showarrow\":false,\"text\":\"135\",\"x\":0.55,\"xanchor\":\"left\",\"xref\":\"x\",\"y\":37,\"yref\":\"y\"},{\"align\":\"left\",\"font\":{\"color\":\"#000000\"},\"showarrow\":false,\"text\":\"2022-03-13 00:00:00\",\"x\":-0.45,\"xanchor\":\"left\",\"xref\":\"x\",\"y\":38,\"yref\":\"y\"},{\"align\":\"left\",\"font\":{\"color\":\"#000000\"},\"showarrow\":false,\"text\":\"145\",\"x\":0.55,\"xanchor\":\"left\",\"xref\":\"x\",\"y\":38,\"yref\":\"y\"},{\"align\":\"left\",\"font\":{\"color\":\"#000000\"},\"showarrow\":false,\"text\":\"2022-03-14 00:00:00\",\"x\":-0.45,\"xanchor\":\"left\",\"xref\":\"x\",\"y\":39,\"yref\":\"y\"},{\"align\":\"left\",\"font\":{\"color\":\"#000000\"},\"showarrow\":false,\"text\":\"39\",\"x\":0.55,\"xanchor\":\"left\",\"xref\":\"x\",\"y\":39,\"yref\":\"y\"},{\"align\":\"left\",\"font\":{\"color\":\"#000000\"},\"showarrow\":false,\"text\":\"2022-03-15 00:00:00\",\"x\":-0.45,\"xanchor\":\"left\",\"xref\":\"x\",\"y\":40,\"yref\":\"y\"},{\"align\":\"left\",\"font\":{\"color\":\"#000000\"},\"showarrow\":false,\"text\":\"67\",\"x\":0.55,\"xanchor\":\"left\",\"xref\":\"x\",\"y\":40,\"yref\":\"y\"},{\"align\":\"left\",\"font\":{\"color\":\"#000000\"},\"showarrow\":false,\"text\":\"2022-03-16 00:00:00\",\"x\":-0.45,\"xanchor\":\"left\",\"xref\":\"x\",\"y\":41,\"yref\":\"y\"},{\"align\":\"left\",\"font\":{\"color\":\"#000000\"},\"showarrow\":false,\"text\":\"95\",\"x\":0.55,\"xanchor\":\"left\",\"xref\":\"x\",\"y\":41,\"yref\":\"y\"},{\"align\":\"left\",\"font\":{\"color\":\"#000000\"},\"showarrow\":false,\"text\":\"2022-03-17 00:00:00\",\"x\":-0.45,\"xanchor\":\"left\",\"xref\":\"x\",\"y\":42,\"yref\":\"y\"},{\"align\":\"left\",\"font\":{\"color\":\"#000000\"},\"showarrow\":false,\"text\":\"114\",\"x\":0.55,\"xanchor\":\"left\",\"xref\":\"x\",\"y\":42,\"yref\":\"y\"},{\"align\":\"left\",\"font\":{\"color\":\"#000000\"},\"showarrow\":false,\"text\":\"2022-03-18 00:00:00\",\"x\":-0.45,\"xanchor\":\"left\",\"xref\":\"x\",\"y\":43,\"yref\":\"y\"},{\"align\":\"left\",\"font\":{\"color\":\"#000000\"},\"showarrow\":false,\"text\":\"48\",\"x\":0.55,\"xanchor\":\"left\",\"xref\":\"x\",\"y\":43,\"yref\":\"y\"},{\"align\":\"left\",\"font\":{\"color\":\"#000000\"},\"showarrow\":false,\"text\":\"2022-03-19 00:00:00\",\"x\":-0.45,\"xanchor\":\"left\",\"xref\":\"x\",\"y\":44,\"yref\":\"y\"},{\"align\":\"left\",\"font\":{\"color\":\"#000000\"},\"showarrow\":false,\"text\":\"164\",\"x\":0.55,\"xanchor\":\"left\",\"xref\":\"x\",\"y\":44,\"yref\":\"y\"},{\"align\":\"left\",\"font\":{\"color\":\"#000000\"},\"showarrow\":false,\"text\":\"2022-03-20 00:00:00\",\"x\":-0.45,\"xanchor\":\"left\",\"xref\":\"x\",\"y\":45,\"yref\":\"y\"},{\"align\":\"left\",\"font\":{\"color\":\"#000000\"},\"showarrow\":false,\"text\":\"140\",\"x\":0.55,\"xanchor\":\"left\",\"xref\":\"x\",\"y\":45,\"yref\":\"y\"},{\"align\":\"left\",\"font\":{\"color\":\"#000000\"},\"showarrow\":false,\"text\":\"2022-03-21 00:00:00\",\"x\":-0.45,\"xanchor\":\"left\",\"xref\":\"x\",\"y\":46,\"yref\":\"y\"},{\"align\":\"left\",\"font\":{\"color\":\"#000000\"},\"showarrow\":false,\"text\":\"72\",\"x\":0.55,\"xanchor\":\"left\",\"xref\":\"x\",\"y\":46,\"yref\":\"y\"},{\"align\":\"left\",\"font\":{\"color\":\"#000000\"},\"showarrow\":false,\"text\":\"2022-03-22 00:00:00\",\"x\":-0.45,\"xanchor\":\"left\",\"xref\":\"x\",\"y\":47,\"yref\":\"y\"},{\"align\":\"left\",\"font\":{\"color\":\"#000000\"},\"showarrow\":false,\"text\":\"83\",\"x\":0.55,\"xanchor\":\"left\",\"xref\":\"x\",\"y\":47,\"yref\":\"y\"},{\"align\":\"left\",\"font\":{\"color\":\"#000000\"},\"showarrow\":false,\"text\":\"2022-03-23 00:00:00\",\"x\":-0.45,\"xanchor\":\"left\",\"xref\":\"x\",\"y\":48,\"yref\":\"y\"},{\"align\":\"left\",\"font\":{\"color\":\"#000000\"},\"showarrow\":false,\"text\":\"70\",\"x\":0.55,\"xanchor\":\"left\",\"xref\":\"x\",\"y\":48,\"yref\":\"y\"},{\"align\":\"left\",\"font\":{\"color\":\"#000000\"},\"showarrow\":false,\"text\":\"2022-03-24 00:00:00\",\"x\":-0.45,\"xanchor\":\"left\",\"xref\":\"x\",\"y\":49,\"yref\":\"y\"},{\"align\":\"left\",\"font\":{\"color\":\"#000000\"},\"showarrow\":false,\"text\":\"67\",\"x\":0.55,\"xanchor\":\"left\",\"xref\":\"x\",\"y\":49,\"yref\":\"y\"},{\"align\":\"left\",\"font\":{\"color\":\"#000000\"},\"showarrow\":false,\"text\":\"2022-03-25 00:00:00\",\"x\":-0.45,\"xanchor\":\"left\",\"xref\":\"x\",\"y\":50,\"yref\":\"y\"},{\"align\":\"left\",\"font\":{\"color\":\"#000000\"},\"showarrow\":false,\"text\":\"48\",\"x\":0.55,\"xanchor\":\"left\",\"xref\":\"x\",\"y\":50,\"yref\":\"y\"},{\"align\":\"left\",\"font\":{\"color\":\"#000000\"},\"showarrow\":false,\"text\":\"2022-03-26 00:00:00\",\"x\":-0.45,\"xanchor\":\"left\",\"xref\":\"x\",\"y\":51,\"yref\":\"y\"},{\"align\":\"left\",\"font\":{\"color\":\"#000000\"},\"showarrow\":false,\"text\":\"102\",\"x\":0.55,\"xanchor\":\"left\",\"xref\":\"x\",\"y\":51,\"yref\":\"y\"},{\"align\":\"left\",\"font\":{\"color\":\"#000000\"},\"showarrow\":false,\"text\":\"2022-03-27 00:00:00\",\"x\":-0.45,\"xanchor\":\"left\",\"xref\":\"x\",\"y\":52,\"yref\":\"y\"},{\"align\":\"left\",\"font\":{\"color\":\"#000000\"},\"showarrow\":false,\"text\":\"121\",\"x\":0.55,\"xanchor\":\"left\",\"xref\":\"x\",\"y\":52,\"yref\":\"y\"},{\"align\":\"left\",\"font\":{\"color\":\"#000000\"},\"showarrow\":false,\"text\":\"2022-03-28 00:00:00\",\"x\":-0.45,\"xanchor\":\"left\",\"xref\":\"x\",\"y\":53,\"yref\":\"y\"},{\"align\":\"left\",\"font\":{\"color\":\"#000000\"},\"showarrow\":false,\"text\":\"61\",\"x\":0.55,\"xanchor\":\"left\",\"xref\":\"x\",\"y\":53,\"yref\":\"y\"},{\"align\":\"left\",\"font\":{\"color\":\"#000000\"},\"showarrow\":false,\"text\":\"2022-03-29 00:00:00\",\"x\":-0.45,\"xanchor\":\"left\",\"xref\":\"x\",\"y\":54,\"yref\":\"y\"},{\"align\":\"left\",\"font\":{\"color\":\"#000000\"},\"showarrow\":false,\"text\":\"43\",\"x\":0.55,\"xanchor\":\"left\",\"xref\":\"x\",\"y\":54,\"yref\":\"y\"},{\"align\":\"left\",\"font\":{\"color\":\"#000000\"},\"showarrow\":false,\"text\":\"2022-03-30 00:00:00\",\"x\":-0.45,\"xanchor\":\"left\",\"xref\":\"x\",\"y\":55,\"yref\":\"y\"},{\"align\":\"left\",\"font\":{\"color\":\"#000000\"},\"showarrow\":false,\"text\":\"65\",\"x\":0.55,\"xanchor\":\"left\",\"xref\":\"x\",\"y\":55,\"yref\":\"y\"},{\"align\":\"left\",\"font\":{\"color\":\"#000000\"},\"showarrow\":false,\"text\":\"2022-03-31 00:00:00\",\"x\":-0.45,\"xanchor\":\"left\",\"xref\":\"x\",\"y\":56,\"yref\":\"y\"},{\"align\":\"left\",\"font\":{\"color\":\"#000000\"},\"showarrow\":false,\"text\":\"111\",\"x\":0.55,\"xanchor\":\"left\",\"xref\":\"x\",\"y\":56,\"yref\":\"y\"},{\"align\":\"left\",\"font\":{\"color\":\"#000000\"},\"showarrow\":false,\"text\":\"2022-04-01 00:00:00\",\"x\":-0.45,\"xanchor\":\"left\",\"xref\":\"x\",\"y\":57,\"yref\":\"y\"},{\"align\":\"left\",\"font\":{\"color\":\"#000000\"},\"showarrow\":false,\"text\":\"65\",\"x\":0.55,\"xanchor\":\"left\",\"xref\":\"x\",\"y\":57,\"yref\":\"y\"},{\"align\":\"left\",\"font\":{\"color\":\"#000000\"},\"showarrow\":false,\"text\":\"2022-04-02 00:00:00\",\"x\":-0.45,\"xanchor\":\"left\",\"xref\":\"x\",\"y\":58,\"yref\":\"y\"},{\"align\":\"left\",\"font\":{\"color\":\"#000000\"},\"showarrow\":false,\"text\":\"65\",\"x\":0.55,\"xanchor\":\"left\",\"xref\":\"x\",\"y\":58,\"yref\":\"y\"},{\"align\":\"left\",\"font\":{\"color\":\"#000000\"},\"showarrow\":false,\"text\":\"2022-04-03 00:00:00\",\"x\":-0.45,\"xanchor\":\"left\",\"xref\":\"x\",\"y\":59,\"yref\":\"y\"},{\"align\":\"left\",\"font\":{\"color\":\"#000000\"},\"showarrow\":false,\"text\":\"93\",\"x\":0.55,\"xanchor\":\"left\",\"xref\":\"x\",\"y\":59,\"yref\":\"y\"},{\"align\":\"left\",\"font\":{\"color\":\"#000000\"},\"showarrow\":false,\"text\":\"2022-04-04 00:00:00\",\"x\":-0.45,\"xanchor\":\"left\",\"xref\":\"x\",\"y\":60,\"yref\":\"y\"},{\"align\":\"left\",\"font\":{\"color\":\"#000000\"},\"showarrow\":false,\"text\":\"51\",\"x\":0.55,\"xanchor\":\"left\",\"xref\":\"x\",\"y\":60,\"yref\":\"y\"},{\"align\":\"left\",\"font\":{\"color\":\"#000000\"},\"showarrow\":false,\"text\":\"2022-04-05 00:00:00\",\"x\":-0.45,\"xanchor\":\"left\",\"xref\":\"x\",\"y\":61,\"yref\":\"y\"},{\"align\":\"left\",\"font\":{\"color\":\"#000000\"},\"showarrow\":false,\"text\":\"56\",\"x\":0.55,\"xanchor\":\"left\",\"xref\":\"x\",\"y\":61,\"yref\":\"y\"},{\"align\":\"left\",\"font\":{\"color\":\"#000000\"},\"showarrow\":false,\"text\":\"2022-04-06 00:00:00\",\"x\":-0.45,\"xanchor\":\"left\",\"xref\":\"x\",\"y\":62,\"yref\":\"y\"},{\"align\":\"left\",\"font\":{\"color\":\"#000000\"},\"showarrow\":false,\"text\":\"49\",\"x\":0.55,\"xanchor\":\"left\",\"xref\":\"x\",\"y\":62,\"yref\":\"y\"},{\"align\":\"left\",\"font\":{\"color\":\"#000000\"},\"showarrow\":false,\"text\":\"2022-04-07 00:00:00\",\"x\":-0.45,\"xanchor\":\"left\",\"xref\":\"x\",\"y\":63,\"yref\":\"y\"},{\"align\":\"left\",\"font\":{\"color\":\"#000000\"},\"showarrow\":false,\"text\":\"79\",\"x\":0.55,\"xanchor\":\"left\",\"xref\":\"x\",\"y\":63,\"yref\":\"y\"},{\"align\":\"left\",\"font\":{\"color\":\"#000000\"},\"showarrow\":false,\"text\":\"2022-04-08 00:00:00\",\"x\":-0.45,\"xanchor\":\"left\",\"xref\":\"x\",\"y\":64,\"yref\":\"y\"},{\"align\":\"left\",\"font\":{\"color\":\"#000000\"},\"showarrow\":false,\"text\":\"89\",\"x\":0.55,\"xanchor\":\"left\",\"xref\":\"x\",\"y\":64,\"yref\":\"y\"},{\"align\":\"left\",\"font\":{\"color\":\"#000000\"},\"showarrow\":false,\"text\":\"2022-04-09 00:00:00\",\"x\":-0.45,\"xanchor\":\"left\",\"xref\":\"x\",\"y\":65,\"yref\":\"y\"},{\"align\":\"left\",\"font\":{\"color\":\"#000000\"},\"showarrow\":false,\"text\":\"78\",\"x\":0.55,\"xanchor\":\"left\",\"xref\":\"x\",\"y\":65,\"yref\":\"y\"},{\"align\":\"left\",\"font\":{\"color\":\"#000000\"},\"showarrow\":false,\"text\":\"2022-04-10 00:00:00\",\"x\":-0.45,\"xanchor\":\"left\",\"xref\":\"x\",\"y\":66,\"yref\":\"y\"},{\"align\":\"left\",\"font\":{\"color\":\"#000000\"},\"showarrow\":false,\"text\":\"77\",\"x\":0.55,\"xanchor\":\"left\",\"xref\":\"x\",\"y\":66,\"yref\":\"y\"},{\"align\":\"left\",\"font\":{\"color\":\"#000000\"},\"showarrow\":false,\"text\":\"2022-04-11 00:00:00\",\"x\":-0.45,\"xanchor\":\"left\",\"xref\":\"x\",\"y\":67,\"yref\":\"y\"},{\"align\":\"left\",\"font\":{\"color\":\"#000000\"},\"showarrow\":false,\"text\":\"40\",\"x\":0.55,\"xanchor\":\"left\",\"xref\":\"x\",\"y\":67,\"yref\":\"y\"},{\"align\":\"left\",\"font\":{\"color\":\"#000000\"},\"showarrow\":false,\"text\":\"2022-04-12 00:00:00\",\"x\":-0.45,\"xanchor\":\"left\",\"xref\":\"x\",\"y\":68,\"yref\":\"y\"},{\"align\":\"left\",\"font\":{\"color\":\"#000000\"},\"showarrow\":false,\"text\":\"35\",\"x\":0.55,\"xanchor\":\"left\",\"xref\":\"x\",\"y\":68,\"yref\":\"y\"},{\"align\":\"left\",\"font\":{\"color\":\"#000000\"},\"showarrow\":false,\"text\":\"2022-04-13 00:00:00\",\"x\":-0.45,\"xanchor\":\"left\",\"xref\":\"x\",\"y\":69,\"yref\":\"y\"},{\"align\":\"left\",\"font\":{\"color\":\"#000000\"},\"showarrow\":false,\"text\":\"102\",\"x\":0.55,\"xanchor\":\"left\",\"xref\":\"x\",\"y\":69,\"yref\":\"y\"},{\"align\":\"left\",\"font\":{\"color\":\"#000000\"},\"showarrow\":false,\"text\":\"2022-04-14 00:00:00\",\"x\":-0.45,\"xanchor\":\"left\",\"xref\":\"x\",\"y\":70,\"yref\":\"y\"},{\"align\":\"left\",\"font\":{\"color\":\"#000000\"},\"showarrow\":false,\"text\":\"104\",\"x\":0.55,\"xanchor\":\"left\",\"xref\":\"x\",\"y\":70,\"yref\":\"y\"},{\"align\":\"left\",\"font\":{\"color\":\"#000000\"},\"showarrow\":false,\"text\":\"2022-04-15 00:00:00\",\"x\":-0.45,\"xanchor\":\"left\",\"xref\":\"x\",\"y\":71,\"yref\":\"y\"},{\"align\":\"left\",\"font\":{\"color\":\"#000000\"},\"showarrow\":false,\"text\":\"19\",\"x\":0.55,\"xanchor\":\"left\",\"xref\":\"x\",\"y\":71,\"yref\":\"y\"},{\"align\":\"left\",\"font\":{\"color\":\"#000000\"},\"showarrow\":false,\"text\":\"2022-04-16 00:00:00\",\"x\":-0.45,\"xanchor\":\"left\",\"xref\":\"x\",\"y\":72,\"yref\":\"y\"},{\"align\":\"left\",\"font\":{\"color\":\"#000000\"},\"showarrow\":false,\"text\":\"81\",\"x\":0.55,\"xanchor\":\"left\",\"xref\":\"x\",\"y\":72,\"yref\":\"y\"},{\"align\":\"left\",\"font\":{\"color\":\"#000000\"},\"showarrow\":false,\"text\":\"2022-04-17 00:00:00\",\"x\":-0.45,\"xanchor\":\"left\",\"xref\":\"x\",\"y\":73,\"yref\":\"y\"},{\"align\":\"left\",\"font\":{\"color\":\"#000000\"},\"showarrow\":false,\"text\":\"97\",\"x\":0.55,\"xanchor\":\"left\",\"xref\":\"x\",\"y\":73,\"yref\":\"y\"},{\"align\":\"left\",\"font\":{\"color\":\"#000000\"},\"showarrow\":false,\"text\":\"2022-04-18 00:00:00\",\"x\":-0.45,\"xanchor\":\"left\",\"xref\":\"x\",\"y\":74,\"yref\":\"y\"},{\"align\":\"left\",\"font\":{\"color\":\"#000000\"},\"showarrow\":false,\"text\":\"38\",\"x\":0.55,\"xanchor\":\"left\",\"xref\":\"x\",\"y\":74,\"yref\":\"y\"},{\"align\":\"left\",\"font\":{\"color\":\"#000000\"},\"showarrow\":false,\"text\":\"2022-04-19 00:00:00\",\"x\":-0.45,\"xanchor\":\"left\",\"xref\":\"x\",\"y\":75,\"yref\":\"y\"},{\"align\":\"left\",\"font\":{\"color\":\"#000000\"},\"showarrow\":false,\"text\":\"40\",\"x\":0.55,\"xanchor\":\"left\",\"xref\":\"x\",\"y\":75,\"yref\":\"y\"},{\"align\":\"left\",\"font\":{\"color\":\"#000000\"},\"showarrow\":false,\"text\":\"2022-04-20 00:00:00\",\"x\":-0.45,\"xanchor\":\"left\",\"xref\":\"x\",\"y\":76,\"yref\":\"y\"},{\"align\":\"left\",\"font\":{\"color\":\"#000000\"},\"showarrow\":false,\"text\":\"52\",\"x\":0.55,\"xanchor\":\"left\",\"xref\":\"x\",\"y\":76,\"yref\":\"y\"},{\"align\":\"left\",\"font\":{\"color\":\"#000000\"},\"showarrow\":false,\"text\":\"2022-04-21 00:00:00\",\"x\":-0.45,\"xanchor\":\"left\",\"xref\":\"x\",\"y\":77,\"yref\":\"y\"},{\"align\":\"left\",\"font\":{\"color\":\"#000000\"},\"showarrow\":false,\"text\":\"114\",\"x\":0.55,\"xanchor\":\"left\",\"xref\":\"x\",\"y\":77,\"yref\":\"y\"},{\"align\":\"left\",\"font\":{\"color\":\"#000000\"},\"showarrow\":false,\"text\":\"2022-04-22 00:00:00\",\"x\":-0.45,\"xanchor\":\"left\",\"xref\":\"x\",\"y\":78,\"yref\":\"y\"},{\"align\":\"left\",\"font\":{\"color\":\"#000000\"},\"showarrow\":false,\"text\":\"74\",\"x\":0.55,\"xanchor\":\"left\",\"xref\":\"x\",\"y\":78,\"yref\":\"y\"},{\"align\":\"left\",\"font\":{\"color\":\"#000000\"},\"showarrow\":false,\"text\":\"2022-04-23 00:00:00\",\"x\":-0.45,\"xanchor\":\"left\",\"xref\":\"x\",\"y\":79,\"yref\":\"y\"},{\"align\":\"left\",\"font\":{\"color\":\"#000000\"},\"showarrow\":false,\"text\":\"126\",\"x\":0.55,\"xanchor\":\"left\",\"xref\":\"x\",\"y\":79,\"yref\":\"y\"},{\"align\":\"left\",\"font\":{\"color\":\"#000000\"},\"showarrow\":false,\"text\":\"2022-04-24 00:00:00\",\"x\":-0.45,\"xanchor\":\"left\",\"xref\":\"x\",\"y\":80,\"yref\":\"y\"},{\"align\":\"left\",\"font\":{\"color\":\"#000000\"},\"showarrow\":false,\"text\":\"88\",\"x\":0.55,\"xanchor\":\"left\",\"xref\":\"x\",\"y\":80,\"yref\":\"y\"},{\"align\":\"left\",\"font\":{\"color\":\"#000000\"},\"showarrow\":false,\"text\":\"2022-04-25 00:00:00\",\"x\":-0.45,\"xanchor\":\"left\",\"xref\":\"x\",\"y\":81,\"yref\":\"y\"},{\"align\":\"left\",\"font\":{\"color\":\"#000000\"},\"showarrow\":false,\"text\":\"64\",\"x\":0.55,\"xanchor\":\"left\",\"xref\":\"x\",\"y\":81,\"yref\":\"y\"},{\"align\":\"left\",\"font\":{\"color\":\"#000000\"},\"showarrow\":false,\"text\":\"2022-04-26 00:00:00\",\"x\":-0.45,\"xanchor\":\"left\",\"xref\":\"x\",\"y\":82,\"yref\":\"y\"},{\"align\":\"left\",\"font\":{\"color\":\"#000000\"},\"showarrow\":false,\"text\":\"54\",\"x\":0.55,\"xanchor\":\"left\",\"xref\":\"x\",\"y\":82,\"yref\":\"y\"},{\"align\":\"left\",\"font\":{\"color\":\"#000000\"},\"showarrow\":false,\"text\":\"2022-04-27 00:00:00\",\"x\":-0.45,\"xanchor\":\"left\",\"xref\":\"x\",\"y\":83,\"yref\":\"y\"},{\"align\":\"left\",\"font\":{\"color\":\"#000000\"},\"showarrow\":false,\"text\":\"57\",\"x\":0.55,\"xanchor\":\"left\",\"xref\":\"x\",\"y\":83,\"yref\":\"y\"},{\"align\":\"left\",\"font\":{\"color\":\"#000000\"},\"showarrow\":false,\"text\":\"2022-04-28 00:00:00\",\"x\":-0.45,\"xanchor\":\"left\",\"xref\":\"x\",\"y\":84,\"yref\":\"y\"},{\"align\":\"left\",\"font\":{\"color\":\"#000000\"},\"showarrow\":false,\"text\":\"41\",\"x\":0.55,\"xanchor\":\"left\",\"xref\":\"x\",\"y\":84,\"yref\":\"y\"},{\"align\":\"left\",\"font\":{\"color\":\"#000000\"},\"showarrow\":false,\"text\":\"2022-04-29 00:00:00\",\"x\":-0.45,\"xanchor\":\"left\",\"xref\":\"x\",\"y\":85,\"yref\":\"y\"},{\"align\":\"left\",\"font\":{\"color\":\"#000000\"},\"showarrow\":false,\"text\":\"42\",\"x\":0.55,\"xanchor\":\"left\",\"xref\":\"x\",\"y\":85,\"yref\":\"y\"},{\"align\":\"left\",\"font\":{\"color\":\"#000000\"},\"showarrow\":false,\"text\":\"2022-04-30 00:00:00\",\"x\":-0.45,\"xanchor\":\"left\",\"xref\":\"x\",\"y\":86,\"yref\":\"y\"},{\"align\":\"left\",\"font\":{\"color\":\"#000000\"},\"showarrow\":false,\"text\":\"84\",\"x\":0.55,\"xanchor\":\"left\",\"xref\":\"x\",\"y\":86,\"yref\":\"y\"},{\"align\":\"left\",\"font\":{\"color\":\"#000000\"},\"showarrow\":false,\"text\":\"2022-05-01 00:00:00\",\"x\":-0.45,\"xanchor\":\"left\",\"xref\":\"x\",\"y\":87,\"yref\":\"y\"},{\"align\":\"left\",\"font\":{\"color\":\"#000000\"},\"showarrow\":false,\"text\":\"110\",\"x\":0.55,\"xanchor\":\"left\",\"xref\":\"x\",\"y\":87,\"yref\":\"y\"},{\"align\":\"left\",\"font\":{\"color\":\"#000000\"},\"showarrow\":false,\"text\":\"2022-05-02 00:00:00\",\"x\":-0.45,\"xanchor\":\"left\",\"xref\":\"x\",\"y\":88,\"yref\":\"y\"},{\"align\":\"left\",\"font\":{\"color\":\"#000000\"},\"showarrow\":false,\"text\":\"59\",\"x\":0.55,\"xanchor\":\"left\",\"xref\":\"x\",\"y\":88,\"yref\":\"y\"},{\"align\":\"left\",\"font\":{\"color\":\"#000000\"},\"showarrow\":false,\"text\":\"2022-05-03 00:00:00\",\"x\":-0.45,\"xanchor\":\"left\",\"xref\":\"x\",\"y\":89,\"yref\":\"y\"},{\"align\":\"left\",\"font\":{\"color\":\"#000000\"},\"showarrow\":false,\"text\":\"39\",\"x\":0.55,\"xanchor\":\"left\",\"xref\":\"x\",\"y\":89,\"yref\":\"y\"},{\"align\":\"left\",\"font\":{\"color\":\"#000000\"},\"showarrow\":false,\"text\":\"2022-05-04 00:00:00\",\"x\":-0.45,\"xanchor\":\"left\",\"xref\":\"x\",\"y\":90,\"yref\":\"y\"},{\"align\":\"left\",\"font\":{\"color\":\"#000000\"},\"showarrow\":false,\"text\":\"62\",\"x\":0.55,\"xanchor\":\"left\",\"xref\":\"x\",\"y\":90,\"yref\":\"y\"},{\"align\":\"left\",\"font\":{\"color\":\"#000000\"},\"showarrow\":false,\"text\":\"2022-05-05 00:00:00\",\"x\":-0.45,\"xanchor\":\"left\",\"xref\":\"x\",\"y\":91,\"yref\":\"y\"},{\"align\":\"left\",\"font\":{\"color\":\"#000000\"},\"showarrow\":false,\"text\":\"65\",\"x\":0.55,\"xanchor\":\"left\",\"xref\":\"x\",\"y\":91,\"yref\":\"y\"},{\"align\":\"left\",\"font\":{\"color\":\"#000000\"},\"showarrow\":false,\"text\":\"2022-05-06 00:00:00\",\"x\":-0.45,\"xanchor\":\"left\",\"xref\":\"x\",\"y\":92,\"yref\":\"y\"},{\"align\":\"left\",\"font\":{\"color\":\"#000000\"},\"showarrow\":false,\"text\":\"79\",\"x\":0.55,\"xanchor\":\"left\",\"xref\":\"x\",\"y\":92,\"yref\":\"y\"},{\"align\":\"left\",\"font\":{\"color\":\"#000000\"},\"showarrow\":false,\"text\":\"2022-05-07 00:00:00\",\"x\":-0.45,\"xanchor\":\"left\",\"xref\":\"x\",\"y\":93,\"yref\":\"y\"},{\"align\":\"left\",\"font\":{\"color\":\"#000000\"},\"showarrow\":false,\"text\":\"105\",\"x\":0.55,\"xanchor\":\"left\",\"xref\":\"x\",\"y\":93,\"yref\":\"y\"},{\"align\":\"left\",\"font\":{\"color\":\"#000000\"},\"showarrow\":false,\"text\":\"2022-05-08 00:00:00\",\"x\":-0.45,\"xanchor\":\"left\",\"xref\":\"x\",\"y\":94,\"yref\":\"y\"},{\"align\":\"left\",\"font\":{\"color\":\"#000000\"},\"showarrow\":false,\"text\":\"123\",\"x\":0.55,\"xanchor\":\"left\",\"xref\":\"x\",\"y\":94,\"yref\":\"y\"},{\"align\":\"left\",\"font\":{\"color\":\"#000000\"},\"showarrow\":false,\"text\":\"2022-05-09 00:00:00\",\"x\":-0.45,\"xanchor\":\"left\",\"xref\":\"x\",\"y\":95,\"yref\":\"y\"},{\"align\":\"left\",\"font\":{\"color\":\"#000000\"},\"showarrow\":false,\"text\":\"73\",\"x\":0.55,\"xanchor\":\"left\",\"xref\":\"x\",\"y\":95,\"yref\":\"y\"},{\"align\":\"left\",\"font\":{\"color\":\"#000000\"},\"showarrow\":false,\"text\":\"2022-05-10 00:00:00\",\"x\":-0.45,\"xanchor\":\"left\",\"xref\":\"x\",\"y\":96,\"yref\":\"y\"},{\"align\":\"left\",\"font\":{\"color\":\"#000000\"},\"showarrow\":false,\"text\":\"91\",\"x\":0.55,\"xanchor\":\"left\",\"xref\":\"x\",\"y\":96,\"yref\":\"y\"},{\"align\":\"left\",\"font\":{\"color\":\"#000000\"},\"showarrow\":false,\"text\":\"2022-05-11 00:00:00\",\"x\":-0.45,\"xanchor\":\"left\",\"xref\":\"x\",\"y\":97,\"yref\":\"y\"},{\"align\":\"left\",\"font\":{\"color\":\"#000000\"},\"showarrow\":false,\"text\":\"96\",\"x\":0.55,\"xanchor\":\"left\",\"xref\":\"x\",\"y\":97,\"yref\":\"y\"},{\"align\":\"left\",\"font\":{\"color\":\"#000000\"},\"showarrow\":false,\"text\":\"2022-05-12 00:00:00\",\"x\":-0.45,\"xanchor\":\"left\",\"xref\":\"x\",\"y\":98,\"yref\":\"y\"},{\"align\":\"left\",\"font\":{\"color\":\"#000000\"},\"showarrow\":false,\"text\":\"116\",\"x\":0.55,\"xanchor\":\"left\",\"xref\":\"x\",\"y\":98,\"yref\":\"y\"},{\"align\":\"left\",\"font\":{\"color\":\"#000000\"},\"showarrow\":false,\"text\":\"2022-05-13 00:00:00\",\"x\":-0.45,\"xanchor\":\"left\",\"xref\":\"x\",\"y\":99,\"yref\":\"y\"},{\"align\":\"left\",\"font\":{\"color\":\"#000000\"},\"showarrow\":false,\"text\":\"169\",\"x\":0.55,\"xanchor\":\"left\",\"xref\":\"x\",\"y\":99,\"yref\":\"y\"},{\"align\":\"left\",\"font\":{\"color\":\"#000000\"},\"showarrow\":false,\"text\":\"2022-05-14 00:00:00\",\"x\":-0.45,\"xanchor\":\"left\",\"xref\":\"x\",\"y\":100,\"yref\":\"y\"},{\"align\":\"left\",\"font\":{\"color\":\"#000000\"},\"showarrow\":false,\"text\":\"227\",\"x\":0.55,\"xanchor\":\"left\",\"xref\":\"x\",\"y\":100,\"yref\":\"y\"},{\"align\":\"left\",\"font\":{\"color\":\"#000000\"},\"showarrow\":false,\"text\":\"2022-05-15 00:00:00\",\"x\":-0.45,\"xanchor\":\"left\",\"xref\":\"x\",\"y\":101,\"yref\":\"y\"},{\"align\":\"left\",\"font\":{\"color\":\"#000000\"},\"showarrow\":false,\"text\":\"215\",\"x\":0.55,\"xanchor\":\"left\",\"xref\":\"x\",\"y\":101,\"yref\":\"y\"},{\"align\":\"left\",\"font\":{\"color\":\"#000000\"},\"showarrow\":false,\"text\":\"2022-05-16 00:00:00\",\"x\":-0.45,\"xanchor\":\"left\",\"xref\":\"x\",\"y\":102,\"yref\":\"y\"},{\"align\":\"left\",\"font\":{\"color\":\"#000000\"},\"showarrow\":false,\"text\":\"119\",\"x\":0.55,\"xanchor\":\"left\",\"xref\":\"x\",\"y\":102,\"yref\":\"y\"},{\"align\":\"left\",\"font\":{\"color\":\"#000000\"},\"showarrow\":false,\"text\":\"2022-05-17 00:00:00\",\"x\":-0.45,\"xanchor\":\"left\",\"xref\":\"x\",\"y\":103,\"yref\":\"y\"},{\"align\":\"left\",\"font\":{\"color\":\"#000000\"},\"showarrow\":false,\"text\":\"106\",\"x\":0.55,\"xanchor\":\"left\",\"xref\":\"x\",\"y\":103,\"yref\":\"y\"},{\"align\":\"left\",\"font\":{\"color\":\"#000000\"},\"showarrow\":false,\"text\":\"2022-05-18 00:00:00\",\"x\":-0.45,\"xanchor\":\"left\",\"xref\":\"x\",\"y\":104,\"yref\":\"y\"},{\"align\":\"left\",\"font\":{\"color\":\"#000000\"},\"showarrow\":false,\"text\":\"241\",\"x\":0.55,\"xanchor\":\"left\",\"xref\":\"x\",\"y\":104,\"yref\":\"y\"},{\"align\":\"left\",\"font\":{\"color\":\"#000000\"},\"showarrow\":false,\"text\":\"2022-05-19 00:00:00\",\"x\":-0.45,\"xanchor\":\"left\",\"xref\":\"x\",\"y\":105,\"yref\":\"y\"},{\"align\":\"left\",\"font\":{\"color\":\"#000000\"},\"showarrow\":false,\"text\":\"108\",\"x\":0.55,\"xanchor\":\"left\",\"xref\":\"x\",\"y\":105,\"yref\":\"y\"},{\"align\":\"left\",\"font\":{\"color\":\"#000000\"},\"showarrow\":false,\"text\":\"2022-05-20 00:00:00\",\"x\":-0.45,\"xanchor\":\"left\",\"xref\":\"x\",\"y\":106,\"yref\":\"y\"},{\"align\":\"left\",\"font\":{\"color\":\"#000000\"},\"showarrow\":false,\"text\":\"141\",\"x\":0.55,\"xanchor\":\"left\",\"xref\":\"x\",\"y\":106,\"yref\":\"y\"},{\"align\":\"left\",\"font\":{\"color\":\"#000000\"},\"showarrow\":false,\"text\":\"2022-05-21 00:00:00\",\"x\":-0.45,\"xanchor\":\"left\",\"xref\":\"x\",\"y\":107,\"yref\":\"y\"},{\"align\":\"left\",\"font\":{\"color\":\"#000000\"},\"showarrow\":false,\"text\":\"226\",\"x\":0.55,\"xanchor\":\"left\",\"xref\":\"x\",\"y\":107,\"yref\":\"y\"},{\"align\":\"left\",\"font\":{\"color\":\"#000000\"},\"showarrow\":false,\"text\":\"2022-05-22 00:00:00\",\"x\":-0.45,\"xanchor\":\"left\",\"xref\":\"x\",\"y\":108,\"yref\":\"y\"},{\"align\":\"left\",\"font\":{\"color\":\"#000000\"},\"showarrow\":false,\"text\":\"175\",\"x\":0.55,\"xanchor\":\"left\",\"xref\":\"x\",\"y\":108,\"yref\":\"y\"},{\"align\":\"left\",\"font\":{\"color\":\"#000000\"},\"showarrow\":false,\"text\":\"2022-05-23 00:00:00\",\"x\":-0.45,\"xanchor\":\"left\",\"xref\":\"x\",\"y\":109,\"yref\":\"y\"},{\"align\":\"left\",\"font\":{\"color\":\"#000000\"},\"showarrow\":false,\"text\":\"97\",\"x\":0.55,\"xanchor\":\"left\",\"xref\":\"x\",\"y\":109,\"yref\":\"y\"},{\"align\":\"left\",\"font\":{\"color\":\"#000000\"},\"showarrow\":false,\"text\":\"2022-05-24 00:00:00\",\"x\":-0.45,\"xanchor\":\"left\",\"xref\":\"x\",\"y\":110,\"yref\":\"y\"},{\"align\":\"left\",\"font\":{\"color\":\"#000000\"},\"showarrow\":false,\"text\":\"136\",\"x\":0.55,\"xanchor\":\"left\",\"xref\":\"x\",\"y\":110,\"yref\":\"y\"},{\"align\":\"left\",\"font\":{\"color\":\"#000000\"},\"showarrow\":false,\"text\":\"2022-05-25 00:00:00\",\"x\":-0.45,\"xanchor\":\"left\",\"xref\":\"x\",\"y\":111,\"yref\":\"y\"},{\"align\":\"left\",\"font\":{\"color\":\"#000000\"},\"showarrow\":false,\"text\":\"61\",\"x\":0.55,\"xanchor\":\"left\",\"xref\":\"x\",\"y\":111,\"yref\":\"y\"},{\"align\":\"left\",\"font\":{\"color\":\"#000000\"},\"showarrow\":false,\"text\":\"2022-05-26 00:00:00\",\"x\":-0.45,\"xanchor\":\"left\",\"xref\":\"x\",\"y\":112,\"yref\":\"y\"},{\"align\":\"left\",\"font\":{\"color\":\"#000000\"},\"showarrow\":false,\"text\":\"136\",\"x\":0.55,\"xanchor\":\"left\",\"xref\":\"x\",\"y\":112,\"yref\":\"y\"},{\"align\":\"left\",\"font\":{\"color\":\"#000000\"},\"showarrow\":false,\"text\":\"2022-05-27 00:00:00\",\"x\":-0.45,\"xanchor\":\"left\",\"xref\":\"x\",\"y\":113,\"yref\":\"y\"},{\"align\":\"left\",\"font\":{\"color\":\"#000000\"},\"showarrow\":false,\"text\":\"141\",\"x\":0.55,\"xanchor\":\"left\",\"xref\":\"x\",\"y\":113,\"yref\":\"y\"},{\"align\":\"left\",\"font\":{\"color\":\"#000000\"},\"showarrow\":false,\"text\":\"2022-05-28 00:00:00\",\"x\":-0.45,\"xanchor\":\"left\",\"xref\":\"x\",\"y\":114,\"yref\":\"y\"},{\"align\":\"left\",\"font\":{\"color\":\"#000000\"},\"showarrow\":false,\"text\":\"169\",\"x\":0.55,\"xanchor\":\"left\",\"xref\":\"x\",\"y\":114,\"yref\":\"y\"},{\"align\":\"left\",\"font\":{\"color\":\"#000000\"},\"showarrow\":false,\"text\":\"2022-05-29 00:00:00\",\"x\":-0.45,\"xanchor\":\"left\",\"xref\":\"x\",\"y\":115,\"yref\":\"y\"},{\"align\":\"left\",\"font\":{\"color\":\"#000000\"},\"showarrow\":false,\"text\":\"154\",\"x\":0.55,\"xanchor\":\"left\",\"xref\":\"x\",\"y\":115,\"yref\":\"y\"},{\"align\":\"left\",\"font\":{\"color\":\"#000000\"},\"showarrow\":false,\"text\":\"2022-05-30 00:00:00\",\"x\":-0.45,\"xanchor\":\"left\",\"xref\":\"x\",\"y\":116,\"yref\":\"y\"},{\"align\":\"left\",\"font\":{\"color\":\"#000000\"},\"showarrow\":false,\"text\":\"61\",\"x\":0.55,\"xanchor\":\"left\",\"xref\":\"x\",\"y\":116,\"yref\":\"y\"},{\"align\":\"left\",\"font\":{\"color\":\"#000000\"},\"showarrow\":false,\"text\":\"2022-05-31 00:00:00\",\"x\":-0.45,\"xanchor\":\"left\",\"xref\":\"x\",\"y\":117,\"yref\":\"y\"},{\"align\":\"left\",\"font\":{\"color\":\"#000000\"},\"showarrow\":false,\"text\":\"52\",\"x\":0.55,\"xanchor\":\"left\",\"xref\":\"x\",\"y\":117,\"yref\":\"y\"},{\"align\":\"left\",\"font\":{\"color\":\"#000000\"},\"showarrow\":false,\"text\":\"2022-06-01 00:00:00\",\"x\":-0.45,\"xanchor\":\"left\",\"xref\":\"x\",\"y\":118,\"yref\":\"y\"},{\"align\":\"left\",\"font\":{\"color\":\"#000000\"},\"showarrow\":false,\"text\":\"40\",\"x\":0.55,\"xanchor\":\"left\",\"xref\":\"x\",\"y\":118,\"yref\":\"y\"},{\"align\":\"left\",\"font\":{\"color\":\"#000000\"},\"showarrow\":false,\"text\":\"2022-06-02 00:00:00\",\"x\":-0.45,\"xanchor\":\"left\",\"xref\":\"x\",\"y\":119,\"yref\":\"y\"},{\"align\":\"left\",\"font\":{\"color\":\"#000000\"},\"showarrow\":false,\"text\":\"30\",\"x\":0.55,\"xanchor\":\"left\",\"xref\":\"x\",\"y\":119,\"yref\":\"y\"},{\"align\":\"left\",\"font\":{\"color\":\"#000000\"},\"showarrow\":false,\"text\":\"2022-06-03 00:00:00\",\"x\":-0.45,\"xanchor\":\"left\",\"xref\":\"x\",\"y\":120,\"yref\":\"y\"},{\"align\":\"left\",\"font\":{\"color\":\"#000000\"},\"showarrow\":false,\"text\":\"51\",\"x\":0.55,\"xanchor\":\"left\",\"xref\":\"x\",\"y\":120,\"yref\":\"y\"},{\"align\":\"left\",\"font\":{\"color\":\"#000000\"},\"showarrow\":false,\"text\":\"2022-06-04 00:00:00\",\"x\":-0.45,\"xanchor\":\"left\",\"xref\":\"x\",\"y\":121,\"yref\":\"y\"},{\"align\":\"left\",\"font\":{\"color\":\"#000000\"},\"showarrow\":false,\"text\":\"84\",\"x\":0.55,\"xanchor\":\"left\",\"xref\":\"x\",\"y\":121,\"yref\":\"y\"},{\"align\":\"left\",\"font\":{\"color\":\"#000000\"},\"showarrow\":false,\"text\":\"2022-06-05 00:00:00\",\"x\":-0.45,\"xanchor\":\"left\",\"xref\":\"x\",\"y\":122,\"yref\":\"y\"},{\"align\":\"left\",\"font\":{\"color\":\"#000000\"},\"showarrow\":false,\"text\":\"150\",\"x\":0.55,\"xanchor\":\"left\",\"xref\":\"x\",\"y\":122,\"yref\":\"y\"},{\"align\":\"left\",\"font\":{\"color\":\"#000000\"},\"showarrow\":false,\"text\":\"2022-06-06 00:00:00\",\"x\":-0.45,\"xanchor\":\"left\",\"xref\":\"x\",\"y\":123,\"yref\":\"y\"},{\"align\":\"left\",\"font\":{\"color\":\"#000000\"},\"showarrow\":false,\"text\":\"64\",\"x\":0.55,\"xanchor\":\"left\",\"xref\":\"x\",\"y\":123,\"yref\":\"y\"},{\"align\":\"left\",\"font\":{\"color\":\"#000000\"},\"showarrow\":false,\"text\":\"2022-06-07 00:00:00\",\"x\":-0.45,\"xanchor\":\"left\",\"xref\":\"x\",\"y\":124,\"yref\":\"y\"},{\"align\":\"left\",\"font\":{\"color\":\"#000000\"},\"showarrow\":false,\"text\":\"45\",\"x\":0.55,\"xanchor\":\"left\",\"xref\":\"x\",\"y\":124,\"yref\":\"y\"},{\"align\":\"left\",\"font\":{\"color\":\"#000000\"},\"showarrow\":false,\"text\":\"2022-06-08 00:00:00\",\"x\":-0.45,\"xanchor\":\"left\",\"xref\":\"x\",\"y\":125,\"yref\":\"y\"},{\"align\":\"left\",\"font\":{\"color\":\"#000000\"},\"showarrow\":false,\"text\":\"35\",\"x\":0.55,\"xanchor\":\"left\",\"xref\":\"x\",\"y\":125,\"yref\":\"y\"},{\"align\":\"left\",\"font\":{\"color\":\"#000000\"},\"showarrow\":false,\"text\":\"2022-06-09 00:00:00\",\"x\":-0.45,\"xanchor\":\"left\",\"xref\":\"x\",\"y\":126,\"yref\":\"y\"},{\"align\":\"left\",\"font\":{\"color\":\"#000000\"},\"showarrow\":false,\"text\":\"58\",\"x\":0.55,\"xanchor\":\"left\",\"xref\":\"x\",\"y\":126,\"yref\":\"y\"},{\"align\":\"left\",\"font\":{\"color\":\"#000000\"},\"showarrow\":false,\"text\":\"2022-06-10 00:00:00\",\"x\":-0.45,\"xanchor\":\"left\",\"xref\":\"x\",\"y\":127,\"yref\":\"y\"},{\"align\":\"left\",\"font\":{\"color\":\"#000000\"},\"showarrow\":false,\"text\":\"50\",\"x\":0.55,\"xanchor\":\"left\",\"xref\":\"x\",\"y\":127,\"yref\":\"y\"},{\"align\":\"left\",\"font\":{\"color\":\"#000000\"},\"showarrow\":false,\"text\":\"2022-06-11 00:00:00\",\"x\":-0.45,\"xanchor\":\"left\",\"xref\":\"x\",\"y\":128,\"yref\":\"y\"},{\"align\":\"left\",\"font\":{\"color\":\"#000000\"},\"showarrow\":false,\"text\":\"81\",\"x\":0.55,\"xanchor\":\"left\",\"xref\":\"x\",\"y\":128,\"yref\":\"y\"},{\"align\":\"left\",\"font\":{\"color\":\"#000000\"},\"showarrow\":false,\"text\":\"2022-06-12 00:00:00\",\"x\":-0.45,\"xanchor\":\"left\",\"xref\":\"x\",\"y\":129,\"yref\":\"y\"},{\"align\":\"left\",\"font\":{\"color\":\"#000000\"},\"showarrow\":false,\"text\":\"123\",\"x\":0.55,\"xanchor\":\"left\",\"xref\":\"x\",\"y\":129,\"yref\":\"y\"},{\"align\":\"left\",\"font\":{\"color\":\"#000000\"},\"showarrow\":false,\"text\":\"2022-06-13 00:00:00\",\"x\":-0.45,\"xanchor\":\"left\",\"xref\":\"x\",\"y\":130,\"yref\":\"y\"},{\"align\":\"left\",\"font\":{\"color\":\"#000000\"},\"showarrow\":false,\"text\":\"48\",\"x\":0.55,\"xanchor\":\"left\",\"xref\":\"x\",\"y\":130,\"yref\":\"y\"},{\"align\":\"left\",\"font\":{\"color\":\"#000000\"},\"showarrow\":false,\"text\":\"2022-06-14 00:00:00\",\"x\":-0.45,\"xanchor\":\"left\",\"xref\":\"x\",\"y\":131,\"yref\":\"y\"},{\"align\":\"left\",\"font\":{\"color\":\"#000000\"},\"showarrow\":false,\"text\":\"61\",\"x\":0.55,\"xanchor\":\"left\",\"xref\":\"x\",\"y\":131,\"yref\":\"y\"},{\"align\":\"left\",\"font\":{\"color\":\"#000000\"},\"showarrow\":false,\"text\":\"2022-06-15 00:00:00\",\"x\":-0.45,\"xanchor\":\"left\",\"xref\":\"x\",\"y\":132,\"yref\":\"y\"},{\"align\":\"left\",\"font\":{\"color\":\"#000000\"},\"showarrow\":false,\"text\":\"67\",\"x\":0.55,\"xanchor\":\"left\",\"xref\":\"x\",\"y\":132,\"yref\":\"y\"},{\"align\":\"left\",\"font\":{\"color\":\"#000000\"},\"showarrow\":false,\"text\":\"2022-06-16 00:00:00\",\"x\":-0.45,\"xanchor\":\"left\",\"xref\":\"x\",\"y\":133,\"yref\":\"y\"},{\"align\":\"left\",\"font\":{\"color\":\"#000000\"},\"showarrow\":false,\"text\":\"71\",\"x\":0.55,\"xanchor\":\"left\",\"xref\":\"x\",\"y\":133,\"yref\":\"y\"},{\"align\":\"left\",\"font\":{\"color\":\"#000000\"},\"showarrow\":false,\"text\":\"2022-06-17 00:00:00\",\"x\":-0.45,\"xanchor\":\"left\",\"xref\":\"x\",\"y\":134,\"yref\":\"y\"},{\"align\":\"left\",\"font\":{\"color\":\"#000000\"},\"showarrow\":false,\"text\":\"38\",\"x\":0.55,\"xanchor\":\"left\",\"xref\":\"x\",\"y\":134,\"yref\":\"y\"},{\"align\":\"left\",\"font\":{\"color\":\"#000000\"},\"showarrow\":false,\"text\":\"2022-06-18 00:00:00\",\"x\":-0.45,\"xanchor\":\"left\",\"xref\":\"x\",\"y\":135,\"yref\":\"y\"},{\"align\":\"left\",\"font\":{\"color\":\"#000000\"},\"showarrow\":false,\"text\":\"71\",\"x\":0.55,\"xanchor\":\"left\",\"xref\":\"x\",\"y\":135,\"yref\":\"y\"},{\"align\":\"left\",\"font\":{\"color\":\"#000000\"},\"showarrow\":false,\"text\":\"2022-06-19 00:00:00\",\"x\":-0.45,\"xanchor\":\"left\",\"xref\":\"x\",\"y\":136,\"yref\":\"y\"},{\"align\":\"left\",\"font\":{\"color\":\"#000000\"},\"showarrow\":false,\"text\":\"114\",\"x\":0.55,\"xanchor\":\"left\",\"xref\":\"x\",\"y\":136,\"yref\":\"y\"},{\"align\":\"left\",\"font\":{\"color\":\"#000000\"},\"showarrow\":false,\"text\":\"2022-06-20 00:00:00\",\"x\":-0.45,\"xanchor\":\"left\",\"xref\":\"x\",\"y\":137,\"yref\":\"y\"},{\"align\":\"left\",\"font\":{\"color\":\"#000000\"},\"showarrow\":false,\"text\":\"32\",\"x\":0.55,\"xanchor\":\"left\",\"xref\":\"x\",\"y\":137,\"yref\":\"y\"},{\"align\":\"left\",\"font\":{\"color\":\"#000000\"},\"showarrow\":false,\"text\":\"2022-06-21 00:00:00\",\"x\":-0.45,\"xanchor\":\"left\",\"xref\":\"x\",\"y\":138,\"yref\":\"y\"},{\"align\":\"left\",\"font\":{\"color\":\"#000000\"},\"showarrow\":false,\"text\":\"56\",\"x\":0.55,\"xanchor\":\"left\",\"xref\":\"x\",\"y\":138,\"yref\":\"y\"},{\"align\":\"left\",\"font\":{\"color\":\"#000000\"},\"showarrow\":false,\"text\":\"2022-06-22 00:00:00\",\"x\":-0.45,\"xanchor\":\"left\",\"xref\":\"x\",\"y\":139,\"yref\":\"y\"},{\"align\":\"left\",\"font\":{\"color\":\"#000000\"},\"showarrow\":false,\"text\":\"32\",\"x\":0.55,\"xanchor\":\"left\",\"xref\":\"x\",\"y\":139,\"yref\":\"y\"},{\"align\":\"left\",\"font\":{\"color\":\"#000000\"},\"showarrow\":false,\"text\":\"2022-06-23 00:00:00\",\"x\":-0.45,\"xanchor\":\"left\",\"xref\":\"x\",\"y\":140,\"yref\":\"y\"},{\"align\":\"left\",\"font\":{\"color\":\"#000000\"},\"showarrow\":false,\"text\":\"2303\",\"x\":0.55,\"xanchor\":\"left\",\"xref\":\"x\",\"y\":140,\"yref\":\"y\"},{\"align\":\"left\",\"font\":{\"color\":\"#000000\"},\"showarrow\":false,\"text\":\"2022-06-24 00:00:00\",\"x\":-0.45,\"xanchor\":\"left\",\"xref\":\"x\",\"y\":141,\"yref\":\"y\"},{\"align\":\"left\",\"font\":{\"color\":\"#000000\"},\"showarrow\":false,\"text\":\"58\",\"x\":0.55,\"xanchor\":\"left\",\"xref\":\"x\",\"y\":141,\"yref\":\"y\"},{\"align\":\"left\",\"font\":{\"color\":\"#000000\"},\"showarrow\":false,\"text\":\"2022-06-25 00:00:00\",\"x\":-0.45,\"xanchor\":\"left\",\"xref\":\"x\",\"y\":142,\"yref\":\"y\"},{\"align\":\"left\",\"font\":{\"color\":\"#000000\"},\"showarrow\":false,\"text\":\"121\",\"x\":0.55,\"xanchor\":\"left\",\"xref\":\"x\",\"y\":142,\"yref\":\"y\"},{\"align\":\"left\",\"font\":{\"color\":\"#000000\"},\"showarrow\":false,\"text\":\"2022-06-26 00:00:00\",\"x\":-0.45,\"xanchor\":\"left\",\"xref\":\"x\",\"y\":143,\"yref\":\"y\"},{\"align\":\"left\",\"font\":{\"color\":\"#000000\"},\"showarrow\":false,\"text\":\"95\",\"x\":0.55,\"xanchor\":\"left\",\"xref\":\"x\",\"y\":143,\"yref\":\"y\"},{\"align\":\"left\",\"font\":{\"color\":\"#000000\"},\"showarrow\":false,\"text\":\"2022-06-27 00:00:00\",\"x\":-0.45,\"xanchor\":\"left\",\"xref\":\"x\",\"y\":144,\"yref\":\"y\"},{\"align\":\"left\",\"font\":{\"color\":\"#000000\"},\"showarrow\":false,\"text\":\"42\",\"x\":0.55,\"xanchor\":\"left\",\"xref\":\"x\",\"y\":144,\"yref\":\"y\"},{\"align\":\"left\",\"font\":{\"color\":\"#000000\"},\"showarrow\":false,\"text\":\"2022-06-28 00:00:00\",\"x\":-0.45,\"xanchor\":\"left\",\"xref\":\"x\",\"y\":145,\"yref\":\"y\"},{\"align\":\"left\",\"font\":{\"color\":\"#000000\"},\"showarrow\":false,\"text\":\"81\",\"x\":0.55,\"xanchor\":\"left\",\"xref\":\"x\",\"y\":145,\"yref\":\"y\"},{\"align\":\"left\",\"font\":{\"color\":\"#000000\"},\"showarrow\":false,\"text\":\"2022-06-29 00:00:00\",\"x\":-0.45,\"xanchor\":\"left\",\"xref\":\"x\",\"y\":146,\"yref\":\"y\"},{\"align\":\"left\",\"font\":{\"color\":\"#000000\"},\"showarrow\":false,\"text\":\"63\",\"x\":0.55,\"xanchor\":\"left\",\"xref\":\"x\",\"y\":146,\"yref\":\"y\"},{\"align\":\"left\",\"font\":{\"color\":\"#000000\"},\"showarrow\":false,\"text\":\"2022-06-30 00:00:00\",\"x\":-0.45,\"xanchor\":\"left\",\"xref\":\"x\",\"y\":147,\"yref\":\"y\"},{\"align\":\"left\",\"font\":{\"color\":\"#000000\"},\"showarrow\":false,\"text\":\"46\",\"x\":0.55,\"xanchor\":\"left\",\"xref\":\"x\",\"y\":147,\"yref\":\"y\"},{\"align\":\"left\",\"font\":{\"color\":\"#000000\"},\"showarrow\":false,\"text\":\"2022-07-01 00:00:00\",\"x\":-0.45,\"xanchor\":\"left\",\"xref\":\"x\",\"y\":148,\"yref\":\"y\"},{\"align\":\"left\",\"font\":{\"color\":\"#000000\"},\"showarrow\":false,\"text\":\"8\",\"x\":0.55,\"xanchor\":\"left\",\"xref\":\"x\",\"y\":148,\"yref\":\"y\"},{\"align\":\"left\",\"font\":{\"color\":\"#000000\"},\"showarrow\":false,\"text\":\"2022-07-03 00:00:00\",\"x\":-0.45,\"xanchor\":\"left\",\"xref\":\"x\",\"y\":149,\"yref\":\"y\"},{\"align\":\"left\",\"font\":{\"color\":\"#000000\"},\"showarrow\":false,\"text\":\"97\",\"x\":0.55,\"xanchor\":\"left\",\"xref\":\"x\",\"y\":149,\"yref\":\"y\"},{\"align\":\"left\",\"font\":{\"color\":\"#000000\"},\"showarrow\":false,\"text\":\"2022-07-04 00:00:00\",\"x\":-0.45,\"xanchor\":\"left\",\"xref\":\"x\",\"y\":150,\"yref\":\"y\"},{\"align\":\"left\",\"font\":{\"color\":\"#000000\"},\"showarrow\":false,\"text\":\"61\",\"x\":0.55,\"xanchor\":\"left\",\"xref\":\"x\",\"y\":150,\"yref\":\"y\"},{\"align\":\"left\",\"font\":{\"color\":\"#000000\"},\"showarrow\":false,\"text\":\"2022-07-05 00:00:00\",\"x\":-0.45,\"xanchor\":\"left\",\"xref\":\"x\",\"y\":151,\"yref\":\"y\"},{\"align\":\"left\",\"font\":{\"color\":\"#000000\"},\"showarrow\":false,\"text\":\"102\",\"x\":0.55,\"xanchor\":\"left\",\"xref\":\"x\",\"y\":151,\"yref\":\"y\"},{\"align\":\"left\",\"font\":{\"color\":\"#000000\"},\"showarrow\":false,\"text\":\"2022-07-06 00:00:00\",\"x\":-0.45,\"xanchor\":\"left\",\"xref\":\"x\",\"y\":152,\"yref\":\"y\"},{\"align\":\"left\",\"font\":{\"color\":\"#000000\"},\"showarrow\":false,\"text\":\"112\",\"x\":0.55,\"xanchor\":\"left\",\"xref\":\"x\",\"y\":152,\"yref\":\"y\"},{\"align\":\"left\",\"font\":{\"color\":\"#000000\"},\"showarrow\":false,\"text\":\"2022-07-07 00:00:00\",\"x\":-0.45,\"xanchor\":\"left\",\"xref\":\"x\",\"y\":153,\"yref\":\"y\"},{\"align\":\"left\",\"font\":{\"color\":\"#000000\"},\"showarrow\":false,\"text\":\"62\",\"x\":0.55,\"xanchor\":\"left\",\"xref\":\"x\",\"y\":153,\"yref\":\"y\"},{\"align\":\"left\",\"font\":{\"color\":\"#000000\"},\"showarrow\":false,\"text\":\"2022-07-08 00:00:00\",\"x\":-0.45,\"xanchor\":\"left\",\"xref\":\"x\",\"y\":154,\"yref\":\"y\"},{\"align\":\"left\",\"font\":{\"color\":\"#000000\"},\"showarrow\":false,\"text\":\"118\",\"x\":0.55,\"xanchor\":\"left\",\"xref\":\"x\",\"y\":154,\"yref\":\"y\"},{\"align\":\"left\",\"font\":{\"color\":\"#000000\"},\"showarrow\":false,\"text\":\"2022-07-09 00:00:00\",\"x\":-0.45,\"xanchor\":\"left\",\"xref\":\"x\",\"y\":155,\"yref\":\"y\"},{\"align\":\"left\",\"font\":{\"color\":\"#000000\"},\"showarrow\":false,\"text\":\"133\",\"x\":0.55,\"xanchor\":\"left\",\"xref\":\"x\",\"y\":155,\"yref\":\"y\"},{\"align\":\"left\",\"font\":{\"color\":\"#000000\"},\"showarrow\":false,\"text\":\"2022-07-10 00:00:00\",\"x\":-0.45,\"xanchor\":\"left\",\"xref\":\"x\",\"y\":156,\"yref\":\"y\"},{\"align\":\"left\",\"font\":{\"color\":\"#000000\"},\"showarrow\":false,\"text\":\"109\",\"x\":0.55,\"xanchor\":\"left\",\"xref\":\"x\",\"y\":156,\"yref\":\"y\"},{\"align\":\"left\",\"font\":{\"color\":\"#000000\"},\"showarrow\":false,\"text\":\"2022-07-11 00:00:00\",\"x\":-0.45,\"xanchor\":\"left\",\"xref\":\"x\",\"y\":157,\"yref\":\"y\"},{\"align\":\"left\",\"font\":{\"color\":\"#000000\"},\"showarrow\":false,\"text\":\"65\",\"x\":0.55,\"xanchor\":\"left\",\"xref\":\"x\",\"y\":157,\"yref\":\"y\"},{\"align\":\"left\",\"font\":{\"color\":\"#000000\"},\"showarrow\":false,\"text\":\"2022-07-12 00:00:00\",\"x\":-0.45,\"xanchor\":\"left\",\"xref\":\"x\",\"y\":158,\"yref\":\"y\"},{\"align\":\"left\",\"font\":{\"color\":\"#000000\"},\"showarrow\":false,\"text\":\"10\",\"x\":0.55,\"xanchor\":\"left\",\"xref\":\"x\",\"y\":158,\"yref\":\"y\"},{\"align\":\"left\",\"font\":{\"color\":\"#000000\"},\"showarrow\":false,\"text\":\"2022-07-26 00:00:00\",\"x\":-0.45,\"xanchor\":\"left\",\"xref\":\"x\",\"y\":159,\"yref\":\"y\"},{\"align\":\"left\",\"font\":{\"color\":\"#000000\"},\"showarrow\":false,\"text\":\"2\",\"x\":0.55,\"xanchor\":\"left\",\"xref\":\"x\",\"y\":159,\"yref\":\"y\"},{\"align\":\"left\",\"font\":{\"color\":\"#000000\"},\"showarrow\":false,\"text\":\"2022-07-29 00:00:00\",\"x\":-0.45,\"xanchor\":\"left\",\"xref\":\"x\",\"y\":160,\"yref\":\"y\"},{\"align\":\"left\",\"font\":{\"color\":\"#000000\"},\"showarrow\":false,\"text\":\"1\",\"x\":0.55,\"xanchor\":\"left\",\"xref\":\"x\",\"y\":160,\"yref\":\"y\"},{\"align\":\"left\",\"font\":{\"color\":\"#000000\"},\"showarrow\":false,\"text\":\"2022-07-30 00:00:00\",\"x\":-0.45,\"xanchor\":\"left\",\"xref\":\"x\",\"y\":161,\"yref\":\"y\"},{\"align\":\"left\",\"font\":{\"color\":\"#000000\"},\"showarrow\":false,\"text\":\"490\",\"x\":0.55,\"xanchor\":\"left\",\"xref\":\"x\",\"y\":161,\"yref\":\"y\"},{\"align\":\"left\",\"font\":{\"color\":\"#000000\"},\"showarrow\":false,\"text\":\"2022-07-31 00:00:00\",\"x\":-0.45,\"xanchor\":\"left\",\"xref\":\"x\",\"y\":162,\"yref\":\"y\"},{\"align\":\"left\",\"font\":{\"color\":\"#000000\"},\"showarrow\":false,\"text\":\"157\",\"x\":0.55,\"xanchor\":\"left\",\"xref\":\"x\",\"y\":162,\"yref\":\"y\"},{\"align\":\"left\",\"font\":{\"color\":\"#000000\"},\"showarrow\":false,\"text\":\"2022-08-01 00:00:00\",\"x\":-0.45,\"xanchor\":\"left\",\"xref\":\"x\",\"y\":163,\"yref\":\"y\"},{\"align\":\"left\",\"font\":{\"color\":\"#000000\"},\"showarrow\":false,\"text\":\"113\",\"x\":0.55,\"xanchor\":\"left\",\"xref\":\"x\",\"y\":163,\"yref\":\"y\"},{\"align\":\"left\",\"font\":{\"color\":\"#000000\"},\"showarrow\":false,\"text\":\"2022-08-02 00:00:00\",\"x\":-0.45,\"xanchor\":\"left\",\"xref\":\"x\",\"y\":164,\"yref\":\"y\"},{\"align\":\"left\",\"font\":{\"color\":\"#000000\"},\"showarrow\":false,\"text\":\"82\",\"x\":0.55,\"xanchor\":\"left\",\"xref\":\"x\",\"y\":164,\"yref\":\"y\"},{\"align\":\"left\",\"font\":{\"color\":\"#000000\"},\"showarrow\":false,\"text\":\"2022-08-03 00:00:00\",\"x\":-0.45,\"xanchor\":\"left\",\"xref\":\"x\",\"y\":165,\"yref\":\"y\"},{\"align\":\"left\",\"font\":{\"color\":\"#000000\"},\"showarrow\":false,\"text\":\"83\",\"x\":0.55,\"xanchor\":\"left\",\"xref\":\"x\",\"y\":165,\"yref\":\"y\"},{\"align\":\"left\",\"font\":{\"color\":\"#000000\"},\"showarrow\":false,\"text\":\"2022-08-04 00:00:00\",\"x\":-0.45,\"xanchor\":\"left\",\"xref\":\"x\",\"y\":166,\"yref\":\"y\"},{\"align\":\"left\",\"font\":{\"color\":\"#000000\"},\"showarrow\":false,\"text\":\"75\",\"x\":0.55,\"xanchor\":\"left\",\"xref\":\"x\",\"y\":166,\"yref\":\"y\"},{\"align\":\"left\",\"font\":{\"color\":\"#000000\"},\"showarrow\":false,\"text\":\"2022-08-05 00:00:00\",\"x\":-0.45,\"xanchor\":\"left\",\"xref\":\"x\",\"y\":167,\"yref\":\"y\"},{\"align\":\"left\",\"font\":{\"color\":\"#000000\"},\"showarrow\":false,\"text\":\"129\",\"x\":0.55,\"xanchor\":\"left\",\"xref\":\"x\",\"y\":167,\"yref\":\"y\"},{\"align\":\"left\",\"font\":{\"color\":\"#000000\"},\"showarrow\":false,\"text\":\"2022-08-06 00:00:00\",\"x\":-0.45,\"xanchor\":\"left\",\"xref\":\"x\",\"y\":168,\"yref\":\"y\"},{\"align\":\"left\",\"font\":{\"color\":\"#000000\"},\"showarrow\":false,\"text\":\"138\",\"x\":0.55,\"xanchor\":\"left\",\"xref\":\"x\",\"y\":168,\"yref\":\"y\"},{\"align\":\"left\",\"font\":{\"color\":\"#000000\"},\"showarrow\":false,\"text\":\"2022-08-07 00:00:00\",\"x\":-0.45,\"xanchor\":\"left\",\"xref\":\"x\",\"y\":169,\"yref\":\"y\"},{\"align\":\"left\",\"font\":{\"color\":\"#000000\"},\"showarrow\":false,\"text\":\"110\",\"x\":0.55,\"xanchor\":\"left\",\"xref\":\"x\",\"y\":169,\"yref\":\"y\"},{\"align\":\"left\",\"font\":{\"color\":\"#000000\"},\"showarrow\":false,\"text\":\"2022-08-08 00:00:00\",\"x\":-0.45,\"xanchor\":\"left\",\"xref\":\"x\",\"y\":170,\"yref\":\"y\"},{\"align\":\"left\",\"font\":{\"color\":\"#000000\"},\"showarrow\":false,\"text\":\"91\",\"x\":0.55,\"xanchor\":\"left\",\"xref\":\"x\",\"y\":170,\"yref\":\"y\"},{\"align\":\"left\",\"font\":{\"color\":\"#000000\"},\"showarrow\":false,\"text\":\"2022-08-09 00:00:00\",\"x\":-0.45,\"xanchor\":\"left\",\"xref\":\"x\",\"y\":171,\"yref\":\"y\"},{\"align\":\"left\",\"font\":{\"color\":\"#000000\"},\"showarrow\":false,\"text\":\"68\",\"x\":0.55,\"xanchor\":\"left\",\"xref\":\"x\",\"y\":171,\"yref\":\"y\"},{\"align\":\"left\",\"font\":{\"color\":\"#000000\"},\"showarrow\":false,\"text\":\"2022-08-10 00:00:00\",\"x\":-0.45,\"xanchor\":\"left\",\"xref\":\"x\",\"y\":172,\"yref\":\"y\"},{\"align\":\"left\",\"font\":{\"color\":\"#000000\"},\"showarrow\":false,\"text\":\"69\",\"x\":0.55,\"xanchor\":\"left\",\"xref\":\"x\",\"y\":172,\"yref\":\"y\"},{\"align\":\"left\",\"font\":{\"color\":\"#000000\"},\"showarrow\":false,\"text\":\"2022-08-11 00:00:00\",\"x\":-0.45,\"xanchor\":\"left\",\"xref\":\"x\",\"y\":173,\"yref\":\"y\"},{\"align\":\"left\",\"font\":{\"color\":\"#000000\"},\"showarrow\":false,\"text\":\"74\",\"x\":0.55,\"xanchor\":\"left\",\"xref\":\"x\",\"y\":173,\"yref\":\"y\"},{\"align\":\"left\",\"font\":{\"color\":\"#000000\"},\"showarrow\":false,\"text\":\"2022-08-12 00:00:00\",\"x\":-0.45,\"xanchor\":\"left\",\"xref\":\"x\",\"y\":174,\"yref\":\"y\"},{\"align\":\"left\",\"font\":{\"color\":\"#000000\"},\"showarrow\":false,\"text\":\"134\",\"x\":0.55,\"xanchor\":\"left\",\"xref\":\"x\",\"y\":174,\"yref\":\"y\"},{\"align\":\"left\",\"font\":{\"color\":\"#000000\"},\"showarrow\":false,\"text\":\"2022-08-13 00:00:00\",\"x\":-0.45,\"xanchor\":\"left\",\"xref\":\"x\",\"y\":175,\"yref\":\"y\"},{\"align\":\"left\",\"font\":{\"color\":\"#000000\"},\"showarrow\":false,\"text\":\"151\",\"x\":0.55,\"xanchor\":\"left\",\"xref\":\"x\",\"y\":175,\"yref\":\"y\"},{\"align\":\"left\",\"font\":{\"color\":\"#000000\"},\"showarrow\":false,\"text\":\"2022-08-14 00:00:00\",\"x\":-0.45,\"xanchor\":\"left\",\"xref\":\"x\",\"y\":176,\"yref\":\"y\"},{\"align\":\"left\",\"font\":{\"color\":\"#000000\"},\"showarrow\":false,\"text\":\"172\",\"x\":0.55,\"xanchor\":\"left\",\"xref\":\"x\",\"y\":176,\"yref\":\"y\"},{\"align\":\"left\",\"font\":{\"color\":\"#000000\"},\"showarrow\":false,\"text\":\"2022-08-15 00:00:00\",\"x\":-0.45,\"xanchor\":\"left\",\"xref\":\"x\",\"y\":177,\"yref\":\"y\"},{\"align\":\"left\",\"font\":{\"color\":\"#000000\"},\"showarrow\":false,\"text\":\"69\",\"x\":0.55,\"xanchor\":\"left\",\"xref\":\"x\",\"y\":177,\"yref\":\"y\"},{\"align\":\"left\",\"font\":{\"color\":\"#000000\"},\"showarrow\":false,\"text\":\"2022-08-16 00:00:00\",\"x\":-0.45,\"xanchor\":\"left\",\"xref\":\"x\",\"y\":178,\"yref\":\"y\"},{\"align\":\"left\",\"font\":{\"color\":\"#000000\"},\"showarrow\":false,\"text\":\"90\",\"x\":0.55,\"xanchor\":\"left\",\"xref\":\"x\",\"y\":178,\"yref\":\"y\"},{\"align\":\"left\",\"font\":{\"color\":\"#000000\"},\"showarrow\":false,\"text\":\"2022-08-17 00:00:00\",\"x\":-0.45,\"xanchor\":\"left\",\"xref\":\"x\",\"y\":179,\"yref\":\"y\"},{\"align\":\"left\",\"font\":{\"color\":\"#000000\"},\"showarrow\":false,\"text\":\"66\",\"x\":0.55,\"xanchor\":\"left\",\"xref\":\"x\",\"y\":179,\"yref\":\"y\"},{\"align\":\"left\",\"font\":{\"color\":\"#000000\"},\"showarrow\":false,\"text\":\"2022-08-18 00:00:00\",\"x\":-0.45,\"xanchor\":\"left\",\"xref\":\"x\",\"y\":180,\"yref\":\"y\"},{\"align\":\"left\",\"font\":{\"color\":\"#000000\"},\"showarrow\":false,\"text\":\"65\",\"x\":0.55,\"xanchor\":\"left\",\"xref\":\"x\",\"y\":180,\"yref\":\"y\"},{\"align\":\"left\",\"font\":{\"color\":\"#000000\"},\"showarrow\":false,\"text\":\"2022-08-19 00:00:00\",\"x\":-0.45,\"xanchor\":\"left\",\"xref\":\"x\",\"y\":181,\"yref\":\"y\"},{\"align\":\"left\",\"font\":{\"color\":\"#000000\"},\"showarrow\":false,\"text\":\"111\",\"x\":0.55,\"xanchor\":\"left\",\"xref\":\"x\",\"y\":181,\"yref\":\"y\"},{\"align\":\"left\",\"font\":{\"color\":\"#000000\"},\"showarrow\":false,\"text\":\"2022-08-20 00:00:00\",\"x\":-0.45,\"xanchor\":\"left\",\"xref\":\"x\",\"y\":182,\"yref\":\"y\"},{\"align\":\"left\",\"font\":{\"color\":\"#000000\"},\"showarrow\":false,\"text\":\"153\",\"x\":0.55,\"xanchor\":\"left\",\"xref\":\"x\",\"y\":182,\"yref\":\"y\"},{\"align\":\"left\",\"font\":{\"color\":\"#000000\"},\"showarrow\":false,\"text\":\"2022-08-21 00:00:00\",\"x\":-0.45,\"xanchor\":\"left\",\"xref\":\"x\",\"y\":183,\"yref\":\"y\"},{\"align\":\"left\",\"font\":{\"color\":\"#000000\"},\"showarrow\":false,\"text\":\"183\",\"x\":0.55,\"xanchor\":\"left\",\"xref\":\"x\",\"y\":183,\"yref\":\"y\"},{\"align\":\"left\",\"font\":{\"color\":\"#000000\"},\"showarrow\":false,\"text\":\"2022-08-22 00:00:00\",\"x\":-0.45,\"xanchor\":\"left\",\"xref\":\"x\",\"y\":184,\"yref\":\"y\"},{\"align\":\"left\",\"font\":{\"color\":\"#000000\"},\"showarrow\":false,\"text\":\"69\",\"x\":0.55,\"xanchor\":\"left\",\"xref\":\"x\",\"y\":184,\"yref\":\"y\"},{\"align\":\"left\",\"font\":{\"color\":\"#000000\"},\"showarrow\":false,\"text\":\"2022-08-23 00:00:00\",\"x\":-0.45,\"xanchor\":\"left\",\"xref\":\"x\",\"y\":185,\"yref\":\"y\"},{\"align\":\"left\",\"font\":{\"color\":\"#000000\"},\"showarrow\":false,\"text\":\"57\",\"x\":0.55,\"xanchor\":\"left\",\"xref\":\"x\",\"y\":185,\"yref\":\"y\"},{\"align\":\"left\",\"font\":{\"color\":\"#000000\"},\"showarrow\":false,\"text\":\"2022-08-24 00:00:00\",\"x\":-0.45,\"xanchor\":\"left\",\"xref\":\"x\",\"y\":186,\"yref\":\"y\"},{\"align\":\"left\",\"font\":{\"color\":\"#000000\"},\"showarrow\":false,\"text\":\"53\",\"x\":0.55,\"xanchor\":\"left\",\"xref\":\"x\",\"y\":186,\"yref\":\"y\"},{\"align\":\"left\",\"font\":{\"color\":\"#000000\"},\"showarrow\":false,\"text\":\"2022-08-25 00:00:00\",\"x\":-0.45,\"xanchor\":\"left\",\"xref\":\"x\",\"y\":187,\"yref\":\"y\"},{\"align\":\"left\",\"font\":{\"color\":\"#000000\"},\"showarrow\":false,\"text\":\"101\",\"x\":0.55,\"xanchor\":\"left\",\"xref\":\"x\",\"y\":187,\"yref\":\"y\"},{\"align\":\"left\",\"font\":{\"color\":\"#000000\"},\"showarrow\":false,\"text\":\"2022-08-26 00:00:00\",\"x\":-0.45,\"xanchor\":\"left\",\"xref\":\"x\",\"y\":188,\"yref\":\"y\"},{\"align\":\"left\",\"font\":{\"color\":\"#000000\"},\"showarrow\":false,\"text\":\"85\",\"x\":0.55,\"xanchor\":\"left\",\"xref\":\"x\",\"y\":188,\"yref\":\"y\"},{\"align\":\"left\",\"font\":{\"color\":\"#000000\"},\"showarrow\":false,\"text\":\"2022-08-27 00:00:00\",\"x\":-0.45,\"xanchor\":\"left\",\"xref\":\"x\",\"y\":189,\"yref\":\"y\"},{\"align\":\"left\",\"font\":{\"color\":\"#000000\"},\"showarrow\":false,\"text\":\"149\",\"x\":0.55,\"xanchor\":\"left\",\"xref\":\"x\",\"y\":189,\"yref\":\"y\"},{\"align\":\"left\",\"font\":{\"color\":\"#000000\"},\"showarrow\":false,\"text\":\"2022-08-28 00:00:00\",\"x\":-0.45,\"xanchor\":\"left\",\"xref\":\"x\",\"y\":190,\"yref\":\"y\"},{\"align\":\"left\",\"font\":{\"color\":\"#000000\"},\"showarrow\":false,\"text\":\"226\",\"x\":0.55,\"xanchor\":\"left\",\"xref\":\"x\",\"y\":190,\"yref\":\"y\"},{\"align\":\"left\",\"font\":{\"color\":\"#000000\"},\"showarrow\":false,\"text\":\"2022-08-29 00:00:00\",\"x\":-0.45,\"xanchor\":\"left\",\"xref\":\"x\",\"y\":191,\"yref\":\"y\"},{\"align\":\"left\",\"font\":{\"color\":\"#000000\"},\"showarrow\":false,\"text\":\"53\",\"x\":0.55,\"xanchor\":\"left\",\"xref\":\"x\",\"y\":191,\"yref\":\"y\"},{\"align\":\"left\",\"font\":{\"color\":\"#000000\"},\"showarrow\":false,\"text\":\"2022-08-30 00:00:00\",\"x\":-0.45,\"xanchor\":\"left\",\"xref\":\"x\",\"y\":192,\"yref\":\"y\"},{\"align\":\"left\",\"font\":{\"color\":\"#000000\"},\"showarrow\":false,\"text\":\"89\",\"x\":0.55,\"xanchor\":\"left\",\"xref\":\"x\",\"y\":192,\"yref\":\"y\"},{\"align\":\"left\",\"font\":{\"color\":\"#000000\"},\"showarrow\":false,\"text\":\"2022-08-31 00:00:00\",\"x\":-0.45,\"xanchor\":\"left\",\"xref\":\"x\",\"y\":193,\"yref\":\"y\"},{\"align\":\"left\",\"font\":{\"color\":\"#000000\"},\"showarrow\":false,\"text\":\"98\",\"x\":0.55,\"xanchor\":\"left\",\"xref\":\"x\",\"y\":193,\"yref\":\"y\"},{\"align\":\"left\",\"font\":{\"color\":\"#000000\"},\"showarrow\":false,\"text\":\"2022-09-01 00:00:00\",\"x\":-0.45,\"xanchor\":\"left\",\"xref\":\"x\",\"y\":194,\"yref\":\"y\"},{\"align\":\"left\",\"font\":{\"color\":\"#000000\"},\"showarrow\":false,\"text\":\"87\",\"x\":0.55,\"xanchor\":\"left\",\"xref\":\"x\",\"y\":194,\"yref\":\"y\"},{\"align\":\"left\",\"font\":{\"color\":\"#000000\"},\"showarrow\":false,\"text\":\"2022-09-02 00:00:00\",\"x\":-0.45,\"xanchor\":\"left\",\"xref\":\"x\",\"y\":195,\"yref\":\"y\"},{\"align\":\"left\",\"font\":{\"color\":\"#000000\"},\"showarrow\":false,\"text\":\"93\",\"x\":0.55,\"xanchor\":\"left\",\"xref\":\"x\",\"y\":195,\"yref\":\"y\"},{\"align\":\"left\",\"font\":{\"color\":\"#000000\"},\"showarrow\":false,\"text\":\"2022-09-03 00:00:00\",\"x\":-0.45,\"xanchor\":\"left\",\"xref\":\"x\",\"y\":196,\"yref\":\"y\"},{\"align\":\"left\",\"font\":{\"color\":\"#000000\"},\"showarrow\":false,\"text\":\"164\",\"x\":0.55,\"xanchor\":\"left\",\"xref\":\"x\",\"y\":196,\"yref\":\"y\"},{\"align\":\"left\",\"font\":{\"color\":\"#000000\"},\"showarrow\":false,\"text\":\"2022-09-04 00:00:00\",\"x\":-0.45,\"xanchor\":\"left\",\"xref\":\"x\",\"y\":197,\"yref\":\"y\"},{\"align\":\"left\",\"font\":{\"color\":\"#000000\"},\"showarrow\":false,\"text\":\"160\",\"x\":0.55,\"xanchor\":\"left\",\"xref\":\"x\",\"y\":197,\"yref\":\"y\"},{\"align\":\"left\",\"font\":{\"color\":\"#000000\"},\"showarrow\":false,\"text\":\"2022-09-05 00:00:00\",\"x\":-0.45,\"xanchor\":\"left\",\"xref\":\"x\",\"y\":198,\"yref\":\"y\"},{\"align\":\"left\",\"font\":{\"color\":\"#000000\"},\"showarrow\":false,\"text\":\"79\",\"x\":0.55,\"xanchor\":\"left\",\"xref\":\"x\",\"y\":198,\"yref\":\"y\"},{\"align\":\"left\",\"font\":{\"color\":\"#000000\"},\"showarrow\":false,\"text\":\"2022-09-06 00:00:00\",\"x\":-0.45,\"xanchor\":\"left\",\"xref\":\"x\",\"y\":199,\"yref\":\"y\"},{\"align\":\"left\",\"font\":{\"color\":\"#000000\"},\"showarrow\":false,\"text\":\"111\",\"x\":0.55,\"xanchor\":\"left\",\"xref\":\"x\",\"y\":199,\"yref\":\"y\"},{\"align\":\"left\",\"font\":{\"color\":\"#000000\"},\"showarrow\":false,\"text\":\"2022-09-07 00:00:00\",\"x\":-0.45,\"xanchor\":\"left\",\"xref\":\"x\",\"y\":200,\"yref\":\"y\"},{\"align\":\"left\",\"font\":{\"color\":\"#000000\"},\"showarrow\":false,\"text\":\"151\",\"x\":0.55,\"xanchor\":\"left\",\"xref\":\"x\",\"y\":200,\"yref\":\"y\"},{\"align\":\"left\",\"font\":{\"color\":\"#000000\"},\"showarrow\":false,\"text\":\"2022-09-08 00:00:00\",\"x\":-0.45,\"xanchor\":\"left\",\"xref\":\"x\",\"y\":201,\"yref\":\"y\"},{\"align\":\"left\",\"font\":{\"color\":\"#000000\"},\"showarrow\":false,\"text\":\"58\",\"x\":0.55,\"xanchor\":\"left\",\"xref\":\"x\",\"y\":201,\"yref\":\"y\"},{\"align\":\"left\",\"font\":{\"color\":\"#000000\"},\"showarrow\":false,\"text\":\"2022-09-09 00:00:00\",\"x\":-0.45,\"xanchor\":\"left\",\"xref\":\"x\",\"y\":202,\"yref\":\"y\"},{\"align\":\"left\",\"font\":{\"color\":\"#000000\"},\"showarrow\":false,\"text\":\"87\",\"x\":0.55,\"xanchor\":\"left\",\"xref\":\"x\",\"y\":202,\"yref\":\"y\"},{\"align\":\"left\",\"font\":{\"color\":\"#000000\"},\"showarrow\":false,\"text\":\"2022-09-10 00:00:00\",\"x\":-0.45,\"xanchor\":\"left\",\"xref\":\"x\",\"y\":203,\"yref\":\"y\"},{\"align\":\"left\",\"font\":{\"color\":\"#000000\"},\"showarrow\":false,\"text\":\"190\",\"x\":0.55,\"xanchor\":\"left\",\"xref\":\"x\",\"y\":203,\"yref\":\"y\"},{\"align\":\"left\",\"font\":{\"color\":\"#000000\"},\"showarrow\":false,\"text\":\"2022-09-11 00:00:00\",\"x\":-0.45,\"xanchor\":\"left\",\"xref\":\"x\",\"y\":204,\"yref\":\"y\"},{\"align\":\"left\",\"font\":{\"color\":\"#000000\"},\"showarrow\":false,\"text\":\"117\",\"x\":0.55,\"xanchor\":\"left\",\"xref\":\"x\",\"y\":204,\"yref\":\"y\"},{\"align\":\"left\",\"font\":{\"color\":\"#000000\"},\"showarrow\":false,\"text\":\"2022-09-12 00:00:00\",\"x\":-0.45,\"xanchor\":\"left\",\"xref\":\"x\",\"y\":205,\"yref\":\"y\"},{\"align\":\"left\",\"font\":{\"color\":\"#000000\"},\"showarrow\":false,\"text\":\"112\",\"x\":0.55,\"xanchor\":\"left\",\"xref\":\"x\",\"y\":205,\"yref\":\"y\"},{\"align\":\"left\",\"font\":{\"color\":\"#000000\"},\"showarrow\":false,\"text\":\"2022-09-13 00:00:00\",\"x\":-0.45,\"xanchor\":\"left\",\"xref\":\"x\",\"y\":206,\"yref\":\"y\"},{\"align\":\"left\",\"font\":{\"color\":\"#000000\"},\"showarrow\":false,\"text\":\"73\",\"x\":0.55,\"xanchor\":\"left\",\"xref\":\"x\",\"y\":206,\"yref\":\"y\"},{\"align\":\"left\",\"font\":{\"color\":\"#000000\"},\"showarrow\":false,\"text\":\"2022-09-14 00:00:00\",\"x\":-0.45,\"xanchor\":\"left\",\"xref\":\"x\",\"y\":207,\"yref\":\"y\"},{\"align\":\"left\",\"font\":{\"color\":\"#000000\"},\"showarrow\":false,\"text\":\"76\",\"x\":0.55,\"xanchor\":\"left\",\"xref\":\"x\",\"y\":207,\"yref\":\"y\"},{\"align\":\"left\",\"font\":{\"color\":\"#000000\"},\"showarrow\":false,\"text\":\"2022-09-15 00:00:00\",\"x\":-0.45,\"xanchor\":\"left\",\"xref\":\"x\",\"y\":208,\"yref\":\"y\"},{\"align\":\"left\",\"font\":{\"color\":\"#000000\"},\"showarrow\":false,\"text\":\"68\",\"x\":0.55,\"xanchor\":\"left\",\"xref\":\"x\",\"y\":208,\"yref\":\"y\"},{\"align\":\"left\",\"font\":{\"color\":\"#000000\"},\"showarrow\":false,\"text\":\"2022-09-16 00:00:00\",\"x\":-0.45,\"xanchor\":\"left\",\"xref\":\"x\",\"y\":209,\"yref\":\"y\"},{\"align\":\"left\",\"font\":{\"color\":\"#000000\"},\"showarrow\":false,\"text\":\"53\",\"x\":0.55,\"xanchor\":\"left\",\"xref\":\"x\",\"y\":209,\"yref\":\"y\"},{\"align\":\"left\",\"font\":{\"color\":\"#000000\"},\"showarrow\":false,\"text\":\"2022-09-17 00:00:00\",\"x\":-0.45,\"xanchor\":\"left\",\"xref\":\"x\",\"y\":210,\"yref\":\"y\"},{\"align\":\"left\",\"font\":{\"color\":\"#000000\"},\"showarrow\":false,\"text\":\"197\",\"x\":0.55,\"xanchor\":\"left\",\"xref\":\"x\",\"y\":210,\"yref\":\"y\"},{\"align\":\"left\",\"font\":{\"color\":\"#000000\"},\"showarrow\":false,\"text\":\"2022-09-18 00:00:00\",\"x\":-0.45,\"xanchor\":\"left\",\"xref\":\"x\",\"y\":211,\"yref\":\"y\"},{\"align\":\"left\",\"font\":{\"color\":\"#000000\"},\"showarrow\":false,\"text\":\"130\",\"x\":0.55,\"xanchor\":\"left\",\"xref\":\"x\",\"y\":211,\"yref\":\"y\"},{\"align\":\"left\",\"font\":{\"color\":\"#000000\"},\"showarrow\":false,\"text\":\"2022-09-20 00:00:00\",\"x\":-0.45,\"xanchor\":\"left\",\"xref\":\"x\",\"y\":212,\"yref\":\"y\"},{\"align\":\"left\",\"font\":{\"color\":\"#000000\"},\"showarrow\":false,\"text\":\"65\",\"x\":0.55,\"xanchor\":\"left\",\"xref\":\"x\",\"y\":212,\"yref\":\"y\"},{\"align\":\"left\",\"font\":{\"color\":\"#000000\"},\"showarrow\":false,\"text\":\"2022-09-21 00:00:00\",\"x\":-0.45,\"xanchor\":\"left\",\"xref\":\"x\",\"y\":213,\"yref\":\"y\"},{\"align\":\"left\",\"font\":{\"color\":\"#000000\"},\"showarrow\":false,\"text\":\"64\",\"x\":0.55,\"xanchor\":\"left\",\"xref\":\"x\",\"y\":213,\"yref\":\"y\"},{\"align\":\"left\",\"font\":{\"color\":\"#000000\"},\"showarrow\":false,\"text\":\"2022-09-22 00:00:00\",\"x\":-0.45,\"xanchor\":\"left\",\"xref\":\"x\",\"y\":214,\"yref\":\"y\"},{\"align\":\"left\",\"font\":{\"color\":\"#000000\"},\"showarrow\":false,\"text\":\"88\",\"x\":0.55,\"xanchor\":\"left\",\"xref\":\"x\",\"y\":214,\"yref\":\"y\"},{\"align\":\"left\",\"font\":{\"color\":\"#000000\"},\"showarrow\":false,\"text\":\"2022-09-23 00:00:00\",\"x\":-0.45,\"xanchor\":\"left\",\"xref\":\"x\",\"y\":215,\"yref\":\"y\"},{\"align\":\"left\",\"font\":{\"color\":\"#000000\"},\"showarrow\":false,\"text\":\"103\",\"x\":0.55,\"xanchor\":\"left\",\"xref\":\"x\",\"y\":215,\"yref\":\"y\"},{\"align\":\"left\",\"font\":{\"color\":\"#000000\"},\"showarrow\":false,\"text\":\"2022-09-24 00:00:00\",\"x\":-0.45,\"xanchor\":\"left\",\"xref\":\"x\",\"y\":216,\"yref\":\"y\"},{\"align\":\"left\",\"font\":{\"color\":\"#000000\"},\"showarrow\":false,\"text\":\"151\",\"x\":0.55,\"xanchor\":\"left\",\"xref\":\"x\",\"y\":216,\"yref\":\"y\"},{\"align\":\"left\",\"font\":{\"color\":\"#000000\"},\"showarrow\":false,\"text\":\"2022-09-25 00:00:00\",\"x\":-0.45,\"xanchor\":\"left\",\"xref\":\"x\",\"y\":217,\"yref\":\"y\"},{\"align\":\"left\",\"font\":{\"color\":\"#000000\"},\"showarrow\":false,\"text\":\"126\",\"x\":0.55,\"xanchor\":\"left\",\"xref\":\"x\",\"y\":217,\"yref\":\"y\"},{\"align\":\"left\",\"font\":{\"color\":\"#000000\"},\"showarrow\":false,\"text\":\"2022-09-26 00:00:00\",\"x\":-0.45,\"xanchor\":\"left\",\"xref\":\"x\",\"y\":218,\"yref\":\"y\"},{\"align\":\"left\",\"font\":{\"color\":\"#000000\"},\"showarrow\":false,\"text\":\"99\",\"x\":0.55,\"xanchor\":\"left\",\"xref\":\"x\",\"y\":218,\"yref\":\"y\"},{\"align\":\"left\",\"font\":{\"color\":\"#000000\"},\"showarrow\":false,\"text\":\"2022-09-27 00:00:00\",\"x\":-0.45,\"xanchor\":\"left\",\"xref\":\"x\",\"y\":219,\"yref\":\"y\"},{\"align\":\"left\",\"font\":{\"color\":\"#000000\"},\"showarrow\":false,\"text\":\"76\",\"x\":0.55,\"xanchor\":\"left\",\"xref\":\"x\",\"y\":219,\"yref\":\"y\"},{\"align\":\"left\",\"font\":{\"color\":\"#000000\"},\"showarrow\":false,\"text\":\"2022-09-28 00:00:00\",\"x\":-0.45,\"xanchor\":\"left\",\"xref\":\"x\",\"y\":220,\"yref\":\"y\"},{\"align\":\"left\",\"font\":{\"color\":\"#000000\"},\"showarrow\":false,\"text\":\"56\",\"x\":0.55,\"xanchor\":\"left\",\"xref\":\"x\",\"y\":220,\"yref\":\"y\"},{\"align\":\"left\",\"font\":{\"color\":\"#000000\"},\"showarrow\":false,\"text\":\"2022-09-29 00:00:00\",\"x\":-0.45,\"xanchor\":\"left\",\"xref\":\"x\",\"y\":221,\"yref\":\"y\"},{\"align\":\"left\",\"font\":{\"color\":\"#000000\"},\"showarrow\":false,\"text\":\"84\",\"x\":0.55,\"xanchor\":\"left\",\"xref\":\"x\",\"y\":221,\"yref\":\"y\"},{\"align\":\"left\",\"font\":{\"color\":\"#000000\"},\"showarrow\":false,\"text\":\"2022-09-30 00:00:00\",\"x\":-0.45,\"xanchor\":\"left\",\"xref\":\"x\",\"y\":222,\"yref\":\"y\"},{\"align\":\"left\",\"font\":{\"color\":\"#000000\"},\"showarrow\":false,\"text\":\"101\",\"x\":0.55,\"xanchor\":\"left\",\"xref\":\"x\",\"y\":222,\"yref\":\"y\"},{\"align\":\"left\",\"font\":{\"color\":\"#000000\"},\"showarrow\":false,\"text\":\"2022-10-01 00:00:00\",\"x\":-0.45,\"xanchor\":\"left\",\"xref\":\"x\",\"y\":223,\"yref\":\"y\"},{\"align\":\"left\",\"font\":{\"color\":\"#000000\"},\"showarrow\":false,\"text\":\"133\",\"x\":0.55,\"xanchor\":\"left\",\"xref\":\"x\",\"y\":223,\"yref\":\"y\"},{\"align\":\"left\",\"font\":{\"color\":\"#000000\"},\"showarrow\":false,\"text\":\"2022-10-02 00:00:00\",\"x\":-0.45,\"xanchor\":\"left\",\"xref\":\"x\",\"y\":224,\"yref\":\"y\"},{\"align\":\"left\",\"font\":{\"color\":\"#000000\"},\"showarrow\":false,\"text\":\"117\",\"x\":0.55,\"xanchor\":\"left\",\"xref\":\"x\",\"y\":224,\"yref\":\"y\"},{\"align\":\"left\",\"font\":{\"color\":\"#000000\"},\"showarrow\":false,\"text\":\"2022-10-03 00:00:00\",\"x\":-0.45,\"xanchor\":\"left\",\"xref\":\"x\",\"y\":225,\"yref\":\"y\"},{\"align\":\"left\",\"font\":{\"color\":\"#000000\"},\"showarrow\":false,\"text\":\"64\",\"x\":0.55,\"xanchor\":\"left\",\"xref\":\"x\",\"y\":225,\"yref\":\"y\"},{\"align\":\"left\",\"font\":{\"color\":\"#000000\"},\"showarrow\":false,\"text\":\"2022-10-04 00:00:00\",\"x\":-0.45,\"xanchor\":\"left\",\"xref\":\"x\",\"y\":226,\"yref\":\"y\"},{\"align\":\"left\",\"font\":{\"color\":\"#000000\"},\"showarrow\":false,\"text\":\"92\",\"x\":0.55,\"xanchor\":\"left\",\"xref\":\"x\",\"y\":226,\"yref\":\"y\"},{\"align\":\"left\",\"font\":{\"color\":\"#000000\"},\"showarrow\":false,\"text\":\"2022-10-05 00:00:00\",\"x\":-0.45,\"xanchor\":\"left\",\"xref\":\"x\",\"y\":227,\"yref\":\"y\"},{\"align\":\"left\",\"font\":{\"color\":\"#000000\"},\"showarrow\":false,\"text\":\"61\",\"x\":0.55,\"xanchor\":\"left\",\"xref\":\"x\",\"y\":227,\"yref\":\"y\"},{\"align\":\"left\",\"font\":{\"color\":\"#000000\"},\"showarrow\":false,\"text\":\"2022-10-06 00:00:00\",\"x\":-0.45,\"xanchor\":\"left\",\"xref\":\"x\",\"y\":228,\"yref\":\"y\"},{\"align\":\"left\",\"font\":{\"color\":\"#000000\"},\"showarrow\":false,\"text\":\"56\",\"x\":0.55,\"xanchor\":\"left\",\"xref\":\"x\",\"y\":228,\"yref\":\"y\"},{\"align\":\"left\",\"font\":{\"color\":\"#000000\"},\"showarrow\":false,\"text\":\"2022-10-07 00:00:00\",\"x\":-0.45,\"xanchor\":\"left\",\"xref\":\"x\",\"y\":229,\"yref\":\"y\"},{\"align\":\"left\",\"font\":{\"color\":\"#000000\"},\"showarrow\":false,\"text\":\"53\",\"x\":0.55,\"xanchor\":\"left\",\"xref\":\"x\",\"y\":229,\"yref\":\"y\"},{\"align\":\"left\",\"font\":{\"color\":\"#000000\"},\"showarrow\":false,\"text\":\"2022-10-08 00:00:00\",\"x\":-0.45,\"xanchor\":\"left\",\"xref\":\"x\",\"y\":230,\"yref\":\"y\"},{\"align\":\"left\",\"font\":{\"color\":\"#000000\"},\"showarrow\":false,\"text\":\"161\",\"x\":0.55,\"xanchor\":\"left\",\"xref\":\"x\",\"y\":230,\"yref\":\"y\"},{\"align\":\"left\",\"font\":{\"color\":\"#000000\"},\"showarrow\":false,\"text\":\"2022-10-09 00:00:00\",\"x\":-0.45,\"xanchor\":\"left\",\"xref\":\"x\",\"y\":231,\"yref\":\"y\"},{\"align\":\"left\",\"font\":{\"color\":\"#000000\"},\"showarrow\":false,\"text\":\"146\",\"x\":0.55,\"xanchor\":\"left\",\"xref\":\"x\",\"y\":231,\"yref\":\"y\"},{\"align\":\"left\",\"font\":{\"color\":\"#000000\"},\"showarrow\":false,\"text\":\"2022-10-10 00:00:00\",\"x\":-0.45,\"xanchor\":\"left\",\"xref\":\"x\",\"y\":232,\"yref\":\"y\"},{\"align\":\"left\",\"font\":{\"color\":\"#000000\"},\"showarrow\":false,\"text\":\"68\",\"x\":0.55,\"xanchor\":\"left\",\"xref\":\"x\",\"y\":232,\"yref\":\"y\"},{\"align\":\"left\",\"font\":{\"color\":\"#000000\"},\"showarrow\":false,\"text\":\"2022-10-11 00:00:00\",\"x\":-0.45,\"xanchor\":\"left\",\"xref\":\"x\",\"y\":233,\"yref\":\"y\"},{\"align\":\"left\",\"font\":{\"color\":\"#000000\"},\"showarrow\":false,\"text\":\"148\",\"x\":0.55,\"xanchor\":\"left\",\"xref\":\"x\",\"y\":233,\"yref\":\"y\"},{\"align\":\"left\",\"font\":{\"color\":\"#000000\"},\"showarrow\":false,\"text\":\"2022-10-12 00:00:00\",\"x\":-0.45,\"xanchor\":\"left\",\"xref\":\"x\",\"y\":234,\"yref\":\"y\"},{\"align\":\"left\",\"font\":{\"color\":\"#000000\"},\"showarrow\":false,\"text\":\"130\",\"x\":0.55,\"xanchor\":\"left\",\"xref\":\"x\",\"y\":234,\"yref\":\"y\"},{\"align\":\"left\",\"font\":{\"color\":\"#000000\"},\"showarrow\":false,\"text\":\"2022-10-13 00:00:00\",\"x\":-0.45,\"xanchor\":\"left\",\"xref\":\"x\",\"y\":235,\"yref\":\"y\"},{\"align\":\"left\",\"font\":{\"color\":\"#000000\"},\"showarrow\":false,\"text\":\"62\",\"x\":0.55,\"xanchor\":\"left\",\"xref\":\"x\",\"y\":235,\"yref\":\"y\"},{\"align\":\"left\",\"font\":{\"color\":\"#000000\"},\"showarrow\":false,\"text\":\"2022-10-14 00:00:00\",\"x\":-0.45,\"xanchor\":\"left\",\"xref\":\"x\",\"y\":236,\"yref\":\"y\"},{\"align\":\"left\",\"font\":{\"color\":\"#000000\"},\"showarrow\":false,\"text\":\"84\",\"x\":0.55,\"xanchor\":\"left\",\"xref\":\"x\",\"y\":236,\"yref\":\"y\"},{\"align\":\"left\",\"font\":{\"color\":\"#000000\"},\"showarrow\":false,\"text\":\"2022-10-15 00:00:00\",\"x\":-0.45,\"xanchor\":\"left\",\"xref\":\"x\",\"y\":237,\"yref\":\"y\"},{\"align\":\"left\",\"font\":{\"color\":\"#000000\"},\"showarrow\":false,\"text\":\"128\",\"x\":0.55,\"xanchor\":\"left\",\"xref\":\"x\",\"y\":237,\"yref\":\"y\"},{\"align\":\"left\",\"font\":{\"color\":\"#000000\"},\"showarrow\":false,\"text\":\"2022-10-16 00:00:00\",\"x\":-0.45,\"xanchor\":\"left\",\"xref\":\"x\",\"y\":238,\"yref\":\"y\"},{\"align\":\"left\",\"font\":{\"color\":\"#000000\"},\"showarrow\":false,\"text\":\"172\",\"x\":0.55,\"xanchor\":\"left\",\"xref\":\"x\",\"y\":238,\"yref\":\"y\"},{\"align\":\"left\",\"font\":{\"color\":\"#000000\"},\"showarrow\":false,\"text\":\"2022-10-17 00:00:00\",\"x\":-0.45,\"xanchor\":\"left\",\"xref\":\"x\",\"y\":239,\"yref\":\"y\"},{\"align\":\"left\",\"font\":{\"color\":\"#000000\"},\"showarrow\":false,\"text\":\"80\",\"x\":0.55,\"xanchor\":\"left\",\"xref\":\"x\",\"y\":239,\"yref\":\"y\"},{\"align\":\"left\",\"font\":{\"color\":\"#000000\"},\"showarrow\":false,\"text\":\"2022-10-18 00:00:00\",\"x\":-0.45,\"xanchor\":\"left\",\"xref\":\"x\",\"y\":240,\"yref\":\"y\"},{\"align\":\"left\",\"font\":{\"color\":\"#000000\"},\"showarrow\":false,\"text\":\"86\",\"x\":0.55,\"xanchor\":\"left\",\"xref\":\"x\",\"y\":240,\"yref\":\"y\"},{\"align\":\"left\",\"font\":{\"color\":\"#000000\"},\"showarrow\":false,\"text\":\"2022-10-19 00:00:00\",\"x\":-0.45,\"xanchor\":\"left\",\"xref\":\"x\",\"y\":241,\"yref\":\"y\"},{\"align\":\"left\",\"font\":{\"color\":\"#000000\"},\"showarrow\":false,\"text\":\"78\",\"x\":0.55,\"xanchor\":\"left\",\"xref\":\"x\",\"y\":241,\"yref\":\"y\"},{\"align\":\"left\",\"font\":{\"color\":\"#000000\"},\"showarrow\":false,\"text\":\"2022-10-20 00:00:00\",\"x\":-0.45,\"xanchor\":\"left\",\"xref\":\"x\",\"y\":242,\"yref\":\"y\"},{\"align\":\"left\",\"font\":{\"color\":\"#000000\"},\"showarrow\":false,\"text\":\"76\",\"x\":0.55,\"xanchor\":\"left\",\"xref\":\"x\",\"y\":242,\"yref\":\"y\"},{\"align\":\"left\",\"font\":{\"color\":\"#000000\"},\"showarrow\":false,\"text\":\"2022-10-21 00:00:00\",\"x\":-0.45,\"xanchor\":\"left\",\"xref\":\"x\",\"y\":243,\"yref\":\"y\"},{\"align\":\"left\",\"font\":{\"color\":\"#000000\"},\"showarrow\":false,\"text\":\"75\",\"x\":0.55,\"xanchor\":\"left\",\"xref\":\"x\",\"y\":243,\"yref\":\"y\"},{\"align\":\"left\",\"font\":{\"color\":\"#000000\"},\"showarrow\":false,\"text\":\"2022-10-22 00:00:00\",\"x\":-0.45,\"xanchor\":\"left\",\"xref\":\"x\",\"y\":244,\"yref\":\"y\"},{\"align\":\"left\",\"font\":{\"color\":\"#000000\"},\"showarrow\":false,\"text\":\"116\",\"x\":0.55,\"xanchor\":\"left\",\"xref\":\"x\",\"y\":244,\"yref\":\"y\"},{\"align\":\"left\",\"font\":{\"color\":\"#000000\"},\"showarrow\":false,\"text\":\"2022-10-23 00:00:00\",\"x\":-0.45,\"xanchor\":\"left\",\"xref\":\"x\",\"y\":245,\"yref\":\"y\"},{\"align\":\"left\",\"font\":{\"color\":\"#000000\"},\"showarrow\":false,\"text\":\"224\",\"x\":0.55,\"xanchor\":\"left\",\"xref\":\"x\",\"y\":245,\"yref\":\"y\"},{\"align\":\"left\",\"font\":{\"color\":\"#000000\"},\"showarrow\":false,\"text\":\"2022-10-24 00:00:00\",\"x\":-0.45,\"xanchor\":\"left\",\"xref\":\"x\",\"y\":246,\"yref\":\"y\"},{\"align\":\"left\",\"font\":{\"color\":\"#000000\"},\"showarrow\":false,\"text\":\"97\",\"x\":0.55,\"xanchor\":\"left\",\"xref\":\"x\",\"y\":246,\"yref\":\"y\"},{\"align\":\"left\",\"font\":{\"color\":\"#000000\"},\"showarrow\":false,\"text\":\"2022-10-25 00:00:00\",\"x\":-0.45,\"xanchor\":\"left\",\"xref\":\"x\",\"y\":247,\"yref\":\"y\"},{\"align\":\"left\",\"font\":{\"color\":\"#000000\"},\"showarrow\":false,\"text\":\"89\",\"x\":0.55,\"xanchor\":\"left\",\"xref\":\"x\",\"y\":247,\"yref\":\"y\"},{\"align\":\"left\",\"font\":{\"color\":\"#000000\"},\"showarrow\":false,\"text\":\"2022-10-26 00:00:00\",\"x\":-0.45,\"xanchor\":\"left\",\"xref\":\"x\",\"y\":248,\"yref\":\"y\"},{\"align\":\"left\",\"font\":{\"color\":\"#000000\"},\"showarrow\":false,\"text\":\"66\",\"x\":0.55,\"xanchor\":\"left\",\"xref\":\"x\",\"y\":248,\"yref\":\"y\"},{\"align\":\"left\",\"font\":{\"color\":\"#000000\"},\"showarrow\":false,\"text\":\"2022-10-27 00:00:00\",\"x\":-0.45,\"xanchor\":\"left\",\"xref\":\"x\",\"y\":249,\"yref\":\"y\"},{\"align\":\"left\",\"font\":{\"color\":\"#000000\"},\"showarrow\":false,\"text\":\"55\",\"x\":0.55,\"xanchor\":\"left\",\"xref\":\"x\",\"y\":249,\"yref\":\"y\"},{\"align\":\"left\",\"font\":{\"color\":\"#000000\"},\"showarrow\":false,\"text\":\"2022-10-28 00:00:00\",\"x\":-0.45,\"xanchor\":\"left\",\"xref\":\"x\",\"y\":250,\"yref\":\"y\"},{\"align\":\"left\",\"font\":{\"color\":\"#000000\"},\"showarrow\":false,\"text\":\"135\",\"x\":0.55,\"xanchor\":\"left\",\"xref\":\"x\",\"y\":250,\"yref\":\"y\"},{\"align\":\"left\",\"font\":{\"color\":\"#000000\"},\"showarrow\":false,\"text\":\"2022-10-29 00:00:00\",\"x\":-0.45,\"xanchor\":\"left\",\"xref\":\"x\",\"y\":251,\"yref\":\"y\"},{\"align\":\"left\",\"font\":{\"color\":\"#000000\"},\"showarrow\":false,\"text\":\"112\",\"x\":0.55,\"xanchor\":\"left\",\"xref\":\"x\",\"y\":251,\"yref\":\"y\"},{\"align\":\"left\",\"font\":{\"color\":\"#000000\"},\"showarrow\":false,\"text\":\"2022-10-30 00:00:00\",\"x\":-0.45,\"xanchor\":\"left\",\"xref\":\"x\",\"y\":252,\"yref\":\"y\"},{\"align\":\"left\",\"font\":{\"color\":\"#000000\"},\"showarrow\":false,\"text\":\"94\",\"x\":0.55,\"xanchor\":\"left\",\"xref\":\"x\",\"y\":252,\"yref\":\"y\"},{\"align\":\"left\",\"font\":{\"color\":\"#000000\"},\"showarrow\":false,\"text\":\"2022-10-31 00:00:00\",\"x\":-0.45,\"xanchor\":\"left\",\"xref\":\"x\",\"y\":253,\"yref\":\"y\"},{\"align\":\"left\",\"font\":{\"color\":\"#000000\"},\"showarrow\":false,\"text\":\"67\",\"x\":0.55,\"xanchor\":\"left\",\"xref\":\"x\",\"y\":253,\"yref\":\"y\"}],\"height\":7670,\"margin\":{\"b\":0,\"l\":0,\"r\":0,\"t\":0},\"template\":{\"data\":{\"barpolar\":[{\"marker\":{\"line\":{\"color\":\"#E5ECF6\",\"width\":0.5},\"pattern\":{\"fillmode\":\"overlay\",\"size\":10,\"solidity\":0.2}},\"type\":\"barpolar\"}],\"bar\":[{\"error_x\":{\"color\":\"#2a3f5f\"},\"error_y\":{\"color\":\"#2a3f5f\"},\"marker\":{\"line\":{\"color\":\"#E5ECF6\",\"width\":0.5},\"pattern\":{\"fillmode\":\"overlay\",\"size\":10,\"solidity\":0.2}},\"type\":\"bar\"}],\"carpet\":[{\"aaxis\":{\"endlinecolor\":\"#2a3f5f\",\"gridcolor\":\"white\",\"linecolor\":\"white\",\"minorgridcolor\":\"white\",\"startlinecolor\":\"#2a3f5f\"},\"baxis\":{\"endlinecolor\":\"#2a3f5f\",\"gridcolor\":\"white\",\"linecolor\":\"white\",\"minorgridcolor\":\"white\",\"startlinecolor\":\"#2a3f5f\"},\"type\":\"carpet\"}],\"choropleth\":[{\"colorbar\":{\"outlinewidth\":0,\"ticks\":\"\"},\"type\":\"choropleth\"}],\"contourcarpet\":[{\"colorbar\":{\"outlinewidth\":0,\"ticks\":\"\"},\"type\":\"contourcarpet\"}],\"contour\":[{\"colorbar\":{\"outlinewidth\":0,\"ticks\":\"\"},\"colorscale\":[[0.0,\"#0d0887\"],[0.1111111111111111,\"#46039f\"],[0.2222222222222222,\"#7201a8\"],[0.3333333333333333,\"#9c179e\"],[0.4444444444444444,\"#bd3786\"],[0.5555555555555556,\"#d8576b\"],[0.6666666666666666,\"#ed7953\"],[0.7777777777777778,\"#fb9f3a\"],[0.8888888888888888,\"#fdca26\"],[1.0,\"#f0f921\"]],\"type\":\"contour\"}],\"heatmapgl\":[{\"colorbar\":{\"outlinewidth\":0,\"ticks\":\"\"},\"colorscale\":[[0.0,\"#0d0887\"],[0.1111111111111111,\"#46039f\"],[0.2222222222222222,\"#7201a8\"],[0.3333333333333333,\"#9c179e\"],[0.4444444444444444,\"#bd3786\"],[0.5555555555555556,\"#d8576b\"],[0.6666666666666666,\"#ed7953\"],[0.7777777777777778,\"#fb9f3a\"],[0.8888888888888888,\"#fdca26\"],[1.0,\"#f0f921\"]],\"type\":\"heatmapgl\"}],\"heatmap\":[{\"colorbar\":{\"outlinewidth\":0,\"ticks\":\"\"},\"colorscale\":[[0.0,\"#0d0887\"],[0.1111111111111111,\"#46039f\"],[0.2222222222222222,\"#7201a8\"],[0.3333333333333333,\"#9c179e\"],[0.4444444444444444,\"#bd3786\"],[0.5555555555555556,\"#d8576b\"],[0.6666666666666666,\"#ed7953\"],[0.7777777777777778,\"#fb9f3a\"],[0.8888888888888888,\"#fdca26\"],[1.0,\"#f0f921\"]],\"type\":\"heatmap\"}],\"histogram2dcontour\":[{\"colorbar\":{\"outlinewidth\":0,\"ticks\":\"\"},\"colorscale\":[[0.0,\"#0d0887\"],[0.1111111111111111,\"#46039f\"],[0.2222222222222222,\"#7201a8\"],[0.3333333333333333,\"#9c179e\"],[0.4444444444444444,\"#bd3786\"],[0.5555555555555556,\"#d8576b\"],[0.6666666666666666,\"#ed7953\"],[0.7777777777777778,\"#fb9f3a\"],[0.8888888888888888,\"#fdca26\"],[1.0,\"#f0f921\"]],\"type\":\"histogram2dcontour\"}],\"histogram2d\":[{\"colorbar\":{\"outlinewidth\":0,\"ticks\":\"\"},\"colorscale\":[[0.0,\"#0d0887\"],[0.1111111111111111,\"#46039f\"],[0.2222222222222222,\"#7201a8\"],[0.3333333333333333,\"#9c179e\"],[0.4444444444444444,\"#bd3786\"],[0.5555555555555556,\"#d8576b\"],[0.6666666666666666,\"#ed7953\"],[0.7777777777777778,\"#fb9f3a\"],[0.8888888888888888,\"#fdca26\"],[1.0,\"#f0f921\"]],\"type\":\"histogram2d\"}],\"histogram\":[{\"marker\":{\"pattern\":{\"fillmode\":\"overlay\",\"size\":10,\"solidity\":0.2}},\"type\":\"histogram\"}],\"mesh3d\":[{\"colorbar\":{\"outlinewidth\":0,\"ticks\":\"\"},\"type\":\"mesh3d\"}],\"parcoords\":[{\"line\":{\"colorbar\":{\"outlinewidth\":0,\"ticks\":\"\"}},\"type\":\"parcoords\"}],\"pie\":[{\"automargin\":true,\"type\":\"pie\"}],\"scatter3d\":[{\"line\":{\"colorbar\":{\"outlinewidth\":0,\"ticks\":\"\"}},\"marker\":{\"colorbar\":{\"outlinewidth\":0,\"ticks\":\"\"}},\"type\":\"scatter3d\"}],\"scattercarpet\":[{\"marker\":{\"colorbar\":{\"outlinewidth\":0,\"ticks\":\"\"}},\"type\":\"scattercarpet\"}],\"scattergeo\":[{\"marker\":{\"colorbar\":{\"outlinewidth\":0,\"ticks\":\"\"}},\"type\":\"scattergeo\"}],\"scattergl\":[{\"marker\":{\"colorbar\":{\"outlinewidth\":0,\"ticks\":\"\"}},\"type\":\"scattergl\"}],\"scattermapbox\":[{\"marker\":{\"colorbar\":{\"outlinewidth\":0,\"ticks\":\"\"}},\"type\":\"scattermapbox\"}],\"scatterpolargl\":[{\"marker\":{\"colorbar\":{\"outlinewidth\":0,\"ticks\":\"\"}},\"type\":\"scatterpolargl\"}],\"scatterpolar\":[{\"marker\":{\"colorbar\":{\"outlinewidth\":0,\"ticks\":\"\"}},\"type\":\"scatterpolar\"}],\"scatter\":[{\"fillpattern\":{\"fillmode\":\"overlay\",\"size\":10,\"solidity\":0.2},\"type\":\"scatter\"}],\"scatterternary\":[{\"marker\":{\"colorbar\":{\"outlinewidth\":0,\"ticks\":\"\"}},\"type\":\"scatterternary\"}],\"surface\":[{\"colorbar\":{\"outlinewidth\":0,\"ticks\":\"\"},\"colorscale\":[[0.0,\"#0d0887\"],[0.1111111111111111,\"#46039f\"],[0.2222222222222222,\"#7201a8\"],[0.3333333333333333,\"#9c179e\"],[0.4444444444444444,\"#bd3786\"],[0.5555555555555556,\"#d8576b\"],[0.6666666666666666,\"#ed7953\"],[0.7777777777777778,\"#fb9f3a\"],[0.8888888888888888,\"#fdca26\"],[1.0,\"#f0f921\"]],\"type\":\"surface\"}],\"table\":[{\"cells\":{\"fill\":{\"color\":\"#EBF0F8\"},\"line\":{\"color\":\"white\"}},\"header\":{\"fill\":{\"color\":\"#C8D4E3\"},\"line\":{\"color\":\"white\"}},\"type\":\"table\"}]},\"layout\":{\"annotationdefaults\":{\"arrowcolor\":\"#2a3f5f\",\"arrowhead\":0,\"arrowwidth\":1},\"autotypenumbers\":\"strict\",\"coloraxis\":{\"colorbar\":{\"outlinewidth\":0,\"ticks\":\"\"}},\"colorscale\":{\"diverging\":[[0,\"#8e0152\"],[0.1,\"#c51b7d\"],[0.2,\"#de77ae\"],[0.3,\"#f1b6da\"],[0.4,\"#fde0ef\"],[0.5,\"#f7f7f7\"],[0.6,\"#e6f5d0\"],[0.7,\"#b8e186\"],[0.8,\"#7fbc41\"],[0.9,\"#4d9221\"],[1,\"#276419\"]],\"sequential\":[[0.0,\"#0d0887\"],[0.1111111111111111,\"#46039f\"],[0.2222222222222222,\"#7201a8\"],[0.3333333333333333,\"#9c179e\"],[0.4444444444444444,\"#bd3786\"],[0.5555555555555556,\"#d8576b\"],[0.6666666666666666,\"#ed7953\"],[0.7777777777777778,\"#fb9f3a\"],[0.8888888888888888,\"#fdca26\"],[1.0,\"#f0f921\"]],\"sequentialminus\":[[0.0,\"#0d0887\"],[0.1111111111111111,\"#46039f\"],[0.2222222222222222,\"#7201a8\"],[0.3333333333333333,\"#9c179e\"],[0.4444444444444444,\"#bd3786\"],[0.5555555555555556,\"#d8576b\"],[0.6666666666666666,\"#ed7953\"],[0.7777777777777778,\"#fb9f3a\"],[0.8888888888888888,\"#fdca26\"],[1.0,\"#f0f921\"]]},\"colorway\":[\"#636efa\",\"#EF553B\",\"#00cc96\",\"#ab63fa\",\"#FFA15A\",\"#19d3f3\",\"#FF6692\",\"#B6E880\",\"#FF97FF\",\"#FECB52\"],\"font\":{\"color\":\"#2a3f5f\"},\"geo\":{\"bgcolor\":\"white\",\"lakecolor\":\"white\",\"landcolor\":\"#E5ECF6\",\"showlakes\":true,\"showland\":true,\"subunitcolor\":\"white\"},\"hoverlabel\":{\"align\":\"left\"},\"hovermode\":\"closest\",\"mapbox\":{\"style\":\"light\"},\"paper_bgcolor\":\"white\",\"plot_bgcolor\":\"#E5ECF6\",\"polar\":{\"angularaxis\":{\"gridcolor\":\"white\",\"linecolor\":\"white\",\"ticks\":\"\"},\"bgcolor\":\"#E5ECF6\",\"radialaxis\":{\"gridcolor\":\"white\",\"linecolor\":\"white\",\"ticks\":\"\"}},\"scene\":{\"xaxis\":{\"backgroundcolor\":\"#E5ECF6\",\"gridcolor\":\"white\",\"gridwidth\":2,\"linecolor\":\"white\",\"showbackground\":true,\"ticks\":\"\",\"zerolinecolor\":\"white\"},\"yaxis\":{\"backgroundcolor\":\"#E5ECF6\",\"gridcolor\":\"white\",\"gridwidth\":2,\"linecolor\":\"white\",\"showbackground\":true,\"ticks\":\"\",\"zerolinecolor\":\"white\"},\"zaxis\":{\"backgroundcolor\":\"#E5ECF6\",\"gridcolor\":\"white\",\"gridwidth\":2,\"linecolor\":\"white\",\"showbackground\":true,\"ticks\":\"\",\"zerolinecolor\":\"white\"}},\"shapedefaults\":{\"line\":{\"color\":\"#2a3f5f\"}},\"ternary\":{\"aaxis\":{\"gridcolor\":\"white\",\"linecolor\":\"white\",\"ticks\":\"\"},\"baxis\":{\"gridcolor\":\"white\",\"linecolor\":\"white\",\"ticks\":\"\"},\"bgcolor\":\"#E5ECF6\",\"caxis\":{\"gridcolor\":\"white\",\"linecolor\":\"white\",\"ticks\":\"\"}},\"title\":{\"x\":0.05},\"xaxis\":{\"automargin\":true,\"gridcolor\":\"white\",\"linecolor\":\"white\",\"ticks\":\"\",\"title\":{\"standoff\":15},\"zerolinecolor\":\"white\",\"zerolinewidth\":2},\"yaxis\":{\"automargin\":true,\"gridcolor\":\"white\",\"linecolor\":\"white\",\"ticks\":\"\",\"title\":{\"standoff\":15},\"zerolinecolor\":\"white\",\"zerolinewidth\":2}}},\"xaxis\":{\"dtick\":1,\"gridwidth\":2,\"showticklabels\":false,\"tick0\":-0.5,\"ticks\":\"\",\"zeroline\":false},\"yaxis\":{\"autorange\":\"reversed\",\"dtick\":1,\"gridwidth\":2,\"showticklabels\":false,\"tick0\":0.5,\"ticks\":\"\",\"zeroline\":false}},                        {\"responsive\": true}                    ).then(function(){\n",
       "                            \n",
       "var gd = document.getElementById('636ea2c4-f6d4-4b38-a458-1e9f08ae6a52');\n",
       "var x = new MutationObserver(function (mutations, observer) {{\n",
       "        var display = window.getComputedStyle(gd).display;\n",
       "        if (!display || display === 'none') {{\n",
       "            console.log([gd, 'removed!']);\n",
       "            Plotly.purge(gd);\n",
       "            observer.disconnect();\n",
       "        }}\n",
       "}});\n",
       "\n",
       "// Listen for the removal of the full notebook cells\n",
       "var notebookContainer = gd.closest('#notebook-container');\n",
       "if (notebookContainer) {{\n",
       "    x.observe(notebookContainer, {childList: true});\n",
       "}}\n",
       "\n",
       "// Listen for the clearing of the current output cell\n",
       "var outputEl = gd.closest('.output');\n",
       "if (outputEl) {{\n",
       "    x.observe(outputEl, {childList: true});\n",
       "}}\n",
       "\n",
       "                        })                };                });            </script>        </div>"
      ]
     },
     "metadata": {},
     "output_type": "display_data"
    }
   ],
   "source": [
    "from chart_studio.grid_objs import Grid, Column\n",
    "\n",
    "\n",
    "import plotly.figure_factory as ff\n",
    "\n",
    "# Create a plot.ly-friendly table for Sales per day\n",
    "\n",
    "table = ff.create_table(grouped_by_date)\n",
    "py.iplot(table, filename='Vendas_por_dia_farina')\n",
    "\n",
    "f = open('Vendas_por_dia_farina.html','w')\n",
    "a = grouped_by_date.to_html()\n",
    "f.write(a)\n",
    "f.close()"
   ]
  },
  {
   "cell_type": "code",
   "execution_count": 58,
   "metadata": {},
   "outputs": [
    {
     "data": {
      "application/vnd.plotly.v1+json": {
       "config": {
        "plotlyServerURL": "https://plotly.com"
       },
       "data": [
        {
         "hovertemplate": "Data=%{x}<br>Quantidade de itens vendidos=%{y}<extra></extra>",
         "legendgroup": "",
         "line": {
          "color": "#636efa",
          "dash": "solid"
         },
         "marker": {
          "symbol": "circle"
         },
         "mode": "lines",
         "name": "",
         "orientation": "v",
         "showlegend": false,
         "type": "scatter",
         "x": [
          "2022-02-01T00:00:00",
          "2022-02-02T00:00:00",
          "2022-02-03T00:00:00",
          "2022-02-04T00:00:00",
          "2022-02-05T00:00:00",
          "2022-02-06T00:00:00",
          "2022-02-07T00:00:00",
          "2022-02-09T00:00:00",
          "2022-02-10T00:00:00",
          "2022-02-11T00:00:00",
          "2022-02-12T00:00:00",
          "2022-02-13T00:00:00",
          "2022-02-14T00:00:00",
          "2022-02-16T00:00:00",
          "2022-02-17T00:00:00",
          "2022-02-18T00:00:00",
          "2022-02-19T00:00:00",
          "2022-02-20T00:00:00",
          "2022-02-21T00:00:00",
          "2022-02-23T00:00:00",
          "2022-02-24T00:00:00",
          "2022-02-25T00:00:00",
          "2022-02-26T00:00:00",
          "2022-02-27T00:00:00",
          "2022-02-28T00:00:00",
          "2022-03-01T00:00:00",
          "2022-03-02T00:00:00",
          "2022-03-03T00:00:00",
          "2022-03-04T00:00:00",
          "2022-03-05T00:00:00",
          "2022-03-06T00:00:00",
          "2022-03-07T00:00:00",
          "2022-03-08T00:00:00",
          "2022-03-09T00:00:00",
          "2022-03-10T00:00:00",
          "2022-03-11T00:00:00",
          "2022-03-12T00:00:00",
          "2022-03-13T00:00:00",
          "2022-03-14T00:00:00",
          "2022-03-15T00:00:00",
          "2022-03-16T00:00:00",
          "2022-03-17T00:00:00",
          "2022-03-18T00:00:00",
          "2022-03-19T00:00:00",
          "2022-03-20T00:00:00",
          "2022-03-21T00:00:00",
          "2022-03-22T00:00:00",
          "2022-03-23T00:00:00",
          "2022-03-24T00:00:00",
          "2022-03-25T00:00:00",
          "2022-03-26T00:00:00",
          "2022-03-27T00:00:00",
          "2022-03-28T00:00:00",
          "2022-03-29T00:00:00",
          "2022-03-30T00:00:00",
          "2022-03-31T00:00:00",
          "2022-04-01T00:00:00",
          "2022-04-02T00:00:00",
          "2022-04-03T00:00:00",
          "2022-04-04T00:00:00",
          "2022-04-05T00:00:00",
          "2022-04-06T00:00:00",
          "2022-04-07T00:00:00",
          "2022-04-08T00:00:00",
          "2022-04-09T00:00:00",
          "2022-04-10T00:00:00",
          "2022-04-11T00:00:00",
          "2022-04-12T00:00:00",
          "2022-04-13T00:00:00",
          "2022-04-14T00:00:00",
          "2022-04-15T00:00:00",
          "2022-04-16T00:00:00",
          "2022-04-17T00:00:00",
          "2022-04-18T00:00:00",
          "2022-04-19T00:00:00",
          "2022-04-20T00:00:00",
          "2022-04-21T00:00:00",
          "2022-04-22T00:00:00",
          "2022-04-23T00:00:00",
          "2022-04-24T00:00:00",
          "2022-04-25T00:00:00",
          "2022-04-26T00:00:00",
          "2022-04-27T00:00:00",
          "2022-04-28T00:00:00",
          "2022-04-29T00:00:00",
          "2022-04-30T00:00:00",
          "2022-05-01T00:00:00",
          "2022-05-02T00:00:00",
          "2022-05-03T00:00:00",
          "2022-05-04T00:00:00",
          "2022-05-05T00:00:00",
          "2022-05-06T00:00:00",
          "2022-05-07T00:00:00",
          "2022-05-08T00:00:00",
          "2022-05-09T00:00:00",
          "2022-05-10T00:00:00",
          "2022-05-11T00:00:00",
          "2022-05-12T00:00:00",
          "2022-05-13T00:00:00",
          "2022-05-14T00:00:00",
          "2022-05-15T00:00:00",
          "2022-05-16T00:00:00",
          "2022-05-17T00:00:00",
          "2022-05-18T00:00:00",
          "2022-05-19T00:00:00",
          "2022-05-20T00:00:00",
          "2022-05-21T00:00:00",
          "2022-05-22T00:00:00",
          "2022-05-23T00:00:00",
          "2022-05-24T00:00:00",
          "2022-05-25T00:00:00",
          "2022-05-26T00:00:00",
          "2022-05-27T00:00:00",
          "2022-05-28T00:00:00",
          "2022-05-29T00:00:00",
          "2022-05-30T00:00:00",
          "2022-05-31T00:00:00",
          "2022-06-01T00:00:00",
          "2022-06-02T00:00:00",
          "2022-06-03T00:00:00",
          "2022-06-04T00:00:00",
          "2022-06-05T00:00:00",
          "2022-06-06T00:00:00",
          "2022-06-07T00:00:00",
          "2022-06-08T00:00:00",
          "2022-06-09T00:00:00",
          "2022-06-10T00:00:00",
          "2022-06-11T00:00:00",
          "2022-06-12T00:00:00",
          "2022-06-13T00:00:00",
          "2022-06-14T00:00:00",
          "2022-06-15T00:00:00",
          "2022-06-16T00:00:00",
          "2022-06-17T00:00:00",
          "2022-06-18T00:00:00",
          "2022-06-19T00:00:00",
          "2022-06-20T00:00:00",
          "2022-06-21T00:00:00",
          "2022-06-22T00:00:00",
          "2022-06-23T00:00:00",
          "2022-06-24T00:00:00",
          "2022-06-25T00:00:00",
          "2022-06-26T00:00:00",
          "2022-06-27T00:00:00",
          "2022-06-28T00:00:00",
          "2022-06-29T00:00:00",
          "2022-06-30T00:00:00",
          "2022-07-01T00:00:00",
          "2022-07-03T00:00:00",
          "2022-07-04T00:00:00",
          "2022-07-05T00:00:00",
          "2022-07-06T00:00:00",
          "2022-07-07T00:00:00",
          "2022-07-08T00:00:00",
          "2022-07-09T00:00:00",
          "2022-07-10T00:00:00",
          "2022-07-11T00:00:00",
          "2022-07-12T00:00:00",
          "2022-07-26T00:00:00",
          "2022-07-29T00:00:00",
          "2022-07-30T00:00:00",
          "2022-07-31T00:00:00",
          "2022-08-01T00:00:00",
          "2022-08-02T00:00:00",
          "2022-08-03T00:00:00",
          "2022-08-04T00:00:00",
          "2022-08-05T00:00:00",
          "2022-08-06T00:00:00",
          "2022-08-07T00:00:00",
          "2022-08-08T00:00:00",
          "2022-08-09T00:00:00",
          "2022-08-10T00:00:00",
          "2022-08-11T00:00:00",
          "2022-08-12T00:00:00",
          "2022-08-13T00:00:00",
          "2022-08-14T00:00:00",
          "2022-08-15T00:00:00",
          "2022-08-16T00:00:00",
          "2022-08-17T00:00:00",
          "2022-08-18T00:00:00",
          "2022-08-19T00:00:00",
          "2022-08-20T00:00:00",
          "2022-08-21T00:00:00",
          "2022-08-22T00:00:00",
          "2022-08-23T00:00:00",
          "2022-08-24T00:00:00",
          "2022-08-25T00:00:00",
          "2022-08-26T00:00:00",
          "2022-08-27T00:00:00",
          "2022-08-28T00:00:00",
          "2022-08-29T00:00:00",
          "2022-08-30T00:00:00",
          "2022-08-31T00:00:00",
          "2022-09-01T00:00:00",
          "2022-09-02T00:00:00",
          "2022-09-03T00:00:00",
          "2022-09-04T00:00:00",
          "2022-09-05T00:00:00",
          "2022-09-06T00:00:00",
          "2022-09-07T00:00:00",
          "2022-09-08T00:00:00",
          "2022-09-09T00:00:00",
          "2022-09-10T00:00:00",
          "2022-09-11T00:00:00",
          "2022-09-12T00:00:00",
          "2022-09-13T00:00:00",
          "2022-09-14T00:00:00",
          "2022-09-15T00:00:00",
          "2022-09-16T00:00:00",
          "2022-09-17T00:00:00",
          "2022-09-18T00:00:00",
          "2022-09-20T00:00:00",
          "2022-09-21T00:00:00",
          "2022-09-22T00:00:00",
          "2022-09-23T00:00:00",
          "2022-09-24T00:00:00",
          "2022-09-25T00:00:00",
          "2022-09-26T00:00:00",
          "2022-09-27T00:00:00",
          "2022-09-28T00:00:00",
          "2022-09-29T00:00:00",
          "2022-09-30T00:00:00",
          "2022-10-01T00:00:00",
          "2022-10-02T00:00:00",
          "2022-10-03T00:00:00",
          "2022-10-04T00:00:00",
          "2022-10-05T00:00:00",
          "2022-10-06T00:00:00",
          "2022-10-07T00:00:00",
          "2022-10-08T00:00:00",
          "2022-10-09T00:00:00",
          "2022-10-10T00:00:00",
          "2022-10-11T00:00:00",
          "2022-10-12T00:00:00",
          "2022-10-13T00:00:00",
          "2022-10-14T00:00:00",
          "2022-10-15T00:00:00",
          "2022-10-16T00:00:00",
          "2022-10-17T00:00:00",
          "2022-10-18T00:00:00",
          "2022-10-19T00:00:00",
          "2022-10-20T00:00:00",
          "2022-10-21T00:00:00",
          "2022-10-22T00:00:00",
          "2022-10-23T00:00:00",
          "2022-10-24T00:00:00",
          "2022-10-25T00:00:00",
          "2022-10-26T00:00:00",
          "2022-10-27T00:00:00",
          "2022-10-28T00:00:00",
          "2022-10-29T00:00:00",
          "2022-10-30T00:00:00",
          "2022-10-31T00:00:00"
         ],
         "xaxis": "x",
         "y": [
          74,
          88,
          81,
          110,
          112,
          121,
          61,
          101,
          88,
          87,
          108,
          186,
          77,
          93,
          68,
          106,
          107,
          156,
          75,
          81,
          60,
          106,
          96,
          86,
          91,
          87,
          92,
          73,
          60,
          176,
          126,
          38,
          77,
          51,
          73,
          37,
          135,
          145,
          39,
          67,
          95,
          114,
          48,
          164,
          140,
          72,
          83,
          70,
          67,
          48,
          102,
          121,
          61,
          43,
          65,
          111,
          65,
          65,
          93,
          51,
          56,
          49,
          79,
          89,
          78,
          77,
          40,
          35,
          102,
          104,
          19,
          81,
          97,
          38,
          40,
          52,
          114,
          74,
          126,
          88,
          64,
          54,
          57,
          41,
          42,
          84,
          110,
          59,
          39,
          62,
          65,
          79,
          105,
          123,
          73,
          91,
          96,
          116,
          169,
          227,
          215,
          119,
          106,
          241,
          108,
          141,
          226,
          175,
          97,
          136,
          61,
          136,
          141,
          169,
          154,
          61,
          52,
          40,
          30,
          51,
          84,
          150,
          64,
          45,
          35,
          58,
          50,
          81,
          123,
          48,
          61,
          67,
          71,
          38,
          71,
          114,
          32,
          56,
          32,
          2303,
          58,
          121,
          95,
          42,
          81,
          63,
          46,
          8,
          97,
          61,
          102,
          112,
          62,
          118,
          133,
          109,
          65,
          10,
          2,
          1,
          490,
          157,
          113,
          82,
          83,
          75,
          129,
          138,
          110,
          91,
          68,
          69,
          74,
          134,
          151,
          172,
          69,
          90,
          66,
          65,
          111,
          153,
          183,
          69,
          57,
          53,
          101,
          85,
          149,
          226,
          53,
          89,
          98,
          87,
          93,
          164,
          160,
          79,
          111,
          151,
          58,
          87,
          190,
          117,
          112,
          73,
          76,
          68,
          53,
          197,
          130,
          65,
          64,
          88,
          103,
          151,
          126,
          99,
          76,
          56,
          84,
          101,
          133,
          117,
          64,
          92,
          61,
          56,
          53,
          161,
          146,
          68,
          148,
          130,
          62,
          84,
          128,
          172,
          80,
          86,
          78,
          76,
          75,
          116,
          224,
          97,
          89,
          66,
          55,
          135,
          112,
          94,
          67
         ],
         "yaxis": "y"
        }
       ],
       "layout": {
        "legend": {
         "tracegroupgap": 0
        },
        "template": {
         "data": {
          "bar": [
           {
            "error_x": {
             "color": "#2a3f5f"
            },
            "error_y": {
             "color": "#2a3f5f"
            },
            "marker": {
             "line": {
              "color": "#E5ECF6",
              "width": 0.5
             },
             "pattern": {
              "fillmode": "overlay",
              "size": 10,
              "solidity": 0.2
             }
            },
            "type": "bar"
           }
          ],
          "barpolar": [
           {
            "marker": {
             "line": {
              "color": "#E5ECF6",
              "width": 0.5
             },
             "pattern": {
              "fillmode": "overlay",
              "size": 10,
              "solidity": 0.2
             }
            },
            "type": "barpolar"
           }
          ],
          "carpet": [
           {
            "aaxis": {
             "endlinecolor": "#2a3f5f",
             "gridcolor": "white",
             "linecolor": "white",
             "minorgridcolor": "white",
             "startlinecolor": "#2a3f5f"
            },
            "baxis": {
             "endlinecolor": "#2a3f5f",
             "gridcolor": "white",
             "linecolor": "white",
             "minorgridcolor": "white",
             "startlinecolor": "#2a3f5f"
            },
            "type": "carpet"
           }
          ],
          "choropleth": [
           {
            "colorbar": {
             "outlinewidth": 0,
             "ticks": ""
            },
            "type": "choropleth"
           }
          ],
          "contour": [
           {
            "colorbar": {
             "outlinewidth": 0,
             "ticks": ""
            },
            "colorscale": [
             [
              0,
              "#0d0887"
             ],
             [
              0.1111111111111111,
              "#46039f"
             ],
             [
              0.2222222222222222,
              "#7201a8"
             ],
             [
              0.3333333333333333,
              "#9c179e"
             ],
             [
              0.4444444444444444,
              "#bd3786"
             ],
             [
              0.5555555555555556,
              "#d8576b"
             ],
             [
              0.6666666666666666,
              "#ed7953"
             ],
             [
              0.7777777777777778,
              "#fb9f3a"
             ],
             [
              0.8888888888888888,
              "#fdca26"
             ],
             [
              1,
              "#f0f921"
             ]
            ],
            "type": "contour"
           }
          ],
          "contourcarpet": [
           {
            "colorbar": {
             "outlinewidth": 0,
             "ticks": ""
            },
            "type": "contourcarpet"
           }
          ],
          "heatmap": [
           {
            "colorbar": {
             "outlinewidth": 0,
             "ticks": ""
            },
            "colorscale": [
             [
              0,
              "#0d0887"
             ],
             [
              0.1111111111111111,
              "#46039f"
             ],
             [
              0.2222222222222222,
              "#7201a8"
             ],
             [
              0.3333333333333333,
              "#9c179e"
             ],
             [
              0.4444444444444444,
              "#bd3786"
             ],
             [
              0.5555555555555556,
              "#d8576b"
             ],
             [
              0.6666666666666666,
              "#ed7953"
             ],
             [
              0.7777777777777778,
              "#fb9f3a"
             ],
             [
              0.8888888888888888,
              "#fdca26"
             ],
             [
              1,
              "#f0f921"
             ]
            ],
            "type": "heatmap"
           }
          ],
          "heatmapgl": [
           {
            "colorbar": {
             "outlinewidth": 0,
             "ticks": ""
            },
            "colorscale": [
             [
              0,
              "#0d0887"
             ],
             [
              0.1111111111111111,
              "#46039f"
             ],
             [
              0.2222222222222222,
              "#7201a8"
             ],
             [
              0.3333333333333333,
              "#9c179e"
             ],
             [
              0.4444444444444444,
              "#bd3786"
             ],
             [
              0.5555555555555556,
              "#d8576b"
             ],
             [
              0.6666666666666666,
              "#ed7953"
             ],
             [
              0.7777777777777778,
              "#fb9f3a"
             ],
             [
              0.8888888888888888,
              "#fdca26"
             ],
             [
              1,
              "#f0f921"
             ]
            ],
            "type": "heatmapgl"
           }
          ],
          "histogram": [
           {
            "marker": {
             "pattern": {
              "fillmode": "overlay",
              "size": 10,
              "solidity": 0.2
             }
            },
            "type": "histogram"
           }
          ],
          "histogram2d": [
           {
            "colorbar": {
             "outlinewidth": 0,
             "ticks": ""
            },
            "colorscale": [
             [
              0,
              "#0d0887"
             ],
             [
              0.1111111111111111,
              "#46039f"
             ],
             [
              0.2222222222222222,
              "#7201a8"
             ],
             [
              0.3333333333333333,
              "#9c179e"
             ],
             [
              0.4444444444444444,
              "#bd3786"
             ],
             [
              0.5555555555555556,
              "#d8576b"
             ],
             [
              0.6666666666666666,
              "#ed7953"
             ],
             [
              0.7777777777777778,
              "#fb9f3a"
             ],
             [
              0.8888888888888888,
              "#fdca26"
             ],
             [
              1,
              "#f0f921"
             ]
            ],
            "type": "histogram2d"
           }
          ],
          "histogram2dcontour": [
           {
            "colorbar": {
             "outlinewidth": 0,
             "ticks": ""
            },
            "colorscale": [
             [
              0,
              "#0d0887"
             ],
             [
              0.1111111111111111,
              "#46039f"
             ],
             [
              0.2222222222222222,
              "#7201a8"
             ],
             [
              0.3333333333333333,
              "#9c179e"
             ],
             [
              0.4444444444444444,
              "#bd3786"
             ],
             [
              0.5555555555555556,
              "#d8576b"
             ],
             [
              0.6666666666666666,
              "#ed7953"
             ],
             [
              0.7777777777777778,
              "#fb9f3a"
             ],
             [
              0.8888888888888888,
              "#fdca26"
             ],
             [
              1,
              "#f0f921"
             ]
            ],
            "type": "histogram2dcontour"
           }
          ],
          "mesh3d": [
           {
            "colorbar": {
             "outlinewidth": 0,
             "ticks": ""
            },
            "type": "mesh3d"
           }
          ],
          "parcoords": [
           {
            "line": {
             "colorbar": {
              "outlinewidth": 0,
              "ticks": ""
             }
            },
            "type": "parcoords"
           }
          ],
          "pie": [
           {
            "automargin": true,
            "type": "pie"
           }
          ],
          "scatter": [
           {
            "fillpattern": {
             "fillmode": "overlay",
             "size": 10,
             "solidity": 0.2
            },
            "type": "scatter"
           }
          ],
          "scatter3d": [
           {
            "line": {
             "colorbar": {
              "outlinewidth": 0,
              "ticks": ""
             }
            },
            "marker": {
             "colorbar": {
              "outlinewidth": 0,
              "ticks": ""
             }
            },
            "type": "scatter3d"
           }
          ],
          "scattercarpet": [
           {
            "marker": {
             "colorbar": {
              "outlinewidth": 0,
              "ticks": ""
             }
            },
            "type": "scattercarpet"
           }
          ],
          "scattergeo": [
           {
            "marker": {
             "colorbar": {
              "outlinewidth": 0,
              "ticks": ""
             }
            },
            "type": "scattergeo"
           }
          ],
          "scattergl": [
           {
            "marker": {
             "colorbar": {
              "outlinewidth": 0,
              "ticks": ""
             }
            },
            "type": "scattergl"
           }
          ],
          "scattermapbox": [
           {
            "marker": {
             "colorbar": {
              "outlinewidth": 0,
              "ticks": ""
             }
            },
            "type": "scattermapbox"
           }
          ],
          "scatterpolar": [
           {
            "marker": {
             "colorbar": {
              "outlinewidth": 0,
              "ticks": ""
             }
            },
            "type": "scatterpolar"
           }
          ],
          "scatterpolargl": [
           {
            "marker": {
             "colorbar": {
              "outlinewidth": 0,
              "ticks": ""
             }
            },
            "type": "scatterpolargl"
           }
          ],
          "scatterternary": [
           {
            "marker": {
             "colorbar": {
              "outlinewidth": 0,
              "ticks": ""
             }
            },
            "type": "scatterternary"
           }
          ],
          "surface": [
           {
            "colorbar": {
             "outlinewidth": 0,
             "ticks": ""
            },
            "colorscale": [
             [
              0,
              "#0d0887"
             ],
             [
              0.1111111111111111,
              "#46039f"
             ],
             [
              0.2222222222222222,
              "#7201a8"
             ],
             [
              0.3333333333333333,
              "#9c179e"
             ],
             [
              0.4444444444444444,
              "#bd3786"
             ],
             [
              0.5555555555555556,
              "#d8576b"
             ],
             [
              0.6666666666666666,
              "#ed7953"
             ],
             [
              0.7777777777777778,
              "#fb9f3a"
             ],
             [
              0.8888888888888888,
              "#fdca26"
             ],
             [
              1,
              "#f0f921"
             ]
            ],
            "type": "surface"
           }
          ],
          "table": [
           {
            "cells": {
             "fill": {
              "color": "#EBF0F8"
             },
             "line": {
              "color": "white"
             }
            },
            "header": {
             "fill": {
              "color": "#C8D4E3"
             },
             "line": {
              "color": "white"
             }
            },
            "type": "table"
           }
          ]
         },
         "layout": {
          "annotationdefaults": {
           "arrowcolor": "#2a3f5f",
           "arrowhead": 0,
           "arrowwidth": 1
          },
          "autotypenumbers": "strict",
          "coloraxis": {
           "colorbar": {
            "outlinewidth": 0,
            "ticks": ""
           }
          },
          "colorscale": {
           "diverging": [
            [
             0,
             "#8e0152"
            ],
            [
             0.1,
             "#c51b7d"
            ],
            [
             0.2,
             "#de77ae"
            ],
            [
             0.3,
             "#f1b6da"
            ],
            [
             0.4,
             "#fde0ef"
            ],
            [
             0.5,
             "#f7f7f7"
            ],
            [
             0.6,
             "#e6f5d0"
            ],
            [
             0.7,
             "#b8e186"
            ],
            [
             0.8,
             "#7fbc41"
            ],
            [
             0.9,
             "#4d9221"
            ],
            [
             1,
             "#276419"
            ]
           ],
           "sequential": [
            [
             0,
             "#0d0887"
            ],
            [
             0.1111111111111111,
             "#46039f"
            ],
            [
             0.2222222222222222,
             "#7201a8"
            ],
            [
             0.3333333333333333,
             "#9c179e"
            ],
            [
             0.4444444444444444,
             "#bd3786"
            ],
            [
             0.5555555555555556,
             "#d8576b"
            ],
            [
             0.6666666666666666,
             "#ed7953"
            ],
            [
             0.7777777777777778,
             "#fb9f3a"
            ],
            [
             0.8888888888888888,
             "#fdca26"
            ],
            [
             1,
             "#f0f921"
            ]
           ],
           "sequentialminus": [
            [
             0,
             "#0d0887"
            ],
            [
             0.1111111111111111,
             "#46039f"
            ],
            [
             0.2222222222222222,
             "#7201a8"
            ],
            [
             0.3333333333333333,
             "#9c179e"
            ],
            [
             0.4444444444444444,
             "#bd3786"
            ],
            [
             0.5555555555555556,
             "#d8576b"
            ],
            [
             0.6666666666666666,
             "#ed7953"
            ],
            [
             0.7777777777777778,
             "#fb9f3a"
            ],
            [
             0.8888888888888888,
             "#fdca26"
            ],
            [
             1,
             "#f0f921"
            ]
           ]
          },
          "colorway": [
           "#636efa",
           "#EF553B",
           "#00cc96",
           "#ab63fa",
           "#FFA15A",
           "#19d3f3",
           "#FF6692",
           "#B6E880",
           "#FF97FF",
           "#FECB52"
          ],
          "font": {
           "color": "#2a3f5f"
          },
          "geo": {
           "bgcolor": "white",
           "lakecolor": "white",
           "landcolor": "#E5ECF6",
           "showlakes": true,
           "showland": true,
           "subunitcolor": "white"
          },
          "hoverlabel": {
           "align": "left"
          },
          "hovermode": "closest",
          "mapbox": {
           "style": "light"
          },
          "paper_bgcolor": "white",
          "plot_bgcolor": "#E5ECF6",
          "polar": {
           "angularaxis": {
            "gridcolor": "white",
            "linecolor": "white",
            "ticks": ""
           },
           "bgcolor": "#E5ECF6",
           "radialaxis": {
            "gridcolor": "white",
            "linecolor": "white",
            "ticks": ""
           }
          },
          "scene": {
           "xaxis": {
            "backgroundcolor": "#E5ECF6",
            "gridcolor": "white",
            "gridwidth": 2,
            "linecolor": "white",
            "showbackground": true,
            "ticks": "",
            "zerolinecolor": "white"
           },
           "yaxis": {
            "backgroundcolor": "#E5ECF6",
            "gridcolor": "white",
            "gridwidth": 2,
            "linecolor": "white",
            "showbackground": true,
            "ticks": "",
            "zerolinecolor": "white"
           },
           "zaxis": {
            "backgroundcolor": "#E5ECF6",
            "gridcolor": "white",
            "gridwidth": 2,
            "linecolor": "white",
            "showbackground": true,
            "ticks": "",
            "zerolinecolor": "white"
           }
          },
          "shapedefaults": {
           "line": {
            "color": "#2a3f5f"
           }
          },
          "ternary": {
           "aaxis": {
            "gridcolor": "white",
            "linecolor": "white",
            "ticks": ""
           },
           "baxis": {
            "gridcolor": "white",
            "linecolor": "white",
            "ticks": ""
           },
           "bgcolor": "#E5ECF6",
           "caxis": {
            "gridcolor": "white",
            "linecolor": "white",
            "ticks": ""
           }
          },
          "title": {
           "x": 0.05
          },
          "xaxis": {
           "automargin": true,
           "gridcolor": "white",
           "linecolor": "white",
           "ticks": "",
           "title": {
            "standoff": 15
           },
           "zerolinecolor": "white",
           "zerolinewidth": 2
          },
          "yaxis": {
           "automargin": true,
           "gridcolor": "white",
           "linecolor": "white",
           "ticks": "",
           "title": {
            "standoff": 15
           },
           "zerolinecolor": "white",
           "zerolinewidth": 2
          }
         }
        },
        "title": {
         "text": "Itens vendidos por dia"
        },
        "xaxis": {
         "anchor": "y",
         "domain": [
          0,
          1
         ],
         "title": {
          "text": "Data"
         }
        },
        "yaxis": {
         "anchor": "x",
         "domain": [
          0,
          1
         ],
         "title": {
          "text": "Quantidade de itens vendidos"
         }
        }
       }
      },
      "text/html": [
       "<div>                            <div id=\"a8783df8-b3ab-4ffa-a6ce-8ff29f2c2fe9\" class=\"plotly-graph-div\" style=\"height:525px; width:100%;\"></div>            <script type=\"text/javascript\">                require([\"plotly\"], function(Plotly) {                    window.PLOTLYENV=window.PLOTLYENV || {};                                    if (document.getElementById(\"a8783df8-b3ab-4ffa-a6ce-8ff29f2c2fe9\")) {                    Plotly.newPlot(                        \"a8783df8-b3ab-4ffa-a6ce-8ff29f2c2fe9\",                        [{\"hovertemplate\":\"Data=%{x}<br>Quantidade de itens vendidos=%{y}<extra></extra>\",\"legendgroup\":\"\",\"line\":{\"color\":\"#636efa\",\"dash\":\"solid\"},\"marker\":{\"symbol\":\"circle\"},\"mode\":\"lines\",\"name\":\"\",\"orientation\":\"v\",\"showlegend\":false,\"x\":[\"2022-02-01T00:00:00\",\"2022-02-02T00:00:00\",\"2022-02-03T00:00:00\",\"2022-02-04T00:00:00\",\"2022-02-05T00:00:00\",\"2022-02-06T00:00:00\",\"2022-02-07T00:00:00\",\"2022-02-09T00:00:00\",\"2022-02-10T00:00:00\",\"2022-02-11T00:00:00\",\"2022-02-12T00:00:00\",\"2022-02-13T00:00:00\",\"2022-02-14T00:00:00\",\"2022-02-16T00:00:00\",\"2022-02-17T00:00:00\",\"2022-02-18T00:00:00\",\"2022-02-19T00:00:00\",\"2022-02-20T00:00:00\",\"2022-02-21T00:00:00\",\"2022-02-23T00:00:00\",\"2022-02-24T00:00:00\",\"2022-02-25T00:00:00\",\"2022-02-26T00:00:00\",\"2022-02-27T00:00:00\",\"2022-02-28T00:00:00\",\"2022-03-01T00:00:00\",\"2022-03-02T00:00:00\",\"2022-03-03T00:00:00\",\"2022-03-04T00:00:00\",\"2022-03-05T00:00:00\",\"2022-03-06T00:00:00\",\"2022-03-07T00:00:00\",\"2022-03-08T00:00:00\",\"2022-03-09T00:00:00\",\"2022-03-10T00:00:00\",\"2022-03-11T00:00:00\",\"2022-03-12T00:00:00\",\"2022-03-13T00:00:00\",\"2022-03-14T00:00:00\",\"2022-03-15T00:00:00\",\"2022-03-16T00:00:00\",\"2022-03-17T00:00:00\",\"2022-03-18T00:00:00\",\"2022-03-19T00:00:00\",\"2022-03-20T00:00:00\",\"2022-03-21T00:00:00\",\"2022-03-22T00:00:00\",\"2022-03-23T00:00:00\",\"2022-03-24T00:00:00\",\"2022-03-25T00:00:00\",\"2022-03-26T00:00:00\",\"2022-03-27T00:00:00\",\"2022-03-28T00:00:00\",\"2022-03-29T00:00:00\",\"2022-03-30T00:00:00\",\"2022-03-31T00:00:00\",\"2022-04-01T00:00:00\",\"2022-04-02T00:00:00\",\"2022-04-03T00:00:00\",\"2022-04-04T00:00:00\",\"2022-04-05T00:00:00\",\"2022-04-06T00:00:00\",\"2022-04-07T00:00:00\",\"2022-04-08T00:00:00\",\"2022-04-09T00:00:00\",\"2022-04-10T00:00:00\",\"2022-04-11T00:00:00\",\"2022-04-12T00:00:00\",\"2022-04-13T00:00:00\",\"2022-04-14T00:00:00\",\"2022-04-15T00:00:00\",\"2022-04-16T00:00:00\",\"2022-04-17T00:00:00\",\"2022-04-18T00:00:00\",\"2022-04-19T00:00:00\",\"2022-04-20T00:00:00\",\"2022-04-21T00:00:00\",\"2022-04-22T00:00:00\",\"2022-04-23T00:00:00\",\"2022-04-24T00:00:00\",\"2022-04-25T00:00:00\",\"2022-04-26T00:00:00\",\"2022-04-27T00:00:00\",\"2022-04-28T00:00:00\",\"2022-04-29T00:00:00\",\"2022-04-30T00:00:00\",\"2022-05-01T00:00:00\",\"2022-05-02T00:00:00\",\"2022-05-03T00:00:00\",\"2022-05-04T00:00:00\",\"2022-05-05T00:00:00\",\"2022-05-06T00:00:00\",\"2022-05-07T00:00:00\",\"2022-05-08T00:00:00\",\"2022-05-09T00:00:00\",\"2022-05-10T00:00:00\",\"2022-05-11T00:00:00\",\"2022-05-12T00:00:00\",\"2022-05-13T00:00:00\",\"2022-05-14T00:00:00\",\"2022-05-15T00:00:00\",\"2022-05-16T00:00:00\",\"2022-05-17T00:00:00\",\"2022-05-18T00:00:00\",\"2022-05-19T00:00:00\",\"2022-05-20T00:00:00\",\"2022-05-21T00:00:00\",\"2022-05-22T00:00:00\",\"2022-05-23T00:00:00\",\"2022-05-24T00:00:00\",\"2022-05-25T00:00:00\",\"2022-05-26T00:00:00\",\"2022-05-27T00:00:00\",\"2022-05-28T00:00:00\",\"2022-05-29T00:00:00\",\"2022-05-30T00:00:00\",\"2022-05-31T00:00:00\",\"2022-06-01T00:00:00\",\"2022-06-02T00:00:00\",\"2022-06-03T00:00:00\",\"2022-06-04T00:00:00\",\"2022-06-05T00:00:00\",\"2022-06-06T00:00:00\",\"2022-06-07T00:00:00\",\"2022-06-08T00:00:00\",\"2022-06-09T00:00:00\",\"2022-06-10T00:00:00\",\"2022-06-11T00:00:00\",\"2022-06-12T00:00:00\",\"2022-06-13T00:00:00\",\"2022-06-14T00:00:00\",\"2022-06-15T00:00:00\",\"2022-06-16T00:00:00\",\"2022-06-17T00:00:00\",\"2022-06-18T00:00:00\",\"2022-06-19T00:00:00\",\"2022-06-20T00:00:00\",\"2022-06-21T00:00:00\",\"2022-06-22T00:00:00\",\"2022-06-23T00:00:00\",\"2022-06-24T00:00:00\",\"2022-06-25T00:00:00\",\"2022-06-26T00:00:00\",\"2022-06-27T00:00:00\",\"2022-06-28T00:00:00\",\"2022-06-29T00:00:00\",\"2022-06-30T00:00:00\",\"2022-07-01T00:00:00\",\"2022-07-03T00:00:00\",\"2022-07-04T00:00:00\",\"2022-07-05T00:00:00\",\"2022-07-06T00:00:00\",\"2022-07-07T00:00:00\",\"2022-07-08T00:00:00\",\"2022-07-09T00:00:00\",\"2022-07-10T00:00:00\",\"2022-07-11T00:00:00\",\"2022-07-12T00:00:00\",\"2022-07-26T00:00:00\",\"2022-07-29T00:00:00\",\"2022-07-30T00:00:00\",\"2022-07-31T00:00:00\",\"2022-08-01T00:00:00\",\"2022-08-02T00:00:00\",\"2022-08-03T00:00:00\",\"2022-08-04T00:00:00\",\"2022-08-05T00:00:00\",\"2022-08-06T00:00:00\",\"2022-08-07T00:00:00\",\"2022-08-08T00:00:00\",\"2022-08-09T00:00:00\",\"2022-08-10T00:00:00\",\"2022-08-11T00:00:00\",\"2022-08-12T00:00:00\",\"2022-08-13T00:00:00\",\"2022-08-14T00:00:00\",\"2022-08-15T00:00:00\",\"2022-08-16T00:00:00\",\"2022-08-17T00:00:00\",\"2022-08-18T00:00:00\",\"2022-08-19T00:00:00\",\"2022-08-20T00:00:00\",\"2022-08-21T00:00:00\",\"2022-08-22T00:00:00\",\"2022-08-23T00:00:00\",\"2022-08-24T00:00:00\",\"2022-08-25T00:00:00\",\"2022-08-26T00:00:00\",\"2022-08-27T00:00:00\",\"2022-08-28T00:00:00\",\"2022-08-29T00:00:00\",\"2022-08-30T00:00:00\",\"2022-08-31T00:00:00\",\"2022-09-01T00:00:00\",\"2022-09-02T00:00:00\",\"2022-09-03T00:00:00\",\"2022-09-04T00:00:00\",\"2022-09-05T00:00:00\",\"2022-09-06T00:00:00\",\"2022-09-07T00:00:00\",\"2022-09-08T00:00:00\",\"2022-09-09T00:00:00\",\"2022-09-10T00:00:00\",\"2022-09-11T00:00:00\",\"2022-09-12T00:00:00\",\"2022-09-13T00:00:00\",\"2022-09-14T00:00:00\",\"2022-09-15T00:00:00\",\"2022-09-16T00:00:00\",\"2022-09-17T00:00:00\",\"2022-09-18T00:00:00\",\"2022-09-20T00:00:00\",\"2022-09-21T00:00:00\",\"2022-09-22T00:00:00\",\"2022-09-23T00:00:00\",\"2022-09-24T00:00:00\",\"2022-09-25T00:00:00\",\"2022-09-26T00:00:00\",\"2022-09-27T00:00:00\",\"2022-09-28T00:00:00\",\"2022-09-29T00:00:00\",\"2022-09-30T00:00:00\",\"2022-10-01T00:00:00\",\"2022-10-02T00:00:00\",\"2022-10-03T00:00:00\",\"2022-10-04T00:00:00\",\"2022-10-05T00:00:00\",\"2022-10-06T00:00:00\",\"2022-10-07T00:00:00\",\"2022-10-08T00:00:00\",\"2022-10-09T00:00:00\",\"2022-10-10T00:00:00\",\"2022-10-11T00:00:00\",\"2022-10-12T00:00:00\",\"2022-10-13T00:00:00\",\"2022-10-14T00:00:00\",\"2022-10-15T00:00:00\",\"2022-10-16T00:00:00\",\"2022-10-17T00:00:00\",\"2022-10-18T00:00:00\",\"2022-10-19T00:00:00\",\"2022-10-20T00:00:00\",\"2022-10-21T00:00:00\",\"2022-10-22T00:00:00\",\"2022-10-23T00:00:00\",\"2022-10-24T00:00:00\",\"2022-10-25T00:00:00\",\"2022-10-26T00:00:00\",\"2022-10-27T00:00:00\",\"2022-10-28T00:00:00\",\"2022-10-29T00:00:00\",\"2022-10-30T00:00:00\",\"2022-10-31T00:00:00\"],\"xaxis\":\"x\",\"y\":[74,88,81,110,112,121,61,101,88,87,108,186,77,93,68,106,107,156,75,81,60,106,96,86,91,87,92,73,60,176,126,38,77,51,73,37,135,145,39,67,95,114,48,164,140,72,83,70,67,48,102,121,61,43,65,111,65,65,93,51,56,49,79,89,78,77,40,35,102,104,19,81,97,38,40,52,114,74,126,88,64,54,57,41,42,84,110,59,39,62,65,79,105,123,73,91,96,116,169,227,215,119,106,241,108,141,226,175,97,136,61,136,141,169,154,61,52,40,30,51,84,150,64,45,35,58,50,81,123,48,61,67,71,38,71,114,32,56,32,2303,58,121,95,42,81,63,46,8,97,61,102,112,62,118,133,109,65,10,2,1,490,157,113,82,83,75,129,138,110,91,68,69,74,134,151,172,69,90,66,65,111,153,183,69,57,53,101,85,149,226,53,89,98,87,93,164,160,79,111,151,58,87,190,117,112,73,76,68,53,197,130,65,64,88,103,151,126,99,76,56,84,101,133,117,64,92,61,56,53,161,146,68,148,130,62,84,128,172,80,86,78,76,75,116,224,97,89,66,55,135,112,94,67],\"yaxis\":\"y\",\"type\":\"scatter\"}],                        {\"template\":{\"data\":{\"histogram2dcontour\":[{\"type\":\"histogram2dcontour\",\"colorbar\":{\"outlinewidth\":0,\"ticks\":\"\"},\"colorscale\":[[0.0,\"#0d0887\"],[0.1111111111111111,\"#46039f\"],[0.2222222222222222,\"#7201a8\"],[0.3333333333333333,\"#9c179e\"],[0.4444444444444444,\"#bd3786\"],[0.5555555555555556,\"#d8576b\"],[0.6666666666666666,\"#ed7953\"],[0.7777777777777778,\"#fb9f3a\"],[0.8888888888888888,\"#fdca26\"],[1.0,\"#f0f921\"]]}],\"choropleth\":[{\"type\":\"choropleth\",\"colorbar\":{\"outlinewidth\":0,\"ticks\":\"\"}}],\"histogram2d\":[{\"type\":\"histogram2d\",\"colorbar\":{\"outlinewidth\":0,\"ticks\":\"\"},\"colorscale\":[[0.0,\"#0d0887\"],[0.1111111111111111,\"#46039f\"],[0.2222222222222222,\"#7201a8\"],[0.3333333333333333,\"#9c179e\"],[0.4444444444444444,\"#bd3786\"],[0.5555555555555556,\"#d8576b\"],[0.6666666666666666,\"#ed7953\"],[0.7777777777777778,\"#fb9f3a\"],[0.8888888888888888,\"#fdca26\"],[1.0,\"#f0f921\"]]}],\"heatmap\":[{\"type\":\"heatmap\",\"colorbar\":{\"outlinewidth\":0,\"ticks\":\"\"},\"colorscale\":[[0.0,\"#0d0887\"],[0.1111111111111111,\"#46039f\"],[0.2222222222222222,\"#7201a8\"],[0.3333333333333333,\"#9c179e\"],[0.4444444444444444,\"#bd3786\"],[0.5555555555555556,\"#d8576b\"],[0.6666666666666666,\"#ed7953\"],[0.7777777777777778,\"#fb9f3a\"],[0.8888888888888888,\"#fdca26\"],[1.0,\"#f0f921\"]]}],\"heatmapgl\":[{\"type\":\"heatmapgl\",\"colorbar\":{\"outlinewidth\":0,\"ticks\":\"\"},\"colorscale\":[[0.0,\"#0d0887\"],[0.1111111111111111,\"#46039f\"],[0.2222222222222222,\"#7201a8\"],[0.3333333333333333,\"#9c179e\"],[0.4444444444444444,\"#bd3786\"],[0.5555555555555556,\"#d8576b\"],[0.6666666666666666,\"#ed7953\"],[0.7777777777777778,\"#fb9f3a\"],[0.8888888888888888,\"#fdca26\"],[1.0,\"#f0f921\"]]}],\"contourcarpet\":[{\"type\":\"contourcarpet\",\"colorbar\":{\"outlinewidth\":0,\"ticks\":\"\"}}],\"contour\":[{\"type\":\"contour\",\"colorbar\":{\"outlinewidth\":0,\"ticks\":\"\"},\"colorscale\":[[0.0,\"#0d0887\"],[0.1111111111111111,\"#46039f\"],[0.2222222222222222,\"#7201a8\"],[0.3333333333333333,\"#9c179e\"],[0.4444444444444444,\"#bd3786\"],[0.5555555555555556,\"#d8576b\"],[0.6666666666666666,\"#ed7953\"],[0.7777777777777778,\"#fb9f3a\"],[0.8888888888888888,\"#fdca26\"],[1.0,\"#f0f921\"]]}],\"surface\":[{\"type\":\"surface\",\"colorbar\":{\"outlinewidth\":0,\"ticks\":\"\"},\"colorscale\":[[0.0,\"#0d0887\"],[0.1111111111111111,\"#46039f\"],[0.2222222222222222,\"#7201a8\"],[0.3333333333333333,\"#9c179e\"],[0.4444444444444444,\"#bd3786\"],[0.5555555555555556,\"#d8576b\"],[0.6666666666666666,\"#ed7953\"],[0.7777777777777778,\"#fb9f3a\"],[0.8888888888888888,\"#fdca26\"],[1.0,\"#f0f921\"]]}],\"mesh3d\":[{\"type\":\"mesh3d\",\"colorbar\":{\"outlinewidth\":0,\"ticks\":\"\"}}],\"scatter\":[{\"fillpattern\":{\"fillmode\":\"overlay\",\"size\":10,\"solidity\":0.2},\"type\":\"scatter\"}],\"parcoords\":[{\"type\":\"parcoords\",\"line\":{\"colorbar\":{\"outlinewidth\":0,\"ticks\":\"\"}}}],\"scatterpolargl\":[{\"type\":\"scatterpolargl\",\"marker\":{\"colorbar\":{\"outlinewidth\":0,\"ticks\":\"\"}}}],\"bar\":[{\"error_x\":{\"color\":\"#2a3f5f\"},\"error_y\":{\"color\":\"#2a3f5f\"},\"marker\":{\"line\":{\"color\":\"#E5ECF6\",\"width\":0.5},\"pattern\":{\"fillmode\":\"overlay\",\"size\":10,\"solidity\":0.2}},\"type\":\"bar\"}],\"scattergeo\":[{\"type\":\"scattergeo\",\"marker\":{\"colorbar\":{\"outlinewidth\":0,\"ticks\":\"\"}}}],\"scatterpolar\":[{\"type\":\"scatterpolar\",\"marker\":{\"colorbar\":{\"outlinewidth\":0,\"ticks\":\"\"}}}],\"histogram\":[{\"marker\":{\"pattern\":{\"fillmode\":\"overlay\",\"size\":10,\"solidity\":0.2}},\"type\":\"histogram\"}],\"scattergl\":[{\"type\":\"scattergl\",\"marker\":{\"colorbar\":{\"outlinewidth\":0,\"ticks\":\"\"}}}],\"scatter3d\":[{\"type\":\"scatter3d\",\"line\":{\"colorbar\":{\"outlinewidth\":0,\"ticks\":\"\"}},\"marker\":{\"colorbar\":{\"outlinewidth\":0,\"ticks\":\"\"}}}],\"scattermapbox\":[{\"type\":\"scattermapbox\",\"marker\":{\"colorbar\":{\"outlinewidth\":0,\"ticks\":\"\"}}}],\"scatterternary\":[{\"type\":\"scatterternary\",\"marker\":{\"colorbar\":{\"outlinewidth\":0,\"ticks\":\"\"}}}],\"scattercarpet\":[{\"type\":\"scattercarpet\",\"marker\":{\"colorbar\":{\"outlinewidth\":0,\"ticks\":\"\"}}}],\"carpet\":[{\"aaxis\":{\"endlinecolor\":\"#2a3f5f\",\"gridcolor\":\"white\",\"linecolor\":\"white\",\"minorgridcolor\":\"white\",\"startlinecolor\":\"#2a3f5f\"},\"baxis\":{\"endlinecolor\":\"#2a3f5f\",\"gridcolor\":\"white\",\"linecolor\":\"white\",\"minorgridcolor\":\"white\",\"startlinecolor\":\"#2a3f5f\"},\"type\":\"carpet\"}],\"table\":[{\"cells\":{\"fill\":{\"color\":\"#EBF0F8\"},\"line\":{\"color\":\"white\"}},\"header\":{\"fill\":{\"color\":\"#C8D4E3\"},\"line\":{\"color\":\"white\"}},\"type\":\"table\"}],\"barpolar\":[{\"marker\":{\"line\":{\"color\":\"#E5ECF6\",\"width\":0.5},\"pattern\":{\"fillmode\":\"overlay\",\"size\":10,\"solidity\":0.2}},\"type\":\"barpolar\"}],\"pie\":[{\"automargin\":true,\"type\":\"pie\"}]},\"layout\":{\"autotypenumbers\":\"strict\",\"colorway\":[\"#636efa\",\"#EF553B\",\"#00cc96\",\"#ab63fa\",\"#FFA15A\",\"#19d3f3\",\"#FF6692\",\"#B6E880\",\"#FF97FF\",\"#FECB52\"],\"font\":{\"color\":\"#2a3f5f\"},\"hovermode\":\"closest\",\"hoverlabel\":{\"align\":\"left\"},\"paper_bgcolor\":\"white\",\"plot_bgcolor\":\"#E5ECF6\",\"polar\":{\"bgcolor\":\"#E5ECF6\",\"angularaxis\":{\"gridcolor\":\"white\",\"linecolor\":\"white\",\"ticks\":\"\"},\"radialaxis\":{\"gridcolor\":\"white\",\"linecolor\":\"white\",\"ticks\":\"\"}},\"ternary\":{\"bgcolor\":\"#E5ECF6\",\"aaxis\":{\"gridcolor\":\"white\",\"linecolor\":\"white\",\"ticks\":\"\"},\"baxis\":{\"gridcolor\":\"white\",\"linecolor\":\"white\",\"ticks\":\"\"},\"caxis\":{\"gridcolor\":\"white\",\"linecolor\":\"white\",\"ticks\":\"\"}},\"coloraxis\":{\"colorbar\":{\"outlinewidth\":0,\"ticks\":\"\"}},\"colorscale\":{\"sequential\":[[0.0,\"#0d0887\"],[0.1111111111111111,\"#46039f\"],[0.2222222222222222,\"#7201a8\"],[0.3333333333333333,\"#9c179e\"],[0.4444444444444444,\"#bd3786\"],[0.5555555555555556,\"#d8576b\"],[0.6666666666666666,\"#ed7953\"],[0.7777777777777778,\"#fb9f3a\"],[0.8888888888888888,\"#fdca26\"],[1.0,\"#f0f921\"]],\"sequentialminus\":[[0.0,\"#0d0887\"],[0.1111111111111111,\"#46039f\"],[0.2222222222222222,\"#7201a8\"],[0.3333333333333333,\"#9c179e\"],[0.4444444444444444,\"#bd3786\"],[0.5555555555555556,\"#d8576b\"],[0.6666666666666666,\"#ed7953\"],[0.7777777777777778,\"#fb9f3a\"],[0.8888888888888888,\"#fdca26\"],[1.0,\"#f0f921\"]],\"diverging\":[[0,\"#8e0152\"],[0.1,\"#c51b7d\"],[0.2,\"#de77ae\"],[0.3,\"#f1b6da\"],[0.4,\"#fde0ef\"],[0.5,\"#f7f7f7\"],[0.6,\"#e6f5d0\"],[0.7,\"#b8e186\"],[0.8,\"#7fbc41\"],[0.9,\"#4d9221\"],[1,\"#276419\"]]},\"xaxis\":{\"gridcolor\":\"white\",\"linecolor\":\"white\",\"ticks\":\"\",\"title\":{\"standoff\":15},\"zerolinecolor\":\"white\",\"automargin\":true,\"zerolinewidth\":2},\"yaxis\":{\"gridcolor\":\"white\",\"linecolor\":\"white\",\"ticks\":\"\",\"title\":{\"standoff\":15},\"zerolinecolor\":\"white\",\"automargin\":true,\"zerolinewidth\":2},\"scene\":{\"xaxis\":{\"backgroundcolor\":\"#E5ECF6\",\"gridcolor\":\"white\",\"linecolor\":\"white\",\"showbackground\":true,\"ticks\":\"\",\"zerolinecolor\":\"white\",\"gridwidth\":2},\"yaxis\":{\"backgroundcolor\":\"#E5ECF6\",\"gridcolor\":\"white\",\"linecolor\":\"white\",\"showbackground\":true,\"ticks\":\"\",\"zerolinecolor\":\"white\",\"gridwidth\":2},\"zaxis\":{\"backgroundcolor\":\"#E5ECF6\",\"gridcolor\":\"white\",\"linecolor\":\"white\",\"showbackground\":true,\"ticks\":\"\",\"zerolinecolor\":\"white\",\"gridwidth\":2}},\"shapedefaults\":{\"line\":{\"color\":\"#2a3f5f\"}},\"annotationdefaults\":{\"arrowcolor\":\"#2a3f5f\",\"arrowhead\":0,\"arrowwidth\":1},\"geo\":{\"bgcolor\":\"white\",\"landcolor\":\"#E5ECF6\",\"subunitcolor\":\"white\",\"showland\":true,\"showlakes\":true,\"lakecolor\":\"white\"},\"title\":{\"x\":0.05},\"mapbox\":{\"style\":\"light\"}}},\"xaxis\":{\"anchor\":\"y\",\"domain\":[0.0,1.0],\"title\":{\"text\":\"Data\"}},\"yaxis\":{\"anchor\":\"x\",\"domain\":[0.0,1.0],\"title\":{\"text\":\"Quantidade de itens vendidos\"}},\"legend\":{\"tracegroupgap\":0},\"title\":{\"text\":\"Itens vendidos por dia\"}},                        {\"responsive\": true}                    ).then(function(){\n",
       "                            \n",
       "var gd = document.getElementById('a8783df8-b3ab-4ffa-a6ce-8ff29f2c2fe9');\n",
       "var x = new MutationObserver(function (mutations, observer) {{\n",
       "        var display = window.getComputedStyle(gd).display;\n",
       "        if (!display || display === 'none') {{\n",
       "            console.log([gd, 'removed!']);\n",
       "            Plotly.purge(gd);\n",
       "            observer.disconnect();\n",
       "        }}\n",
       "}});\n",
       "\n",
       "// Listen for the removal of the full notebook cells\n",
       "var notebookContainer = gd.closest('#notebook-container');\n",
       "if (notebookContainer) {{\n",
       "    x.observe(notebookContainer, {childList: true});\n",
       "}}\n",
       "\n",
       "// Listen for the clearing of the current output cell\n",
       "var outputEl = gd.closest('.output');\n",
       "if (outputEl) {{\n",
       "    x.observe(outputEl, {childList: true});\n",
       "}}\n",
       "\n",
       "                        })                };                });            </script>        </div>"
      ]
     },
     "metadata": {},
     "output_type": "display_data"
    }
   ],
   "source": [
    "px.line(grouped_by_date, x = 'data', y = 'item_count', title = 'Itens vendidos por dia', labels= {'item_count' : 'Quantidade de itens vendidos','data': 'Data'})"
   ]
  },
  {
   "cell_type": "code",
   "execution_count": 59,
   "metadata": {},
   "outputs": [
    {
     "data": {
      "text/html": [
       "<div>\n",
       "<style scoped>\n",
       "    .dataframe tbody tr th:only-of-type {\n",
       "        vertical-align: middle;\n",
       "    }\n",
       "\n",
       "    .dataframe tbody tr th {\n",
       "        vertical-align: top;\n",
       "    }\n",
       "\n",
       "    .dataframe thead th {\n",
       "        text-align: right;\n",
       "    }\n",
       "</style>\n",
       "<table border=\"1\" class=\"dataframe\">\n",
       "  <thead>\n",
       "    <tr style=\"text-align: right;\">\n",
       "      <th></th>\n",
       "      <th>hora</th>\n",
       "      <th>item_count</th>\n",
       "    </tr>\n",
       "  </thead>\n",
       "  <tbody>\n",
       "    <tr>\n",
       "      <th>0</th>\n",
       "      <td>7</td>\n",
       "      <td>8</td>\n",
       "    </tr>\n",
       "    <tr>\n",
       "      <th>1</th>\n",
       "      <td>9</td>\n",
       "      <td>5</td>\n",
       "    </tr>\n",
       "    <tr>\n",
       "      <th>2</th>\n",
       "      <td>10</td>\n",
       "      <td>5</td>\n",
       "    </tr>\n",
       "    <tr>\n",
       "      <th>3</th>\n",
       "      <td>11</td>\n",
       "      <td>7</td>\n",
       "    </tr>\n",
       "    <tr>\n",
       "      <th>4</th>\n",
       "      <td>12</td>\n",
       "      <td>4</td>\n",
       "    </tr>\n",
       "    <tr>\n",
       "      <th>5</th>\n",
       "      <td>13</td>\n",
       "      <td>8</td>\n",
       "    </tr>\n",
       "    <tr>\n",
       "      <th>6</th>\n",
       "      <td>14</td>\n",
       "      <td>5</td>\n",
       "    </tr>\n",
       "    <tr>\n",
       "      <th>7</th>\n",
       "      <td>15</td>\n",
       "      <td>3</td>\n",
       "    </tr>\n",
       "    <tr>\n",
       "      <th>8</th>\n",
       "      <td>16</td>\n",
       "      <td>2254</td>\n",
       "    </tr>\n",
       "    <tr>\n",
       "      <th>9</th>\n",
       "      <td>17</td>\n",
       "      <td>3</td>\n",
       "    </tr>\n",
       "    <tr>\n",
       "      <th>10</th>\n",
       "      <td>18</td>\n",
       "      <td>1</td>\n",
       "    </tr>\n",
       "  </tbody>\n",
       "</table>\n",
       "</div>"
      ],
      "text/plain": [
       "    hora  item_count\n",
       "0      7           8\n",
       "1      9           5\n",
       "2     10           5\n",
       "3     11           7\n",
       "4     12           4\n",
       "5     13           8\n",
       "6     14           5\n",
       "7     15           3\n",
       "8     16        2254\n",
       "9     17           3\n",
       "10    18           1"
      ]
     },
     "execution_count": 59,
     "metadata": {},
     "output_type": "execute_result"
    }
   ],
   "source": [
    "# Vendas atípicas no dia 23 de Junho de 2022 entre 16:00 e 17:00\n",
    "\n",
    "df_invest = pd.DataFrame(transactions).query(\"data == 'Jun 23, 2022'\").groupby(by='hora')['item_count'].sum().reset_index()\n",
    "df_invest\n"
   ]
  },
  {
   "cell_type": "code",
   "execution_count": 60,
   "metadata": {},
   "outputs": [],
   "source": [
    "dataframe_to_pdf(df_invest, \"investiga.pdf\", numpages=(1, 1), pagesize=(11.7, 8.3))"
   ]
  },
  {
   "cell_type": "code",
   "execution_count": 61,
   "metadata": {},
   "outputs": [],
   "source": [
    "graf = px.line(df_invest, x = 'hora', y = 'item_count', labels= {'item_count':'Itens Vendidos'}, title= 'Itens vendidos no dia 23 de Junho 2022')\n",
    "graf\n",
    "\n",
    "f = open('investiga.html','w')\n",
    "a = graf.to_html()\n",
    "f.write(a)\n",
    "f.close()"
   ]
  }
 ],
 "metadata": {
  "kernelspec": {
   "display_name": "minimal_ds",
   "language": "python",
   "name": "python3"
  },
  "language_info": {
   "codemirror_mode": {
    "name": "ipython",
    "version": 3
   },
   "file_extension": ".py",
   "mimetype": "text/x-python",
   "name": "python",
   "nbconvert_exporter": "python",
   "pygments_lexer": "ipython3",
   "version": "3.11.0"
  },
  "orig_nbformat": 4,
  "vscode": {
   "interpreter": {
    "hash": "fe2a375cc2713116e26e61ca3885efedc1dcb5d9d7d6e826b3c439d254f56be9"
   }
  }
 },
 "nbformat": 4,
 "nbformat_minor": 2
}

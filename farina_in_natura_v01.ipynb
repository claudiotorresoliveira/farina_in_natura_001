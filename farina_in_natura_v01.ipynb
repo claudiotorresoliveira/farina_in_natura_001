{
 "cells": [
  {
   "attachments": {},
   "cell_type": "markdown",
   "metadata": {},
   "source": [
    "# Farina in Natura - estratégia"
   ]
  },
  {
   "attachments": {},
   "cell_type": "markdown",
   "metadata": {},
   "source": [
    "## Importando os dados e observações iniciais"
   ]
  },
  {
   "cell_type": "code",
   "execution_count": 1,
   "metadata": {},
   "outputs": [],
   "source": [
    "import pandas as pd\n",
    "import numpy as np\n",
    "import matplotlib.pyplot as plt\n",
    "import seaborn as sns; sns.set()\n",
    "import datetime\n",
    "\n"
   ]
  },
  {
   "cell_type": "code",
   "execution_count": 2,
   "metadata": {},
   "outputs": [],
   "source": [
    "from fpdf import FPDF"
   ]
  },
  {
   "cell_type": "code",
   "execution_count": 3,
   "metadata": {},
   "outputs": [],
   "source": [
    "from IPython.display import display\n",
    "pd.options.display.max_columns = None\n",
    "pd.options.display.max_rows = None"
   ]
  },
  {
   "cell_type": "code",
   "execution_count": 4,
   "metadata": {},
   "outputs": [],
   "source": [
    "# para resolver o problema: \"(unicode error) 'utf-8' codec can't decode \"\n",
    "# https://www.youtube.com/watch?v=ZSC7X4N8RKo,\n",
    "#Erro: \n",
    "# UnicodeDecodeError: 'utf-8' codec can't decode byte 0xe9 in position 900: invalid continuation byte\n",
    "# enem = pd.read_csv(\"MICRODADOS_ENEM_2020.csv\", encoding=\"utf-8\", sep = ';')\n",
    "# enem = pd.read_csv(\"MICRODADOS_ENEM_2020.csv\", encoding=\"ISO-8859-1\", sep = ';')\n",
    "\n",
    "transactions = pd.read_csv(r'C:\\Users\\ctobr\\OneDrive\\DATA_Science\\1_farina_in_natura\\farina_in_natura00\\CSV\\farina.CSV', \n",
    "encoding=\"ISO-8859-1\", sep = ';')"
   ]
  },
  {
   "cell_type": "code",
   "execution_count": 104,
   "metadata": {},
   "outputs": [
    {
     "data": {
      "text/html": [
       "<div>\n",
       "<style scoped>\n",
       "    .dataframe tbody tr th:only-of-type {\n",
       "        vertical-align: middle;\n",
       "    }\n",
       "\n",
       "    .dataframe tbody tr th {\n",
       "        vertical-align: top;\n",
       "    }\n",
       "\n",
       "    .dataframe thead th {\n",
       "        text-align: right;\n",
       "    }\n",
       "</style>\n",
       "<table border=\"1\" class=\"dataframe\">\n",
       "  <thead>\n",
       "    <tr style=\"text-align: right;\">\n",
       "      <th></th>\n",
       "      <th>venda</th>\n",
       "      <th>data</th>\n",
       "      <th>cliente</th>\n",
       "      <th>mesa</th>\n",
       "      <th>produto</th>\n",
       "      <th>quantidade</th>\n",
       "      <th>valor_unit</th>\n",
       "      <th>desconto</th>\n",
       "      <th>total_item</th>\n",
       "      <th>total_item_verif</th>\n",
       "      <th>confirm</th>\n",
       "      <th>hora</th>\n",
       "      <th>minuto</th>\n",
       "      <th>time_of_day</th>\n",
       "      <th>day_of_week</th>\n",
       "      <th>day_type</th>\n",
       "    </tr>\n",
       "  </thead>\n",
       "  <tbody>\n",
       "    <tr>\n",
       "      <th>0</th>\n",
       "      <td>460</td>\n",
       "      <td>2022-02-01 08:13:00</td>\n",
       "      <td>CONSUMIDOR</td>\n",
       "      <td>M 1</td>\n",
       "      <td>SUCO DE LARANJA 400ML</td>\n",
       "      <td>1</td>\n",
       "      <td>14.5</td>\n",
       "      <td>0.0</td>\n",
       "      <td>14.5</td>\n",
       "      <td>14.5</td>\n",
       "      <td>False</td>\n",
       "      <td>8</td>\n",
       "      <td>13</td>\n",
       "      <td>manhã</td>\n",
       "      <td>Tuesday</td>\n",
       "      <td>DDS</td>\n",
       "    </tr>\n",
       "    <tr>\n",
       "      <th>1</th>\n",
       "      <td>460</td>\n",
       "      <td>2022-02-01 08:13:00</td>\n",
       "      <td>CONSUMIDOR</td>\n",
       "      <td>M 1</td>\n",
       "      <td>PAO SOURDOUGH OVOS</td>\n",
       "      <td>1</td>\n",
       "      <td>15.5</td>\n",
       "      <td>0.0</td>\n",
       "      <td>15.5</td>\n",
       "      <td>15.5</td>\n",
       "      <td>False</td>\n",
       "      <td>8</td>\n",
       "      <td>13</td>\n",
       "      <td>manhã</td>\n",
       "      <td>Tuesday</td>\n",
       "      <td>DDS</td>\n",
       "    </tr>\n",
       "    <tr>\n",
       "      <th>2</th>\n",
       "      <td>461</td>\n",
       "      <td>2022-02-01 08:14:00</td>\n",
       "      <td>CONSUMIDOR</td>\n",
       "      <td>M 2</td>\n",
       "      <td>SUCO DE LARANJA 400ML</td>\n",
       "      <td>1</td>\n",
       "      <td>14.5</td>\n",
       "      <td>0.0</td>\n",
       "      <td>14.5</td>\n",
       "      <td>14.5</td>\n",
       "      <td>False</td>\n",
       "      <td>8</td>\n",
       "      <td>14</td>\n",
       "      <td>manhã</td>\n",
       "      <td>Tuesday</td>\n",
       "      <td>DDS</td>\n",
       "    </tr>\n",
       "    <tr>\n",
       "      <th>3</th>\n",
       "      <td>461</td>\n",
       "      <td>2022-02-01 08:14:00</td>\n",
       "      <td>CONSUMIDOR</td>\n",
       "      <td>M 2</td>\n",
       "      <td>PAO SOURDOUGH OVOS</td>\n",
       "      <td>1</td>\n",
       "      <td>15.5</td>\n",
       "      <td>0.0</td>\n",
       "      <td>15.5</td>\n",
       "      <td>15.5</td>\n",
       "      <td>False</td>\n",
       "      <td>8</td>\n",
       "      <td>14</td>\n",
       "      <td>manhã</td>\n",
       "      <td>Tuesday</td>\n",
       "      <td>DDS</td>\n",
       "    </tr>\n",
       "    <tr>\n",
       "      <th>4</th>\n",
       "      <td>465</td>\n",
       "      <td>2022-02-01 09:01:00</td>\n",
       "      <td>CONSUMIDOR</td>\n",
       "      <td>M 1</td>\n",
       "      <td>QUICHE BACON 90G</td>\n",
       "      <td>2</td>\n",
       "      <td>19.5</td>\n",
       "      <td>0.0</td>\n",
       "      <td>39.0</td>\n",
       "      <td>39.0</td>\n",
       "      <td>False</td>\n",
       "      <td>9</td>\n",
       "      <td>1</td>\n",
       "      <td>manhã</td>\n",
       "      <td>Tuesday</td>\n",
       "      <td>DDS</td>\n",
       "    </tr>\n",
       "  </tbody>\n",
       "</table>\n",
       "</div>"
      ],
      "text/plain": [
       "   venda                data     cliente mesa                produto  \\\n",
       "0    460 2022-02-01 08:13:00  CONSUMIDOR  M 1  SUCO DE LARANJA 400ML   \n",
       "1    460 2022-02-01 08:13:00  CONSUMIDOR  M 1     PAO SOURDOUGH OVOS   \n",
       "2    461 2022-02-01 08:14:00  CONSUMIDOR  M 2  SUCO DE LARANJA 400ML   \n",
       "3    461 2022-02-01 08:14:00  CONSUMIDOR  M 2     PAO SOURDOUGH OVOS   \n",
       "4    465 2022-02-01 09:01:00  CONSUMIDOR  M 1       QUICHE BACON 90G   \n",
       "\n",
       "   quantidade  valor_unit  desconto  total_item  total_item_verif  confirm  \\\n",
       "0           1        14.5       0.0        14.5              14.5    False   \n",
       "1           1        15.5       0.0        15.5              15.5    False   \n",
       "2           1        14.5       0.0        14.5              14.5    False   \n",
       "3           1        15.5       0.0        15.5              15.5    False   \n",
       "4           2        19.5       0.0        39.0              39.0    False   \n",
       "\n",
       "   hora  minuto time_of_day day_of_week day_type  \n",
       "0     8      13       manhã     Tuesday      DDS  \n",
       "1     8      13       manhã     Tuesday      DDS  \n",
       "2     8      14       manhã     Tuesday      DDS  \n",
       "3     8      14       manhã     Tuesday      DDS  \n",
       "4     9       1       manhã     Tuesday      DDS  "
      ]
     },
     "execution_count": 104,
     "metadata": {},
     "output_type": "execute_result"
    }
   ],
   "source": [
    "transactions.head()"
   ]
  },
  {
   "cell_type": "code",
   "execution_count": 103,
   "metadata": {},
   "outputs": [
    {
     "name": "stdout",
     "output_type": "stream",
     "text": [
      "<class 'pandas.core.frame.DataFrame'>\n",
      "Int64Index: 25992 entries, 0 to 25997\n",
      "Data columns (total 16 columns):\n",
      " #   Column            Non-Null Count  Dtype         \n",
      "---  ------            --------------  -----         \n",
      " 0   venda             25992 non-null  int64         \n",
      " 1   data              25992 non-null  datetime64[ns]\n",
      " 2   cliente           25992 non-null  object        \n",
      " 3   mesa              25992 non-null  object        \n",
      " 4   produto           25992 non-null  object        \n",
      " 5   quantidade        25992 non-null  int64         \n",
      " 6   valor_unit        25992 non-null  float64       \n",
      " 7   desconto          25992 non-null  float64       \n",
      " 8   total_item        25992 non-null  float64       \n",
      " 9   total_item_verif  25992 non-null  float64       \n",
      " 10  confirm           25992 non-null  bool          \n",
      " 11  hora              25992 non-null  int64         \n",
      " 12  minuto            25992 non-null  int64         \n",
      " 13  time_of_day       25992 non-null  object        \n",
      " 14  day_of_week       25992 non-null  object        \n",
      " 15  day_type          25992 non-null  object        \n",
      "dtypes: bool(1), datetime64[ns](1), float64(4), int64(4), object(6)\n",
      "memory usage: 3.2+ MB\n"
     ]
    }
   ],
   "source": [
    "transactions.info()"
   ]
  },
  {
   "cell_type": "markdown",
   "metadata": {},
   "source": [
    "# Limpeza e manipulação dos dados"
   ]
  },
  {
   "cell_type": "code",
   "execution_count": 80,
   "metadata": {},
   "outputs": [
    {
     "data": {
      "text/plain": [
       "venda               0\n",
       "data_hora           0\n",
       "cliente             0\n",
       "mesa                0\n",
       "produto             0\n",
       "quantidade          0\n",
       "valor_unit          0\n",
       "desconto            0\n",
       "total_item          0\n",
       "total_item_verif    0\n",
       "confirm             0\n",
       "dtype: int64"
      ]
     },
     "execution_count": 80,
     "metadata": {},
     "output_type": "execute_result"
    }
   ],
   "source": [
    "### CHECK OUT IF THE NUMBER OF TOTAL ENTRIES IS EQUAL TO THE NUMBER OF ENTRIES OF THE VARIABLES  \n",
    "\n",
    "transactions.isnull().sum()"
   ]
  },
  {
   "cell_type": "code",
   "execution_count": 8,
   "metadata": {},
   "outputs": [],
   "source": [
    "## DROPPING THE ROWS THAT ALL COLUMN VALUES ARE NULL\n",
    "#  https://www.youtube.com/watch?v=uDr67HBIPz8&t=818s\n",
    "\n",
    "transactions = transactions.dropna(how='all')"
   ]
  },
  {
   "cell_type": "code",
   "execution_count": 84,
   "metadata": {},
   "outputs": [],
   "source": [
    "# Delete the column \"item\"\n",
    "\n",
    "del transactions[\"item\"]"
   ]
  },
  {
   "cell_type": "code",
   "execution_count": null,
   "metadata": {},
   "outputs": [],
   "source": [
    "transactions.info()\n",
    "transactions.head()"
   ]
  },
  {
   "cell_type": "code",
   "execution_count": 11,
   "metadata": {},
   "outputs": [],
   "source": [
    "## Using isna() to select all rows with NaN in the column ('mesa') and the value \"CONSUMIDOR\" on the column \"cliente\" \n",
    "## and replace the \"mesa\" value with \"M0\"\n",
    "## https://datatofish.com/rows-with-nan-pandas-dataframe/\n",
    "## https://www.geeksforgeeks.org/how-to-replace-values-in-column-based-on-condition-in-pandas/\n",
    "\n",
    "transactions.loc[(transactions[\"cliente\"] == 'CONSUMIDOR') &  (transactions['mesa'].isna()), 'mesa']= 'M0'\n"
   ]
  },
  {
   "cell_type": "code",
   "execution_count": null,
   "metadata": {},
   "outputs": [],
   "source": [
    "# Checking if the changes were correct.\n",
    "\n",
    "transactions.loc[transactions[\"mesa\"] == 'M0']"
   ]
  },
  {
   "cell_type": "code",
   "execution_count": 14,
   "metadata": {},
   "outputs": [],
   "source": [
    "# Assigning a value \"ND\" to the empty records in column \"mesa\"\n",
    "# https://www.w3schools.com/python/pandas/pandas_cleaning_empty_cells.asp\n",
    "\n",
    "transactions['mesa'].fillna(\"ND\",inplace = True )"
   ]
  },
  {
   "cell_type": "code",
   "execution_count": 21,
   "metadata": {},
   "outputs": [],
   "source": [
    "# Convert the \"venda\" variable from float64 type to integer type\n",
    "# https://stackoverflow.com/questions/43956335/convert-float64-column-to-int64-in-pandas\n",
    "\n",
    "transactions['venda'] = np.int64(transactions['venda'])"
   ]
  },
  {
   "cell_type": "code",
   "execution_count": 23,
   "metadata": {},
   "outputs": [],
   "source": [
    "# Convert the \"quantidade\" variable from float64 type to integer type\n",
    "# https://stackoverflow.com/questions/43956335/convert-float64-column-to-int64-in-pandas\n",
    "\n",
    "transactions['quantidade'] = np.int64(transactions['quantidade'])"
   ]
  },
  {
   "cell_type": "code",
   "execution_count": 24,
   "metadata": {},
   "outputs": [],
   "source": [
    "# change the decimal delimiter of the the variable \"valor_unit\" from \",\" to \".\"\n",
    "# https://cursos.alura.com.br/forum/topico-transformar-pontos-por-virgulas-dentro-de-um-dataframe-121090\n",
    "transactions['valor_unit'] = transactions['valor_unit'].str.replace(\",\",\".\")\n",
    "\n",
    "# Convert the \"valor_uni\" variable from object type to float64 type\n",
    "# https://www.statology.org/pandas-convert-object-to-float/\n",
    "\n",
    "transactions['valor_unit'] = transactions['valor_unit'].astype(float)"
   ]
  },
  {
   "cell_type": "code",
   "execution_count": 25,
   "metadata": {},
   "outputs": [],
   "source": [
    "# change the decimal delimiter of the the variable \"total_item\" from \",\" to \".\"\n",
    "# https://cursos.alura.com.br/forum/topico-transformar-pontos-por-virgulas-dentro-de-um-dataframe-121090\n",
    "transactions['total_item'] = transactions['total_item'].str.replace(\",\",\".\")\n",
    "\n",
    "# Convert the \"total_item\" variable from object type to float64 type\n",
    "# https://www.statology.org/pandas-convert-object-to-float/\n",
    "\n",
    "transactions['total_item'] = transactions['total_item'].astype(float)"
   ]
  },
  {
   "cell_type": "code",
   "execution_count": 62,
   "metadata": {},
   "outputs": [],
   "source": [
    "# Convert \"data_hora\" to datetime object\n",
    "transactions['data_hora'] = pd.to_datetime(transactions['data_hora'], format='%d/%m/%Y %H:%M')\n",
    "\n",
    "#How to Solve Python ValueError: unconverted data remains\n",
    "#read://https_researchdatapod.com/?url=https%3A%2F%2Fresearchdatapod.com%2Fhow-to-solve-python-valueerror-unconverted-data-remains%2F"
   ]
  },
  {
   "cell_type": "code",
   "execution_count": 89,
   "metadata": {},
   "outputs": [],
   "source": [
    "# Creating a horario column that is a copy of data_hora;\n",
    "\n",
    "# https://www.dataquest.io/blog/python-datetime-tutorial/\n",
    "\n",
    "\n",
    "transactions['horario'] = (transactions['data_hora'])\n",
    "\n",
    "#  add hora and minuto column; using class attributes .hour and .minute\n",
    "\n",
    "transactions['hora'] = transactions.horario.dt.hour\n",
    "transactions['minuto'] = transactions.horario.dt.minute\n",
    "\n",
    "# drop horario column\n",
    "transactions = transactions.drop(['horario'], axis=1)\n"
   ]
  },
  {
   "attachments": {},
   "cell_type": "markdown",
   "metadata": {},
   "source": [
    "### Reamaning the column \"data_hora\" to \"data\""
   ]
  },
  {
   "cell_type": "code",
   "execution_count": 96,
   "metadata": {},
   "outputs": [],
   "source": [
    "# https://www.statology.org/pandas-rename-columns/\n",
    "# renaming the column\n",
    "\n",
    "transactions.rename(columns = {'data_hora':'data'}, inplace = True)\n"
   ]
  },
  {
   "cell_type": "code",
   "execution_count": 92,
   "metadata": {},
   "outputs": [],
   "source": [
    "# Definindo a função time_of_day\n",
    "def time_of_day(hora):\n",
    "    \"\"\"\n",
    "    Determina se a  compra foi feita pela manhã, tarde ou noite.\n",
    "    \"\"\"\n",
    "    \n",
    "    if hora < 12:\n",
    "        \n",
    "        return 'manhã'\n",
    "    \n",
    "    elif hora < 17:\n",
    "        \n",
    "        return 'tarde'\n",
    "    \n",
    "    else:\n",
    "        \n",
    "        return 'noite'"
   ]
  },
  {
   "cell_type": "code",
   "execution_count": 93,
   "metadata": {},
   "outputs": [],
   "source": [
    "# Apply time of day function to 'hora' column\n",
    "\n",
    "transactions['time_of_day'] = transactions.hora.apply(time_of_day)\n"
   ]
  },
  {
   "cell_type": "code",
   "execution_count": 102,
   "metadata": {},
   "outputs": [],
   "source": [
    "# Add a day of week variable and a second classifier of weekday or weekend\n",
    "\n",
    "from datetime import date\n",
    "import calendar\n",
    "\n",
    "transactions['day_of_week'] = [calendar.day_name[i.weekday()] for i in transactions['data']]\n",
    "\n",
    "transactions['day_type'] = ['FDS' if (i == 'Sunday') | (i == 'Saturday') else 'DDS' for i in \n",
    "                                                                            transactions['day_of_week']]\n"
   ]
  },
  {
   "attachments": {},
   "cell_type": "markdown",
   "metadata": {},
   "source": [
    "### Verificando alguma divergência dos dados"
   ]
  },
  {
   "cell_type": "code",
   "execution_count": 26,
   "metadata": {},
   "outputs": [],
   "source": [
    "# Verificando se o valor \"total_item\" é igual a: \"quantidade\" * \"valor_unit\"\n",
    "\n",
    "transactions[\"total_item_verif\"] = transactions['quantidade']* transactions['valor_unit']"
   ]
  },
  {
   "cell_type": "code",
   "execution_count": 27,
   "metadata": {},
   "outputs": [],
   "source": [
    "# Continuando o item anterior\n",
    "# https://www.dataquest.io/blog/tutorial-add-column-pandas-dataframe-based-on-if-else-condition/\n",
    "\n",
    "transactions['confirm'] = np.where(transactions['total_item'] > transactions['total_item_verif'], True, False)\n"
   ]
  },
  {
   "cell_type": "code",
   "execution_count": 28,
   "metadata": {},
   "outputs": [
    {
     "name": "stdout",
     "output_type": "stream",
     "text": [
      "venda                                                        13730391\n",
      "cliente             CONSUMIDORCONSUMIDORCONSUMIDORCONSUMIDORIFOODC...\n",
      "mesa                M 5M 13M 11M 5NDM 19NDM 13M 13M 17NDM 23M 23M ...\n",
      "produto             CROISSANTCROISSANTCROISSANTCROISSANTCROISSANT ...\n",
      "quantidade                                                       2139\n",
      "valor_unit                                                    21083.7\n",
      "desconto                                                          0.0\n",
      "total_item                                                    53878.3\n",
      "total_item_verif                                              22219.1\n",
      "confirm                                                          2032\n",
      "dtype: object\n"
     ]
    },
    {
     "name": "stderr",
     "output_type": "stream",
     "text": [
      "C:\\Users\\ctobr\\AppData\\Local\\Temp\\ipykernel_27660\\2200306820.py:2: FutureWarning: The default value of numeric_only in DataFrame.sum is deprecated. In a future version, it will default to False. In addition, specifying 'numeric_only=None' is deprecated. Select only valid columns or specify the value of numeric_only to silence this warning.\n",
      "  resumo = transactions.loc[transactions[\"confirm\"] == True].sum()\n"
     ]
    }
   ],
   "source": [
    "# continuando o item anterior\n",
    "resumo = transactions.loc[transactions[\"confirm\"] == True].sum()\n",
    "print (resumo)"
   ]
  },
  {
   "cell_type": "code",
   "execution_count": 30,
   "metadata": {},
   "outputs": [],
   "source": [
    "# Gerando um relatório em pdf dos dados divergentes\n",
    "# How do I select specific rows and columns from a DataFrame?\n",
    "# https://pandas.pydata.org/docs/getting_started/intro_tutorials/03_subset_data.html#how-do-i-select-specific-rows-and-columns-from-a-dataframe\n",
    "# https://www.geeksforgeeks.org/select-rows-columns-by-name-or-index-in-pandas-dataframe-using-loc-iloc/\n",
    "\n",
    "ts2 = transactions.loc[transactions[\"confirm\"] == True, [\"venda\", \"produto\", \"quantidade\", \"valor_unit\", \"total_item\", \"total_item_verif\"]]"
   ]
  },
  {
   "cell_type": "code",
   "execution_count": 33,
   "metadata": {},
   "outputs": [],
   "source": [
    "# Exporting to a pdf file the transactions that has a inconsistent data.\n",
    "from matplotlib.backends.backend_pdf import PdfPages\n"
   ]
  },
  {
   "cell_type": "code",
   "execution_count": 34,
   "metadata": {},
   "outputs": [],
   "source": [
    "# https://levelup.gitconnected.com/how-to-write-a-pandas-dataframe-as-a-pdf-5cdf7d525488\n",
    "\n",
    "def _draw_as_table(df, pagesize):\n",
    "    alternating_colors = [['white'] * len(df.columns), ['lightgray'] * len(df.columns)] * len(df)\n",
    "    alternating_colors = alternating_colors[:len(df)]\n",
    "    fig, ax = plt.subplots(figsize=pagesize)\n",
    "    ax.axis(\"tight\")\n",
    "    ax.axis('off')\n",
    "    the_table = ax.table(cellText=df.values,\n",
    "                        rowLabels=df.index,\n",
    "                        colLabels=df.columns,\n",
    "                        rowColours=['lightblue']*len(df),\n",
    "                        colColours=['lightblue']*len(df.columns),\n",
    "                        cellColours=alternating_colors,\n",
    "                        loc='center')\n",
    "    return fig\n"
   ]
  },
  {
   "cell_type": "code",
   "execution_count": 32,
   "metadata": {},
   "outputs": [],
   "source": [
    "# https://www.alixaprodev.com/2022/05/convert-pandas-dataframe-to-pdf-in-python.html\n",
    "#fig, ax =plt.subplots(figsize=(14,6))\n",
    "#ax.axis('equal')\n",
    "#ax.axis('off')\n",
    "#the_table = ax.table(cellText=ts2.values,colLabels=ts2.columns,loc='center')\n",
    "\n",
    "\n"
   ]
  },
  {
   "cell_type": "code",
   "execution_count": 35,
   "metadata": {},
   "outputs": [],
   "source": [
    "def dataframe_to_pdf(df, filename, numpages=(1, 1), pagesize=(11, 8.5)):\n",
    "  with PdfPages(filename) as pdf:\n",
    "    nh, nv = numpages\n",
    "    rows_per_page = len(df) // nh\n",
    "    cols_per_page = len(df.columns) // nv\n",
    "    for i in range(0, nh):\n",
    "        for j in range(0, nv):\n",
    "            page = df.iloc[(i*rows_per_page):min((i+1)*rows_per_page, len(df)),\n",
    "                           (j*cols_per_page):min((j+1)*cols_per_page, len(df.columns))]\n",
    "            fig = _draw_as_table(page, pagesize)\n",
    "            if nh > 1 or nv > 1:\n",
    "                # Add a part/page number at bottom-center of page\n",
    "                fig.text(0.5, 0.5/pagesize[0],\n",
    "                         \"Part-{}x{}: Page-{}\".format(i+1, j+1, i*nv + j + 1),\n",
    "                         ha='center', fontsize=8)\n",
    "            pdf.savefig(fig, bbox_inches='tight')\n",
    "            \n",
    "            plt.close()"
   ]
  },
  {
   "cell_type": "code",
   "execution_count": 36,
   "metadata": {},
   "outputs": [],
   "source": [
    "### Trying to Align the page number\n",
    "# https://www.geeksforgeeks.org/matplotlib-figure-figure-text-in-python/\n",
    "def dataframe_to_pdf(df, filename, numpages=(1, 1), pagesize=(11, 8.5)):\n",
    "  with PdfPages(filename) as pdf:\n",
    "    nh, nv = numpages\n",
    "    rows_per_page = len(df) // nh\n",
    "    cols_per_page = len(df.columns) // nv\n",
    "    for i in range(0, nh):\n",
    "        for j in range(0, nv):\n",
    "            page = df.iloc[(i*rows_per_page):min((i+1)*rows_per_page, len(df)),\n",
    "                           (j*cols_per_page):min((j+1)*cols_per_page, len(df.columns))]\n",
    "            fig = _draw_as_table(page, pagesize)\n",
    "            #if nh > 1 or nv > 1:\n",
    "                # Add a part/page number at bottom-center of page\n",
    "                #fig.text(0.5, 0.5/pagesize[0],\n",
    "                       # \"Part-{}x{}: Page-{}\".format(i+1, j+1, i*nv + j + 1),\n",
    "                       # verticalalignment ='bottom', \n",
    "                       # horizontalalignment ='right',\n",
    "                       #transform = ax.transAxes,\n",
    "                        #color ='green',\n",
    "                        #fontsize = 5\n",
    "                         #)\n",
    "            pdf.savefig(fig, bbox_inches='tight')\n",
    "            \n",
    "            plt.close()"
   ]
  },
  {
   "cell_type": "code",
   "execution_count": 38,
   "metadata": {},
   "outputs": [],
   "source": [
    "dataframe_to_pdf(ts2, \"diverge_01.pdf\", numpages=(12, 1), pagesize=(11.7, 8.3))"
   ]
  },
  {
   "cell_type": "code",
   "execution_count": 39,
   "metadata": {},
   "outputs": [],
   "source": [
    "## Create a HTML file of the resumé \"ts2\" dataframe.\n",
    "\n",
    "f = open('exp.html','w')\n",
    "a = ts2.to_html()\n",
    "f.write(a)\n",
    "f.close()"
   ]
  },
  {
   "attachments": {},
   "cell_type": "markdown",
   "metadata": {},
   "source": [
    "# Exploração dos Dados"
   ]
  },
  {
   "cell_type": "code",
   "execution_count": null,
   "metadata": {},
   "outputs": [],
   "source": [
    "# Find Unique Values of each item sold in the Column \"produto\"\n",
    "# https://www.statology.org/pandas-unique-values-in-column/\n",
    "transactions.produto.value_counts()"
   ]
  },
  {
   "cell_type": "code",
   "execution_count": 60,
   "metadata": {},
   "outputs": [
    {
     "name": "stdout",
     "output_type": "stream",
     "text": [
      "O número de diferentes itens vendido pela loja é: 212\n"
     ]
    }
   ],
   "source": [
    "## Get unique names in the \"produto\" column using Series.unique() \n",
    "## https://sparkbyexamples.com/pandas/pandas-count-unique-values-in-column/\n",
    "num_itens_vend = transactions.produto.unique().size\n",
    "\n",
    "print('O número de diferentes itens vendido pela loja é:', num_itens_vend)"
   ]
  },
  {
   "cell_type": "code",
   "execution_count": 61,
   "metadata": {},
   "outputs": [
    {
     "name": "stdout",
     "output_type": "stream",
     "text": [
      "A média de itens por venda é: 2.79 itens\n"
     ]
    }
   ],
   "source": [
    "# Look at the average number of items purchased...\n",
    "\n",
    "avg_items = transactions.groupby(by='venda')['produto'].count().mean()\n",
    "\n",
    "print('A média de itens por venda é: %.2f itens' %avg_items)"
   ]
  },
  {
   "cell_type": "code",
   "execution_count": null,
   "metadata": {},
   "outputs": [],
   "source": [
    "# ...and how that varies by time of day\n",
    "\n",
    "single_transaction = pd.DataFrame(transactions.groupby(by='venda')['item_count'].sum())\n",
    "\n",
    "single_transaction = single_transaction.merge(transactions[['hour','minute','time_of_day','Date', 'Transaction']]\\\n",
    "                                              .drop_duplicates('Transaction'), left_on=single_transaction.index, \n",
    "                                              right_on='Transaction', how='left', copy=False)\n",
    "\n",
    "print('The average number of items by time of day: \\n{0}'.format(\n",
    "    single_transaction.groupby(by='time_of_day')['item_count'].mean()))"
   ]
  }
 ],
 "metadata": {
  "kernelspec": {
   "display_name": "Python 3.9.13 ('base')",
   "language": "python",
   "name": "python3"
  },
  "language_info": {
   "codemirror_mode": {
    "name": "ipython",
    "version": 3
   },
   "file_extension": ".py",
   "mimetype": "text/x-python",
   "name": "python",
   "nbconvert_exporter": "python",
   "pygments_lexer": "ipython3",
   "version": "3.9.13"
  },
  "orig_nbformat": 4,
  "vscode": {
   "interpreter": {
    "hash": "82af8167b6acb4c6c2f985d5f7a01df44b9a32e8f9ee8a7a7a8eef529de48990"
   }
  }
 },
 "nbformat": 4,
 "nbformat_minor": 2
}

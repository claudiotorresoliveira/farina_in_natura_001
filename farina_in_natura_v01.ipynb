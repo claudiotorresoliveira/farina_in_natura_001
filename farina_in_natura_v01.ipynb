{
 "cells": [
  {
   "cell_type": "markdown",
   "metadata": {},
   "source": [
    "# Farina in Natura - estratégia"
   ]
  },
  {
   "cell_type": "code",
   "execution_count": 1,
   "metadata": {},
   "outputs": [],
   "source": [
    "import pandas as pd\n",
    "import numpy as np\n",
    "import matplotlib.pyplot as plt\n",
    "import seaborn as sns; sns.set()\n",
    "import datetime\n",
    "\n"
   ]
  },
  {
   "cell_type": "code",
   "execution_count": 2,
   "metadata": {},
   "outputs": [],
   "source": [
    "from IPython.display import display\n",
    "pd.options.display.max_columns = None\n",
    "pd.options.display.max_rows = None"
   ]
  },
  {
   "cell_type": "code",
   "execution_count": 3,
   "metadata": {},
   "outputs": [],
   "source": [
    "# para resolver o problema: \"(unicode error) 'utf-8' codec can't decode \"\n",
    "# https://www.youtube.com/watch?v=ZSC7X4N8RKo,\n",
    "#Erro: \n",
    "# UnicodeDecodeError: 'utf-8' codec can't decode byte 0xe9 in position 900: invalid continuation byte\n",
    "# enem = pd.read_csv(\"MICRODADOS_ENEM_2020.csv\", encoding=\"utf-8\", sep = ';')\n",
    "# enem = pd.read_csv(\"MICRODADOS_ENEM_2020.csv\", encoding=\"ISO-8859-1\", sep = ';')\n",
    "\n",
    "transactions = pd.read_csv(r'C:\\Users\\ctobr\\OneDrive\\DATA_Science\\1_farina_in_natura\\farina_in_natura00\\CSV\\farina.CSV', \n",
    "encoding=\"ISO-8859-1\", sep = ';')"
   ]
  },
  {
   "cell_type": "code",
   "execution_count": 4,
   "metadata": {},
   "outputs": [
    {
     "data": {
      "text/html": [
       "<div>\n",
       "<style scoped>\n",
       "    .dataframe tbody tr th:only-of-type {\n",
       "        vertical-align: middle;\n",
       "    }\n",
       "\n",
       "    .dataframe tbody tr th {\n",
       "        vertical-align: top;\n",
       "    }\n",
       "\n",
       "    .dataframe thead th {\n",
       "        text-align: right;\n",
       "    }\n",
       "</style>\n",
       "<table border=\"1\" class=\"dataframe\">\n",
       "  <thead>\n",
       "    <tr style=\"text-align: right;\">\n",
       "      <th></th>\n",
       "      <th>venda</th>\n",
       "      <th>data_hora</th>\n",
       "      <th>cliente</th>\n",
       "      <th>mesa</th>\n",
       "      <th>item</th>\n",
       "      <th>produto</th>\n",
       "      <th>quantidade</th>\n",
       "      <th>valor_unit</th>\n",
       "      <th>desconto</th>\n",
       "      <th>total_item</th>\n",
       "    </tr>\n",
       "  </thead>\n",
       "  <tbody>\n",
       "    <tr>\n",
       "      <th>0</th>\n",
       "      <td>460.0</td>\n",
       "      <td>01/02/2022 08:13</td>\n",
       "      <td>CONSUMIDOR</td>\n",
       "      <td>M 1</td>\n",
       "      <td>119.0</td>\n",
       "      <td>SUCO DE LARANJA 400ML</td>\n",
       "      <td>1.0</td>\n",
       "      <td>14,5</td>\n",
       "      <td>0.0</td>\n",
       "      <td>14,5</td>\n",
       "    </tr>\n",
       "    <tr>\n",
       "      <th>1</th>\n",
       "      <td>460.0</td>\n",
       "      <td>01/02/2022 08:13</td>\n",
       "      <td>CONSUMIDOR</td>\n",
       "      <td>M 1</td>\n",
       "      <td>121.0</td>\n",
       "      <td>PAO SOURDOUGH OVOS</td>\n",
       "      <td>1.0</td>\n",
       "      <td>15,5</td>\n",
       "      <td>0.0</td>\n",
       "      <td>15,5</td>\n",
       "    </tr>\n",
       "    <tr>\n",
       "      <th>2</th>\n",
       "      <td>461.0</td>\n",
       "      <td>01/02/2022 08:14</td>\n",
       "      <td>CONSUMIDOR</td>\n",
       "      <td>M 2</td>\n",
       "      <td>119.0</td>\n",
       "      <td>SUCO DE LARANJA 400ML</td>\n",
       "      <td>1.0</td>\n",
       "      <td>14,5</td>\n",
       "      <td>0.0</td>\n",
       "      <td>14,5</td>\n",
       "    </tr>\n",
       "    <tr>\n",
       "      <th>3</th>\n",
       "      <td>461.0</td>\n",
       "      <td>01/02/2022 08:14</td>\n",
       "      <td>CONSUMIDOR</td>\n",
       "      <td>M 2</td>\n",
       "      <td>121.0</td>\n",
       "      <td>PAO SOURDOUGH OVOS</td>\n",
       "      <td>1.0</td>\n",
       "      <td>15,5</td>\n",
       "      <td>0.0</td>\n",
       "      <td>15,5</td>\n",
       "    </tr>\n",
       "    <tr>\n",
       "      <th>4</th>\n",
       "      <td>465.0</td>\n",
       "      <td>01/02/2022 09:01</td>\n",
       "      <td>CONSUMIDOR</td>\n",
       "      <td>M 1</td>\n",
       "      <td>46.0</td>\n",
       "      <td>QUICHE BACON 90G</td>\n",
       "      <td>2.0</td>\n",
       "      <td>19,5</td>\n",
       "      <td>0.0</td>\n",
       "      <td>39</td>\n",
       "    </tr>\n",
       "  </tbody>\n",
       "</table>\n",
       "</div>"
      ],
      "text/plain": [
       "   venda         data_hora     cliente mesa   item                produto  \\\n",
       "0  460.0  01/02/2022 08:13  CONSUMIDOR  M 1  119.0  SUCO DE LARANJA 400ML   \n",
       "1  460.0  01/02/2022 08:13  CONSUMIDOR  M 1  121.0     PAO SOURDOUGH OVOS   \n",
       "2  461.0  01/02/2022 08:14  CONSUMIDOR  M 2  119.0  SUCO DE LARANJA 400ML   \n",
       "3  461.0  01/02/2022 08:14  CONSUMIDOR  M 2  121.0     PAO SOURDOUGH OVOS   \n",
       "4  465.0  01/02/2022 09:01  CONSUMIDOR  M 1   46.0       QUICHE BACON 90G   \n",
       "\n",
       "   quantidade valor_unit  desconto total_item  \n",
       "0         1.0       14,5       0.0       14,5  \n",
       "1         1.0       15,5       0.0       15,5  \n",
       "2         1.0       14,5       0.0       14,5  \n",
       "3         1.0       15,5       0.0       15,5  \n",
       "4         2.0       19,5       0.0         39  "
      ]
     },
     "execution_count": 4,
     "metadata": {},
     "output_type": "execute_result"
    }
   ],
   "source": [
    "transactions.head()"
   ]
  },
  {
   "cell_type": "code",
   "execution_count": 5,
   "metadata": {},
   "outputs": [
    {
     "name": "stdout",
     "output_type": "stream",
     "text": [
      "<class 'pandas.core.frame.DataFrame'>\n",
      "RangeIndex: 25998 entries, 0 to 25997\n",
      "Data columns (total 10 columns):\n",
      " #   Column      Non-Null Count  Dtype  \n",
      "---  ------      --------------  -----  \n",
      " 0   venda       25992 non-null  float64\n",
      " 1   data_hora   25992 non-null  object \n",
      " 2   cliente     25992 non-null  object \n",
      " 3   mesa        22779 non-null  object \n",
      " 4   item        25922 non-null  float64\n",
      " 5   produto     25992 non-null  object \n",
      " 6   quantidade  25992 non-null  float64\n",
      " 7   valor_unit  25992 non-null  object \n",
      " 8   desconto    25992 non-null  float64\n",
      " 9   total_item  25992 non-null  object \n",
      "dtypes: float64(4), object(6)\n",
      "memory usage: 2.0+ MB\n"
     ]
    }
   ],
   "source": [
    "transactions.info()"
   ]
  },
  {
   "cell_type": "markdown",
   "metadata": {},
   "source": [
    "# Limpeza e manipulação dos dados"
   ]
  },
  {
   "cell_type": "code",
   "execution_count": 6,
   "metadata": {},
   "outputs": [],
   "source": [
    "# Convert date to datetime object\n",
    "transactions['data_hora'] = pd.to_datetime(transactions['data_hora'], format='%d/%m/%Y %H:%M')\n",
    "\n",
    "#How to Solve Python ValueError: unconverted data remains\n",
    "#read://https_researchdatapod.com/?url=https%3A%2F%2Fresearchdatapod.com%2Fhow-to-solve-python-valueerror-unconverted-data-remains%2F"
   ]
  },
  {
   "cell_type": "code",
   "execution_count": 7,
   "metadata": {},
   "outputs": [
    {
     "name": "stdout",
     "output_type": "stream",
     "text": [
      "<class 'pandas.core.frame.DataFrame'>\n",
      "RangeIndex: 25998 entries, 0 to 25997\n",
      "Data columns (total 10 columns):\n",
      " #   Column      Non-Null Count  Dtype         \n",
      "---  ------      --------------  -----         \n",
      " 0   venda       25992 non-null  float64       \n",
      " 1   data_hora   25992 non-null  datetime64[ns]\n",
      " 2   cliente     25992 non-null  object        \n",
      " 3   mesa        22779 non-null  object        \n",
      " 4   item        25922 non-null  float64       \n",
      " 5   produto     25992 non-null  object        \n",
      " 6   quantidade  25992 non-null  float64       \n",
      " 7   valor_unit  25992 non-null  object        \n",
      " 8   desconto    25992 non-null  float64       \n",
      " 9   total_item  25992 non-null  object        \n",
      "dtypes: datetime64[ns](1), float64(4), object(5)\n",
      "memory usage: 2.0+ MB\n"
     ]
    }
   ],
   "source": [
    "transactions.info()"
   ]
  },
  {
   "cell_type": "code",
   "execution_count": 13,
   "metadata": {},
   "outputs": [],
   "source": [
    "# Convert the \"item\" variable from float64 type to integer type\n",
    "# https://stackoverflow.com/questions/43956335/convert-float64-column-to-int64-in-pandas\n",
    "\n",
    "transactions['item'] = np.int64(transactions['item'])"
   ]
  },
  {
   "cell_type": "code",
   "execution_count": 17,
   "metadata": {},
   "outputs": [
    {
     "name": "stdout",
     "output_type": "stream",
     "text": [
      "<class 'pandas.core.frame.DataFrame'>\n",
      "RangeIndex: 25998 entries, 0 to 25997\n",
      "Data columns (total 10 columns):\n",
      " #   Column      Non-Null Count  Dtype         \n",
      "---  ------      --------------  -----         \n",
      " 0   venda       25992 non-null  float64       \n",
      " 1   data_hora   25992 non-null  datetime64[ns]\n",
      " 2   cliente     25992 non-null  object        \n",
      " 3   mesa        22779 non-null  object        \n",
      " 4   item        25998 non-null  int64         \n",
      " 5   produto     25992 non-null  object        \n",
      " 6   quantidade  25998 non-null  int64         \n",
      " 7   valor_unit  25992 non-null  object        \n",
      " 8   desconto    25992 non-null  float64       \n",
      " 9   total_item  25992 non-null  object        \n",
      "dtypes: datetime64[ns](1), float64(2), int64(2), object(5)\n",
      "memory usage: 2.0+ MB\n"
     ]
    },
    {
     "data": {
      "text/html": [
       "<div>\n",
       "<style scoped>\n",
       "    .dataframe tbody tr th:only-of-type {\n",
       "        vertical-align: middle;\n",
       "    }\n",
       "\n",
       "    .dataframe tbody tr th {\n",
       "        vertical-align: top;\n",
       "    }\n",
       "\n",
       "    .dataframe thead th {\n",
       "        text-align: right;\n",
       "    }\n",
       "</style>\n",
       "<table border=\"1\" class=\"dataframe\">\n",
       "  <thead>\n",
       "    <tr style=\"text-align: right;\">\n",
       "      <th></th>\n",
       "      <th>venda</th>\n",
       "      <th>data_hora</th>\n",
       "      <th>cliente</th>\n",
       "      <th>mesa</th>\n",
       "      <th>item</th>\n",
       "      <th>produto</th>\n",
       "      <th>quantidade</th>\n",
       "      <th>valor_unit</th>\n",
       "      <th>desconto</th>\n",
       "      <th>total_item</th>\n",
       "    </tr>\n",
       "  </thead>\n",
       "  <tbody>\n",
       "    <tr>\n",
       "      <th>0</th>\n",
       "      <td>460.0</td>\n",
       "      <td>2022-02-01 08:13:00</td>\n",
       "      <td>CONSUMIDOR</td>\n",
       "      <td>M 1</td>\n",
       "      <td>119</td>\n",
       "      <td>SUCO DE LARANJA 400ML</td>\n",
       "      <td>1</td>\n",
       "      <td>14,5</td>\n",
       "      <td>0.0</td>\n",
       "      <td>14,5</td>\n",
       "    </tr>\n",
       "    <tr>\n",
       "      <th>1</th>\n",
       "      <td>460.0</td>\n",
       "      <td>2022-02-01 08:13:00</td>\n",
       "      <td>CONSUMIDOR</td>\n",
       "      <td>M 1</td>\n",
       "      <td>121</td>\n",
       "      <td>PAO SOURDOUGH OVOS</td>\n",
       "      <td>1</td>\n",
       "      <td>15,5</td>\n",
       "      <td>0.0</td>\n",
       "      <td>15,5</td>\n",
       "    </tr>\n",
       "    <tr>\n",
       "      <th>2</th>\n",
       "      <td>461.0</td>\n",
       "      <td>2022-02-01 08:14:00</td>\n",
       "      <td>CONSUMIDOR</td>\n",
       "      <td>M 2</td>\n",
       "      <td>119</td>\n",
       "      <td>SUCO DE LARANJA 400ML</td>\n",
       "      <td>1</td>\n",
       "      <td>14,5</td>\n",
       "      <td>0.0</td>\n",
       "      <td>14,5</td>\n",
       "    </tr>\n",
       "    <tr>\n",
       "      <th>3</th>\n",
       "      <td>461.0</td>\n",
       "      <td>2022-02-01 08:14:00</td>\n",
       "      <td>CONSUMIDOR</td>\n",
       "      <td>M 2</td>\n",
       "      <td>121</td>\n",
       "      <td>PAO SOURDOUGH OVOS</td>\n",
       "      <td>1</td>\n",
       "      <td>15,5</td>\n",
       "      <td>0.0</td>\n",
       "      <td>15,5</td>\n",
       "    </tr>\n",
       "    <tr>\n",
       "      <th>4</th>\n",
       "      <td>465.0</td>\n",
       "      <td>2022-02-01 09:01:00</td>\n",
       "      <td>CONSUMIDOR</td>\n",
       "      <td>M 1</td>\n",
       "      <td>46</td>\n",
       "      <td>QUICHE BACON 90G</td>\n",
       "      <td>2</td>\n",
       "      <td>19,5</td>\n",
       "      <td>0.0</td>\n",
       "      <td>39</td>\n",
       "    </tr>\n",
       "  </tbody>\n",
       "</table>\n",
       "</div>"
      ],
      "text/plain": [
       "   venda           data_hora     cliente mesa  item                produto  \\\n",
       "0  460.0 2022-02-01 08:13:00  CONSUMIDOR  M 1   119  SUCO DE LARANJA 400ML   \n",
       "1  460.0 2022-02-01 08:13:00  CONSUMIDOR  M 1   121     PAO SOURDOUGH OVOS   \n",
       "2  461.0 2022-02-01 08:14:00  CONSUMIDOR  M 2   119  SUCO DE LARANJA 400ML   \n",
       "3  461.0 2022-02-01 08:14:00  CONSUMIDOR  M 2   121     PAO SOURDOUGH OVOS   \n",
       "4  465.0 2022-02-01 09:01:00  CONSUMIDOR  M 1    46       QUICHE BACON 90G   \n",
       "\n",
       "   quantidade valor_unit  desconto total_item  \n",
       "0           1       14,5       0.0       14,5  \n",
       "1           1       15,5       0.0       15,5  \n",
       "2           1       14,5       0.0       14,5  \n",
       "3           1       15,5       0.0       15,5  \n",
       "4           2       19,5       0.0         39  "
      ]
     },
     "execution_count": 17,
     "metadata": {},
     "output_type": "execute_result"
    }
   ],
   "source": [
    "transactions.info()\n",
    "transactions.head()"
   ]
  },
  {
   "cell_type": "code",
   "execution_count": 18,
   "metadata": {},
   "outputs": [
    {
     "ename": "ValueError",
     "evalue": "Unable to parse string \"14,5\" at position 0",
     "output_type": "error",
     "traceback": [
      "\u001b[1;31m---------------------------------------------------------------------------\u001b[0m",
      "\u001b[1;31mValueError\u001b[0m                                Traceback (most recent call last)",
      "File \u001b[1;32mc:\\Users\\ctobr\\miniconda3\\lib\\site-packages\\pandas\\_libs\\lib.pyx:2363\u001b[0m, in \u001b[0;36mpandas._libs.lib.maybe_convert_numeric\u001b[1;34m()\u001b[0m\n",
      "\u001b[1;31mValueError\u001b[0m: Unable to parse string \"14,5\"",
      "\nDuring handling of the above exception, another exception occurred:\n",
      "\u001b[1;31mValueError\u001b[0m                                Traceback (most recent call last)",
      "Cell \u001b[1;32mIn [18], line 4\u001b[0m\n\u001b[0;32m      1\u001b[0m \u001b[39m# Convert the \"item\" variable from float64 type to integer type\u001b[39;00m\n\u001b[0;32m      2\u001b[0m \u001b[39m# https://www.statology.org/pandas-convert-object-to-float/\u001b[39;00m\n\u001b[1;32m----> 4\u001b[0m transactions[\u001b[39m'\u001b[39m\u001b[39mvalor_unit\u001b[39m\u001b[39m'\u001b[39m] \u001b[39m=\u001b[39m pd\u001b[39m.\u001b[39;49mto_numeric(transactions[\u001b[39m'\u001b[39;49m\u001b[39mvalor_unit\u001b[39;49m\u001b[39m'\u001b[39;49m])\n",
      "File \u001b[1;32mc:\\Users\\ctobr\\miniconda3\\lib\\site-packages\\pandas\\core\\tools\\numeric.py:185\u001b[0m, in \u001b[0;36mto_numeric\u001b[1;34m(arg, errors, downcast)\u001b[0m\n\u001b[0;32m    183\u001b[0m coerce_numeric \u001b[39m=\u001b[39m errors \u001b[39mnot\u001b[39;00m \u001b[39min\u001b[39;00m (\u001b[39m\"\u001b[39m\u001b[39mignore\u001b[39m\u001b[39m\"\u001b[39m, \u001b[39m\"\u001b[39m\u001b[39mraise\u001b[39m\u001b[39m\"\u001b[39m)\n\u001b[0;32m    184\u001b[0m \u001b[39mtry\u001b[39;00m:\n\u001b[1;32m--> 185\u001b[0m     values, _ \u001b[39m=\u001b[39m lib\u001b[39m.\u001b[39;49mmaybe_convert_numeric(\n\u001b[0;32m    186\u001b[0m         values, \u001b[39mset\u001b[39;49m(), coerce_numeric\u001b[39m=\u001b[39;49mcoerce_numeric\n\u001b[0;32m    187\u001b[0m     )\n\u001b[0;32m    188\u001b[0m \u001b[39mexcept\u001b[39;00m (\u001b[39mValueError\u001b[39;00m, \u001b[39mTypeError\u001b[39;00m):\n\u001b[0;32m    189\u001b[0m     \u001b[39mif\u001b[39;00m errors \u001b[39m==\u001b[39m \u001b[39m\"\u001b[39m\u001b[39mraise\u001b[39m\u001b[39m\"\u001b[39m:\n",
      "File \u001b[1;32mc:\\Users\\ctobr\\miniconda3\\lib\\site-packages\\pandas\\_libs\\lib.pyx:2405\u001b[0m, in \u001b[0;36mpandas._libs.lib.maybe_convert_numeric\u001b[1;34m()\u001b[0m\n",
      "\u001b[1;31mValueError\u001b[0m: Unable to parse string \"14,5\" at position 0"
     ]
    }
   ],
   "source": [
    "# Convert the \"item\" variable from float64 type to integer type\n",
    "# https://www.statology.org/pandas-convert-object-to-float/\n",
    "\n",
    "transactions['valor_unit'] = pd.to_numeric(transactions['valor_unit'])"
   ]
  },
  {
   "cell_type": "code",
   "execution_count": null,
   "metadata": {},
   "outputs": [],
   "source": []
  }
 ],
 "metadata": {
  "kernelspec": {
   "display_name": "Python 3.9.13 ('base')",
   "language": "python",
   "name": "python3"
  },
  "language_info": {
   "codemirror_mode": {
    "name": "ipython",
    "version": 3
   },
   "file_extension": ".py",
   "mimetype": "text/x-python",
   "name": "python",
   "nbconvert_exporter": "python",
   "pygments_lexer": "ipython3",
   "version": "3.9.13"
  },
  "orig_nbformat": 4,
  "vscode": {
   "interpreter": {
    "hash": "82af8167b6acb4c6c2f985d5f7a01df44b9a32e8f9ee8a7a7a8eef529de48990"
   }
  }
 },
 "nbformat": 4,
 "nbformat_minor": 2
}

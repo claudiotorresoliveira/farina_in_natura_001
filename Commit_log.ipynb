{
 "cells": [
  {
   "attachments": {},
   "cell_type": "markdown",
   "metadata": {},
   "source": [
    "## Fazendo análise dos meus commits"
   ]
  },
  {
   "cell_type": "code",
   "execution_count": 38,
   "metadata": {},
   "outputs": [
    {
     "data": {
      "text/html": [
       "        <script type=\"text/javascript\">\n",
       "        window.PlotlyConfig = {MathJaxConfig: 'local'};\n",
       "        if (window.MathJax && window.MathJax.Hub && window.MathJax.Hub.Config) {window.MathJax.Hub.Config({SVG: {font: \"STIX-Web\"}});}\n",
       "        if (typeof require !== 'undefined') {\n",
       "        require.undef(\"plotly\");\n",
       "        requirejs.config({\n",
       "            paths: {\n",
       "                'plotly': ['https://cdn.plot.ly/plotly-2.16.1.min']\n",
       "            }\n",
       "        });\n",
       "        require(['plotly'], function(Plotly) {\n",
       "            window._Plotly = Plotly;\n",
       "        });\n",
       "        }\n",
       "        </script>\n",
       "        "
      ]
     },
     "metadata": {},
     "output_type": "display_data"
    }
   ],
   "source": [
    "import pandas as pd\n",
    "import numpy as np\n",
    "import matplotlib.pyplot as plt\n",
    "import seaborn as sns; sns.set()\n",
    "import datetime\n",
    "import nbformat\n",
    "import plotly.express as px\n",
    "from plotly.offline import download_plotlyjs, init_notebook_mode, plot, iplot\n",
    "init_notebook_mode (connected = True )\n",
    "from IPython.display import display"
   ]
  },
  {
   "cell_type": "code",
   "execution_count": 39,
   "metadata": {},
   "outputs": [],
   "source": [
    "# para resolver o problema: \"(unicode error) 'utf-8' codec can't decode \"\n",
    "# https://www.youtube.com/watch?v=ZSC7X4N8RKo,\n",
    "#Erro: \n",
    "# UnicodeDecodeError: 'utf-8' codec can't decode byte 0xe9 in position 900: invalid continuation byte\n",
    "# enem = pd.read_csv(\"MICRODADOS_ENEM_2020.csv\", encoding=\"utf-8\", sep = ';')\n",
    "# enem = pd.read_csv(\"MICRODADOS_ENEM_2020.csv\", encoding=\"ISO-8859-1\", sep = ';')\n",
    "\n",
    "commits= pd.read_csv(r'C:\\Users\\ctobr\\OneDrive\\DATA_Science\\1_farina_in_natura\\COMMIT-LOG.csv', \n",
    "encoding=\"ISO-8859-1\", sep = ';')"
   ]
  },
  {
   "cell_type": "code",
   "execution_count": 40,
   "metadata": {},
   "outputs": [
    {
     "data": {
      "text/html": [
       "<div>\n",
       "<style scoped>\n",
       "    .dataframe tbody tr th:only-of-type {\n",
       "        vertical-align: middle;\n",
       "    }\n",
       "\n",
       "    .dataframe tbody tr th {\n",
       "        vertical-align: top;\n",
       "    }\n",
       "\n",
       "    .dataframe thead th {\n",
       "        text-align: right;\n",
       "    }\n",
       "</style>\n",
       "<table border=\"1\" class=\"dataframe\">\n",
       "  <thead>\n",
       "    <tr style=\"text-align: right;\">\n",
       "      <th></th>\n",
       "      <th>DAta</th>\n",
       "      <th>commit_id</th>\n",
       "      <th>user_name</th>\n",
       "      <th>user_email</th>\n",
       "      <th>mensagem</th>\n",
       "      <th>Column6</th>\n",
       "    </tr>\n",
       "  </thead>\n",
       "  <tbody>\n",
       "    <tr>\n",
       "      <th>0</th>\n",
       "      <td>03/03/2023 17:25</td>\n",
       "      <td>279cbd2</td>\n",
       "      <td>Claudio</td>\n",
       "      <td>ctobrasil@outllok.com</td>\n",
       "      <td>colocamos um codigo para deletar a ultima coluna</td>\n",
       "      <td>NaN</td>\n",
       "    </tr>\n",
       "    <tr>\n",
       "      <th>1</th>\n",
       "      <td>03/03/2023 17:25</td>\n",
       "      <td>d065d55</td>\n",
       "      <td>Claudio</td>\n",
       "      <td>ctobrasil@outllok.com</td>\n",
       "      <td>Adicionei um comando .info() ao come?ºo do arq...</td>\n",
       "      <td>NaN</td>\n",
       "    </tr>\n",
       "    <tr>\n",
       "      <th>2</th>\n",
       "      <td>03/03/2023 17:25</td>\n",
       "      <td>7aebfd3</td>\n",
       "      <td>Claudio</td>\n",
       "      <td>ctobrasil@outllok.com</td>\n",
       "      <td>ser?í usado um CSV que foi importado no Excel.</td>\n",
       "      <td>NaN</td>\n",
       "    </tr>\n",
       "    <tr>\n",
       "      <th>3</th>\n",
       "      <td>03/03/2023 17:24</td>\n",
       "      <td>4a60f0b</td>\n",
       "      <td>Claudio</td>\n",
       "      <td>ctobrasil@outllok.com</td>\n",
       "      <td>Alteramos o separador do comando para virgula</td>\n",
       "      <td>NaN</td>\n",
       "    </tr>\n",
       "    <tr>\n",
       "      <th>4</th>\n",
       "      <td>03/03/2023 15:53</td>\n",
       "      <td>f978e48</td>\n",
       "      <td>Claudio</td>\n",
       "      <td>ctobrasil@outllok.com</td>\n",
       "      <td>mofificada a planilha</td>\n",
       "      <td>NaN</td>\n",
       "    </tr>\n",
       "  </tbody>\n",
       "</table>\n",
       "</div>"
      ],
      "text/plain": [
       "               DAta commit_id user_name             user_email  \\\n",
       "0  03/03/2023 17:25   279cbd2   Claudio  ctobrasil@outllok.com   \n",
       "1  03/03/2023 17:25   d065d55   Claudio  ctobrasil@outllok.com   \n",
       "2  03/03/2023 17:25   7aebfd3   Claudio  ctobrasil@outllok.com   \n",
       "3  03/03/2023 17:24   4a60f0b   Claudio  ctobrasil@outllok.com   \n",
       "4  03/03/2023 15:53   f978e48   Claudio  ctobrasil@outllok.com   \n",
       "\n",
       "                                            mensagem  Column6  \n",
       "0   colocamos um codigo para deletar a ultima coluna      NaN  \n",
       "1  Adicionei um comando .info() ao come?ºo do arq...      NaN  \n",
       "2     ser?í usado um CSV que foi importado no Excel.      NaN  \n",
       "3      Alteramos o separador do comando para virgula      NaN  \n",
       "4                              mofificada a planilha      NaN  "
      ]
     },
     "execution_count": 40,
     "metadata": {},
     "output_type": "execute_result"
    }
   ],
   "source": [
    "commits.head()"
   ]
  },
  {
   "cell_type": "code",
   "execution_count": 54,
   "metadata": {},
   "outputs": [
    {
     "name": "stdout",
     "output_type": "stream",
     "text": [
      "<class 'pandas.core.frame.DataFrame'>\n",
      "RangeIndex: 136 entries, 0 to 135\n",
      "Data columns (total 9 columns):\n",
      " #   Column       Non-Null Count  Dtype         \n",
      "---  ------       --------------  -----         \n",
      " 0   DAta         136 non-null    datetime64[ns]\n",
      " 1   commit_id    136 non-null    object        \n",
      " 2   user_name    136 non-null    object        \n",
      " 3   user_email   136 non-null    object        \n",
      " 4   mensagem     136 non-null    object        \n",
      " 5   dia          136 non-null    object        \n",
      " 6   hora         136 non-null    int64         \n",
      " 7   minuto       136 non-null    int64         \n",
      " 8   hora_minuto  136 non-null    object        \n",
      "dtypes: datetime64[ns](1), int64(2), object(6)\n",
      "memory usage: 9.7+ KB\n"
     ]
    }
   ],
   "source": [
    "commits.info()"
   ]
  },
  {
   "cell_type": "code",
   "execution_count": 42,
   "metadata": {},
   "outputs": [
    {
     "data": {
      "text/plain": [
       "DAta            0\n",
       "commit_id       0\n",
       "user_name       0\n",
       "user_email      0\n",
       "mensagem        0\n",
       "Column6       136\n",
       "dtype: int64"
      ]
     },
     "execution_count": 42,
     "metadata": {},
     "output_type": "execute_result"
    }
   ],
   "source": [
    "### CHECK OUT IF THE NUMBER OF TOTAL ENTRIES IS EQUAL TO THE NUMBER OF ENTRIES OF THE VARIABLES  \n",
    "\n",
    "commits.isnull().sum()"
   ]
  },
  {
   "cell_type": "code",
   "execution_count": 44,
   "metadata": {},
   "outputs": [],
   "source": [
    "del commits[\"Column6\"]"
   ]
  },
  {
   "cell_type": "code",
   "execution_count": 56,
   "metadata": {},
   "outputs": [
    {
     "data": {
      "text/html": [
       "<div>\n",
       "<style scoped>\n",
       "    .dataframe tbody tr th:only-of-type {\n",
       "        vertical-align: middle;\n",
       "    }\n",
       "\n",
       "    .dataframe tbody tr th {\n",
       "        vertical-align: top;\n",
       "    }\n",
       "\n",
       "    .dataframe thead th {\n",
       "        text-align: right;\n",
       "    }\n",
       "</style>\n",
       "<table border=\"1\" class=\"dataframe\">\n",
       "  <thead>\n",
       "    <tr style=\"text-align: right;\">\n",
       "      <th></th>\n",
       "      <th>data</th>\n",
       "      <th>commit_id</th>\n",
       "      <th>user_name</th>\n",
       "      <th>user_email</th>\n",
       "      <th>mensagem</th>\n",
       "      <th>dia</th>\n",
       "      <th>hora</th>\n",
       "      <th>minuto</th>\n",
       "      <th>hora_minuto</th>\n",
       "    </tr>\n",
       "  </thead>\n",
       "  <tbody>\n",
       "    <tr>\n",
       "      <th>0</th>\n",
       "      <td>2023-03-03 17:25:00</td>\n",
       "      <td>279cbd2</td>\n",
       "      <td>Claudio</td>\n",
       "      <td>ctobrasil@outllok.com</td>\n",
       "      <td>colocamos um codigo para deletar a ultima coluna</td>\n",
       "      <td>2023-03-03</td>\n",
       "      <td>17</td>\n",
       "      <td>25</td>\n",
       "      <td>17:25:00</td>\n",
       "    </tr>\n",
       "    <tr>\n",
       "      <th>1</th>\n",
       "      <td>2023-03-03 17:25:00</td>\n",
       "      <td>d065d55</td>\n",
       "      <td>Claudio</td>\n",
       "      <td>ctobrasil@outllok.com</td>\n",
       "      <td>Adicionei um comando .info() ao come?ºo do arq...</td>\n",
       "      <td>2023-03-03</td>\n",
       "      <td>17</td>\n",
       "      <td>25</td>\n",
       "      <td>17:25:00</td>\n",
       "    </tr>\n",
       "    <tr>\n",
       "      <th>2</th>\n",
       "      <td>2023-03-03 17:25:00</td>\n",
       "      <td>7aebfd3</td>\n",
       "      <td>Claudio</td>\n",
       "      <td>ctobrasil@outllok.com</td>\n",
       "      <td>ser?í usado um CSV que foi importado no Excel.</td>\n",
       "      <td>2023-03-03</td>\n",
       "      <td>17</td>\n",
       "      <td>25</td>\n",
       "      <td>17:25:00</td>\n",
       "    </tr>\n",
       "    <tr>\n",
       "      <th>3</th>\n",
       "      <td>2023-03-03 17:24:00</td>\n",
       "      <td>4a60f0b</td>\n",
       "      <td>Claudio</td>\n",
       "      <td>ctobrasil@outllok.com</td>\n",
       "      <td>Alteramos o separador do comando para virgula</td>\n",
       "      <td>2023-03-03</td>\n",
       "      <td>17</td>\n",
       "      <td>24</td>\n",
       "      <td>17:24:00</td>\n",
       "    </tr>\n",
       "    <tr>\n",
       "      <th>4</th>\n",
       "      <td>2023-03-03 15:53:00</td>\n",
       "      <td>f978e48</td>\n",
       "      <td>Claudio</td>\n",
       "      <td>ctobrasil@outllok.com</td>\n",
       "      <td>mofificada a planilha</td>\n",
       "      <td>2023-03-03</td>\n",
       "      <td>15</td>\n",
       "      <td>53</td>\n",
       "      <td>15:53:00</td>\n",
       "    </tr>\n",
       "  </tbody>\n",
       "</table>\n",
       "</div>"
      ],
      "text/plain": [
       "                 data commit_id user_name             user_email  \\\n",
       "0 2023-03-03 17:25:00   279cbd2   Claudio  ctobrasil@outllok.com   \n",
       "1 2023-03-03 17:25:00   d065d55   Claudio  ctobrasil@outllok.com   \n",
       "2 2023-03-03 17:25:00   7aebfd3   Claudio  ctobrasil@outllok.com   \n",
       "3 2023-03-03 17:24:00   4a60f0b   Claudio  ctobrasil@outllok.com   \n",
       "4 2023-03-03 15:53:00   f978e48   Claudio  ctobrasil@outllok.com   \n",
       "\n",
       "                                            mensagem         dia  hora  \\\n",
       "0   colocamos um codigo para deletar a ultima coluna  2023-03-03    17   \n",
       "1  Adicionei um comando .info() ao come?ºo do arq...  2023-03-03    17   \n",
       "2     ser?í usado um CSV que foi importado no Excel.  2023-03-03    17   \n",
       "3      Alteramos o separador do comando para virgula  2023-03-03    17   \n",
       "4                              mofificada a planilha  2023-03-03    15   \n",
       "\n",
       "   minuto hora_minuto  \n",
       "0      25    17:25:00  \n",
       "1      25    17:25:00  \n",
       "2      25    17:25:00  \n",
       "3      24    17:24:00  \n",
       "4      53    15:53:00  "
      ]
     },
     "execution_count": 56,
     "metadata": {},
     "output_type": "execute_result"
    }
   ],
   "source": [
    "commits.head()"
   ]
  },
  {
   "cell_type": "code",
   "execution_count": 45,
   "metadata": {},
   "outputs": [],
   "source": [
    "# Convert \"DAta\" to datetime object\n",
    "commits['DAta'] = pd.to_datetime(commits['DAta'], format='%d/%m/%Y %H:%M')\n"
   ]
  },
  {
   "cell_type": "code",
   "execution_count": 48,
   "metadata": {},
   "outputs": [],
   "source": [
    "\n",
    "# Creating a horario column that is a copy of data_hora and coverting it to datetime and extracting only the day;\n",
    "commits['dia'] = (commits['DAta'])\n",
    "commits['dia'] = commits['dia'].dt.date\n",
    "\n",
    "#How to Solve Python ValueError: unconverted data remains\n",
    "#read://https_researchdatapod.com/?url=https%3A%2F%2Fresearchdatapod.com%2Fhow-to-solve-python-valueerror-unconverted-data-remains%2F"
   ]
  },
  {
   "cell_type": "code",
   "execution_count": 50,
   "metadata": {},
   "outputs": [],
   "source": [
    "# https://www.dataquest.io/blog/python-datetime-tutorial/\n",
    "\n",
    "\n",
    "# add hora and minuto column; using class attributes .hour and .minute\n",
    "\n",
    "commits['hora'] = commits.DAta.dt.hour\n",
    "commits['minuto'] = commits.DAta.dt.minute"
   ]
  },
  {
   "cell_type": "code",
   "execution_count": 52,
   "metadata": {},
   "outputs": [],
   "source": [
    "# https://gist.github.com/krisbolton/aef6179ecf906892565d326b979b3a5b\n",
    "# https://www.youtube.com/watch?v=TbXaP56Omuc\n",
    "\n",
    "\n",
    "commits['hora_minuto']=pd.to_datetime(commits['DAta'])\n",
    "\n",
    "commits['hora_minuto'] = commits['DAta'].dt.time"
   ]
  },
  {
   "cell_type": "code",
   "execution_count": 55,
   "metadata": {},
   "outputs": [],
   "source": [
    "# https://www.statology.org/pandas-rename-columns/\n",
    "# renaming the column\n",
    "\n",
    "commits.rename(columns = {'DAta':'data'}, inplace = True)"
   ]
  },
  {
   "cell_type": "code",
   "execution_count": 58,
   "metadata": {},
   "outputs": [],
   "source": [
    "## https://datagy.io/pandas-extract-date-from-datetime/\n",
    "commits['data'] = commits['data'].dt.normalize()"
   ]
  }
 ],
 "metadata": {
  "kernelspec": {
   "display_name": "minimal_ds",
   "language": "python",
   "name": "python3"
  },
  "language_info": {
   "codemirror_mode": {
    "name": "ipython",
    "version": 3
   },
   "file_extension": ".py",
   "mimetype": "text/x-python",
   "name": "python",
   "nbconvert_exporter": "python",
   "pygments_lexer": "ipython3",
   "version": "3.9.15"
  },
  "orig_nbformat": 4
 },
 "nbformat": 4,
 "nbformat_minor": 2
}

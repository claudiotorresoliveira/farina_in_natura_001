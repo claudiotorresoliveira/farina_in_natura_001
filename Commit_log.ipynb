{
 "cells": [
  {
   "attachments": {},
   "cell_type": "markdown",
   "metadata": {},
   "source": [
    "## Fazendo análise dos meus commits"
   ]
  },
  {
   "cell_type": "code",
   "execution_count": 17,
   "metadata": {},
   "outputs": [
    {
     "data": {
      "text/html": [
       "        <script type=\"text/javascript\">\n",
       "        window.PlotlyConfig = {MathJaxConfig: 'local'};\n",
       "        if (window.MathJax && window.MathJax.Hub && window.MathJax.Hub.Config) {window.MathJax.Hub.Config({SVG: {font: \"STIX-Web\"}});}\n",
       "        if (typeof require !== 'undefined') {\n",
       "        require.undef(\"plotly\");\n",
       "        requirejs.config({\n",
       "            paths: {\n",
       "                'plotly': ['https://cdn.plot.ly/plotly-2.16.1.min']\n",
       "            }\n",
       "        });\n",
       "        require(['plotly'], function(Plotly) {\n",
       "            window._Plotly = Plotly;\n",
       "        });\n",
       "        }\n",
       "        </script>\n",
       "        "
      ]
     },
     "metadata": {},
     "output_type": "display_data"
    }
   ],
   "source": [
    "import pandas as pd\n",
    "import numpy as np\n",
    "import matplotlib.pyplot as plt\n",
    "import seaborn as sns; sns.set()\n",
    "import datetime\n",
    "import nbformat\n",
    "import plotly.express as px\n",
    "from plotly.offline import download_plotlyjs, init_notebook_mode, plot, iplot\n",
    "init_notebook_mode (connected = True )\n",
    "from IPython.display import display"
   ]
  },
  {
   "cell_type": "code",
   "execution_count": 21,
   "metadata": {},
   "outputs": [],
   "source": [
    "# para resolver o problema: \"(unicode error) 'utf-8' codec can't decode \"\n",
    "# https://www.youtube.com/watch?v=ZSC7X4N8RKo,\n",
    "#Erro: \n",
    "# UnicodeDecodeError: 'utf-8' codec can't decode byte 0xe9 in position 900: invalid continuation byte\n",
    "# enem = pd.read_csv(\"MICRODADOS_ENEM_2020.csv\", encoding=\"utf-8\", sep = ';')\n",
    "# enem = pd.read_csv(\"MICRODADOS_ENEM_2020.csv\", encoding=\"ISO-8859-1\", sep = ';')\n",
    "\n",
    "commits= pd.read_csv(r'C:\\Users\\ctobr\\OneDrive\\DATA_Science\\1_farina_in_natura\\COMMIT-LOG.csv', \n",
    "encoding=\"ISO-8859-1\", sep = ';')"
   ]
  },
  {
   "cell_type": "code",
   "execution_count": 22,
   "metadata": {},
   "outputs": [
    {
     "data": {
      "text/html": [
       "<div>\n",
       "<style scoped>\n",
       "    .dataframe tbody tr th:only-of-type {\n",
       "        vertical-align: middle;\n",
       "    }\n",
       "\n",
       "    .dataframe tbody tr th {\n",
       "        vertical-align: top;\n",
       "    }\n",
       "\n",
       "    .dataframe thead th {\n",
       "        text-align: right;\n",
       "    }\n",
       "</style>\n",
       "<table border=\"1\" class=\"dataframe\">\n",
       "  <thead>\n",
       "    <tr style=\"text-align: right;\">\n",
       "      <th></th>\n",
       "      <th>data</th>\n",
       "      <th>Commit_ID</th>\n",
       "      <th>User_name</th>\n",
       "      <th>user_email</th>\n",
       "      <th>mensagem</th>\n",
       "    </tr>\n",
       "  </thead>\n",
       "  <tbody>\n",
       "    <tr>\n",
       "      <th>0</th>\n",
       "      <td>02/03/2023 18:51</td>\n",
       "      <td>4a55ebe</td>\n",
       "      <td>Claudio</td>\n",
       "      <td>ctobrasil@outllok.com</td>\n",
       "      <td>coloquei um c??digo</td>\n",
       "    </tr>\n",
       "    <tr>\n",
       "      <th>1</th>\n",
       "      <td>01/03/2023 16:23</td>\n",
       "      <td>e64f262</td>\n",
       "      <td>Claudio</td>\n",
       "      <td>ctobrasil@outllok.com</td>\n",
       "      <td>mais um ponto na descri?º?úo.</td>\n",
       "    </tr>\n",
       "    <tr>\n",
       "      <th>2</th>\n",
       "      <td>01/03/2023 16:18</td>\n",
       "      <td>e6380b1</td>\n",
       "      <td>Claudio</td>\n",
       "      <td>ctobrasil@outllok.com</td>\n",
       "      <td>Coloquei um ponto no final da primeira descri?...</td>\n",
       "    </tr>\n",
       "    <tr>\n",
       "      <th>3</th>\n",
       "      <td>18/02/2023 12:07</td>\n",
       "      <td>110327a</td>\n",
       "      <td>claudiotorresoliveira</td>\n",
       "      <td>claudio.torres.oliveira@gmail.com</td>\n",
       "      <td>commit</td>\n",
       "    </tr>\n",
       "    <tr>\n",
       "      <th>4</th>\n",
       "      <td>03/02/2023 18:17</td>\n",
       "      <td>99313e5</td>\n",
       "      <td>claudiotorresoliveira</td>\n",
       "      <td>claudio.torres.oliveira@gmail.com</td>\n",
       "      <td>commit</td>\n",
       "    </tr>\n",
       "  </tbody>\n",
       "</table>\n",
       "</div>"
      ],
      "text/plain": [
       "               data Commit_ID              User_name  \\\n",
       "0  02/03/2023 18:51   4a55ebe                Claudio   \n",
       "1  01/03/2023 16:23   e64f262                Claudio   \n",
       "2  01/03/2023 16:18   e6380b1                Claudio   \n",
       "3  18/02/2023 12:07   110327a  claudiotorresoliveira   \n",
       "4  03/02/2023 18:17   99313e5  claudiotorresoliveira   \n",
       "\n",
       "                          user_email  \\\n",
       "0              ctobrasil@outllok.com   \n",
       "1              ctobrasil@outllok.com   \n",
       "2              ctobrasil@outllok.com   \n",
       "3  claudio.torres.oliveira@gmail.com   \n",
       "4  claudio.torres.oliveira@gmail.com   \n",
       "\n",
       "                                            mensagem  \n",
       "0                                coloquei um c??digo  \n",
       "1                      mais um ponto na descri?º?úo.  \n",
       "2  Coloquei um ponto no final da primeira descri?...  \n",
       "3                                             commit  \n",
       "4                                             commit  "
      ]
     },
     "execution_count": 22,
     "metadata": {},
     "output_type": "execute_result"
    }
   ],
   "source": [
    "commits.head()"
   ]
  }
 ],
 "metadata": {
  "kernelspec": {
   "display_name": "minimal_ds",
   "language": "python",
   "name": "python3"
  },
  "language_info": {
   "codemirror_mode": {
    "name": "ipython",
    "version": 3
   },
   "file_extension": ".py",
   "mimetype": "text/x-python",
   "name": "python",
   "nbconvert_exporter": "python",
   "pygments_lexer": "ipython3",
   "version": "3.9.15"
  },
  "orig_nbformat": 4
 },
 "nbformat": 4,
 "nbformat_minor": 2
}

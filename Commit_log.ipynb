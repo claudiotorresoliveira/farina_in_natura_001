{
 "cells": [
  {
   "attachments": {},
   "cell_type": "markdown",
   "metadata": {},
   "source": [
    "## Fazendo análise dos meus commits"
   ]
  },
  {
   "cell_type": "code",
   "execution_count": 17,
   "metadata": {},
   "outputs": [
    {
     "data": {
      "text/html": [
       "        <script type=\"text/javascript\">\n",
       "        window.PlotlyConfig = {MathJaxConfig: 'local'};\n",
       "        if (window.MathJax && window.MathJax.Hub && window.MathJax.Hub.Config) {window.MathJax.Hub.Config({SVG: {font: \"STIX-Web\"}});}\n",
       "        if (typeof require !== 'undefined') {\n",
       "        require.undef(\"plotly\");\n",
       "        requirejs.config({\n",
       "            paths: {\n",
       "                'plotly': ['https://cdn.plot.ly/plotly-2.16.1.min']\n",
       "            }\n",
       "        });\n",
       "        require(['plotly'], function(Plotly) {\n",
       "            window._Plotly = Plotly;\n",
       "        });\n",
       "        }\n",
       "        </script>\n",
       "        "
      ]
     },
     "metadata": {},
     "output_type": "display_data"
    }
   ],
   "source": [
    "import pandas as pd\n",
    "import numpy as np\n",
    "import matplotlib.pyplot as plt\n",
    "import seaborn as sns; sns.set()\n",
    "import datetime\n",
    "import nbformat\n",
    "import plotly.express as px\n",
    "from plotly.offline import download_plotlyjs, init_notebook_mode, plot, iplot\n",
    "init_notebook_mode (connected = True )\n",
    "from IPython.display import display"
   ]
  },
  {
   "cell_type": "code",
   "execution_count": 34,
   "metadata": {},
   "outputs": [],
   "source": [
    "# para resolver o problema: \"(unicode error) 'utf-8' codec can't decode \"\n",
    "# https://www.youtube.com/watch?v=ZSC7X4N8RKo,\n",
    "#Erro: \n",
    "# UnicodeDecodeError: 'utf-8' codec can't decode byte 0xe9 in position 900: invalid continuation byte\n",
    "# enem = pd.read_csv(\"MICRODADOS_ENEM_2020.csv\", encoding=\"utf-8\", sep = ';')\n",
    "# enem = pd.read_csv(\"MICRODADOS_ENEM_2020.csv\", encoding=\"ISO-8859-1\", sep = ';')\n",
    "\n",
    "commits= pd.read_csv(r'C:\\Users\\ctobr\\OneDrive\\DATA_Science\\1_farina_in_natura\\COMMIT-LOG.csv', \n",
    "encoding=\"ISO-8859-1\", sep = ';')"
   ]
  },
  {
   "cell_type": "code",
   "execution_count": 35,
   "metadata": {},
   "outputs": [
    {
     "data": {
      "text/html": [
       "<div>\n",
       "<style scoped>\n",
       "    .dataframe tbody tr th:only-of-type {\n",
       "        vertical-align: middle;\n",
       "    }\n",
       "\n",
       "    .dataframe tbody tr th {\n",
       "        vertical-align: top;\n",
       "    }\n",
       "\n",
       "    .dataframe thead th {\n",
       "        text-align: right;\n",
       "    }\n",
       "</style>\n",
       "<table border=\"1\" class=\"dataframe\">\n",
       "  <thead>\n",
       "    <tr style=\"text-align: right;\">\n",
       "      <th></th>\n",
       "      <th>DAta</th>\n",
       "      <th>commit_id</th>\n",
       "      <th>user_name</th>\n",
       "      <th>user_email</th>\n",
       "      <th>mensagem</th>\n",
       "      <th>Column6</th>\n",
       "    </tr>\n",
       "  </thead>\n",
       "  <tbody>\n",
       "    <tr>\n",
       "      <th>0</th>\n",
       "      <td>03/03/2023 16:45</td>\n",
       "      <td>68e61ed</td>\n",
       "      <td>Claudio</td>\n",
       "      <td>ctobrasil@outllok.com</td>\n",
       "      <td>Adicionei um comando .info() ao come?ºo do arq...</td>\n",
       "      <td>NaN</td>\n",
       "    </tr>\n",
       "    <tr>\n",
       "      <th>1</th>\n",
       "      <td>03/03/2023 16:36</td>\n",
       "      <td>053edc1</td>\n",
       "      <td>Claudio</td>\n",
       "      <td>ctobrasil@outllok.com</td>\n",
       "      <td>ser?í usado um CSV que foi importado no Excel.</td>\n",
       "      <td>NaN</td>\n",
       "    </tr>\n",
       "    <tr>\n",
       "      <th>2</th>\n",
       "      <td>03/03/2023 16:02</td>\n",
       "      <td>10f7ccb</td>\n",
       "      <td>Claudio</td>\n",
       "      <td>ctobrasil@outllok.com</td>\n",
       "      <td>Alteramos o separador do comando para \"</td>\n",
       "      <td>.</td>\n",
       "    </tr>\n",
       "    <tr>\n",
       "      <th>3</th>\n",
       "      <td>03/03/2023 15:53</td>\n",
       "      <td>f978e48</td>\n",
       "      <td>Claudio</td>\n",
       "      <td>ctobrasil@outllok.com</td>\n",
       "      <td>mofificada a planilha</td>\n",
       "      <td>NaN</td>\n",
       "    </tr>\n",
       "    <tr>\n",
       "      <th>4</th>\n",
       "      <td>03/03/2023 12:13</td>\n",
       "      <td>65f385e</td>\n",
       "      <td>Claudio</td>\n",
       "      <td>ctobrasil@outllok.com</td>\n",
       "      <td>adicionei o arquivo commmit-log.</td>\n",
       "      <td>NaN</td>\n",
       "    </tr>\n",
       "  </tbody>\n",
       "</table>\n",
       "</div>"
      ],
      "text/plain": [
       "               DAta commit_id user_name             user_email  \\\n",
       "0  03/03/2023 16:45   68e61ed   Claudio  ctobrasil@outllok.com   \n",
       "1  03/03/2023 16:36   053edc1   Claudio  ctobrasil@outllok.com   \n",
       "2  03/03/2023 16:02   10f7ccb   Claudio  ctobrasil@outllok.com   \n",
       "3  03/03/2023 15:53   f978e48   Claudio  ctobrasil@outllok.com   \n",
       "4  03/03/2023 12:13   65f385e   Claudio  ctobrasil@outllok.com   \n",
       "\n",
       "                                            mensagem Column6  \n",
       "0  Adicionei um comando .info() ao come?ºo do arq...     NaN  \n",
       "1     ser?í usado um CSV que foi importado no Excel.     NaN  \n",
       "2            Alteramos o separador do comando para \"       .  \n",
       "3                              mofificada a planilha     NaN  \n",
       "4                   adicionei o arquivo commmit-log.     NaN  "
      ]
     },
     "execution_count": 35,
     "metadata": {},
     "output_type": "execute_result"
    }
   ],
   "source": [
    "commits.head()"
   ]
  },
  {
   "cell_type": "code",
   "execution_count": 36,
   "metadata": {},
   "outputs": [
    {
     "name": "stdout",
     "output_type": "stream",
     "text": [
      "<class 'pandas.core.frame.DataFrame'>\n",
      "RangeIndex: 135 entries, 0 to 134\n",
      "Data columns (total 6 columns):\n",
      " #   Column      Non-Null Count  Dtype \n",
      "---  ------      --------------  ----- \n",
      " 0   DAta        135 non-null    object\n",
      " 1   commit_id   135 non-null    object\n",
      " 2   user_name   135 non-null    object\n",
      " 3   user_email  135 non-null    object\n",
      " 4   mensagem    135 non-null    object\n",
      " 5   Column6     1 non-null      object\n",
      "dtypes: object(6)\n",
      "memory usage: 6.5+ KB\n"
     ]
    }
   ],
   "source": [
    "commits.info()"
   ]
  },
  {
   "cell_type": "code",
   "execution_count": 37,
   "metadata": {},
   "outputs": [
    {
     "data": {
      "text/plain": [
       "DAta            0\n",
       "commit_id       0\n",
       "user_name       0\n",
       "user_email      0\n",
       "mensagem        0\n",
       "Column6       134\n",
       "dtype: int64"
      ]
     },
     "execution_count": 37,
     "metadata": {},
     "output_type": "execute_result"
    }
   ],
   "source": [
    "### CHECK OUT IF THE NUMBER OF TOTAL ENTRIES IS EQUAL TO THE NUMBER OF ENTRIES OF THE VARIABLES  \n",
    "\n",
    "commits.isnull().sum()"
   ]
  },
  {
   "cell_type": "code",
   "execution_count": 32,
   "metadata": {},
   "outputs": [],
   "source": [
    "del commits[\"Unnamed: 5\"]"
   ]
  },
  {
   "cell_type": "code",
   "execution_count": 33,
   "metadata": {},
   "outputs": [
    {
     "data": {
      "text/html": [
       "<div>\n",
       "<style scoped>\n",
       "    .dataframe tbody tr th:only-of-type {\n",
       "        vertical-align: middle;\n",
       "    }\n",
       "\n",
       "    .dataframe tbody tr th {\n",
       "        vertical-align: top;\n",
       "    }\n",
       "\n",
       "    .dataframe thead th {\n",
       "        text-align: right;\n",
       "    }\n",
       "</style>\n",
       "<table border=\"1\" class=\"dataframe\">\n",
       "  <thead>\n",
       "    <tr style=\"text-align: right;\">\n",
       "      <th></th>\n",
       "      <th>DAta</th>\n",
       "      <th>commit_id</th>\n",
       "      <th>user_name</th>\n",
       "      <th>user_email</th>\n",
       "      <th>mensagem</th>\n",
       "    </tr>\n",
       "  </thead>\n",
       "  <tbody>\n",
       "    <tr>\n",
       "      <th>0</th>\n",
       "      <td>03/03/2023 16:45</td>\n",
       "      <td>68e61ed</td>\n",
       "      <td>Claudio</td>\n",
       "      <td>ctobrasil@outllok.com</td>\n",
       "      <td>Adicionei um comando .info() ao come?ºo do arq...</td>\n",
       "    </tr>\n",
       "    <tr>\n",
       "      <th>1</th>\n",
       "      <td>03/03/2023 16:36</td>\n",
       "      <td>053edc1</td>\n",
       "      <td>Claudio</td>\n",
       "      <td>ctobrasil@outllok.com</td>\n",
       "      <td>ser?í usado um CSV que foi importado no Excel.</td>\n",
       "    </tr>\n",
       "    <tr>\n",
       "      <th>2</th>\n",
       "      <td>03/03/2023 16:02</td>\n",
       "      <td>10f7ccb</td>\n",
       "      <td>Claudio</td>\n",
       "      <td>ctobrasil@outllok.com</td>\n",
       "      <td>Alteramos o separador do comando para \"</td>\n",
       "    </tr>\n",
       "    <tr>\n",
       "      <th>3</th>\n",
       "      <td>03/03/2023 15:53</td>\n",
       "      <td>f978e48</td>\n",
       "      <td>Claudio</td>\n",
       "      <td>ctobrasil@outllok.com</td>\n",
       "      <td>mofificada a planilha</td>\n",
       "    </tr>\n",
       "    <tr>\n",
       "      <th>4</th>\n",
       "      <td>03/03/2023 12:13</td>\n",
       "      <td>65f385e</td>\n",
       "      <td>Claudio</td>\n",
       "      <td>ctobrasil@outllok.com</td>\n",
       "      <td>adicionei o arquivo commmit-log.</td>\n",
       "    </tr>\n",
       "  </tbody>\n",
       "</table>\n",
       "</div>"
      ],
      "text/plain": [
       "               DAta commit_id user_name             user_email  \\\n",
       "0  03/03/2023 16:45   68e61ed   Claudio  ctobrasil@outllok.com   \n",
       "1  03/03/2023 16:36   053edc1   Claudio  ctobrasil@outllok.com   \n",
       "2  03/03/2023 16:02   10f7ccb   Claudio  ctobrasil@outllok.com   \n",
       "3  03/03/2023 15:53   f978e48   Claudio  ctobrasil@outllok.com   \n",
       "4  03/03/2023 12:13   65f385e   Claudio  ctobrasil@outllok.com   \n",
       "\n",
       "                                            mensagem  \n",
       "0  Adicionei um comando .info() ao come?ºo do arq...  \n",
       "1     ser?í usado um CSV que foi importado no Excel.  \n",
       "2            Alteramos o separador do comando para \"  \n",
       "3                              mofificada a planilha  \n",
       "4                   adicionei o arquivo commmit-log.  "
      ]
     },
     "execution_count": 33,
     "metadata": {},
     "output_type": "execute_result"
    }
   ],
   "source": [
    "commits.head()"
   ]
  }
 ],
 "metadata": {
  "kernelspec": {
   "display_name": "minimal_ds",
   "language": "python",
   "name": "python3"
  },
  "language_info": {
   "codemirror_mode": {
    "name": "ipython",
    "version": 3
   },
   "file_extension": ".py",
   "mimetype": "text/x-python",
   "name": "python",
   "nbconvert_exporter": "python",
   "pygments_lexer": "ipython3",
   "version": "3.9.15"
  },
  "orig_nbformat": 4
 },
 "nbformat": 4,
 "nbformat_minor": 2
}

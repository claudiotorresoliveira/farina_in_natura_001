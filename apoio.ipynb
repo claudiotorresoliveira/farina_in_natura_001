{
 "cells": [
  {
   "attachments": {},
   "cell_type": "markdown",
   "metadata": {},
   "source": [
    "# Usando filtros "
   ]
  },
  {
   "cell_type": "code",
   "execution_count": 1,
   "metadata": {},
   "outputs": [
    {
     "ename": "NameError",
     "evalue": "name 'transactions' is not defined",
     "output_type": "error",
     "traceback": [
      "\u001b[1;31m---------------------------------------------------------------------------\u001b[0m",
      "\u001b[1;31mNameError\u001b[0m                                 Traceback (most recent call last)",
      "Cell \u001b[1;32mIn[1], line 1\u001b[0m\n\u001b[1;32m----> 1\u001b[0m f_filter \u001b[39m=\u001b[39m (transactions[\u001b[39m'\u001b[39m\u001b[39mdia_da_semana\u001b[39m\u001b[39m'\u001b[39m]\u001b[39m==\u001b[39m\u001b[39m'\u001b[39m\u001b[39msábado\u001b[39m\u001b[39m'\u001b[39m)\u001b[39m&\u001b[39m(transactions[\u001b[39m'\u001b[39m\u001b[39mhora_do_dia\u001b[39m\u001b[39m'\u001b[39m]\u001b[39m==\u001b[39m\u001b[39m'\u001b[39m\u001b[39mmanhã\u001b[39m\u001b[39m'\u001b[39m)\n\u001b[0;32m      2\u001b[0m transactions[f_filter]\n",
      "\u001b[1;31mNameError\u001b[0m: name 'transactions' is not defined"
     ]
    }
   ],
   "source": [
    "f_filter = (transactions['dia_da_semana']=='sábado')&(transactions['hora_do_dia']=='manhã')\n",
    "transactions[f_filter]"
   ]
  }
 ],
 "metadata": {
  "kernelspec": {
   "display_name": "minimal_ds",
   "language": "python",
   "name": "python3"
  },
  "language_info": {
   "codemirror_mode": {
    "name": "ipython",
    "version": 3
   },
   "file_extension": ".py",
   "mimetype": "text/x-python",
   "name": "python",
   "nbconvert_exporter": "python",
   "pygments_lexer": "ipython3",
   "version": "3.11.0"
  },
  "orig_nbformat": 4,
  "vscode": {
   "interpreter": {
    "hash": "fe2a375cc2713116e26e61ca3885efedc1dcb5d9d7d6e826b3c439d254f56be9"
   }
  }
 },
 "nbformat": 4,
 "nbformat_minor": 2
}

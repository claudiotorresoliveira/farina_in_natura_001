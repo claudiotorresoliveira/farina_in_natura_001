{
 "cells": [
  {
   "attachments": {},
   "cell_type": "markdown",
   "metadata": {},
   "source": [
    "# Usando filtros "
   ]
  },
  {
   "cell_type": "code",
   "execution_count": null,
   "metadata": {},
   "outputs": [],
   "source": [
    "f_filter = (transactions['data']!='2022-06-30')&(transactions['data']!='2022-07-30')\n",
    "transactions[f_filter]"
   ]
  },
  {
   "cell_type": "code",
   "execution_count": null,
   "metadata": {},
   "outputs": [],
   "source": [
    "# Using GroupBy with Multiple Columns to Agregate a Single Column\n",
    "# https://datagy.io/pandas-groupby-multiple-columns/\n",
    "gbd2= transactions.groupby(['horario', 'dia_da_semana'])['item_count'].sum().reset_index()\n",
    "gbd2.head()\n",
    "gbd2_filter= gbd2['item_count']<399"
   ]
  },
  {
   "cell_type": "code",
   "execution_count": null,
   "metadata": {},
   "outputs": [],
   "source": [
    "px.box(gbd2[gbd2_filter], x= 'item_count', y = 'dia_da_semana')"
   ]
  }
 ],
 "metadata": {
  "kernelspec": {
   "display_name": "minimal_ds",
   "language": "python",
   "name": "python3"
  },
  "language_info": {
   "codemirror_mode": {
    "name": "ipython",
    "version": 3
   },
   "file_extension": ".py",
   "mimetype": "text/x-python",
   "name": "python",
   "nbconvert_exporter": "python",
   "pygments_lexer": "ipython3",
   "version": "3.11.0 | packaged by conda-forge | (main, Oct 25 2022, 06:12:32) [MSC v.1929 64 bit (AMD64)]"
  },
  "orig_nbformat": 4,
  "vscode": {
   "interpreter": {
    "hash": "fe2a375cc2713116e26e61ca3885efedc1dcb5d9d7d6e826b3c439d254f56be9"
   }
  }
 },
 "nbformat": 4,
 "nbformat_minor": 2
}
